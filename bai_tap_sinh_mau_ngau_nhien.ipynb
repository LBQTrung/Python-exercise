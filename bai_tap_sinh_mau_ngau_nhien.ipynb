{
  "cells": [
    {
      "cell_type": "markdown",
      "metadata": {
        "id": "view-in-github",
        "colab_type": "text"
      },
      "source": [
        "<a href=\"https://colab.research.google.com/github/LBQTrung/Python-exercise/blob/main/bai_tap_sinh_mau_ngau_nhien.ipynb\" target=\"_parent\"><img src=\"https://colab.research.google.com/assets/colab-badge.svg\" alt=\"Open In Colab\"/></a>"
      ]
    },
    {
      "cell_type": "markdown",
      "metadata": {
        "id": "Ox6dcQwBmaVI"
      },
      "source": [
        "Sử dụng thư viện Numpy\n",
        "\n"
      ]
    },
    {
      "cell_type": "code",
      "source": [
        "import numpy as np"
      ],
      "metadata": {
        "id": "s06aCvqX39BY"
      },
      "execution_count": null,
      "outputs": []
    },
    {
      "cell_type": "markdown",
      "source": [
        "1. Sinh mẫu ngẫu nhiên bằng hàm arange trong khoảng [-15, 27] với khoảng cách là 0.7 và in kết quả ra màn hình"
      ],
      "metadata": {
        "id": "l_rV257j38go"
      }
    },
    {
      "cell_type": "code",
      "execution_count": null,
      "metadata": {
        "id": "WrH1pmGumaVK",
        "colab": {
          "base_uri": "https://localhost:8080/"
        },
        "outputId": "e54f9354-c705-4f2a-87d9-7e99e3bf1b78"
      },
      "outputs": [
        {
          "output_type": "execute_result",
          "data": {
            "text/plain": [
              "array([-15. , -14.3, -13.6, -12.9, -12.2, -11.5, -10.8, -10.1,  -9.4,\n",
              "        -8.7,  -8. ,  -7.3,  -6.6,  -5.9,  -5.2,  -4.5,  -3.8,  -3.1,\n",
              "        -2.4,  -1.7,  -1. ,  -0.3,   0.4,   1.1,   1.8,   2.5,   3.2,\n",
              "         3.9,   4.6,   5.3,   6. ,   6.7,   7.4,   8.1,   8.8,   9.5,\n",
              "        10.2,  10.9,  11.6,  12.3,  13. ,  13.7,  14.4,  15.1,  15.8,\n",
              "        16.5,  17.2,  17.9,  18.6,  19.3,  20. ,  20.7,  21.4,  22.1,\n",
              "        22.8,  23.5,  24.2,  24.9,  25.6,  26.3,  27. ])"
            ]
          },
          "metadata": {},
          "execution_count": 7
        }
      ],
      "source": [
        "np.arange(start = -15, stop = 27, step = 0.7)"
      ]
    },
    {
      "cell_type": "markdown",
      "metadata": {
        "id": "g0ETcVxXmaVL"
      },
      "source": [
        "2. Sinh mẫu ngẫu nhiên theo phân phối chuẩn với mean = 2.7 std = 1.2 và size = 40\n",
        "In kết quả ra màn hình"
      ]
    },
    {
      "cell_type": "code",
      "execution_count": null,
      "metadata": {
        "id": "32N8ewAMmaVM",
        "colab": {
          "base_uri": "https://localhost:8080/"
        },
        "outputId": "79ebaf42-3a15-44ae-ba16-f6ff89223e54"
      },
      "outputs": [
        {
          "output_type": "execute_result",
          "data": {
            "text/plain": [
              "array([4.71885181, 3.62830261, 1.87074605, 2.83177199, 2.94086489,\n",
              "       2.5630202 , 2.96061011, 6.37564223, 2.3051536 , 3.17673186,\n",
              "       3.90467296, 2.68391553, 3.0886324 , 2.49405429, 3.36922209,\n",
              "       4.36573987, 3.41233022, 3.52265984, 1.44645906, 3.83505104,\n",
              "       2.86480646, 1.98946158, 2.40303224, 3.36286655, 4.15443415,\n",
              "       3.38567658, 3.56744729, 0.89009649, 2.69710803, 1.39074195,\n",
              "       2.25832398, 3.46221635, 4.08705066, 1.13257929, 2.57076785,\n",
              "       3.90580362, 2.01082903, 2.08961867, 3.78615395, 3.47791269])"
            ]
          },
          "metadata": {},
          "execution_count": 10
        }
      ],
      "source": [
        "np.random.normal(loc = 2.7, scale = 1.2, size = 40)"
      ]
    },
    {
      "cell_type": "markdown",
      "metadata": {
        "id": "VS4hUuaqmaVM"
      },
      "source": [
        "3. Sinh mẫu ngẫu nhiên từ vector ['Viet Nam', 'Britain', 'France', 'Russia', 'Singapore'] \n",
        "\n",
        "với kích thước là 17 theo phân phối chuẩn"
      ]
    },
    {
      "cell_type": "code",
      "execution_count": null,
      "metadata": {
        "id": "RXpcj6cHmaVM",
        "colab": {
          "base_uri": "https://localhost:8080/"
        },
        "outputId": "58368950-3f9d-451e-e70c-bd7623ef5990"
      },
      "outputs": [
        {
          "output_type": "execute_result",
          "data": {
            "text/plain": [
              "array(['Russia', 'France', 'Russia', 'Britain', 'Viet Nam', 'France',\n",
              "       'Singapore', 'Singapore', 'Singapore', 'France', 'Singapore',\n",
              "       'Russia', 'Singapore', 'Britain', 'Singapore', 'Russia', 'Britain'],\n",
              "      dtype='<U9')"
            ]
          },
          "metadata": {},
          "execution_count": 11
        }
      ],
      "source": [
        "np.random.choice(['Viet Nam', 'Britain', 'France', 'Russia', 'Singapore'],\n",
        "                 size = 17)"
      ]
    },
    {
      "cell_type": "markdown",
      "metadata": {
        "id": "1i42IVCBmaVN"
      },
      "source": [
        "4. Sinh mẫu ngẫu nhiên ở câu 3 nhưng không theo phân phối chuẩn mà theo 1 vector đặc tả giá trị xác suất do bạn chọn"
      ]
    },
    {
      "cell_type": "code",
      "execution_count": null,
      "metadata": {
        "id": "GskWki2EmaVN",
        "colab": {
          "base_uri": "https://localhost:8080/"
        },
        "outputId": "44713ed7-e8ce-476e-b34c-ef0a9f8d5633"
      },
      "outputs": [
        {
          "output_type": "execute_result",
          "data": {
            "text/plain": [
              "array(['Singapore', 'Singapore', 'Britain', 'Viet Nam', 'Singapore',\n",
              "       'Viet Nam', 'Viet Nam', 'Viet Nam', 'Viet Nam', 'Britain',\n",
              "       'Viet Nam', 'Viet Nam', 'Viet Nam', 'Viet Nam', 'Viet Nam',\n",
              "       'Britain', 'Viet Nam'], dtype='<U9')"
            ]
          },
          "metadata": {},
          "execution_count": 12
        }
      ],
      "source": [
        "np.random.choice(['Viet Nam', 'Britain', 'France', 'Russia', 'Singapore'],\n",
        "                 size = 17,\n",
        "                 p= [0.6, 0.1, 0.1, 0.1, 0.1])"
      ]
    },
    {
      "cell_type": "markdown",
      "metadata": {
        "id": "5vf7iWapmaVO"
      },
      "source": [
        "Sử dụng thư việc scipy.stats để sinh mẫu ngẫu nhiên\n",
        "\n"
      ]
    },
    {
      "cell_type": "code",
      "source": [
        "from scipy import stats"
      ],
      "metadata": {
        "id": "S0Mx-kfE4Bag"
      },
      "execution_count": null,
      "outputs": []
    },
    {
      "cell_type": "markdown",
      "source": [
        "1. Sinh mẫu ngẫu nhiên theo phân phối chuẩn với mean = 12.7, std = 2.6 và size = 30. In kết quả ra màn hình"
      ],
      "metadata": {
        "id": "AbXI_rGJ4A4P"
      }
    },
    {
      "cell_type": "code",
      "execution_count": null,
      "metadata": {
        "id": "qRE9Qe-1maVO",
        "colab": {
          "base_uri": "https://localhost:8080/"
        },
        "outputId": "5fe111ee-e12a-49d9-efef-4edd70f58e89"
      },
      "outputs": [
        {
          "output_type": "execute_result",
          "data": {
            "text/plain": [
              "array([13.30901009, 10.41583754, 14.21695703,  9.49524502, 10.26353501,\n",
              "       17.43490018,  8.03984396, 12.57342643, 15.21367965, 12.31496036,\n",
              "       12.38552102, 15.44057036, 10.81470828, 14.13060287, 12.59891584,\n",
              "       12.60511166, 13.63815575,  8.42453285, 15.9274302 ,  9.90609231,\n",
              "       11.79123842, 13.04335233, 14.70102446, 15.46201702, 13.94296733,\n",
              "       12.14424782, 10.63313464, 10.94322125, 13.70829259, 10.88161188])"
            ]
          },
          "metadata": {},
          "execution_count": 26
        }
      ],
      "source": [
        "stats.norm.rvs(loc = 12.7, scale = 2.6, size = 30)"
      ]
    },
    {
      "cell_type": "markdown",
      "metadata": {
        "id": "AfgbAiE-maVP"
      },
      "source": [
        "2. Hãy sinh một mẫu ngẫu nhiên theo phân phối Poisson"
      ]
    },
    {
      "cell_type": "code",
      "execution_count": null,
      "metadata": {
        "id": "PpNxzhddmaVP"
      },
      "outputs": [],
      "source": [
        "np.random.seed(10)\n",
        "a= stats.poisson.rvs(mu = 50,\n",
        "                    size = 100)"
      ]
    }
  ],
  "metadata": {
    "kernelspec": {
      "display_name": "Python 3",
      "language": "python",
      "name": "python3"
    },
    "language_info": {
      "codemirror_mode": {
        "name": "ipython",
        "version": 3
      },
      "file_extension": ".py",
      "mimetype": "text/x-python",
      "name": "python",
      "nbconvert_exporter": "python",
      "pygments_lexer": "ipython3",
      "version": "3.7.3"
    },
    "colab": {
      "name": "bai-tap-sinh-mau-ngau-nhien.ipynb",
      "provenance": [],
      "collapsed_sections": [],
      "include_colab_link": true
    }
  },
  "nbformat": 4,
  "nbformat_minor": 0
}