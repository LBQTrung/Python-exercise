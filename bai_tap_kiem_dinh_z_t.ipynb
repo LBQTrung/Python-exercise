{
  "cells": [
    {
      "cell_type": "markdown",
      "metadata": {
        "id": "view-in-github",
        "colab_type": "text"
      },
      "source": [
        "<a href=\"https://colab.research.google.com/github/LBQTrung/Python-exercise/blob/main/bai_tap_kiem_dinh_z_t.ipynb\" target=\"_parent\"><img src=\"https://colab.research.google.com/assets/colab-badge.svg\" alt=\"Open In Colab\"/></a>"
      ]
    },
    {
      "cell_type": "markdown",
      "metadata": {
        "id": "QL4T3DMIhiCO"
      },
      "source": [
        "XÂY DỰNG CHƯƠNG TRÌNH KIỂM ĐỊNH Z (HOẶC T) CHO CÁC BÀI TẬP SAU\n",
        "\n",
        "Gợi ý:\n",
        "\n",
        "- Số liệu được sinh ngẫu nhiên theo phân phối chuẩn\n",
        "- Sử dụng gói phần mềm statsmodels để tiến hành kiểm định\n",
        "- Đối với các bài tập kiểm định giả thuyết thì sinh viên cần phát biểu các giả thuyết (bằng tiếng Việt) $H_{0}$ và $H_{a}$ trước khi lập trình kiểm định"
      ]
    },
    {
      "cell_type": "markdown",
      "source": [
        "Các thư viện cần thiết:"
      ],
      "metadata": {
        "id": "jn7xdWdDjO93"
      }
    },
    {
      "cell_type": "code",
      "source": [
        "from scipy import stats\n",
        "import numpy as np\n",
        "import math\n",
        "from statsmodels.stats.weightstats import ztest"
      ],
      "metadata": {
        "id": "1NCd24nhhxlS"
      },
      "execution_count": 80,
      "outputs": []
    },
    {
      "cell_type": "markdown",
      "metadata": {
        "id": "sBVAF_l7hiCR"
      },
      "source": [
        "Bài 1: You’re a Q/C inspector for Gallo. The sample standard deviation for 2-liter bottles is .05 liters.  A random sample of 100 bottles showed sample mean = 1.99 liters.  What is the 90%  confidence interval estimate of the true mean amount in 2-liter bottles? "
      ]
    },
    {
      "cell_type": "code",
      "execution_count": null,
      "metadata": {
        "id": "dY4wOiFqhiCS",
        "colab": {
          "base_uri": "https://localhost:8080/"
        },
        "outputId": "c9777e60-b655-400b-9d4d-a83afcbbea61"
      },
      "outputs": [
        {
          "output_type": "execute_result",
          "data": {
            "text/plain": [
              "(1.6221995477099427, 2.357800452290057)"
            ]
          },
          "metadata": {},
          "execution_count": 3
        }
      ],
      "source": [
        "sample_mean = 1.99\n",
        "sample_std = 0.05\n",
        "# Tính sai số chuẩn:\n",
        "std_err = sample_std / (math.sqrt(sample_std))\n",
        "stats.norm.interval(alpha= 0.90, loc = sample_mean, scale = std_err)"
      ]
    },
    {
      "cell_type": "markdown",
      "metadata": {
        "id": "A3nr3gmahiCT"
      },
      "source": [
        "Bài 2: You’re a time study analyst in manufacturing.  You’ve recorded the following task times (min.): 3.6, 4.2, 4.0, 3.5, 3.8, 3.1. What is the 90% confidence interval estimate of the population mean task time? "
      ]
    },
    {
      "cell_type": "code",
      "execution_count": null,
      "metadata": {
        "id": "ur053cVhhiCT",
        "colab": {
          "base_uri": "https://localhost:8080/"
        },
        "outputId": "81888ce2-f271-4b1f-be0c-e8ce9c4b1897"
      },
      "outputs": [
        {
          "output_type": "execute_result",
          "data": {
            "text/plain": [
              "(3.3792758632100677, 4.020724136789934)"
            ]
          },
          "metadata": {},
          "execution_count": 3
        }
      ],
      "source": [
        "sample_data = [3.6, 4.2, 4, 3.5, 3.8, 3.1]\n",
        "# Cỡ mẫu:\n",
        "sample_n = 6\n",
        "# Trung bình mẫu:\n",
        "sample_mean = np.mean(sample_data)\n",
        "# Sai số chuẩn của mẫu\n",
        "std_err = stats.sem(sample_data)\n",
        "stats.t.interval(alpha = 0.90,df = sample_n - 1, loc = sample_mean, scale = std_err)"
      ]
    },
    {
      "cell_type": "markdown",
      "metadata": {
        "id": "7m_gBwHbhiCT"
      },
      "source": [
        "Bài 3: Does an average box of cereal contain 368 grams of cereal?  A random sample of 25 boxes had $\\overline{\\rm x}$ = 372.5.  The company has specified $\\sigma$ to be 25 grams.  Test at the .05 level of significance.\n",
        "\n",
        "\n"
      ]
    },
    {
      "cell_type": "markdown",
      "source": [
        "Phát biểu giả thuyết gốc: \"Trung bình một hôp ngũ cốc chứa 368 grams ngũ cốc\"\n",
        " \n",
        "Phát biểu giả thuyết thay thế: \"Trung bình một hộp ngũ cốc không chứa  368 grams ngũ cốc\""
      ],
      "metadata": {
        "id": "KmIvPPQ3flqc"
      }
    },
    {
      "cell_type": "markdown",
      "source": [
        "Xây dựng kiểm định:\n",
        "$$H_0: μ = 368$$\n",
        "Giả thuyết thay thế:\n",
        "$$H_a: μ \\ne 368$$\n"
      ],
      "metadata": {
        "id": "GldxshMqM8lj"
      }
    },
    {
      "cell_type": "code",
      "source": [
        "# Tạo mẫu:\n",
        "sample = np.random.normal(loc = 372.5, scale = 25, size = 25)\n",
        "print(sample)"
      ],
      "metadata": {
        "id": "AUQTT3IePjJo",
        "colab": {
          "base_uri": "https://localhost:8080/"
        },
        "outputId": "8e6cd491-cc04-43f0-b895-06872054f45b"
      },
      "execution_count": 27,
      "outputs": [
        {
          "output_type": "stream",
          "name": "stdout",
          "text": [
            "[380.13893837 380.48188021 351.62775702 360.40648169 385.36268102\n",
            " 363.02027287 330.88611545 363.13928569 355.70288678 424.6360613\n",
            " 349.84757291 334.35654404 361.11830984 388.0111246  368.72516126\n",
            " 346.25695316 361.7180819  334.82522016 410.64671523 360.81874786\n",
            " 346.00902465 405.24477283 358.74393839 312.93570986 380.30488286]\n"
          ]
        }
      ]
    },
    {
      "cell_type": "code",
      "execution_count": 28,
      "metadata": {
        "id": "YxdgMHVIhiCU"
      },
      "outputs": [],
      "source": [
        "# Xác định các thông số:\n",
        "mu0 = 368\n",
        "sig = 0.05"
      ]
    },
    {
      "cell_type": "markdown",
      "source": [
        "Vì đề bài cho biết độ lệch chuẩn tổng thể nên ta tiến hành z-test:"
      ],
      "metadata": {
        "id": "lrNvjBuaNJz8"
      }
    },
    {
      "cell_type": "code",
      "source": [
        "# Kiểm định z:\n",
        "ztest_Score, p_value= ztest(sample, value = mu0, alternative='two-sided')\n",
        "if(p_value <  sig):\n",
        "  print(\"Có bằng chứng để bác bỏ giả thuyết H0\")\n",
        "else:\n",
        "  print(\"Chưa có bằng chứng để bác bỏ giả thuyết H0\")"
      ],
      "metadata": {
        "colab": {
          "base_uri": "https://localhost:8080/"
        },
        "id": "EGbGNcGMNDv-",
        "outputId": "f2f5d575-d7c5-42fa-ac1e-0f863da837d6"
      },
      "execution_count": 30,
      "outputs": [
        {
          "output_type": "stream",
          "name": "stdout",
          "text": [
            "Chưa có bằng chứng để bác bỏ giả thuyết H0\n"
          ]
        }
      ]
    },
    {
      "cell_type": "markdown",
      "metadata": {
        "id": "XtYFuKGyhiCU"
      },
      "source": [
        "Bài 4: You’re a Q/C inspector.  You want to find out if a new machine is making electrical cords to customer specification: average breaking strength of 70 lb. with $\\sigma$ = 3.5 lb.  You take a sample of 36 cords & compute a sample mean of 69.7 lb.  At the .05 level of significance, is there evidence that the machine is not meeting the average breaking strength?"
      ]
    },
    {
      "cell_type": "markdown",
      "source": [
        "Phát biểu giả thuyết gốc: \"Chiếc máy mới được làm theo yêu cầu của khách hàng\"\n",
        "Phát biểu giả thuyết thay thế: \"Chiếc máy mới không làm theo yêu cầu của khách hàng \""
      ],
      "metadata": {
        "id": "6mnwtBjAgSo4"
      }
    },
    {
      "cell_type": "markdown",
      "source": [
        "Xây dựng kiểm định:\n",
        "$$H_0: μ = 70$$\n",
        "Giả thuyết thay thế:\n",
        "$$H_a: μ \\ne 70$$"
      ],
      "metadata": {
        "id": "9RHCGcVwSuo8"
      }
    },
    {
      "cell_type": "code",
      "execution_count": 31,
      "metadata": {
        "id": "xffcTMzfhiCV",
        "colab": {
          "base_uri": "https://localhost:8080/"
        },
        "outputId": "280b20fe-3a5e-4529-9583-4a615a73f9c2"
      },
      "outputs": [
        {
          "output_type": "stream",
          "name": "stdout",
          "text": [
            "[68.2858313  71.03010866 64.93543661 69.19884162 70.60476204 70.10986421\n",
            " 75.65283486 67.5766061  70.72473327 66.87274923 72.57230159 68.00418541\n",
            " 65.58460392 67.34704057 66.55758848 69.48910137 68.84538007 73.29304307\n",
            " 74.18199614 77.84592071 69.47704026 69.45180646 64.84082407 67.21379904\n",
            " 70.22575369 64.31271661 75.79348027 65.80775582 71.13839685 69.96350834\n",
            " 72.25567387 68.1818132  74.18181811 75.62066813 64.17933689 64.14647549]\n"
          ]
        }
      ],
      "source": [
        "# Tạo mẫu:\n",
        "sample = np.random.normal(loc = 69.7, scale = 3.5, size = 36)\n",
        "print(sample)"
      ]
    },
    {
      "cell_type": "code",
      "source": [
        "# Xác định các thông số:\n",
        "mu0 = 70\n",
        "sig = 0.05"
      ],
      "metadata": {
        "id": "olCnz1R1Telb"
      },
      "execution_count": 32,
      "outputs": []
    },
    {
      "cell_type": "markdown",
      "source": [
        "Vì đề bài cho biết độ lệch chuẩn tổng thể nên ta tiến hành z-test:"
      ],
      "metadata": {
        "id": "W6Pzpue6Tjdt"
      }
    },
    {
      "cell_type": "code",
      "source": [
        "# Kiểm định z:\n",
        "ztest_Score, p_value= ztest(sample, value = mu0, alternative='two-sided')\n",
        "if(p_value <  sig):\n",
        "  print(\"Có bằng chứng để bác bỏ giả thuyết H0\")\n",
        "else:\n",
        "  print(\"Chưa có bằng chứng để bác bỏ giả thuyết H0\")"
      ],
      "metadata": {
        "colab": {
          "base_uri": "https://localhost:8080/"
        },
        "id": "So6NK2pvTh3P",
        "outputId": "9f1e5576-e02a-4da1-da97-b245f594c181"
      },
      "execution_count": 33,
      "outputs": [
        {
          "output_type": "stream",
          "name": "stdout",
          "text": [
            "Chưa có bằng chứng để bác bỏ giả thuyết H0\n"
          ]
        }
      ]
    },
    {
      "cell_type": "markdown",
      "metadata": {
        "id": "UjqZZsBOhiCV"
      },
      "source": [
        "Bài 5: Does an average box of cereal contain more than 368 grams of cereal?  A random sample of 25 boxes showed $\\overline{\\rm x}$ =  372.5.  The company has specified $\\sigma$ to be 25 grams.  Test at the .05 level of significance."
      ]
    },
    {
      "cell_type": "markdown",
      "source": [
        "Phát biểu giả thuyết gốc: \"Trung bình hộp ngữ cốc chứa 368 grams ngũ cốc\"\n",
        "\n",
        "Phát biểu giả thuyết thay thế: \"Trung bình hộp ngũ cốc chứa nhiều hơn 368 grams ngũ cốc\""
      ],
      "metadata": {
        "id": "pynqAanhgxgm"
      }
    },
    {
      "cell_type": "markdown",
      "source": [
        "Xây dựng kiểm định:\n",
        "$$H_0: μ = 368$$\n",
        "Giả thuyết thay thế:\n",
        "$$H_a: μ > 368$$"
      ],
      "metadata": {
        "id": "KZr0OaxeUHaK"
      }
    },
    {
      "cell_type": "code",
      "execution_count": 35,
      "metadata": {
        "id": "DgZsie4ehiCV",
        "colab": {
          "base_uri": "https://localhost:8080/"
        },
        "outputId": "e50c9b31-c292-45b1-bead-25588cca6da1"
      },
      "outputs": [
        {
          "output_type": "stream",
          "name": "stdout",
          "text": [
            "[395.36179283 400.54405157 354.38424588 396.46618615 375.20316158\n",
            " 395.22749146 362.24566592 363.36977049 380.42759878 382.68072143\n",
            " 364.94714603 403.09460319 415.29309776 376.49850414 387.2778386\n",
            " 356.10542401 369.48047508 377.42212668 398.21493245 366.38264071\n",
            " 421.4763616  339.89214522 359.18054706 386.92325731 362.05860801]\n"
          ]
        }
      ],
      "source": [
        "# Tạo mẫu:\n",
        "sample = np.random.normal(loc = 372.5, scale = 25, size = 25)\n",
        "print(sample)"
      ]
    },
    {
      "cell_type": "code",
      "source": [
        "# Xác định các thông số:\n",
        "mu0 = 368\n",
        "sig = 0.05"
      ],
      "metadata": {
        "id": "U5gLOAvZURjc"
      },
      "execution_count": 38,
      "outputs": []
    },
    {
      "cell_type": "markdown",
      "source": [
        "Vì đề bài cho biết độ lệch chuẩn tổng thể nên ta tiến hành z-test:"
      ],
      "metadata": {
        "id": "gyOS2R4JXnyB"
      }
    },
    {
      "cell_type": "code",
      "source": [
        "# Kiểm định t:\n",
        "ztest_Score, p_value= ztest(sample, value = mu0, alternative='larger')\n",
        "if(p_value <  sig):\n",
        "  print(\"Có bằng chứng để bác bỏ giả thuyết H0\")\n",
        "else:\n",
        "  print(\"Chưa có bằng chứng để bác bỏ giả thuyết H0\")"
      ],
      "metadata": {
        "colab": {
          "base_uri": "https://localhost:8080/"
        },
        "id": "CSSoLgxSXwog",
        "outputId": "81acb82e-f7bf-4549-b8cb-9a069b15be1e"
      },
      "execution_count": 39,
      "outputs": [
        {
          "output_type": "stream",
          "name": "stdout",
          "text": [
            "Có bằng chứng để bác bỏ giả thuyết H0\n"
          ]
        }
      ]
    },
    {
      "cell_type": "markdown",
      "metadata": {
        "id": "ZDUc62QHhiCW"
      },
      "source": [
        "Bài 6: You’re an analyst for Ford.  You want to find out if the average miles per gallon of Escorts is at least 32 mpg. Similar models have a standard deviation of 3.8 mpg. You take a sample of 60 Escorts & compute a sample mean of 30.7 mpg. At the .01 level of significance, is there evidence that the miles per gallon is less than 32?"
      ]
    },
    {
      "cell_type": "markdown",
      "source": [
        "Phát biểu giả thuyết gốc: \"Số dặm trên một gallon của Escort bằng 32 mpg\"\n",
        "\n",
        "Phát biểu giả thuyết thay thế: \"Số dặm trên một gallon bé hơn 32 mpg\""
      ],
      "metadata": {
        "id": "KKkGdp1GhN2v"
      }
    },
    {
      "cell_type": "markdown",
      "source": [
        "Xây dựng kiểm định:\n",
        "$$H_0: μ = 32$$\n",
        "Giả thuyết thay thế:\n",
        "$$H_a: μ < 32$$"
      ],
      "metadata": {
        "id": "Ty4NrR7bYRG0"
      }
    },
    {
      "cell_type": "code",
      "execution_count": 40,
      "metadata": {
        "id": "3Uia4m92hiCW",
        "colab": {
          "base_uri": "https://localhost:8080/"
        },
        "outputId": "052e8893-36ef-44ad-a66b-4564f9bea504"
      },
      "outputs": [
        {
          "output_type": "stream",
          "name": "stdout",
          "text": [
            "[34.61887085 28.95149563 25.63487592 29.44060209 26.78621314 27.68964379\n",
            " 32.11191446 29.17205439 34.73889004 28.33560943 32.22187182 36.88176442\n",
            " 30.98041118 32.36705146 28.22983195 26.35504926 20.16574167 33.71164632\n",
            " 30.21122177 28.09028947 35.96442225 33.95858983 35.71745094 25.94906563\n",
            " 31.79419211 28.42853288 30.33224901 30.77654012 32.11559407 24.20999272\n",
            " 24.06271772 31.86958356 32.4341732  31.55165439 25.08736443 25.07983221\n",
            " 34.77313002 30.17930858 26.36175391 30.88444742 31.53505894 28.29546385\n",
            " 35.62840954 31.52165604 31.12930188 31.16308629 26.69896998 18.4078897\n",
            " 33.1191848  24.67561353 37.55508641 25.20696581 31.86071856 30.79045508\n",
            " 27.57110261 26.91447075 24.55285808 36.64981968 22.73697111 31.97795945]\n"
          ]
        }
      ],
      "source": [
        "# Tạo mẫu:\n",
        "sample = np.random.normal(loc = 30.7, scale = 3.8, size = 60)\n",
        "print(sample)"
      ]
    },
    {
      "cell_type": "code",
      "source": [
        "# Xác định các thông số:\n",
        "mu0 = 32\n",
        "sig = 0.01"
      ],
      "metadata": {
        "id": "BNP4xQuyYeJ0"
      },
      "execution_count": 41,
      "outputs": []
    },
    {
      "cell_type": "markdown",
      "source": [
        "Vì các mô hình tương tự cho độ lệch chuẩn là 3.8 mpg nên ta có thể xác định $σ$ = 3.8 mpg. Do đó, ta sẽ dùng t-test:"
      ],
      "metadata": {
        "id": "_d9mln9HY7cj"
      }
    },
    {
      "cell_type": "code",
      "source": [
        "# Kiểm định t:\n",
        "ztest_Score, p_value= ztest(sample, value = mu0, alternative='smaller')\n",
        "if(p_value <  sig):\n",
        "  print(\"Có bằng chứng để bác bỏ giả thuyết H0\")\n",
        "else:\n",
        "  print(\"Chưa có bằng chứng để bác bỏ giả thuyết H0\")"
      ],
      "metadata": {
        "colab": {
          "base_uri": "https://localhost:8080/"
        },
        "id": "vTAGpbQwZNkU",
        "outputId": "2f15d62a-9279-4789-fb38-d9a75d49ae38"
      },
      "execution_count": 42,
      "outputs": [
        {
          "output_type": "stream",
          "name": "stdout",
          "text": [
            "Có bằng chứng để bác bỏ giả thuyết H0\n"
          ]
        }
      ]
    },
    {
      "cell_type": "markdown",
      "metadata": {
        "id": "KxJRJrQrhiCW"
      },
      "source": [
        "Bài 7: Does an average box of cereal contain 368 grams of cereal?  A random sample of 25 boxes showed $\\overline{\\rm x}$ = 372.5.  The company has specified $\\sigma$ to be 15 grams.  Find the p-Value."
      ]
    },
    {
      "cell_type": "markdown",
      "source": [
        "Phát biểu giả thuyết gốc: \"Trung bình hộp ngũ cốc chứa 368 grams ngũ cốc\"\n",
        "\n",
        "Phát biểu giả thuyết thay thế: \"Trung bình hộp ngũ cốc không chứa 368 grams ngũ cốc\""
      ],
      "metadata": {
        "id": "C30mgtTnhfOe"
      }
    },
    {
      "cell_type": "markdown",
      "source": [
        "Xây dựng kiểm định:\n",
        "$$H_0: μ = 368$$\n",
        "Giả thuyết thay thế:\n",
        "$$H_a: μ \\ne 368$$"
      ],
      "metadata": {
        "id": "t9VdpLf2Zg1j"
      }
    },
    {
      "cell_type": "code",
      "execution_count": 43,
      "metadata": {
        "id": "jGGGuWebhiCW",
        "colab": {
          "base_uri": "https://localhost:8080/"
        },
        "outputId": "3a25cfeb-ffab-4b87-fd2a-6e2536285e41"
      },
      "outputs": [
        {
          "output_type": "stream",
          "name": "stdout",
          "text": [
            "[389.75022325 416.33149833 369.61904543 377.6201231  368.17560671\n",
            " 386.44588603 360.69931839 374.56026722 354.78360191 361.02413262\n",
            " 374.32753492 362.16081226 356.97438111 350.729983   366.03254536\n",
            " 351.755846   375.42781834 380.31924593 379.76856535 351.65905384\n",
            " 378.92403527 371.66898428 385.73061775 382.30410693 383.54594846]\n"
          ]
        }
      ],
      "source": [
        "# Tạo mẫu:\n",
        "sample = np.random.normal(loc = 372.5, scale = 15, size = 25)\n",
        "print(sample)"
      ]
    },
    {
      "cell_type": "code",
      "source": [
        "# Xác định thông số:\n",
        "mu0 = 368"
      ],
      "metadata": {
        "id": "SSLTKwV1ZtuS"
      },
      "execution_count": 45,
      "outputs": []
    },
    {
      "cell_type": "markdown",
      "source": [
        "Vì đề bài cho biết độ lệch chuẩn tổng thể nên ta tiến hành z-test:"
      ],
      "metadata": {
        "id": "Ptzt41zJZxrk"
      }
    },
    {
      "cell_type": "code",
      "source": [
        "# Kiểm định t:\n",
        "ztest_Score, p_value= ztest(sample, value = mu0, alternative='two-sided')\n",
        "print(f\"p-value: {p_value}\")"
      ],
      "metadata": {
        "colab": {
          "base_uri": "https://localhost:8080/"
        },
        "id": "-qFS3HshZu_j",
        "outputId": "83176a7c-acfa-4cb1-e92b-35b9647c33ad"
      },
      "execution_count": 46,
      "outputs": [
        {
          "output_type": "stream",
          "name": "stdout",
          "text": [
            "p-value: 0.1392008756174254\n"
          ]
        }
      ]
    },
    {
      "cell_type": "markdown",
      "metadata": {
        "id": "KKuzgjWVhiCX"
      },
      "source": [
        "Bài 8: Does an average box of cereal contain more than 368 grams of cereal?  A random sample of 25 boxes showed $\\overline{\\rm x}$ = 372.5.  The company has specified $\\sigma$ to be 15 grams.  Find the p-Value."
      ]
    },
    {
      "cell_type": "markdown",
      "source": [
        "Phát biểu giả thuyết gốc: \"Trung bình hộp ngữ cốc chứa 368 grams ngũ cốc\"\n",
        "\n",
        "Phát biểu giả thuyết thay thế: \"Trung bình hộp ngũ cốc chứa nhiều hơn 368 grams ngũ cốc\""
      ],
      "metadata": {
        "id": "RAHWoS2ch3_I"
      }
    },
    {
      "cell_type": "markdown",
      "source": [
        "Xây dựng kiểm định:\n",
        "$$H_0: μ = 368$$\n",
        "Giả thuyết thay thế:\n",
        "$$H_a: μ > 368$$"
      ],
      "metadata": {
        "id": "KgnPeVRraMFP"
      }
    },
    {
      "cell_type": "code",
      "execution_count": 47,
      "metadata": {
        "colab": {
          "base_uri": "https://localhost:8080/"
        },
        "outputId": "fe58a9d9-8f32-453f-d75c-85a2c699bf05",
        "id": "E9BjjT1UaMFU"
      },
      "outputs": [
        {
          "output_type": "stream",
          "name": "stdout",
          "text": [
            "[380.44890315 352.68665355 378.92203152 345.59469381 369.65025624\n",
            " 395.0510524  347.41028898 351.3650956  374.30652232 371.89102214\n",
            " 352.22511202 388.11482906 384.80106746 387.88002791 401.09791575\n",
            " 364.9218834  400.39923989 384.80333576 366.14132033 352.74887442\n",
            " 368.74605257 378.95184893 389.86176969 330.40115449 378.18342927]\n"
          ]
        }
      ],
      "source": [
        "# Tạo mẫu:\n",
        "sample = np.random.normal(loc = 372.5, scale = 15, size = 25)\n",
        "print(sample)"
      ]
    },
    {
      "cell_type": "code",
      "source": [
        "# Xác định thông số:\n",
        "mu0 = 368"
      ],
      "metadata": {
        "id": "b3aPbvqlaMFU"
      },
      "execution_count": 48,
      "outputs": []
    },
    {
      "cell_type": "markdown",
      "source": [
        "Vì đề bài cho biết độ lệch chuẩn tổng thể nên ta tiến hành z-test:"
      ],
      "metadata": {
        "id": "Rf4G1V6_aMFU"
      }
    },
    {
      "cell_type": "code",
      "source": [
        "# Kiểm định t:\n",
        "ztest_Score, p_value= ztest(sample, value = mu0, alternative='larger')\n",
        "print(f\"p-value: {p_value}\")"
      ],
      "metadata": {
        "colab": {
          "base_uri": "https://localhost:8080/"
        },
        "outputId": "edfd08ba-c21e-45a1-f492-92d0e6fece50",
        "id": "hVRrjMutaMFU"
      },
      "execution_count": 49,
      "outputs": [
        {
          "output_type": "stream",
          "name": "stdout",
          "text": [
            "p-value: 0.14864583180980379\n"
          ]
        }
      ]
    },
    {
      "cell_type": "markdown",
      "metadata": {
        "id": "qixzeP-rhiCX"
      },
      "source": [
        "Bài 9: You’re an analyst for Ford.  You want to find out if the average miles per gallon of Escorts is less than 32 mpg.   Similar models have a standard deviation of 3.8 mpg.  You take a sample of 60 Escorts & compute a sample mean of 30.7 mpg.  What is the value of the observed level of significance (p-Value)?"
      ]
    },
    {
      "cell_type": "markdown",
      "source": [
        "Phát biểu giả thuyết gốc: \"Số dặm trên một gallon của Escort bằng 32 mpg\"\n",
        "\n",
        "Phát biểu giả thuyết thay thế: \"Số dặm trên một gallon bé hơn 32 mpg\""
      ],
      "metadata": {
        "id": "kf16Z_qUh7xQ"
      }
    },
    {
      "cell_type": "markdown",
      "source": [
        "Xây dựng kiểm định:\n",
        "$$H_0: μ = 32$$\n",
        "Giả thuyết thay thế:\n",
        "$$H_a: μ < 32$$"
      ],
      "metadata": {
        "id": "npkl4sBdag2p"
      }
    },
    {
      "cell_type": "code",
      "execution_count": 50,
      "metadata": {
        "colab": {
          "base_uri": "https://localhost:8080/"
        },
        "outputId": "63d7e0e0-b653-4b29-9963-c38ab821d4c4",
        "id": "OhmbWu8Vag2t"
      },
      "outputs": [
        {
          "output_type": "stream",
          "name": "stdout",
          "text": [
            "[30.41009749 27.95165003 25.77790483 21.22312008 23.55689222 36.55136047\n",
            " 22.82407484 32.12951761 31.35784521 30.95126562 24.6751267  33.28512465\n",
            " 37.84191595 23.14884573 31.21827348 28.16952556 35.66872524 29.70553836\n",
            " 28.75773433 28.7583728  33.28356724 33.69336739 34.77644211 29.41056587\n",
            " 32.08175665 31.12691764 24.36886834 20.64675013 26.7104941  24.3179728\n",
            " 26.47375869 30.33319039 27.67296731 25.25978097 19.86760522 27.2950782\n",
            " 29.35970317 32.47660294 33.37288182 30.93385733 20.18936016 29.87195485\n",
            " 27.75979106 28.857711   31.13135698 22.63826516 25.41383488 32.60637603\n",
            " 31.66209238 23.94498795 30.41637565 28.63834338 29.45143046 34.09118551\n",
            " 30.22575725 30.29858873 26.79414423 30.48363404 32.70681998 38.10394427]\n"
          ]
        }
      ],
      "source": [
        "# Tạo mẫu:\n",
        "sample = np.random.normal(loc = 30.7, scale = 3.8, size = 60)\n",
        "print(sample)"
      ]
    },
    {
      "cell_type": "code",
      "source": [
        "# Xác định các thông số:\n",
        "mu0 = 32"
      ],
      "metadata": {
        "id": "m86oPx1Aag2u"
      },
      "execution_count": 51,
      "outputs": []
    },
    {
      "cell_type": "markdown",
      "source": [
        "Vì các mô hình tương tự cho độ lệch chuẩn là 3.8 mpg nên ta có thể xác định $σ$ = 3.8 mpg. Do đó, ta sẽ dùng t-test:"
      ],
      "metadata": {
        "id": "GnG4P7mXag2u"
      }
    },
    {
      "cell_type": "code",
      "source": [
        "# Kiểm định t:\n",
        "ztest_Score, p_value= ztest(sample, value = mu0, alternative='smaller')\n",
        "print(f\"p-value: {p_value}\")"
      ],
      "metadata": {
        "colab": {
          "base_uri": "https://localhost:8080/"
        },
        "outputId": "724bab06-1dc6-499e-9e63-cbc757863880",
        "id": "fC5b2Z1Rag2u"
      },
      "execution_count": 52,
      "outputs": [
        {
          "output_type": "stream",
          "name": "stdout",
          "text": [
            "p-value: 4.925795396117496e-08\n"
          ]
        }
      ]
    },
    {
      "cell_type": "markdown",
      "metadata": {
        "id": "zmuVqcemhiCY"
      },
      "source": [
        "Bài 10: Does an average box of cereal contain 368 grams of cereal?  A random sample of 36 boxes had a mean of 372.5 and a standard deviation of 12 grams. Test at the .05 level of significance."
      ]
    },
    {
      "cell_type": "markdown",
      "source": [
        "Phát biểu giả thuyết gốc: \"Trung bình hộp ngũ cốc chứa 368 grams ngũ cốc\"\n",
        "\n",
        "Phát biểu giả thuyết thay thế: \"Trung bình hộp ngũ cốc không chứa 368 grams ngũ cốc\""
      ],
      "metadata": {
        "id": "zK0z82ooiAJT"
      }
    },
    {
      "cell_type": "markdown",
      "source": [
        "Xây dựng kiểm định:\n",
        "$$H_0: μ = 368$$\n",
        "Giả thuyết thay thế:\n",
        "$$H_a: μ \\ne 368$$\n"
      ],
      "metadata": {
        "id": "qzK9TkX_bDo0"
      }
    },
    {
      "cell_type": "code",
      "source": [
        "# Tạo mẫu:\n",
        "sample = np.random.normal(loc = 372.5, scale = 12, size = 36)\n",
        "print(sample)"
      ],
      "metadata": {
        "colab": {
          "base_uri": "https://localhost:8080/"
        },
        "outputId": "251c586e-eb86-4a52-bf6b-453883efef95",
        "id": "qx_HKFFpbDo5"
      },
      "execution_count": 59,
      "outputs": [
        {
          "output_type": "stream",
          "name": "stdout",
          "text": [
            "[361.72651469 365.10582116 360.68275118 377.14071536 377.80175928\n",
            " 377.86528725 361.53130744 378.73230428 374.36261935 359.03932782\n",
            " 360.41663229 363.51275164 358.99357737 363.98227191 374.78361157\n",
            " 381.67833525 358.8020834  366.45423837 376.75191771 367.77877111\n",
            " 362.92643851 368.91501578 379.71434278 360.07313964 372.11610078\n",
            " 357.28301053 367.584858   397.30082015 365.21653583 369.46717775\n",
            " 361.22667503 370.30540471 376.92329473 391.20927041 345.61677801\n",
            " 388.87130762]\n"
          ]
        }
      ]
    },
    {
      "cell_type": "code",
      "execution_count": 60,
      "metadata": {
        "id": "z9oXQosKbDo5"
      },
      "outputs": [],
      "source": [
        "# Xác định các thông số:\n",
        "mu0 = 368\n",
        "sig = 0.05"
      ]
    },
    {
      "cell_type": "markdown",
      "source": [
        "Vì đề bài cho biết độ lệch chuẩn mẫu nên ta tiến hành t-test:"
      ],
      "metadata": {
        "id": "trNvOCELbDo5"
      }
    },
    {
      "cell_type": "code",
      "execution_count": 61,
      "metadata": {
        "id": "OtK151RRhiCY"
      },
      "outputs": [],
      "source": [
        "# Tạo hàm t_test:\n",
        "def t_test(sample, hypoth_value, sig_level, test_type):\n",
        "    sample_mean = sample.mean()\n",
        "    sample_st_dev = sample.std()\n",
        "    sample_size = len(sample)\n",
        "    test_statistic = (sample_mean - hypoth_value) / \\\n",
        "                     (sample_st_dev/(math.sqrt(sample_size)))\n",
        "    if test_type == 'larger':\n",
        "        p_value = stats.t.cdf(test_statistic,df=sample_size-1)\n",
        "    if test_type == 'smaller':\n",
        "        p_value = 1 - stats.t.cdf(test_statistic,df=sample_size-1)\n",
        "    if test_type == 'two-sided':\n",
        "        p_value = 2 * (1 - stats.t.cdf(abs(test_statistic), \\\n",
        "                                    df=sample_size-1))\n",
        "    print(f'P Value = {p_value}')\n",
        "    if p_value < sig_level:\n",
        "        print(\"Có bằng chứng để bác bỏ giả thuyết H0\")\n",
        "    else:\n",
        "        print(\"Chưa có bằng chứng để bác bỏ giả thuyết H0\")"
      ]
    },
    {
      "cell_type": "code",
      "source": [
        "# Kiểm định t\n",
        "t_test(sample, mu0, sig, \"two-sided\")"
      ],
      "metadata": {
        "colab": {
          "base_uri": "https://localhost:8080/"
        },
        "id": "4VU8L8nkcvOC",
        "outputId": "f9097a3a-2eac-4e04-8285-da926dffad74"
      },
      "execution_count": 62,
      "outputs": [
        {
          "output_type": "stream",
          "name": "stdout",
          "text": [
            "P Value = 0.39878073948251846\n",
            "Chưa có bằng chứng để bác bỏ giả thuyết H0\n"
          ]
        }
      ]
    },
    {
      "cell_type": "markdown",
      "metadata": {
        "id": "jvEaU52LhiCY"
      },
      "source": [
        "Bài 11: You work for the FTC.  A manufacturer of detergent claims that the mean weight of detergent is 3.25 lb.  You take a random sample of 64 containers.  You calculate the sample average to be 3.238 lb. with a standard deviation of .117 lb.  At the .01 level of significance, is the manufacturer correct?"
      ]
    },
    {
      "cell_type": "markdown",
      "source": [
        "Phát biểu giả thuyết gốc: \"Trọng lượng trung bình của bình chất tẩy rửa bằng 3.25 lb\"\n",
        "\n",
        "Phát biểu giả thuyết thay thế: \"Trọng lượng trung bình của bình chất tẩy rửa không bằng 3.25\"\n"
      ],
      "metadata": {
        "id": "PCnQrzNGiH2o"
      }
    },
    {
      "cell_type": "markdown",
      "source": [
        "Xây dựng kiểm định:\n",
        "$$H_0: μ = 3.25$$\n",
        "Giả thuyết thay thế:\n",
        "$$H_a: μ \\ne 3.25$$\n"
      ],
      "metadata": {
        "id": "zk7RsmHOdJz1"
      }
    },
    {
      "cell_type": "code",
      "source": [
        "# Tạo mẫu:\n",
        "sample = np.random.normal(loc = 3.238, scale = 0.117, size = 64)\n",
        "print(sample)"
      ],
      "metadata": {
        "colab": {
          "base_uri": "https://localhost:8080/"
        },
        "outputId": "48620bb4-b16d-47ac-d6ce-862c6cdcacf1",
        "id": "4nvMouqjdJz6"
      },
      "execution_count": 63,
      "outputs": [
        {
          "output_type": "stream",
          "name": "stdout",
          "text": [
            "[3.19128181 3.31603649 3.08292268 3.02768365 3.23362493 3.28947189\n",
            " 3.04323397 3.53041169 3.21199463 3.37969919 3.32178429 3.58022097\n",
            " 3.24103051 3.04366761 3.19062568 3.03849274 3.19774905 3.13812984\n",
            " 3.23737803 3.1008887  3.21856465 3.35220638 3.13352079 3.35819522\n",
            " 3.20962015 3.0621958  3.30072481 3.35169524 3.25025154 3.36660206\n",
            " 3.26742001 3.32416971 3.25638892 3.23951312 3.21123386 3.17291114\n",
            " 2.94755632 3.21061428 3.21174707 3.34064637 3.10286992 3.3222328\n",
            " 3.36218001 3.45193855 3.27012701 3.26269893 3.16692941 3.19932045\n",
            " 3.26136417 3.22958597 3.2763811  3.29514336 3.05410514 3.43398734\n",
            " 2.89230653 3.30981161 3.29872117 3.25443663 3.43119728 3.35588306\n",
            " 3.29783829 3.31988473 3.33097602 3.48162225]\n"
          ]
        }
      ]
    },
    {
      "cell_type": "code",
      "execution_count": 66,
      "metadata": {
        "id": "X-6ZSsQldJz6"
      },
      "outputs": [],
      "source": [
        "# Xác định các thông số:\n",
        "mu0 = 3.25\n",
        "sig = 0.01"
      ]
    },
    {
      "cell_type": "markdown",
      "source": [
        "Vì đề bài cho biết độ lệch chuẩn mẫu nên ta tiến hành t-test:"
      ],
      "metadata": {
        "id": "DoawLgkkdJz7"
      }
    },
    {
      "cell_type": "code",
      "execution_count": 67,
      "metadata": {
        "id": "fU_EHfAehiCY",
        "colab": {
          "base_uri": "https://localhost:8080/"
        },
        "outputId": "38e3c3bb-0633-446a-b7a5-355c83b0e69d"
      },
      "outputs": [
        {
          "output_type": "stream",
          "name": "stdout",
          "text": [
            "P Value = 0.8817734563826949\n",
            "Chưa có bằng chứng để bác bỏ giả thuyết H0\n"
          ]
        }
      ],
      "source": [
        "# Kiểm định t\n",
        "t_test(sample, mu0, sig, \"two-sided\")"
      ]
    },
    {
      "cell_type": "markdown",
      "metadata": {
        "id": "Jmhx74OZhiCZ"
      },
      "source": [
        "Bài 12: Is the average capacity of batteries less than 140 ampere-hours?  A random sample of 20 batteries had a mean of 138.47 and a standard deviation of 2.66.  Assume a normal distribution. Test at the .05 level of significance."
      ]
    },
    {
      "cell_type": "markdown",
      "source": [
        "Phát biểu giả thuyết gốc: \"Dung lượng trung bình của pin là 140 ampere-hours\"\n",
        "\n",
        "Phát biểu giả thuyết thay thế: \"Dung lượng trung bình của pin bé hơn 140 ampere-hours\""
      ],
      "metadata": {
        "id": "yErbDmQvih0b"
      }
    },
    {
      "cell_type": "markdown",
      "source": [
        "Xây dựng kiểm định:\n",
        "$$H_0: μ = 140$$\n",
        "Giả thuyết thay thế:\n",
        "$$H_a: μ < 140$$\n"
      ],
      "metadata": {
        "id": "a42w26sPd6K7"
      }
    },
    {
      "cell_type": "code",
      "source": [
        "# Tạo mẫu:\n",
        "sample = np.random.normal(loc = 138.47, scale = 2.66, size = 20)\n",
        "print(sample)"
      ],
      "metadata": {
        "colab": {
          "base_uri": "https://localhost:8080/"
        },
        "outputId": "dca2ebb6-43c4-40c7-973b-416057f07348",
        "id": "bSmabGeJd6LA"
      },
      "execution_count": 71,
      "outputs": [
        {
          "output_type": "stream",
          "name": "stdout",
          "text": [
            "[143.16755424 137.71694321 138.9703683  136.61490482 139.07403678\n",
            " 140.18630187 135.8642     135.68879186 138.27306076 138.382\n",
            " 138.55887756 135.67442815 142.80599076 142.83720655 143.52678636\n",
            " 141.22785146 136.73567329 143.27351479 136.79988055 140.51793023]\n"
          ]
        }
      ]
    },
    {
      "cell_type": "code",
      "execution_count": 72,
      "metadata": {
        "id": "ZDhEopSwd6LA"
      },
      "outputs": [],
      "source": [
        "# Xác định các thông số:\n",
        "mu0 = 140\n",
        "sig = 0.05"
      ]
    },
    {
      "cell_type": "markdown",
      "source": [
        "Vì đề bài cho biết độ lệch chuẩn mẫu nên ta tiến hành t-test:"
      ],
      "metadata": {
        "id": "y-p37FCCd6LA"
      }
    },
    {
      "cell_type": "code",
      "execution_count": 73,
      "metadata": {
        "colab": {
          "base_uri": "https://localhost:8080/"
        },
        "outputId": "c045253f-5b10-4d3d-96a5-ca161b7e11a1",
        "id": "oPPrAApld6LA"
      },
      "outputs": [
        {
          "output_type": "stream",
          "name": "stdout",
          "text": [
            "P Value = 0.8739725406737368\n",
            "Chưa có bằng chứng để bác bỏ giả thuyết H0\n"
          ]
        }
      ],
      "source": [
        "# Kiểm định t\n",
        "t_test(sample, mu0, sig, \"smaller\")"
      ]
    },
    {
      "cell_type": "markdown",
      "metadata": {
        "id": "HXj81GdshiCZ"
      },
      "source": [
        "Bài 13: You’re a marketing analyst for Wal-Mart.  Wal-Mart had teddy bears on sale last week.  The weekly sales of bears sold in 10 stores was: 8  11  0   4   7   8   10   5   8   3. At the .05 level of significance, is there evidence that the average bear sales per store is more than 5?"
      ]
    },
    {
      "cell_type": "markdown",
      "source": [
        "Phát biểu giả thuyết gốc: \"Doanh số bán háng trung bình của cửa hàng trung bình là 5 con\"\n",
        "\n",
        "Phát biểu giả thuyết thay thế: \"Doanh số bán háng trung bình của cửa hàng trung bình lớn hơn 5 con\""
      ],
      "metadata": {
        "id": "io-onoupjAas"
      }
    },
    {
      "cell_type": "markdown",
      "source": [
        "Xây dựng kiểm định:\n",
        "$$H_0: μ = 5$$\n",
        "Giả thuyết thay thế:\n",
        "$$H_a: μ > 5$$\n"
      ],
      "metadata": {
        "id": "72G4Ac9oe3ge"
      }
    },
    {
      "cell_type": "code",
      "source": [
        "# Tạo mẫu:\n",
        "sample = np.array([11, 0, 4, 7, 8, 10, 5, 8, 3])"
      ],
      "metadata": {
        "id": "cLLP9fv8e3ge"
      },
      "execution_count": 77,
      "outputs": []
    },
    {
      "cell_type": "code",
      "execution_count": 75,
      "metadata": {
        "id": "5rGR-MIpe3ge"
      },
      "outputs": [],
      "source": [
        "# Xác định các thông số:\n",
        "mu0 = 5\n",
        "sig = 0.05"
      ]
    },
    {
      "cell_type": "markdown",
      "source": [
        "Vì đề bài cho biết độ lệch chuẩn mẫu nên ta tiến hành t-test:"
      ],
      "metadata": {
        "id": "1LBSXnF-e3ge"
      }
    },
    {
      "cell_type": "code",
      "execution_count": 78,
      "metadata": {
        "colab": {
          "base_uri": "https://localhost:8080/"
        },
        "outputId": "bf7f7d15-3491-42e0-c138-73fbbb34f0f4",
        "id": "8o6wLPphe3ge"
      },
      "outputs": [
        {
          "output_type": "stream",
          "name": "stdout",
          "text": [
            "P Value = 0.8488386600165195\n",
            "Chưa có bằng chứng để bác bỏ giả thuyết H0\n"
          ]
        }
      ],
      "source": [
        "# Kiểm định t\n",
        "t_test(sample, mu0, sig, \"larger\")"
      ]
    }
  ],
  "metadata": {
    "kernelspec": {
      "display_name": "Python 3",
      "language": "python",
      "name": "python3"
    },
    "language_info": {
      "codemirror_mode": {
        "name": "ipython",
        "version": 3
      },
      "file_extension": ".py",
      "mimetype": "text/x-python",
      "name": "python",
      "nbconvert_exporter": "python",
      "pygments_lexer": "ipython3",
      "version": "3.7.3"
    },
    "colab": {
      "name": "bai-tap-kiem-dinh-z-t.ipynb",
      "provenance": [],
      "include_colab_link": true
    }
  },
  "nbformat": 4,
  "nbformat_minor": 0
}