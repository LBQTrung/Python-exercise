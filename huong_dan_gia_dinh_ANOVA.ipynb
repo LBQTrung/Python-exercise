{
  "cells": [
    {
      "cell_type": "markdown",
      "metadata": {
        "id": "view-in-github",
        "colab_type": "text"
      },
      "source": [
        "<a href=\"https://colab.research.google.com/github/LBQTrung/Python-exercise/blob/main/huong_dan_gia_dinh_ANOVA.ipynb\" target=\"_parent\"><img src=\"https://colab.research.google.com/assets/colab-badge.svg\" alt=\"Open In Colab\"/></a>"
      ]
    },
    {
      "cell_type": "markdown",
      "metadata": {
        "id": "HLcdCw8eEeiy"
      },
      "source": [
        "PHÂN TÍCH ANOVA MỘT CHIỀU\n",
        "\n",
        "Phân tích ANOVA chấp nhận các giả định sau:\n",
        "\n",
        "(1) Tất cả các nhóm đều độc lập với nhau\n",
        "\n",
        "(2) Dữ liệu của mỗi nhóm đều tuân theo phân phối chuẩn. Tính chất này có thể được kiểm định bằng phương pháp Shapiro-Wilks.\n",
        "\n",
        "(3) Phương sai (variance) của các nhóm bằng nhau. Tính chất này có thể được kiểm định bằng phương pháp kiểm định Bartlett hay Levene.\n",
        "\n",
        "Nếu dữ liệu hiện có thỏa mãn các tính chất trên thì chúng ta mới tiến hành kiểm định ANOVA. Do vậy trước khi tiến hành kiểm định ANOVA, chúng ta cần thực hiện kiểm tra tập dữ liệu cần thỏa mãn 3 tính chất trên.\n",
        "    "
      ]
    },
    {
      "cell_type": "code",
      "source": [
        "# Import các thư viện cần thiết:\n",
        "import numpy as np\n",
        "import pandas as pd\n",
        "from scipy import stats"
      ],
      "metadata": {
        "id": "rnywerpiFJIt"
      },
      "execution_count": 1,
      "outputs": []
    },
    {
      "cell_type": "code",
      "execution_count": 2,
      "metadata": {
        "id": "7fXy2OENEei1"
      },
      "outputs": [],
      "source": [
        "#Bước 1: Hãy tạo một tập dữ liệu mẫu sample_1 với kích thước 100 tuân theo phân phối chuẩn\n",
        "sample_1 = np.random.normal(loc = 10, scale = 2, size = 100)"
      ]
    },
    {
      "cell_type": "code",
      "execution_count": 8,
      "metadata": {
        "id": "nitTZUk6Eei2"
      },
      "outputs": [],
      "source": [
        "#Bước 2: hãy tạo tập dữ liệu mẫu sample_2 với kích thước 100 tuân theo phân phối Poisson\n",
        "sample_2 = stats.poisson.rvs(mu = 10,\n",
        "                             size = 100)"
      ]
    },
    {
      "cell_type": "markdown",
      "metadata": {
        "id": "831my0BAEei2"
      },
      "source": [
        "Hãy tham khảo các hướng dẫn sau để kiểm định tính chất thứ 2 bằng phương pháp Shapiro-Wilks đối với sample_1 và sample_2\n",
        "\n",
        "(1) [Tài liệu tham khảo scipy](https://docs.scipy.org/doc/scipy/reference/generated/scipy.stats.shapiro.html)\n",
        "\n",
        "(2) [Hướng dẫn cụ thể của statology](https://www.statology.org/shapiro-wilk-test-python/)"
      ]
    },
    {
      "cell_type": "markdown",
      "source": [
        "Ta phát biểu các giả thuyết đối với mẫu thứ nhất Với mức ý nghĩa là 0.05:\n",
        "- Giả thuyết null: \"Mẫu thứ nhất được lấy từ  phân phối chuẩn\"\n",
        "- Giả thuyết thay thế: \"Mẫu thứ nhất không được lấy từ phân phối chuẩn\"\n",
        "\n",
        "Tương tự với mẫu thứ hai Với mức ý nghĩa là 0.05:\n",
        "- Giả thuyết null: \"Mẫu thứ hai được lấy từ  phân phối chuẩn\"\n",
        "- Giả thuyết thay thế: \"Mẫu thứ hai không được lấy từ phân phối chuẩn\"\n"
      ],
      "metadata": {
        "id": "oDQqHwGDIM1J"
      }
    },
    {
      "cell_type": "code",
      "execution_count": 11,
      "metadata": {
        "id": "A3ZVBaDPEei2",
        "colab": {
          "base_uri": "https://localhost:8080/"
        },
        "outputId": "bb3bfe1e-7c2d-48f3-c350-15a2fdc6ac4c"
      },
      "outputs": [
        {
          "output_type": "stream",
          "name": "stdout",
          "text": [
            "P_value: 0.9026598930358887\n"
          ]
        }
      ],
      "source": [
        "#Code kiểm định tính chất thứ 2 của sample_1\n",
        "shapiro_test_1 = stats.shapiro(sample_1)\n",
        "print(f\"P_value: {shapiro_test_1[1]}\")"
      ]
    },
    {
      "cell_type": "markdown",
      "source": [
        "Vì p value > 0.05 nên ta không có bằng chứng để bác bỏ giả thuyết null (Ta có thể ngầm chấp nhận giả thuyết null)\n",
        "\n",
        "Kết luận: Mẫu thứ nhất có khả năng cao được lấy từ phân phối chuẩn"
      ],
      "metadata": {
        "id": "eVwLTQupHjtJ"
      }
    },
    {
      "cell_type": "code",
      "source": [
        "#Code kiểm định tính chất thứ 2 của sample_2\n",
        "shapiro_test_2 = stats.shapiro(sample_2)\n",
        "print(f\"P_value: {shapiro_test_2[1]}\")"
      ],
      "metadata": {
        "colab": {
          "base_uri": "https://localhost:8080/"
        },
        "id": "dT8Vs6bcH5zB",
        "outputId": "455f2bf4-81dd-4cc9-d298-2818a1ef01b5"
      },
      "execution_count": 10,
      "outputs": [
        {
          "output_type": "stream",
          "name": "stdout",
          "text": [
            "P_value: 0.0012252053711563349\n"
          ]
        }
      ]
    },
    {
      "cell_type": "markdown",
      "source": [
        "Vì p value << 0.05 nên ta có bằng chứng để bác bỏ giả thuyết null\n",
        "\n",
        "Kết luận: Có bằng chứng để nói rằng mẫu thứ hai không được lấy ở phân phối chuẩn"
      ],
      "metadata": {
        "id": "lJoqs7jEIAkx"
      }
    },
    {
      "cell_type": "markdown",
      "metadata": {
        "id": "sxs7gkJfEei3"
      },
      "source": [
        "Hãy tham khảo các hướng dẫn sau để kiểm định tính chất thứ 3 bằng kiểm định Bartlett hoặc kiểm định Levene\n",
        "\n",
        "(1) [Hướng dẫn tổng quát](https://www.marsja.se/levenes-bartletts-test-of-equality-homogeneity-of-variance-in-python/)\n",
        "\n",
        "(2) [Hướng dẫn ở stackoverflow](https://stackoverflow.com/questions/36141254/how-to-test-for-homoscedasticity-having-the-same-population-variance-in-python)\n",
        "\n",
        "(3) Sử dụng bài giảng về kiểm định Bartlett và Levene ở buổi trước"
      ]
    },
    {
      "cell_type": "markdown",
      "source": [
        "Phát biểu giả thuyết với mức ý nghĩa 0.05:\n",
        "- Giả thuyết null: \"Không có sự khác biệt về phương sai của các mẫu\"\n",
        "- Giả thuyết thay thể: \"Có sự khác biệt về phương sai của các mẫu\"\n",
        "\n",
        "Trong trường hợp mẫu theo phân phối chuẩn, ta dùng kiểm định Bartlett. \n",
        "\n",
        "Trường hợp mẫu không theo phân phối chuẩn, ta dùng kiểm định Levene"
      ],
      "metadata": {
        "id": "igxKmBkbNj_H"
      }
    },
    {
      "cell_type": "code",
      "execution_count": 12,
      "metadata": {
        "id": "WSVrUhQsEei3",
        "colab": {
          "base_uri": "https://localhost:8080/"
        },
        "outputId": "53d2e7fc-33e7-4ee4-b4dc-3cbd62d2aa62"
      },
      "outputs": [
        {
          "output_type": "stream",
          "name": "stdout",
          "text": [
            "P value: 9.724335421646474e-06\n"
          ]
        }
      ],
      "source": [
        "#Code kiểm định tính đồng nhất về phương sai của các nhóm\n",
        "stat_value ,p_value = stats.levene(sample_1, sample_2)\n",
        "print(f\"P value: {p_value}\")"
      ]
    },
    {
      "cell_type": "markdown",
      "source": [
        "Vì P value << 0.05 nên ta có bằng chứng để bác bỏ giả thuyết null\n",
        "\n",
        "Kết luận: Có bằng chứng để nói rằng có sự khác biệt về phương sai của các mẫu."
      ],
      "metadata": {
        "id": "R2gEG-G4OYCR"
      }
    }
  ],
  "metadata": {
    "kernelspec": {
      "display_name": "Python 3",
      "language": "python",
      "name": "python3"
    },
    "language_info": {
      "codemirror_mode": {
        "name": "ipython",
        "version": 3
      },
      "file_extension": ".py",
      "mimetype": "text/x-python",
      "name": "python",
      "nbconvert_exporter": "python",
      "pygments_lexer": "ipython3",
      "version": "3.7.3"
    },
    "colab": {
      "name": "huong-dan-gia-dinh-ANOVA.ipynb",
      "provenance": [],
      "include_colab_link": true
    }
  },
  "nbformat": 4,
  "nbformat_minor": 0
}