{
  "nbformat": 4,
  "nbformat_minor": 0,
  "metadata": {
    "colab": {
      "name": "t-test-basic.ipynb",
      "provenance": [],
      "collapsed_sections": [],
      "authorship_tag": "ABX9TyPQSLZAzFa7IVroeBRiaB5a",
      "include_colab_link": true
    },
    "kernelspec": {
      "name": "python3",
      "display_name": "Python 3"
    },
    "language_info": {
      "name": "python"
    }
  },
  "cells": [
    {
      "cell_type": "markdown",
      "metadata": {
        "id": "view-in-github",
        "colab_type": "text"
      },
      "source": [
        "<a href=\"https://colab.research.google.com/github/LBQTrung/Python-exercise/blob/main/t_test_basic.ipynb\" target=\"_parent\"><img src=\"https://colab.research.google.com/assets/colab-badge.svg\" alt=\"Open In Colab\"/></a>"
      ]
    },
    {
      "cell_type": "markdown",
      "source": [
        "Hướng dẫn suy diễn thống kê bằng kiểm định t:"
      ],
      "metadata": {
        "id": "4cYA0QZMm7NA"
      }
    },
    {
      "cell_type": "markdown",
      "source": [
        "1. Các thư viện cần thiết:"
      ],
      "metadata": {
        "id": "25PxAHvHm_Nr"
      }
    },
    {
      "cell_type": "code",
      "source": [
        "import numpy as np\n",
        "from scipy import stats\n",
        "import pandas as pd\n",
        "import math\n",
        "from statsmodels.stats.weightstats import ttest_ind"
      ],
      "metadata": {
        "id": "XmBC3LnlnGLc",
        "colab": {
          "base_uri": "https://localhost:8080/"
        },
        "outputId": "bde1f2e7-5509-4f49-9351-7b09dd6019f3"
      },
      "execution_count": 1,
      "outputs": [
        {
          "output_type": "stream",
          "name": "stderr",
          "text": [
            "/usr/local/lib/python3.7/dist-packages/statsmodels/tools/_testing.py:19: FutureWarning: pandas.util.testing is deprecated. Use the functions in the public API at pandas.testing instead.\n",
            "  import pandas.util.testing as tm\n"
          ]
        }
      ]
    },
    {
      "cell_type": "markdown",
      "source": [
        "2. Thành phần của một bài kiểm định:\n",
        "- Vấn đề kiểm định\n",
        "- Cặp giả thuyết $H_0$ và $H_a$\n",
        "- Tiểu chuẩn kiểm định: $G = G(X_1, X_2, ..., X_n)$ Biết quy luật phân phối xác suất khi $H_0$ đúng như Student, chuẩn, Chi bình phương, Fisher\n",
        "- Mức ý nghĩa $\\alpha$: Xác suất mắc sai lầm loại $I$ ($H_0$ đúng nhưng chúng ta bác bỏ)\n",
        "- Miền bác bỏ $H_0$: $W_α$ = {miền giá trị cho thấy $H_0$ sai\n",
        "$$α = P(G \\in W_a|H_0 \\text{ đúng} )$$\n",
        "\n",
        "- Giá trị xác suất (p-value): Mức độ khẳng định của việc bác bỏ $H_0$ hoặc có thể hiểu là mức ý nghĩa nhỏ nhất để bác bỏ $H_0$"
      ],
      "metadata": {
        "id": "ErvqTBWYnU9A"
      }
    },
    {
      "cell_type": "markdown",
      "source": [
        "3. Quy trình kiểm định:\n",
        "\n",
        "Bước 1: Thực hiện các phép đo, hay thu thập dữ liệu quan sát\n",
        "\n",
        "Bước 2: Phát biểu giả thuyết  H0  và giả thuyết thay thế  Ha \n",
        "\n",
        "Bước 3: Xác định mức  α  (hay khoảng tin cậy)\n",
        "\n",
        "Bước 4: Lấy mẫu và tính toán các đại lượng thống kê của mẫu\n",
        "\n",
        "Bước 5: Thực hiện kiểm định t (t-test)\n",
        "\n",
        "Bước 6: Kết luận dựa vào kết quả kiểm định"
      ],
      "metadata": {
        "id": "DV0ZwCK_r-yX"
      }
    },
    {
      "cell_type": "markdown",
      "source": [
        "4. Xây dựng một kiểm định t 1 tham số:"
      ],
      "metadata": {
        "id": "PIHDoz29Tyt3"
      }
    },
    {
      "cell_type": "markdown",
      "source": [
        "* Kiểm định 2 đuôi:"
      ],
      "metadata": {
        "id": "Y15N0u8yqzhw"
      }
    },
    {
      "cell_type": "markdown",
      "source": [
        "Bài toán: Điều tra chi tiêu hàng năm của 20 công nhân khi công nghiệp A thấy trung bình mẫu là 34 triệu đồng và độ lệch chuẩn mẫu là 5.8 triệu đồng. Điều tra công nhân tại khu công nghiệp B thì chi tiêu trung bình là 35 triệu đồng. Với mức ý nghĩa 5%, có thể cho rằng chi tiêu trung bình của công nhân khu công nghiệp A và B là như nhau không? Giả thiết chi tiêu công nhân là biến ngẫu nhiên phân phối chuẩn."
      ],
      "metadata": {
        "id": "SV6n1809sEJD"
      }
    },
    {
      "cell_type": "markdown",
      "source": [
        "Xây dựng giả thuyết:\n",
        "\\begin{align}\n",
        "        H_0: μ  = 35\n",
        "    \\end{align}\n",
        "\n",
        "Giả thuyết thay thế:\n",
        "\\begin{align}\n",
        "        H_a: μ \\ne 35\n",
        "    \\end{align}\n",
        "\n",
        "α = 0.05\n",
        "\n",
        "Chỉ số t với bậc tự do 19 (20-1)  tương ứng với α/2 = 0.025 là 2.093 (Tra bảng phân phối t)\n",
        "\n",
        "Công thức:\n",
        "$$t = \\frac{(\\overline{\\rm X} - \\mu_0)}{(s / \\sqrt{n})}$$\n",
        "\n",
        "Với:\n",
        "- $\\overline{\\rm X}$: trung bình mẫu (34)\n",
        "- $\\mu_{0}$: trung bình của tổng thể cần so sánh (35)\n",
        "- s: độ lệch chuẩn hiệu chỉnh mẫu (5.8)\n",
        "- n: cỡ mẫu (20)\n",
        "\n",
        "Thay giá trị vào công thức ta có:\n",
        "\n",
        "$$t_{qs} = \\frac{(34 - 35)}{(5.8 / \\sqrt{40})} \\approx -1.09$$\n",
        "\n",
        "VÌ $|t_{qs}|$ < 2.093. Do đó không có bằng chứng để bác bỏ giả thuyết $H_0$  \n"
      ],
      "metadata": {
        "id": "Nvx-Tmk6y-Nm"
      }
    },
    {
      "cell_type": "markdown",
      "source": [
        "Lập trình bài toán trên với Python:"
      ],
      "metadata": {
        "id": "JMowbMTJQBzJ"
      }
    },
    {
      "cell_type": "code",
      "source": [
        "# Sinh mẫu ngẫu nhiên với cỡ mẫu 40, trung bình 34, độ lệch chuẩn 5.8\n",
        "sample = np.random.normal(loc = 34, scale = 5.8, size = 20)\n",
        "sample"
      ],
      "metadata": {
        "colab": {
          "base_uri": "https://localhost:8080/"
        },
        "id": "hskoMOJiTwRo",
        "outputId": "824d79a4-86e5-4b14-c8f9-b2fbb5efb4cd"
      },
      "execution_count": 23,
      "outputs": [
        {
          "output_type": "execute_result",
          "data": {
            "text/plain": [
              "array([31.06975535, 33.18473492, 36.03745156, 21.73402749, 42.12759069,\n",
              "       30.53587557, 33.95466934, 33.29085559, 27.90870159, 40.48824039,\n",
              "       29.29813166, 29.06573525, 30.97391958, 29.19350943, 31.28055868,\n",
              "       43.06958538, 30.65790892, 31.91565462, 44.6945401 , 34.9282049 ])"
            ]
          },
          "metadata": {},
          "execution_count": 23
        }
      ]
    },
    {
      "cell_type": "code",
      "source": [
        "# Xác định các thông số:\n",
        "mu0 = 35\n",
        "sig = 0.05"
      ],
      "metadata": {
        "id": "PrPGSvCRUy9P"
      },
      "execution_count": 24,
      "outputs": []
    },
    {
      "cell_type": "code",
      "source": [
        "# Kiểm định t:\n",
        "t_statistic, p_value = stats.ttest_1samp(sample, mu0)\n",
        "print(f\"p value: {p_value}\")\n",
        "if(p_value <  sig):\n",
        "  print(\"Có bằng chứng để bác bỏ giả thuyết H0\")\n",
        "else:\n",
        "  print(\"Chưa có bằng chứng để bác bỏ giả thuyết H0\")"
      ],
      "metadata": {
        "colab": {
          "base_uri": "https://localhost:8080/"
        },
        "id": "vFc2R6_hVEqb",
        "outputId": "de92d943-de41-4444-fe54-b2352e368864"
      },
      "execution_count": 25,
      "outputs": [
        {
          "output_type": "stream",
          "name": "stdout",
          "text": [
            "p value: 0.1882131413448545\n",
            "Chưa có bằng chứng để bác bỏ giả thuyết H0\n"
          ]
        }
      ]
    },
    {
      "cell_type": "markdown",
      "source": [
        "* Kiểm định 1 đuôi:"
      ],
      "metadata": {
        "id": "tAEjyuk2qXRZ"
      }
    },
    {
      "cell_type": "markdown",
      "source": [
        "Bài toán: Điều tra chi tiêu hàng năm của 20 công nhân khi công nghiệp A thấy trung bình mẫu là 34 triệu đồng và độ lệch chuẩn mẫu là 5.8 triệu đồng. Điều tra công nhân tại khu công nghiệp B thì chi tiêu trung bình là 35 triệu đồng. Với mức ý nghĩa 5%, có thể cho rằng chi tiêu trung bình của công nhân khu công nghiệp A thấp hơn khu công nghiệp B hay không? Giả thiết chi tiêu công nhân là biến ngẫu nhiên phân phối chuẩn."
      ],
      "metadata": {
        "id": "jpX2EjMbgAHK"
      }
    },
    {
      "cell_type": "markdown",
      "source": [
        "Xây dựng giả thuyết:\n",
        "\\begin{align}\n",
        "        H_0: μ  = 35\n",
        "    \\end{align}\n",
        "\n",
        "Giả thuyết thay thế:\n",
        "\\begin{align}\n",
        "        H_a: μ < 35\n",
        "    \\end{align}\n",
        "\n",
        "α = 0.05\n",
        "\n",
        "Chỉ số t với bậc tự do 19 (20-1) tương ứng với α/2 = 0.025 là 2.093 (Tra bảng phân phối t)\n",
        "\n",
        "Công thức:\n",
        "$$t = \\frac{(\\overline{\\rm X} - \\mu_0)}{(s / \\sqrt{n})}$$\n",
        "\n",
        "Với:\n",
        "- $\\overline{\\rm X}$: trung bình mẫu (34)\n",
        "- $\\mu_{0}$: trung bình của tổng thể cần so sánh (35)\n",
        "- s: độ lệch chuẩn hiệu chỉnh mẫu (5.8)\n",
        "- n: cỡ mẫu (20)\n",
        "\n",
        "Thay giá trị vào công thức ta có:\n",
        "\n",
        "$$t_{qs} = \\frac{(34 - 35)}{(5.8 / \\sqrt{40})} \\approx -1.09$$\n",
        "\n",
        "VÌ $t_{qs}$ > 2.093. Do đó không có bằng chứng để bác bỏ giả thuyết $H_0$  "
      ],
      "metadata": {
        "id": "pqseP7zogJJY"
      }
    },
    {
      "cell_type": "markdown",
      "source": [
        "Ta dùng Python để giải bài toán trên:"
      ],
      "metadata": {
        "id": "EeYpuow9ftOB"
      }
    },
    {
      "cell_type": "code",
      "source": [
        "# Viết hàm kiểm định t-test: \n",
        "def t_test(sample, hypoth_value, sig_level, test_type):\n",
        "    sample_mean = sample.mean()\n",
        "    sample_st_dev = sample.std()\n",
        "    sample_size = len(sample)\n",
        "    test_statistic = (sample_mean - hypoth_value) / \\\n",
        "                     (sample_st_dev/(math.sqrt(sample_size)))\n",
        "    if test_type == 'lower':\n",
        "        p_value = stats.t.cdf(test_statistic,df=sample_size-1)\n",
        "    if test_type == 'upper':\n",
        "        p_value = 1 - stats.t.cdf(test_statistic,df=sample_size-1)\n",
        "    if test_type == 'two':\n",
        "        p_value = 2 * (1 - stats.t.cdf(abs(test_statistic), \\\n",
        "                                    df=sample_size-1))\n",
        "    print(f'P Value = {p_value}')\n",
        "    if p_value < sig_level:\n",
        "        print(\"Có bằng chứng để bác bỏ giả thuyết H0\")\n",
        "    else:\n",
        "        print(\"Chưa có bằng chứng để bác bỏ giả thuyết H0\")"
      ],
      "metadata": {
        "id": "j62lAai2hxXJ"
      },
      "execution_count": 5,
      "outputs": []
    },
    {
      "cell_type": "code",
      "source": [
        "# Sinh mẫu ngẫu nhiên với cỡ mẫu 40, trung bình 34, độ lệch chuẩn 5.8\n",
        "sample = np.random.normal(loc = 34, scale = 5.8, size = 20)\n",
        "sample"
      ],
      "metadata": {
        "colab": {
          "base_uri": "https://localhost:8080/"
        },
        "id": "nifD7ElrjCwp",
        "outputId": "cbe15ce7-4cbf-432b-b976-95cbb157e2d5"
      },
      "execution_count": 26,
      "outputs": [
        {
          "output_type": "execute_result",
          "data": {
            "text/plain": [
              "array([46.38471019, 39.63404853, 29.20149767, 32.03012959, 32.16435576,\n",
              "       38.35413064, 35.29582643, 26.87101889, 47.42349855, 39.81595652,\n",
              "       38.50067195, 38.42337574, 30.53151034, 35.11300479, 30.38103704,\n",
              "       26.28682897, 40.90049588, 31.14574851, 41.62208199, 37.2662451 ])"
            ]
          },
          "metadata": {},
          "execution_count": 26
        }
      ]
    },
    {
      "cell_type": "code",
      "source": [
        "# Xác định các thông số:\n",
        "mu0 = 35\n",
        "sig = 0.05"
      ],
      "metadata": {
        "id": "_zhuLFikipqA"
      },
      "execution_count": 27,
      "outputs": []
    },
    {
      "cell_type": "code",
      "source": [
        "t_test(sample, mu0, sig, 'lower')"
      ],
      "metadata": {
        "colab": {
          "base_uri": "https://localhost:8080/"
        },
        "id": "D2UPROsBi-y6",
        "outputId": "6067c0f9-61f6-45cd-8fce-a93a6023619a"
      },
      "execution_count": 28,
      "outputs": [
        {
          "output_type": "stream",
          "name": "stdout",
          "text": [
            "P Value = 0.7428341705992239\n",
            "Chưa có bằng chứng để bác bỏ giả thuyết H0\n"
          ]
        }
      ]
    },
    {
      "cell_type": "markdown",
      "source": [
        "5. Xây dựng kiểm định t 2 tham số:\n"
      ],
      "metadata": {
        "id": "WenejXzejrxw"
      }
    },
    {
      "cell_type": "markdown",
      "source": [
        "* Trường hợp 2 đuôi:"
      ],
      "metadata": {
        "id": "B03vFOydw8jI"
      }
    },
    {
      "cell_type": "markdown",
      "source": [
        "Bài toán: Điều tra chi tiêu hàng năm của 20 công nhân khi công nghiệp A thấy trung bình mẫu là 34 triệu đồng và độ lệch chuẩn mẫu là 5.8 triệu đồng. Điều tra 20 công nhân ở khu công nghiệp C thì thấy chi tiêu trung bình là 36 triệu đồng và độ lệch chuẩn là 5 triệu đồng. Với mức ý nghĩa 5%, có thể cho rằng mức chi tiêu trung bình hàng năm của công nhân ở khu công nghiệp A có bằng khu C hay không?\n"
      ],
      "metadata": {
        "id": "AL2MeoeLo77x"
      }
    },
    {
      "cell_type": "markdown",
      "source": [
        "Xây dựng giả thuyết:\n",
        "\\begin{align}\n",
        "        H_0: μ_A = μ_C\n",
        "    \\end{align}\n",
        "\n",
        "Giả thuyết thay thế:\n",
        "\\begin{align}\n",
        "        H_a: μ_A \\ne μ_C\n",
        "    \\end{align}\n",
        "\n",
        "α = 0.05\n",
        "\n",
        "Chỉ số t với bậc tự do 19 (20-1) tương ứng với α/2 = 0.025 là 2.093 (Tra bảng phân phối t)\n",
        "\n",
        "Công thức:\n",
        "$$t = \\frac{(\\overline{\\rm X}_1 - \\overline{\\rm X}_2)}{\\sqrt{\\frac{S_1^2}{n_1} + \\frac{S_2^2}{n_2}}}$$\n",
        "\n",
        "Với:\n",
        "- $\\overline{\\rm X}_1$: trung bình mẫu ban đầu (34)\n",
        "- $\\overline{\\rm X}_2$: trung bình của mẫu cần so sánh (36)\n",
        "- $S_1$: độ lệch chuẩn hiệu chỉnh mẫu ban đầu (5.8)\n",
        "- $S_2$: độ lệch chuẩn hiệu chỉnh mẫu cần so sánh (5)\n",
        "- $n_1$: cỡ mẫu của mẫu ban đầu (20)\n",
        "- $n_2$: cỡ mẫu của mẫu cần so sánh (20)\n",
        "\n",
        "Thay giá trị vào công thức ta có:\n",
        "\n",
        "$$t = \\frac{(34 - 36)}{\\sqrt{\\frac{5.8^2}{20} + \\frac{5^2}{20}}} \\approx -1.168$$\n",
        "\n",
        "\n",
        "VÌ $|t_{qs}|$ < 2.093. Do đó chưa có bằng chứng để bác bỏ giả thuyết $H_0$ "
      ],
      "metadata": {
        "id": "J5sKSVhup6ih"
      }
    },
    {
      "cell_type": "markdown",
      "source": [
        "Ta dùng Python để giải bài toán trên như sau:"
      ],
      "metadata": {
        "id": "T3M0nPvKs7gP"
      }
    },
    {
      "cell_type": "code",
      "source": [
        "# Sinh các mẫu:\n",
        "sample_A = np.random.normal(loc = 34, scale = 5.8, size = 20)\n",
        "sample_B = np.random.normal(loc = 36, scale = 5, size = 20)"
      ],
      "metadata": {
        "id": "gmixj2oZuKEw"
      },
      "execution_count": 32,
      "outputs": []
    },
    {
      "cell_type": "code",
      "source": [
        "# Xác định mức ý nghĩa:\n",
        "sig = 0.05"
      ],
      "metadata": {
        "id": "AEjXdGoju2YH"
      },
      "execution_count": 30,
      "outputs": []
    },
    {
      "cell_type": "code",
      "source": [
        "# Tiến hành kiểm định t:\n",
        "t_statistic, p_value = stats.ttest_ind(sample_A, sample_B)\n",
        "print(f\"p value: {p_value}\")\n",
        "if p_value < sig:\n",
        "    print(\"Có bằng chứng để bác bỏ giả thuyết H0\")\n",
        "else:\n",
        "    print(\"Chưa có bằng chứng để bác bỏ giả thuyết H0\")"
      ],
      "metadata": {
        "colab": {
          "base_uri": "https://localhost:8080/"
        },
        "id": "yBjWnpatvChn",
        "outputId": "953c6d8e-811f-4f71-bd92-01c7d64cebfe"
      },
      "execution_count": 33,
      "outputs": [
        {
          "output_type": "stream",
          "name": "stdout",
          "text": [
            "p value: 0.256371137219693\n",
            "Chưa có bằng chứng để bác bỏ giả thuyết H0\n"
          ]
        }
      ]
    },
    {
      "cell_type": "markdown",
      "source": [
        "* Trường hợp 1 đuôi:"
      ],
      "metadata": {
        "id": "6TaD4JUcw_6f"
      }
    },
    {
      "cell_type": "markdown",
      "source": [
        "Bài toán: Điều tra chi tiêu hàng năm của 20 công nhân khi công nghiệp A thấy trung bình mẫu là 34 triệu đồng và độ lệch chuẩn mẫu là 5.8 triệu đồng. Điều tra 20 công nhân ở khu công nghiệp C thì thấy chi tiêu trung bình là 36 triệu đồng và độ lệch chuẩn là 5 triệu đồng. Với mức ý nghĩa 5%, có thể cho rằng mức chi tiêu trung bình hàng năm của công nhân ở khu công nghiệp A thấp hơn khu C hay không?"
      ],
      "metadata": {
        "id": "AvWcTBpzxKuf"
      }
    },
    {
      "cell_type": "markdown",
      "source": [
        "Xây dựng giả thuyết:\n",
        "\\begin{align}\n",
        "        H_0: μ_A = μ_C\n",
        "    \\end{align}\n",
        "\n",
        "Giả thuyết thay thế:\n",
        "\\begin{align}\n",
        "        H_a: μ_A < μ_C\n",
        "    \\end{align}\n",
        "Với α = 0.05"
      ],
      "metadata": {
        "id": "f2g_XPOyyAX3"
      }
    },
    {
      "cell_type": "code",
      "source": [
        "# Sinh các mẫu:\n",
        "sample_A = np.random.normal(loc = 34, scale = 5.8, size = 20)\n",
        "sample_B = np.random.normal(loc = 36, scale = 5, size = 20)"
      ],
      "metadata": {
        "id": "ghgiFK-HyVUm"
      },
      "execution_count": 34,
      "outputs": []
    },
    {
      "cell_type": "code",
      "source": [
        "# Xác định mức ý nghĩa:\n",
        "sig = 0.05"
      ],
      "metadata": {
        "id": "CowUVp5CyXa-"
      },
      "execution_count": 35,
      "outputs": []
    },
    {
      "cell_type": "code",
      "source": [
        "# Tiến hành kiểm định t:\n",
        "t_statistic, p_value, df = ttest_ind(x1 = sample_A, x2 = sample_B, value = 34 - 36, alternative = \"smaller\")\n",
        "print(f\"p value: {p_value}\")\n",
        "if p_value < sig:\n",
        "    print(\"Có bằng chứng để bác bỏ giả thuyết H0\")\n",
        "else:\n",
        "    print(\"Chưa có bằng chứng để bác bỏ giả thuyết H0\")"
      ],
      "metadata": {
        "colab": {
          "base_uri": "https://localhost:8080/"
        },
        "id": "oAd8GE4YyZX2",
        "outputId": "32c147dd-075f-4b15-9d52-43dfdd6db08f"
      },
      "execution_count": 36,
      "outputs": [
        {
          "output_type": "stream",
          "name": "stdout",
          "text": [
            "p value: 0.8743283541042681\n",
            "Chưa có bằng chứng để bác bỏ giả thuyết H0\n"
          ]
        }
      ]
    }
  ]
}