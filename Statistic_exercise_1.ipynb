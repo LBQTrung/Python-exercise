{
  "nbformat": 4,
  "nbformat_minor": 0,
  "metadata": {
    "colab": {
      "name": "Statistic_exercise_1.ipynb",
      "provenance": [],
      "collapsed_sections": [],
      "authorship_tag": "ABX9TyNayHv63E8BK/KHtv2+3+Ng",
      "include_colab_link": true
    },
    "kernelspec": {
      "name": "python3",
      "display_name": "Python 3"
    },
    "language_info": {
      "name": "python"
    }
  },
  "cells": [
    {
      "cell_type": "markdown",
      "metadata": {
        "id": "view-in-github",
        "colab_type": "text"
      },
      "source": [
        "<a href=\"https://colab.research.google.com/github/LBQTrung/Python-exercise/blob/main/Statistic_exercise_1.ipynb\" target=\"_parent\"><img src=\"https://colab.research.google.com/assets/colab-badge.svg\" alt=\"Open In Colab\"/></a>"
      ]
    },
    {
      "cell_type": "markdown",
      "source": [
        "## BÀI TẬP PANDAS 03 – THỐNG KÊ MÔ TẢ"
      ],
      "metadata": {
        "id": "b15If7pcfaOy"
      }
    },
    {
      "cell_type": "markdown",
      "source": [
        "Import thư viện cần thiết:"
      ],
      "metadata": {
        "id": "FoZWiJ6FfbWY"
      }
    },
    {
      "cell_type": "code",
      "source": [
        "import pandas as pd\n",
        "import matplotlib.pyplot as plt"
      ],
      "metadata": {
        "id": "ReG73rJ3fgSC"
      },
      "execution_count": null,
      "outputs": []
    },
    {
      "cell_type": "markdown",
      "source": [
        "1. Đọc tập tin vào dataframe"
      ],
      "metadata": {
        "id": "xqkFQcMafnzG"
      }
    },
    {
      "cell_type": "code",
      "source": [
        "df = pd.read_csv(\"1000 Sales Records.csv\")"
      ],
      "metadata": {
        "id": "rdMYesqnfruj"
      },
      "execution_count": null,
      "outputs": []
    },
    {
      "cell_type": "markdown",
      "source": [
        "2. Hãy hiển thị các thông số sau của tập dữ liệu:"
      ],
      "metadata": {
        "id": "SFXW4paWfxwY"
      }
    },
    {
      "cell_type": "markdown",
      "source": [
        "* Hiển thị 10 hàng đầu tiên của tập dữ liệu (gợi ý: hàm head() );"
      ],
      "metadata": {
        "id": "n7iGh28af4OI"
      }
    },
    {
      "cell_type": "code",
      "source": [
        "df.head(10)"
      ],
      "metadata": {
        "colab": {
          "base_uri": "https://localhost:8080/",
          "height": 363
        },
        "id": "547criUPf6N2",
        "outputId": "bc23ada0-7ba9-473f-ce30-b6dedab07559"
      },
      "execution_count": null,
      "outputs": [
        {
          "output_type": "execute_result",
          "data": {
            "text/plain": [
              "                              Region     Country   Item Type Sales Channel  \\\n",
              "0       Middle East and North Africa       Libya   Cosmetics       Offline   \n",
              "1                      North America      Canada  Vegetables        Online   \n",
              "2       Middle East and North Africa       Libya   Baby Food       Offline   \n",
              "3                               Asia       Japan      Cereal       Offline   \n",
              "4                 Sub-Saharan Africa        Chad      Fruits       Offline   \n",
              "5                             Europe     Armenia      Cereal        Online   \n",
              "6                 Sub-Saharan Africa     Eritrea      Cereal        Online   \n",
              "7                             Europe  Montenegro     Clothes       Offline   \n",
              "8  Central America and the Caribbean     Jamaica  Vegetables        Online   \n",
              "9              Australia and Oceania        Fiji  Vegetables       Offline   \n",
              "\n",
              "  Order Priority  Order Date   Order ID   Ship Date  Units Sold  Unit Price  \\\n",
              "0              M  10/18/2014  686800706  10/31/2014        8446      437.20   \n",
              "1              M   11/7/2011  185941302   12/8/2011        3018      154.06   \n",
              "2              C  10/31/2016  246222341   12/9/2016        1517      255.28   \n",
              "3              C   4/10/2010  161442649   5/12/2010        3322      205.70   \n",
              "4              H   8/16/2011  645713555   8/31/2011        9845        9.33   \n",
              "5              H  11/24/2014  683458888  12/28/2014        9528      205.70   \n",
              "6              H    3/4/2015  679414975   4/17/2015        2844      205.70   \n",
              "7              M   5/17/2012  208630645   6/28/2012        7299      109.28   \n",
              "8              H   1/29/2015  266467225    3/7/2015        2428      154.06   \n",
              "9              H  12/24/2013  118598544   1/19/2014        4800      154.06   \n",
              "\n",
              "   Unit Cost  Total Revenue  Total Cost  Total Profit  \n",
              "0     263.33     3692591.20  2224085.18    1468506.02  \n",
              "1      90.93      464953.08   274426.74     190526.34  \n",
              "2     159.42      387259.76   241840.14     145419.62  \n",
              "3     117.11      683335.40   389039.42     294295.98  \n",
              "4       6.92       91853.85    68127.40      23726.45  \n",
              "5     117.11     1959909.60  1115824.08     844085.52  \n",
              "6     117.11      585010.80   333060.84     251949.96  \n",
              "7      35.84      797634.72   261596.16     536038.56  \n",
              "8      90.93      374057.68   220778.04     153279.64  \n",
              "9      90.93      739488.00   436464.00     303024.00  "
            ],
            "text/html": [
              "\n",
              "  <div id=\"df-964fa5bf-cfbe-4184-98cd-27b92447e879\">\n",
              "    <div class=\"colab-df-container\">\n",
              "      <div>\n",
              "<style scoped>\n",
              "    .dataframe tbody tr th:only-of-type {\n",
              "        vertical-align: middle;\n",
              "    }\n",
              "\n",
              "    .dataframe tbody tr th {\n",
              "        vertical-align: top;\n",
              "    }\n",
              "\n",
              "    .dataframe thead th {\n",
              "        text-align: right;\n",
              "    }\n",
              "</style>\n",
              "<table border=\"1\" class=\"dataframe\">\n",
              "  <thead>\n",
              "    <tr style=\"text-align: right;\">\n",
              "      <th></th>\n",
              "      <th>Region</th>\n",
              "      <th>Country</th>\n",
              "      <th>Item Type</th>\n",
              "      <th>Sales Channel</th>\n",
              "      <th>Order Priority</th>\n",
              "      <th>Order Date</th>\n",
              "      <th>Order ID</th>\n",
              "      <th>Ship Date</th>\n",
              "      <th>Units Sold</th>\n",
              "      <th>Unit Price</th>\n",
              "      <th>Unit Cost</th>\n",
              "      <th>Total Revenue</th>\n",
              "      <th>Total Cost</th>\n",
              "      <th>Total Profit</th>\n",
              "    </tr>\n",
              "  </thead>\n",
              "  <tbody>\n",
              "    <tr>\n",
              "      <th>0</th>\n",
              "      <td>Middle East and North Africa</td>\n",
              "      <td>Libya</td>\n",
              "      <td>Cosmetics</td>\n",
              "      <td>Offline</td>\n",
              "      <td>M</td>\n",
              "      <td>10/18/2014</td>\n",
              "      <td>686800706</td>\n",
              "      <td>10/31/2014</td>\n",
              "      <td>8446</td>\n",
              "      <td>437.20</td>\n",
              "      <td>263.33</td>\n",
              "      <td>3692591.20</td>\n",
              "      <td>2224085.18</td>\n",
              "      <td>1468506.02</td>\n",
              "    </tr>\n",
              "    <tr>\n",
              "      <th>1</th>\n",
              "      <td>North America</td>\n",
              "      <td>Canada</td>\n",
              "      <td>Vegetables</td>\n",
              "      <td>Online</td>\n",
              "      <td>M</td>\n",
              "      <td>11/7/2011</td>\n",
              "      <td>185941302</td>\n",
              "      <td>12/8/2011</td>\n",
              "      <td>3018</td>\n",
              "      <td>154.06</td>\n",
              "      <td>90.93</td>\n",
              "      <td>464953.08</td>\n",
              "      <td>274426.74</td>\n",
              "      <td>190526.34</td>\n",
              "    </tr>\n",
              "    <tr>\n",
              "      <th>2</th>\n",
              "      <td>Middle East and North Africa</td>\n",
              "      <td>Libya</td>\n",
              "      <td>Baby Food</td>\n",
              "      <td>Offline</td>\n",
              "      <td>C</td>\n",
              "      <td>10/31/2016</td>\n",
              "      <td>246222341</td>\n",
              "      <td>12/9/2016</td>\n",
              "      <td>1517</td>\n",
              "      <td>255.28</td>\n",
              "      <td>159.42</td>\n",
              "      <td>387259.76</td>\n",
              "      <td>241840.14</td>\n",
              "      <td>145419.62</td>\n",
              "    </tr>\n",
              "    <tr>\n",
              "      <th>3</th>\n",
              "      <td>Asia</td>\n",
              "      <td>Japan</td>\n",
              "      <td>Cereal</td>\n",
              "      <td>Offline</td>\n",
              "      <td>C</td>\n",
              "      <td>4/10/2010</td>\n",
              "      <td>161442649</td>\n",
              "      <td>5/12/2010</td>\n",
              "      <td>3322</td>\n",
              "      <td>205.70</td>\n",
              "      <td>117.11</td>\n",
              "      <td>683335.40</td>\n",
              "      <td>389039.42</td>\n",
              "      <td>294295.98</td>\n",
              "    </tr>\n",
              "    <tr>\n",
              "      <th>4</th>\n",
              "      <td>Sub-Saharan Africa</td>\n",
              "      <td>Chad</td>\n",
              "      <td>Fruits</td>\n",
              "      <td>Offline</td>\n",
              "      <td>H</td>\n",
              "      <td>8/16/2011</td>\n",
              "      <td>645713555</td>\n",
              "      <td>8/31/2011</td>\n",
              "      <td>9845</td>\n",
              "      <td>9.33</td>\n",
              "      <td>6.92</td>\n",
              "      <td>91853.85</td>\n",
              "      <td>68127.40</td>\n",
              "      <td>23726.45</td>\n",
              "    </tr>\n",
              "    <tr>\n",
              "      <th>5</th>\n",
              "      <td>Europe</td>\n",
              "      <td>Armenia</td>\n",
              "      <td>Cereal</td>\n",
              "      <td>Online</td>\n",
              "      <td>H</td>\n",
              "      <td>11/24/2014</td>\n",
              "      <td>683458888</td>\n",
              "      <td>12/28/2014</td>\n",
              "      <td>9528</td>\n",
              "      <td>205.70</td>\n",
              "      <td>117.11</td>\n",
              "      <td>1959909.60</td>\n",
              "      <td>1115824.08</td>\n",
              "      <td>844085.52</td>\n",
              "    </tr>\n",
              "    <tr>\n",
              "      <th>6</th>\n",
              "      <td>Sub-Saharan Africa</td>\n",
              "      <td>Eritrea</td>\n",
              "      <td>Cereal</td>\n",
              "      <td>Online</td>\n",
              "      <td>H</td>\n",
              "      <td>3/4/2015</td>\n",
              "      <td>679414975</td>\n",
              "      <td>4/17/2015</td>\n",
              "      <td>2844</td>\n",
              "      <td>205.70</td>\n",
              "      <td>117.11</td>\n",
              "      <td>585010.80</td>\n",
              "      <td>333060.84</td>\n",
              "      <td>251949.96</td>\n",
              "    </tr>\n",
              "    <tr>\n",
              "      <th>7</th>\n",
              "      <td>Europe</td>\n",
              "      <td>Montenegro</td>\n",
              "      <td>Clothes</td>\n",
              "      <td>Offline</td>\n",
              "      <td>M</td>\n",
              "      <td>5/17/2012</td>\n",
              "      <td>208630645</td>\n",
              "      <td>6/28/2012</td>\n",
              "      <td>7299</td>\n",
              "      <td>109.28</td>\n",
              "      <td>35.84</td>\n",
              "      <td>797634.72</td>\n",
              "      <td>261596.16</td>\n",
              "      <td>536038.56</td>\n",
              "    </tr>\n",
              "    <tr>\n",
              "      <th>8</th>\n",
              "      <td>Central America and the Caribbean</td>\n",
              "      <td>Jamaica</td>\n",
              "      <td>Vegetables</td>\n",
              "      <td>Online</td>\n",
              "      <td>H</td>\n",
              "      <td>1/29/2015</td>\n",
              "      <td>266467225</td>\n",
              "      <td>3/7/2015</td>\n",
              "      <td>2428</td>\n",
              "      <td>154.06</td>\n",
              "      <td>90.93</td>\n",
              "      <td>374057.68</td>\n",
              "      <td>220778.04</td>\n",
              "      <td>153279.64</td>\n",
              "    </tr>\n",
              "    <tr>\n",
              "      <th>9</th>\n",
              "      <td>Australia and Oceania</td>\n",
              "      <td>Fiji</td>\n",
              "      <td>Vegetables</td>\n",
              "      <td>Offline</td>\n",
              "      <td>H</td>\n",
              "      <td>12/24/2013</td>\n",
              "      <td>118598544</td>\n",
              "      <td>1/19/2014</td>\n",
              "      <td>4800</td>\n",
              "      <td>154.06</td>\n",
              "      <td>90.93</td>\n",
              "      <td>739488.00</td>\n",
              "      <td>436464.00</td>\n",
              "      <td>303024.00</td>\n",
              "    </tr>\n",
              "  </tbody>\n",
              "</table>\n",
              "</div>\n",
              "      <button class=\"colab-df-convert\" onclick=\"convertToInteractive('df-964fa5bf-cfbe-4184-98cd-27b92447e879')\"\n",
              "              title=\"Convert this dataframe to an interactive table.\"\n",
              "              style=\"display:none;\">\n",
              "        \n",
              "  <svg xmlns=\"http://www.w3.org/2000/svg\" height=\"24px\"viewBox=\"0 0 24 24\"\n",
              "       width=\"24px\">\n",
              "    <path d=\"M0 0h24v24H0V0z\" fill=\"none\"/>\n",
              "    <path d=\"M18.56 5.44l.94 2.06.94-2.06 2.06-.94-2.06-.94-.94-2.06-.94 2.06-2.06.94zm-11 1L8.5 8.5l.94-2.06 2.06-.94-2.06-.94L8.5 2.5l-.94 2.06-2.06.94zm10 10l.94 2.06.94-2.06 2.06-.94-2.06-.94-.94-2.06-.94 2.06-2.06.94z\"/><path d=\"M17.41 7.96l-1.37-1.37c-.4-.4-.92-.59-1.43-.59-.52 0-1.04.2-1.43.59L10.3 9.45l-7.72 7.72c-.78.78-.78 2.05 0 2.83L4 21.41c.39.39.9.59 1.41.59.51 0 1.02-.2 1.41-.59l7.78-7.78 2.81-2.81c.8-.78.8-2.07 0-2.86zM5.41 20L4 18.59l7.72-7.72 1.47 1.35L5.41 20z\"/>\n",
              "  </svg>\n",
              "      </button>\n",
              "      \n",
              "  <style>\n",
              "    .colab-df-container {\n",
              "      display:flex;\n",
              "      flex-wrap:wrap;\n",
              "      gap: 12px;\n",
              "    }\n",
              "\n",
              "    .colab-df-convert {\n",
              "      background-color: #E8F0FE;\n",
              "      border: none;\n",
              "      border-radius: 50%;\n",
              "      cursor: pointer;\n",
              "      display: none;\n",
              "      fill: #1967D2;\n",
              "      height: 32px;\n",
              "      padding: 0 0 0 0;\n",
              "      width: 32px;\n",
              "    }\n",
              "\n",
              "    .colab-df-convert:hover {\n",
              "      background-color: #E2EBFA;\n",
              "      box-shadow: 0px 1px 2px rgba(60, 64, 67, 0.3), 0px 1px 3px 1px rgba(60, 64, 67, 0.15);\n",
              "      fill: #174EA6;\n",
              "    }\n",
              "\n",
              "    [theme=dark] .colab-df-convert {\n",
              "      background-color: #3B4455;\n",
              "      fill: #D2E3FC;\n",
              "    }\n",
              "\n",
              "    [theme=dark] .colab-df-convert:hover {\n",
              "      background-color: #434B5C;\n",
              "      box-shadow: 0px 1px 3px 1px rgba(0, 0, 0, 0.15);\n",
              "      filter: drop-shadow(0px 1px 2px rgba(0, 0, 0, 0.3));\n",
              "      fill: #FFFFFF;\n",
              "    }\n",
              "  </style>\n",
              "\n",
              "      <script>\n",
              "        const buttonEl =\n",
              "          document.querySelector('#df-964fa5bf-cfbe-4184-98cd-27b92447e879 button.colab-df-convert');\n",
              "        buttonEl.style.display =\n",
              "          google.colab.kernel.accessAllowed ? 'block' : 'none';\n",
              "\n",
              "        async function convertToInteractive(key) {\n",
              "          const element = document.querySelector('#df-964fa5bf-cfbe-4184-98cd-27b92447e879');\n",
              "          const dataTable =\n",
              "            await google.colab.kernel.invokeFunction('convertToInteractive',\n",
              "                                                     [key], {});\n",
              "          if (!dataTable) return;\n",
              "\n",
              "          const docLinkHtml = 'Like what you see? Visit the ' +\n",
              "            '<a target=\"_blank\" href=https://colab.research.google.com/notebooks/data_table.ipynb>data table notebook</a>'\n",
              "            + ' to learn more about interactive tables.';\n",
              "          element.innerHTML = '';\n",
              "          dataTable['output_type'] = 'display_data';\n",
              "          await google.colab.output.renderOutput(dataTable, element);\n",
              "          const docLink = document.createElement('div');\n",
              "          docLink.innerHTML = docLinkHtml;\n",
              "          element.appendChild(docLink);\n",
              "        }\n",
              "      </script>\n",
              "    </div>\n",
              "  </div>\n",
              "  "
            ]
          },
          "metadata": {},
          "execution_count": 4
        }
      ]
    },
    {
      "cell_type": "markdown",
      "source": [
        "* Hiển thị kích thước của tập dữ liệu (gợi ý: shape);"
      ],
      "metadata": {
        "id": "JC5LHMVEf9lg"
      }
    },
    {
      "cell_type": "code",
      "source": [
        "df.shape"
      ],
      "metadata": {
        "colab": {
          "base_uri": "https://localhost:8080/"
        },
        "id": "yKp8IXKmf_H4",
        "outputId": "0d8aa602-e4a3-4a35-97be-d245509448f3"
      },
      "execution_count": null,
      "outputs": [
        {
          "output_type": "execute_result",
          "data": {
            "text/plain": [
              "(1000, 14)"
            ]
          },
          "metadata": {},
          "execution_count": 5
        }
      ]
    },
    {
      "cell_type": "markdown",
      "source": [
        "* Hiển thị danh sách các cột(gợi ý: columns và chuyển cấu trúc Index của các\n",
        "columns về dạng list bằng hàm ép kiểu list())."
      ],
      "metadata": {
        "id": "l0CXZXnpgBfA"
      }
    },
    {
      "cell_type": "code",
      "source": [
        "list(df.columns)"
      ],
      "metadata": {
        "colab": {
          "base_uri": "https://localhost:8080/"
        },
        "id": "S7iREKwAgDa5",
        "outputId": "60a8378e-70c3-46f3-dad6-73a95feec18f"
      },
      "execution_count": null,
      "outputs": [
        {
          "output_type": "execute_result",
          "data": {
            "text/plain": [
              "['Region',\n",
              " 'Country',\n",
              " 'Item Type',\n",
              " 'Sales Channel',\n",
              " 'Order Priority',\n",
              " 'Order Date',\n",
              " 'Order ID',\n",
              " 'Ship Date',\n",
              " 'Units Sold',\n",
              " 'Unit Price',\n",
              " 'Unit Cost',\n",
              " 'Total Revenue',\n",
              " 'Total Cost',\n",
              " 'Total Profit']"
            ]
          },
          "metadata": {},
          "execution_count": 6
        }
      ]
    },
    {
      "cell_type": "markdown",
      "source": [
        "3. Trích rút dữ liệu:"
      ],
      "metadata": {
        "id": "Yehth_VFgGIo"
      }
    },
    {
      "cell_type": "markdown",
      "source": [
        "* Trích rút cột dữ liệu (định tính) – Country của tập dữ liệu, và in ra màn hình 5 hàng\n",
        "đầu tien của cột này;"
      ],
      "metadata": {
        "id": "d8tqLNXOgH9B"
      }
    },
    {
      "cell_type": "code",
      "source": [
        "df.Country.head()"
      ],
      "metadata": {
        "colab": {
          "base_uri": "https://localhost:8080/"
        },
        "id": "J4lldSNOgell",
        "outputId": "9d802c06-078e-400e-bf46-77b8d109682c"
      },
      "execution_count": null,
      "outputs": [
        {
          "output_type": "execute_result",
          "data": {
            "text/plain": [
              "0     Libya\n",
              "1    Canada\n",
              "2     Libya\n",
              "3     Japan\n",
              "4      Chad\n",
              "Name: Country, dtype: object"
            ]
          },
          "metadata": {},
          "execution_count": 8
        }
      ]
    },
    {
      "cell_type": "markdown",
      "source": [
        "* Trích rút cột dữ liệu (định lượng) – Total Cost của tập dữ liệu và in ra màn hình 5\n",
        "hàng đầu tien của cột này."
      ],
      "metadata": {
        "id": "5E8oEvLFgvVV"
      }
    },
    {
      "cell_type": "code",
      "source": [
        "df[\"Total Cost\"].head()"
      ],
      "metadata": {
        "colab": {
          "base_uri": "https://localhost:8080/"
        },
        "id": "B22it6DGgxC2",
        "outputId": "ff187e8b-7e2a-4898-f4f2-986366857ea6"
      },
      "execution_count": null,
      "outputs": [
        {
          "output_type": "execute_result",
          "data": {
            "text/plain": [
              "0    2224085.18\n",
              "1     274426.74\n",
              "2     241840.14\n",
              "3     389039.42\n",
              "4      68127.40\n",
              "Name: Total Cost, dtype: float64"
            ]
          },
          "metadata": {},
          "execution_count": 10
        }
      ]
    },
    {
      "cell_type": "markdown",
      "source": [
        "4. Phân tích thống kê mô tả với tập dữ liệu định lượng:"
      ],
      "metadata": {
        "id": "W7tsrtR2hC3f"
      }
    },
    {
      "cell_type": "markdown",
      "source": [
        "Xác định dữ liệu định lượng:"
      ],
      "metadata": {
        "id": "yJGSfAb5onKd"
      }
    },
    {
      "cell_type": "code",
      "source": [
        "df.info()"
      ],
      "metadata": {
        "colab": {
          "base_uri": "https://localhost:8080/"
        },
        "id": "LerkLQyfoscP",
        "outputId": "51d7ba51-63bb-4569-dd17-9c3b87c5a724"
      },
      "execution_count": null,
      "outputs": [
        {
          "output_type": "stream",
          "name": "stdout",
          "text": [
            "<class 'pandas.core.frame.DataFrame'>\n",
            "RangeIndex: 1000 entries, 0 to 999\n",
            "Data columns (total 14 columns):\n",
            " #   Column          Non-Null Count  Dtype  \n",
            "---  ------          --------------  -----  \n",
            " 0   Region          1000 non-null   object \n",
            " 1   Country         1000 non-null   object \n",
            " 2   Item Type       1000 non-null   object \n",
            " 3   Sales Channel   1000 non-null   object \n",
            " 4   Order Priority  1000 non-null   object \n",
            " 5   Order Date      1000 non-null   object \n",
            " 6   Order ID        1000 non-null   int64  \n",
            " 7   Ship Date       1000 non-null   object \n",
            " 8   Units Sold      1000 non-null   int64  \n",
            " 9   Unit Price      1000 non-null   float64\n",
            " 10  Unit Cost       1000 non-null   float64\n",
            " 11  Total Revenue   1000 non-null   float64\n",
            " 12  Total Cost      1000 non-null   float64\n",
            " 13  Total Profit    1000 non-null   float64\n",
            "dtypes: float64(5), int64(2), object(7)\n",
            "memory usage: 109.5+ KB\n"
          ]
        }
      ]
    },
    {
      "cell_type": "markdown",
      "source": [
        "Từ thông tin trên, ta thấy các biến Units Sold, Unit Price, Unit Cost, Total Revenue, Total Cost, Total Profit là dữ liệu định lượng vì thuộc kiểu dữ liệu số và có thể tính toán được. Riêng Order ID tuy là kiểu số nhưng nó biểu thị cho một đối tượng cụ thể (Hay nó thuộc thang đo danh nghĩa) nên là dữ liệu định tính"
      ],
      "metadata": {
        "id": "t4lD2nNgouSU"
      }
    },
    {
      "cell_type": "markdown",
      "source": [
        "* Tính các chỉ số thống kê sau và xuất kết quả ra màn hình: (1) Số lớn nhất - max;\n",
        "(2) Số nhỏ nhất - min; (3) Giá trị trung bình - mean; (4) Giá trị trung vị - median;\n",
        "(5) Phương sai - variance; (6) Độ lệch chuẩn - standard deviation; (7) Q1 và Q3."
      ],
      "metadata": {
        "id": "8raJ2msShET2"
      }
    },
    {
      "cell_type": "markdown",
      "source": [
        "Giá trị lớn nhất:"
      ],
      "metadata": {
        "id": "QRjoz5RIkgyS"
      }
    },
    {
      "cell_type": "code",
      "source": [
        "df.iloc[: , 8:].max()"
      ],
      "metadata": {
        "colab": {
          "base_uri": "https://localhost:8080/"
        },
        "id": "g_FObkDWkm4i",
        "outputId": "fb550c78-fe6e-467a-e24d-b84bd41ecc14"
      },
      "execution_count": null,
      "outputs": [
        {
          "output_type": "execute_result",
          "data": {
            "text/plain": [
              "Units Sold          9998.00\n",
              "Unit Price           668.27\n",
              "Unit Cost            524.96\n",
              "Total Revenue    6617209.54\n",
              "Total Cost       5204978.40\n",
              "Total Profit     1726181.36\n",
              "dtype: float64"
            ]
          },
          "metadata": {},
          "execution_count": 33
        }
      ]
    },
    {
      "cell_type": "markdown",
      "source": [
        "Giá trị nhỏ nhất:"
      ],
      "metadata": {
        "id": "kGweN1mJkze7"
      }
    },
    {
      "cell_type": "code",
      "source": [
        "df.iloc[: , 8:].min()"
      ],
      "metadata": {
        "colab": {
          "base_uri": "https://localhost:8080/"
        },
        "id": "qF8QaJvSk39u",
        "outputId": "0099e5cd-5e09-4435-c498-fdc8f3f43be7"
      },
      "execution_count": null,
      "outputs": [
        {
          "output_type": "execute_result",
          "data": {
            "text/plain": [
              "Units Sold         13.00\n",
              "Unit Price          9.33\n",
              "Unit Cost           6.92\n",
              "Total Revenue    2043.25\n",
              "Total Cost       1416.75\n",
              "Total Profit      532.61\n",
              "dtype: float64"
            ]
          },
          "metadata": {},
          "execution_count": 34
        }
      ]
    },
    {
      "cell_type": "markdown",
      "source": [
        "Giá trị trung bình:"
      ],
      "metadata": {
        "id": "pIEC49z-k6Zx"
      }
    },
    {
      "cell_type": "code",
      "source": [
        "round(df.iloc[: , 8:].mean(), 2)"
      ],
      "metadata": {
        "colab": {
          "base_uri": "https://localhost:8080/"
        },
        "id": "HA-bkBQek9dR",
        "outputId": "8783733c-cdbf-491e-84b5-cdb085d8bfc8"
      },
      "execution_count": null,
      "outputs": [
        {
          "output_type": "execute_result",
          "data": {
            "text/plain": [
              "Units Sold          5053.99\n",
              "Unit Price           262.11\n",
              "Unit Cost            184.97\n",
              "Total Revenue    1327321.84\n",
              "Total Cost        936119.23\n",
              "Total Profit      391202.61\n",
              "dtype: float64"
            ]
          },
          "metadata": {},
          "execution_count": 38
        }
      ]
    },
    {
      "cell_type": "markdown",
      "source": [
        "Giá trị trung vị:"
      ],
      "metadata": {
        "id": "bUXpgg2KlBRi"
      }
    },
    {
      "cell_type": "code",
      "source": [
        "df.iloc[: , 8:].median()"
      ],
      "metadata": {
        "colab": {
          "base_uri": "https://localhost:8080/"
        },
        "id": "_8V-uxBnlEFC",
        "outputId": "45acd445-e39f-4b43-fbe2-80c639921433"
      },
      "execution_count": null,
      "outputs": [
        {
          "output_type": "execute_result",
          "data": {
            "text/plain": [
              "Units Sold         5184.000\n",
              "Unit Price          154.060\n",
              "Unit Cost            97.440\n",
              "Total Revenue    754939.180\n",
              "Total Cost       464726.065\n",
              "Total Profit     277225.980\n",
              "dtype: float64"
            ]
          },
          "metadata": {},
          "execution_count": 40
        }
      ]
    },
    {
      "cell_type": "markdown",
      "source": [
        "Phương sai:"
      ],
      "metadata": {
        "id": "TAQLHKQulW75"
      }
    },
    {
      "cell_type": "code",
      "source": [
        "df.iloc[:, 8:].var()"
      ],
      "metadata": {
        "colab": {
          "base_uri": "https://localhost:8080/"
        },
        "id": "CWpYk2XmlY5B",
        "outputId": "86e47ee3-63c5-4e8c-be2d-bb1ae017bf77"
      },
      "execution_count": null,
      "outputs": [
        {
          "output_type": "execute_result",
          "data": {
            "text/plain": [
              "Units Sold       8.417979e+06\n",
              "Unit Price       4.666510e+04\n",
              "Unit Cost        3.072634e+04\n",
              "Total Revenue    2.209726e+12\n",
              "Total Cost       1.351571e+12\n",
              "Total Profit     1.471798e+11\n",
              "dtype: float64"
            ]
          },
          "metadata": {},
          "execution_count": 9
        }
      ]
    },
    {
      "cell_type": "markdown",
      "source": [
        "Độ lệch chuẩn:"
      ],
      "metadata": {
        "id": "FSYSOb-7ld8V"
      }
    },
    {
      "cell_type": "code",
      "source": [
        "df.iloc[:, 8 :].std()"
      ],
      "metadata": {
        "colab": {
          "base_uri": "https://localhost:8080/"
        },
        "id": "4w2iMc6Llgkv",
        "outputId": "d8128966-4866-46ee-a802-d78043884af5"
      },
      "execution_count": null,
      "outputs": [
        {
          "output_type": "execute_result",
          "data": {
            "text/plain": [
              "Units Sold       2.901375e+03\n",
              "Unit Price       2.160211e+02\n",
              "Unit Cost        1.752893e+02\n",
              "Total Revenue    1.486515e+06\n",
              "Total Cost       1.162571e+06\n",
              "Total Profit     3.836402e+05\n",
              "dtype: float64"
            ]
          },
          "metadata": {},
          "execution_count": 10
        }
      ]
    },
    {
      "cell_type": "markdown",
      "source": [
        "Tứ phân vị thứ nhất:"
      ],
      "metadata": {
        "id": "6JWpoEDYl0wY"
      }
    },
    {
      "cell_type": "code",
      "source": [
        "df.iloc[:, 8:].quantile([0.25])"
      ],
      "metadata": {
        "colab": {
          "base_uri": "https://localhost:8080/",
          "height": 81
        },
        "id": "UmDpT9q0l4FY",
        "outputId": "d69104f8-f506-4bb8-bee6-091fad9fc448"
      },
      "execution_count": null,
      "outputs": [
        {
          "output_type": "execute_result",
          "data": {
            "text/plain": [
              "      Units Sold  Unit Price  Unit Cost  Total Revenue  Total Cost  \\\n",
              "0.25     2420.25       81.73      56.67       281191.9  164931.875   \n",
              "\n",
              "      Total Profit  \n",
              "0.25      98376.12  "
            ],
            "text/html": [
              "\n",
              "  <div id=\"df-c00fd877-956f-4eae-9944-c3f3e49d13f6\">\n",
              "    <div class=\"colab-df-container\">\n",
              "      <div>\n",
              "<style scoped>\n",
              "    .dataframe tbody tr th:only-of-type {\n",
              "        vertical-align: middle;\n",
              "    }\n",
              "\n",
              "    .dataframe tbody tr th {\n",
              "        vertical-align: top;\n",
              "    }\n",
              "\n",
              "    .dataframe thead th {\n",
              "        text-align: right;\n",
              "    }\n",
              "</style>\n",
              "<table border=\"1\" class=\"dataframe\">\n",
              "  <thead>\n",
              "    <tr style=\"text-align: right;\">\n",
              "      <th></th>\n",
              "      <th>Units Sold</th>\n",
              "      <th>Unit Price</th>\n",
              "      <th>Unit Cost</th>\n",
              "      <th>Total Revenue</th>\n",
              "      <th>Total Cost</th>\n",
              "      <th>Total Profit</th>\n",
              "    </tr>\n",
              "  </thead>\n",
              "  <tbody>\n",
              "    <tr>\n",
              "      <th>0.25</th>\n",
              "      <td>2420.25</td>\n",
              "      <td>81.73</td>\n",
              "      <td>56.67</td>\n",
              "      <td>281191.9</td>\n",
              "      <td>164931.875</td>\n",
              "      <td>98376.12</td>\n",
              "    </tr>\n",
              "  </tbody>\n",
              "</table>\n",
              "</div>\n",
              "      <button class=\"colab-df-convert\" onclick=\"convertToInteractive('df-c00fd877-956f-4eae-9944-c3f3e49d13f6')\"\n",
              "              title=\"Convert this dataframe to an interactive table.\"\n",
              "              style=\"display:none;\">\n",
              "        \n",
              "  <svg xmlns=\"http://www.w3.org/2000/svg\" height=\"24px\"viewBox=\"0 0 24 24\"\n",
              "       width=\"24px\">\n",
              "    <path d=\"M0 0h24v24H0V0z\" fill=\"none\"/>\n",
              "    <path d=\"M18.56 5.44l.94 2.06.94-2.06 2.06-.94-2.06-.94-.94-2.06-.94 2.06-2.06.94zm-11 1L8.5 8.5l.94-2.06 2.06-.94-2.06-.94L8.5 2.5l-.94 2.06-2.06.94zm10 10l.94 2.06.94-2.06 2.06-.94-2.06-.94-.94-2.06-.94 2.06-2.06.94z\"/><path d=\"M17.41 7.96l-1.37-1.37c-.4-.4-.92-.59-1.43-.59-.52 0-1.04.2-1.43.59L10.3 9.45l-7.72 7.72c-.78.78-.78 2.05 0 2.83L4 21.41c.39.39.9.59 1.41.59.51 0 1.02-.2 1.41-.59l7.78-7.78 2.81-2.81c.8-.78.8-2.07 0-2.86zM5.41 20L4 18.59l7.72-7.72 1.47 1.35L5.41 20z\"/>\n",
              "  </svg>\n",
              "      </button>\n",
              "      \n",
              "  <style>\n",
              "    .colab-df-container {\n",
              "      display:flex;\n",
              "      flex-wrap:wrap;\n",
              "      gap: 12px;\n",
              "    }\n",
              "\n",
              "    .colab-df-convert {\n",
              "      background-color: #E8F0FE;\n",
              "      border: none;\n",
              "      border-radius: 50%;\n",
              "      cursor: pointer;\n",
              "      display: none;\n",
              "      fill: #1967D2;\n",
              "      height: 32px;\n",
              "      padding: 0 0 0 0;\n",
              "      width: 32px;\n",
              "    }\n",
              "\n",
              "    .colab-df-convert:hover {\n",
              "      background-color: #E2EBFA;\n",
              "      box-shadow: 0px 1px 2px rgba(60, 64, 67, 0.3), 0px 1px 3px 1px rgba(60, 64, 67, 0.15);\n",
              "      fill: #174EA6;\n",
              "    }\n",
              "\n",
              "    [theme=dark] .colab-df-convert {\n",
              "      background-color: #3B4455;\n",
              "      fill: #D2E3FC;\n",
              "    }\n",
              "\n",
              "    [theme=dark] .colab-df-convert:hover {\n",
              "      background-color: #434B5C;\n",
              "      box-shadow: 0px 1px 3px 1px rgba(0, 0, 0, 0.15);\n",
              "      filter: drop-shadow(0px 1px 2px rgba(0, 0, 0, 0.3));\n",
              "      fill: #FFFFFF;\n",
              "    }\n",
              "  </style>\n",
              "\n",
              "      <script>\n",
              "        const buttonEl =\n",
              "          document.querySelector('#df-c00fd877-956f-4eae-9944-c3f3e49d13f6 button.colab-df-convert');\n",
              "        buttonEl.style.display =\n",
              "          google.colab.kernel.accessAllowed ? 'block' : 'none';\n",
              "\n",
              "        async function convertToInteractive(key) {\n",
              "          const element = document.querySelector('#df-c00fd877-956f-4eae-9944-c3f3e49d13f6');\n",
              "          const dataTable =\n",
              "            await google.colab.kernel.invokeFunction('convertToInteractive',\n",
              "                                                     [key], {});\n",
              "          if (!dataTable) return;\n",
              "\n",
              "          const docLinkHtml = 'Like what you see? Visit the ' +\n",
              "            '<a target=\"_blank\" href=https://colab.research.google.com/notebooks/data_table.ipynb>data table notebook</a>'\n",
              "            + ' to learn more about interactive tables.';\n",
              "          element.innerHTML = '';\n",
              "          dataTable['output_type'] = 'display_data';\n",
              "          await google.colab.output.renderOutput(dataTable, element);\n",
              "          const docLink = document.createElement('div');\n",
              "          docLink.innerHTML = docLinkHtml;\n",
              "          element.appendChild(docLink);\n",
              "        }\n",
              "      </script>\n",
              "    </div>\n",
              "  </div>\n",
              "  "
            ]
          },
          "metadata": {},
          "execution_count": 60
        }
      ]
    },
    {
      "cell_type": "markdown",
      "source": [
        "Tứ phân vị thứ 3"
      ],
      "metadata": {
        "id": "HO8tmRFzqyvG"
      }
    },
    {
      "cell_type": "code",
      "source": [
        "df.iloc[:, 8:].quantile([0.75])"
      ],
      "metadata": {
        "colab": {
          "base_uri": "https://localhost:8080/",
          "height": 81
        },
        "id": "T9oubPSQq80e",
        "outputId": "d268cc59-5582-4e20-bad8-d68b2ef6635c"
      },
      "execution_count": null,
      "outputs": [
        {
          "output_type": "execute_result",
          "data": {
            "text/plain": [
              "      Units Sold  Unit Price  Unit Cost  Total Revenue  Total Cost  \\\n",
              "0.75     7536.75      421.89     263.33     1733502.75  1141750.09   \n",
              "\n",
              "      Total Profit  \n",
              "0.75    548456.835  "
            ],
            "text/html": [
              "\n",
              "  <div id=\"df-379f314f-e13e-462b-8667-d81825bd1f4f\">\n",
              "    <div class=\"colab-df-container\">\n",
              "      <div>\n",
              "<style scoped>\n",
              "    .dataframe tbody tr th:only-of-type {\n",
              "        vertical-align: middle;\n",
              "    }\n",
              "\n",
              "    .dataframe tbody tr th {\n",
              "        vertical-align: top;\n",
              "    }\n",
              "\n",
              "    .dataframe thead th {\n",
              "        text-align: right;\n",
              "    }\n",
              "</style>\n",
              "<table border=\"1\" class=\"dataframe\">\n",
              "  <thead>\n",
              "    <tr style=\"text-align: right;\">\n",
              "      <th></th>\n",
              "      <th>Units Sold</th>\n",
              "      <th>Unit Price</th>\n",
              "      <th>Unit Cost</th>\n",
              "      <th>Total Revenue</th>\n",
              "      <th>Total Cost</th>\n",
              "      <th>Total Profit</th>\n",
              "    </tr>\n",
              "  </thead>\n",
              "  <tbody>\n",
              "    <tr>\n",
              "      <th>0.75</th>\n",
              "      <td>7536.75</td>\n",
              "      <td>421.89</td>\n",
              "      <td>263.33</td>\n",
              "      <td>1733502.75</td>\n",
              "      <td>1141750.09</td>\n",
              "      <td>548456.835</td>\n",
              "    </tr>\n",
              "  </tbody>\n",
              "</table>\n",
              "</div>\n",
              "      <button class=\"colab-df-convert\" onclick=\"convertToInteractive('df-379f314f-e13e-462b-8667-d81825bd1f4f')\"\n",
              "              title=\"Convert this dataframe to an interactive table.\"\n",
              "              style=\"display:none;\">\n",
              "        \n",
              "  <svg xmlns=\"http://www.w3.org/2000/svg\" height=\"24px\"viewBox=\"0 0 24 24\"\n",
              "       width=\"24px\">\n",
              "    <path d=\"M0 0h24v24H0V0z\" fill=\"none\"/>\n",
              "    <path d=\"M18.56 5.44l.94 2.06.94-2.06 2.06-.94-2.06-.94-.94-2.06-.94 2.06-2.06.94zm-11 1L8.5 8.5l.94-2.06 2.06-.94-2.06-.94L8.5 2.5l-.94 2.06-2.06.94zm10 10l.94 2.06.94-2.06 2.06-.94-2.06-.94-.94-2.06-.94 2.06-2.06.94z\"/><path d=\"M17.41 7.96l-1.37-1.37c-.4-.4-.92-.59-1.43-.59-.52 0-1.04.2-1.43.59L10.3 9.45l-7.72 7.72c-.78.78-.78 2.05 0 2.83L4 21.41c.39.39.9.59 1.41.59.51 0 1.02-.2 1.41-.59l7.78-7.78 2.81-2.81c.8-.78.8-2.07 0-2.86zM5.41 20L4 18.59l7.72-7.72 1.47 1.35L5.41 20z\"/>\n",
              "  </svg>\n",
              "      </button>\n",
              "      \n",
              "  <style>\n",
              "    .colab-df-container {\n",
              "      display:flex;\n",
              "      flex-wrap:wrap;\n",
              "      gap: 12px;\n",
              "    }\n",
              "\n",
              "    .colab-df-convert {\n",
              "      background-color: #E8F0FE;\n",
              "      border: none;\n",
              "      border-radius: 50%;\n",
              "      cursor: pointer;\n",
              "      display: none;\n",
              "      fill: #1967D2;\n",
              "      height: 32px;\n",
              "      padding: 0 0 0 0;\n",
              "      width: 32px;\n",
              "    }\n",
              "\n",
              "    .colab-df-convert:hover {\n",
              "      background-color: #E2EBFA;\n",
              "      box-shadow: 0px 1px 2px rgba(60, 64, 67, 0.3), 0px 1px 3px 1px rgba(60, 64, 67, 0.15);\n",
              "      fill: #174EA6;\n",
              "    }\n",
              "\n",
              "    [theme=dark] .colab-df-convert {\n",
              "      background-color: #3B4455;\n",
              "      fill: #D2E3FC;\n",
              "    }\n",
              "\n",
              "    [theme=dark] .colab-df-convert:hover {\n",
              "      background-color: #434B5C;\n",
              "      box-shadow: 0px 1px 3px 1px rgba(0, 0, 0, 0.15);\n",
              "      filter: drop-shadow(0px 1px 2px rgba(0, 0, 0, 0.3));\n",
              "      fill: #FFFFFF;\n",
              "    }\n",
              "  </style>\n",
              "\n",
              "      <script>\n",
              "        const buttonEl =\n",
              "          document.querySelector('#df-379f314f-e13e-462b-8667-d81825bd1f4f button.colab-df-convert');\n",
              "        buttonEl.style.display =\n",
              "          google.colab.kernel.accessAllowed ? 'block' : 'none';\n",
              "\n",
              "        async function convertToInteractive(key) {\n",
              "          const element = document.querySelector('#df-379f314f-e13e-462b-8667-d81825bd1f4f');\n",
              "          const dataTable =\n",
              "            await google.colab.kernel.invokeFunction('convertToInteractive',\n",
              "                                                     [key], {});\n",
              "          if (!dataTable) return;\n",
              "\n",
              "          const docLinkHtml = 'Like what you see? Visit the ' +\n",
              "            '<a target=\"_blank\" href=https://colab.research.google.com/notebooks/data_table.ipynb>data table notebook</a>'\n",
              "            + ' to learn more about interactive tables.';\n",
              "          element.innerHTML = '';\n",
              "          dataTable['output_type'] = 'display_data';\n",
              "          await google.colab.output.renderOutput(dataTable, element);\n",
              "          const docLink = document.createElement('div');\n",
              "          docLink.innerHTML = docLinkHtml;\n",
              "          element.appendChild(docLink);\n",
              "        }\n",
              "      </script>\n",
              "    </div>\n",
              "  </div>\n",
              "  "
            ]
          },
          "metadata": {},
          "execution_count": 61
        }
      ]
    },
    {
      "cell_type": "markdown",
      "source": [
        "* Hãy vẽ biểu đồ boxplot cho tập dữ liệu định lượng này;"
      ],
      "metadata": {
        "id": "hrZhlDSDrHPY"
      }
    },
    {
      "cell_type": "code",
      "source": [
        "fig, ((ax1,ax2), (ax3,ax4), (ax5, ax6)) = plt.subplots(\n",
        "    nrows = 3,\n",
        "    ncols = 2,\n",
        "    figsize = (15,10)\n",
        ")\n",
        "ax1.boxplot(df[\"Units Sold\"]);\n",
        "ax1.set(title = \"Units Sold\");\n",
        "ax2.boxplot(df[\"Unit Price\"]);\n",
        "ax2.set(title = \"Unit Price\");\n",
        "ax3.boxplot(df[\"Unit Cost\"]);\n",
        "ax3.set(title = \"Unit Cost\");\n",
        "ax4.boxplot(df[\"Total Revenue\"]);\n",
        "ax4.set(title = \"Total Revenue\");\n",
        "ax5.boxplot(df[\"Total Cost\"]);\n",
        "ax5.set(title = \"Total Cost\");\n",
        "ax6.boxplot(df[\"Total Profit\"]);\n",
        "ax6.set(title = \"Total Profit\");"
      ],
      "metadata": {
        "colab": {
          "base_uri": "https://localhost:8080/",
          "height": 607
        },
        "id": "p9qIp3YvrKa2",
        "outputId": "e977fcd6-dc56-465f-fbe7-43a892e4212b"
      },
      "execution_count": null,
      "outputs": [
        {
          "output_type": "display_data",
          "data": {
            "text/plain": [
              "<Figure size 1080x720 with 6 Axes>"
            ],
            "image/png": "[encoded data removed]"
          },
          "metadata": {
            "needs_background": "light"
          }
        }
      ]
    },
    {
      "cell_type": "markdown",
      "source": [
        "* Hãy vẽ biểu đồ histogram (với bins = 100) cho tập dữ liệu này."
      ],
      "metadata": {
        "id": "sTr-i6l3rurT"
      }
    },
    {
      "cell_type": "code",
      "source": [
        "fig, ((ax1,ax2), (ax3,ax4), (ax5, ax6)) = plt.subplots(\n",
        "    nrows = 3,\n",
        "    ncols = 2,\n",
        "    figsize = (15,10)\n",
        ")\n",
        "ax1.hist(df[\"Units Sold\"], bins = 100);\n",
        "ax1.set(title = \"Units Sold\");\n",
        "ax2.hist(df[\"Unit Price\"], bins = 100);\n",
        "ax2.set(title = \"Unit Price\");\n",
        "ax3.hist(df[\"Unit Cost\"], bins = 100);\n",
        "ax3.set(title = \"Unit Cost\");\n",
        "ax4.hist(df[\"Total Revenue\"], bins = 100);\n",
        "ax4.set(title = \"Total Revenue\");\n",
        "ax5.hist(df[\"Total Cost\"], bins = 100);\n",
        "ax5.set(title = \"Total Cost\");\n",
        "ax6.hist(df[\"Total Profit\"], bins = 100);\n",
        "ax6.set(title = \"Total Profit\");"
      ],
      "metadata": {
        "colab": {
          "base_uri": "https://localhost:8080/",
          "height": 621
        },
        "id": "Y1bYkRTFrvaU",
        "outputId": "fc36b5cb-b302-4a82-dba1-88e0419aefa6"
      },
      "execution_count": null,
      "outputs": [
        {
          "output_type": "display_data",
          "data": {
            "text/plain": [
              "<Figure size 1080x720 with 6 Axes>"
            ],
            "image/png": "[encoded data removed]"
          },
          "metadata": {
            "needs_background": "light"
          }
        }
      ]
    },
    {
      "cell_type": "markdown",
      "source": [
        "5. Phân tích thống kê mô tả với tập dữ liệu định tính:"
      ],
      "metadata": {
        "id": "dnQuw6azwydk"
      }
    },
    {
      "cell_type": "markdown",
      "source": [
        "* Vẽ biểu đồ barplot cho tập dữ liệu này:"
      ],
      "metadata": {
        "id": "wCyY3Ep5w1MF"
      }
    },
    {
      "cell_type": "code",
      "source": [
        "df.columns"
      ],
      "metadata": {
        "colab": {
          "base_uri": "https://localhost:8080/"
        },
        "id": "O_QVfos1xJ7k",
        "outputId": "53c3c87a-7542-4390-8da3-2411286e61fc"
      },
      "execution_count": null,
      "outputs": [
        {
          "output_type": "execute_result",
          "data": {
            "text/plain": [
              "Index(['Region', 'Country', 'Item Type', 'Sales Channel', 'Order Priority',\n",
              "       'Order Date', 'Order ID', 'Ship Date', 'Units Sold', 'Unit Price',\n",
              "       'Unit Cost', 'Total Revenue', 'Total Cost', 'Total Profit'],\n",
              "      dtype='object')"
            ]
          },
          "metadata": {},
          "execution_count": 80
        }
      ]
    },
    {
      "cell_type": "code",
      "source": [
        "dict(df[\"Region\"].value_counts()).keys()"
      ],
      "metadata": {
        "colab": {
          "base_uri": "https://localhost:8080/"
        },
        "id": "9X0EQW3p0RaM",
        "outputId": "cb1bac3e-2d88-4557-e2b1-9d9f5a874d89"
      },
      "execution_count": null,
      "outputs": [
        {
          "output_type": "execute_result",
          "data": {
            "text/plain": [
              "dict_keys(['Europe', 'Sub-Saharan Africa', 'Middle East and North Africa', 'Asia', 'Central America and the Caribbean', 'Australia and Oceania', 'North America'])"
            ]
          },
          "metadata": {},
          "execution_count": 93
        }
      ]
    },
    {
      "cell_type": "code",
      "source": [
        "fig, ((ax1,ax2), (ax3,ax4), (ax5, ax6), (ax7, ax8)) = plt.subplots(\n",
        "    nrows = 4,\n",
        "    ncols = 2,\n",
        "    figsize = (30,15)\n",
        ")\n",
        "ax1.bar(dict(df[\"Region\"].value_counts()).keys(), dict(df[\"Region\"].value_counts()).values());\n",
        "ax1.set(title = \"Region\");\n",
        "ax2.bar(dict(df[\"Country\"].value_counts()).keys(), dict(df[\"Country\"].value_counts()).values());\n",
        "ax2.set(title = \"Country\");\n",
        "ax3.bar(dict(df[\"Item Type\"].value_counts()).keys(), dict(df[\"Item Type\"].value_counts()).values());\n",
        "ax3.set(title = \"Item Type\");\n",
        "ax4.bar(dict(df[\"Sales Channel\"].value_counts()).keys(), dict(df[\"Sales Channel\"].value_counts()).values());\n",
        "ax4.set(title = \"Sales Channel\");\n",
        "ax5.bar(dict(df[\"Order Priority\"].value_counts()).keys(), dict(df[\"Order Priority\"].value_counts()).values());\n",
        "ax5.set(title = \"Order Priority\");\n",
        "ax6.bar(dict(df[\"Order Date\"].value_counts()).keys(), dict(df[\"Order Date\"].value_counts()).values());\n",
        "ax6.set(title = \"Order Date\");\n",
        "ax7.bar(dict(df[\"Order ID\"].value_counts()).keys(), dict(df[\"Order ID\"].value_counts()).values());\n",
        "ax7.set(title = \"Order ID\");\n",
        "ax8.bar(dict(df[\"Ship Date\"].value_counts()).keys(), dict(df[\"Ship Date\"].value_counts()).values());\n",
        "ax8.set(title = \"Ship Date\");"
      ],
      "metadata": {
        "colab": {
          "base_uri": "https://localhost:8080/",
          "height": 824
        },
        "id": "70eO836QxNPc",
        "outputId": "1a72397f-2762-4276-e158-833347790dcf"
      },
      "execution_count": null,
      "outputs": [
        {
          "output_type": "display_data",
          "data": {
            "text/plain": [
              "<Figure size 2160x1080 with 8 Axes>"
            ],
            "image/png": "[encoded data removed]"
          },
          "metadata": {
            "needs_background": "light"
          }
        }
      ]
    },
    {
      "cell_type": "markdown",
      "source": [
        "* Vẽ biểu đồ barplot cho 15 hàng dữ liệu đầu tiên của tập dữ liệu này"
      ],
      "metadata": {
        "id": "psl3airmDemf"
      }
    },
    {
      "cell_type": "code",
      "source": [
        "fig, ((ax1,ax2), (ax3,ax4), (ax5, ax6), (ax7, ax8)) = plt.subplots(\n",
        "    nrows = 4,\n",
        "    ncols = 2,\n",
        "    figsize = (30,15)\n",
        ")\n",
        "ax1.bar(dict(df.iloc[:15, :8][\"Region\"].value_counts()).keys(), dict(df.iloc[:15, :8][\"Region\"].value_counts()).values());\n",
        "ax1.set(title = \"Region\");\n",
        "ax2.bar(dict(df.iloc[:15, :8][\"Country\"].value_counts()).keys(), dict(df.iloc[:15, :8][\"Country\"].value_counts()).values());\n",
        "ax2.set(title = \"Country\");\n",
        "ax3.bar(dict(df.iloc[:15, :8][\"Item Type\"].value_counts()).keys(), dict(df.iloc[:15, :8][\"Item Type\"].value_counts()).values());\n",
        "ax3.set(title = \"Item Type\");\n",
        "ax4.bar(dict(df.iloc[:15, :8][\"Sales Channel\"].value_counts()).keys(), dict(df.iloc[:15, :8][\"Sales Channel\"].value_counts()).values());\n",
        "ax4.set(title = \"Sales Channel\");\n",
        "ax5.bar(dict(df.iloc[:15, :8][\"Order Priority\"].value_counts()).keys(), dict(df.iloc[:15, :8][\"Order Priority\"].value_counts()).values());\n",
        "ax5.set(title = \"Order Priority\");\n",
        "ax6.bar(dict(df.iloc[:15, :8][\"Order Date\"].value_counts()).keys(), dict(df.iloc[:15, :8][\"Order Date\"].value_counts()).values());\n",
        "ax6.set(title = \"Order Date\");\n",
        "ax7.bar(dict(df.iloc[:15, :8][\"Order ID\"].value_counts()).keys(), dict(df.iloc[:15, :8][\"Order ID\"].value_counts()).values());\n",
        "ax7.set(title = \"Order ID\");\n",
        "ax8.bar(dict(df.iloc[:15, :8][\"Ship Date\"].value_counts()).keys(), dict(df.iloc[:15, :8][\"Ship Date\"].value_counts()).values());\n",
        "ax8.set(title = \"Ship Date\");"
      ],
      "metadata": {
        "colab": {
          "base_uri": "https://localhost:8080/",
          "height": 828
        },
        "id": "uy9te2YwDiK6",
        "outputId": "ef6406a2-2da5-413a-cbb8-25e55ae90a26"
      },
      "execution_count": null,
      "outputs": [
        {
          "output_type": "display_data",
          "data": {
            "text/plain": [
              "<Figure size 2160x1080 with 8 Axes>"
            ],
            "image/png": "[encoded data removed]"
          },
          "metadata": {
            "needs_background": "light"
          }
        }
      ]
    }
  ]
}