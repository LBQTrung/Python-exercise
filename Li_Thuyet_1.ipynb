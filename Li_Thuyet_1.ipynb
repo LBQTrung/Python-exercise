{
  "nbformat": 4,
  "nbformat_minor": 0,
  "metadata": {
    "colab": {
      "name": "Li_Thuyet_1.ipynb",
      "provenance": [],
      "authorship_tag": "ABX9TyN9UsuJY0zrBysmDm6wDJhA",
      "include_colab_link": true
    },
    "kernelspec": {
      "name": "python3",
      "display_name": "Python 3"
    },
    "language_info": {
      "name": "python"
    }
  },
  "cells": [
    {
      "cell_type": "markdown",
      "metadata": {
        "id": "view-in-github",
        "colab_type": "text"
      },
      "source": [
        "<a href=\"https://colab.research.google.com/github/LBQTrung/Python-exercise/blob/main/Li_Thuyet_1.ipynb\" target=\"_parent\"><img src=\"https://colab.research.google.com/assets/colab-badge.svg\" alt=\"Open In Colab\"/></a>"
      ]
    },
    {
      "cell_type": "markdown",
      "source": [
        "\n",
        "#BÀI TẬP TỰ HỌC VỀ KIỂM ĐỊNH A/B\n",
        "\n",
        "Sinh viên sử dụng tài liệu tham khảo \"Practical Statistics...\", Chương 3 để hoàn thành các yêu cầu sau."
      ],
      "metadata": {
        "id": "BaqN8AaIuh8-"
      }
    },
    {
      "cell_type": "markdown",
      "source": [
        "**Câu 1**: Trả lời các câu hỏi lý thuyết sau:\n",
        "\n",
        "\n",
        "1.   Kiểm định A/B là gì?\n",
        "2.   Thuật ngữ treatment trong ngữ cảnh của thống kê có thể dịch sang tiếng Việt không? nếu có thì là gì?\n",
        "3.   Nêu định nghĩa về treatment\n",
        "4.   Control group là gì? vai trò trong thí nghiệm của kiểm định A/B?\n",
        "5.   Treament group là gì? vai trò trong thí nghiệm của kiểm định A/B?\n",
        "6.   Hãy liệt kê một số kiểm định A/B trong thực tế?"
      ],
      "metadata": {
        "id": "Sr5HNSxpuio9"
      }
    },
    {
      "cell_type": "markdown",
      "source": [
        "Trả lời câu hỏi:"
      ],
      "metadata": {
        "id": "cTRpVGkeulQ1"
      }
    },
    {
      "cell_type": "markdown",
      "source": [
        "1. Kiểm định A/B là một phương pháp thực nghiệm với giải pháp A và B nhằm xác định cái nào hiệu quả hơn.\n",
        "\n",
        "2. Thuật ngữ treatment trong ngữ cảnh thống kê có thể dịch sang tiếng việt là giải pháp\n",
        "\n",
        "3. Treatment là sự thay đổi ảnh hưởng đến đối tượng nghiên cứu\n",
        "\n",
        "4. Control group là một nhóm các đối tượng sau khi thực hiện các giải pháp (thường không thay đổi gì mới)\n",
        "\n",
        "5. Treatment group là một nhóm các đối tượng với các giải pháp đặc biệt, tuyệt đối khác so với Control Group. Control group đưa ra baseline để từ đó thông qua Treatment Group ta dễ dàng nhận thấy được có thay đổi đáng kể gì không.\n",
        "\n",
        "6. Một số ví dụ của kiểm định A/B trong thực tế:\n",
        "- Amazon: A/B test layout của website – Full width screen vs Fixed width screen:\n",
        "\n",
        "Giải pháp A, chiều rộng của cột nội dung chính trang web sẽ được trình bày theo chiều rộng của màn hình người dùng (full width).\n",
        "\n",
        "Giải pháp B, chiều rộng của cột nội dung chính được cố định (fixed width) ở mức tối đa là 1500 pixels.\n",
        "- Netflix: A/B test nội dung nút CTA (call to action) trên landing page:\n",
        "\n",
        "Giải pháp A: “Watch free for 30 days” (Trải nghiệm miễn phí trong 30 ngày) \n",
        "\n",
        "Giải pháp B: “Try it now” (Hãy trải nghiệm ngay)."
      ],
      "metadata": {
        "id": "5aPLcr59umh9"
      }
    },
    {
      "cell_type": "markdown",
      "source": [
        "**Câu 2**: Tại sao không có kiểm định A/B/C/D?\n",
        "\n",
        "\n"
      ],
      "metadata": {
        "id": "zvWGoLa1xZMn"
      }
    },
    {
      "cell_type": "markdown",
      "source": [
        "Trả lời câu hỏi:"
      ],
      "metadata": {
        "id": "RHNlVaJfxe11"
      }
    },
    {
      "cell_type": "markdown",
      "source": [
        "Thật ra ta vẫn có thể có kiểm định A/B/C khi bạn đưa ra 3 giải pháp và tìm giải pháp tối ưu nhất và tương tự với A/B/C/D. Tuy nhiên, kiểm định A/B phổ biến hơn vì chỉ có hai tùy chọn giải pháp, có nhiều giải pháp hơn khiến cho việc thiết kế thực nghiệm trở nên phức tạp"
      ],
      "metadata": {
        "id": "nTE8c27qxgM1"
      }
    },
    {
      "cell_type": "markdown",
      "source": [
        "**Câu 3**: Lý thuyết về kiểm định giả thuyết. Trả lời các câu hỏi sau:\n",
        "\n",
        "\n",
        "1.   Nêu định nghĩa về kiểm định giả thuyết\n",
        "2.   Giả thuyết null là gì? cho ví dụ\n",
        "3.   Giả thuyết thay thế là gì? cho ví dụ\n",
        "4.   Kiểm định 1 chiều (hay 1 đuôi) là gì? cho ví dụ\n",
        "5.   Kiểm định 2 chiều (hay 2 đuôi) là gì?cho ví dụ\n",
        "6.   Nêu điểm khác biệt giữa kiểm định 1 chiều so với kiểm định 2 chiều?"
      ],
      "metadata": {
        "id": "p3tyiO2qxgPE"
      }
    },
    {
      "cell_type": "markdown",
      "source": [
        "Trả lời câu hỏi:"
      ],
      "metadata": {
        "id": "KjV9-2O7xh1V"
      }
    },
    {
      "cell_type": "markdown",
      "source": [
        "1. Kiểm định giả thuyết là quả trình thiết lập và sử dụng tiêu chuẩn thống kê để đi đến quyết định.\n",
        "2. Giả thuyết null là giả thuyết không chắc chắn sẽ xảy ra(Kí hiệu: $H_o$. Ví dụ: \"Không có sự khác biệt giữa A và B\"\n",
        "3. Giả thuyết thay thế là giả thuyết đối lập với giả thuyết null(Kí hiệu $H_a$. Ví dụ: \"Có sự khác biệt giữa A và B\"\n",
        "\n",
        "Ví dụ: Một nhà sản xuất động cơ ô tô nghiên cứu và phát triên một hệ thống phun động cơ mới nhằm tăng số dặm trên 1 gallon:\n",
        "* Giả thuyết null: \"Hệ thống phun nhiên liệu mới không làm tăng sô dặm trên 1 gallon\"\n",
        "* Giả thuyết thay thế: \"Hệ thống phun nhiên liệu mới làm tăng số dặm trên 1 gallon\"\n",
        "\n",
        "4. Kiểm định 1 chiều (hay 1 đuôi) là kiểm tra khả năng xảy ra tác động theo 1 hướng. Ví dụ:\n",
        "\n",
        ">>Một nhà sản xuất động cơ ô tô nghiên cứu và phát triên một hệ thống phun động cơ mới nhằm tăng số dặm trên 1 gallon, ta sẽ đặt giả thuyết nghiên cứu là $μ$ > 24, ta có kiểm định 1 chiều như sau:\n",
        "* $H_o: μ \\leqslant 24$ \n",
        "* $H_a: μ > 24$\n",
        "\n",
        "5. Kiểm định 2 phía (hay 2 đuôi) là kiểm tra khả năng xảy ra tác động theo 2 hướng Ví dụ:\n",
        "\n",
        "Một lô hàng được gửi đến, người thành tra chất lượng quyết định có nhập đơn hàng hay không và đã xác định nếu $μ$ = 2 thì đạt tiêu chuẩn. Ta có kiểm định 2 chiều như sau:\n",
        "* $H_o: μ = 2$ \n",
        "* $H_a: μ \\ne 2$\n",
        "\n",
        "Ta cũng có thể chia thành 2 như sau:\n",
        "* $H_o: μ = 2$\n",
        "* $H_a: μ > 2$ \n",
        "\n",
        "Hoặc\n",
        "* $H_o: μ = 2$\n",
        "* $H_a: μ < 2$ \n",
        "\n",
        "\n",
        "6. Điểm khác biệt giữa kiểm định 1 chiều và 2 chiều:"
      ],
      "metadata": {
        "id": "n_bxB2ZucPBh"
      }
    },
    {
      "cell_type": "markdown",
      "source": [
        "**Câu 4**: Lý thuyết về lấy mẫu (sampling). \n",
        "\n",
        "\n",
        "1.   Sampling là gì? cho ví dụ\n",
        "2.   Resampling là gì? cho ví dụ?\n",
        "3.   Hãy mô tả kỹ thuật permutation (hoặc quy trình của permutation test)? Xây dựng đoạn code lập trình permutation test"
      ],
      "metadata": {
        "id": "p9rVghG6xjP9"
      }
    },
    {
      "cell_type": "markdown",
      "source": [
        "Trả lời câu hỏi:"
      ],
      "metadata": {
        "id": "SWCdMxyCxlI1"
      }
    },
    {
      "cell_type": "markdown",
      "source": [
        "1. Sampling là việc tạo ra một tập hợp các quan sát được thu thập từ một quần thể thống kê theo một quy tắc nhất định.\n",
        "\n",
        ">>Ví dụ: Ta có tập dữ liệu của 2500 nhà quản lí. Ta tiến hành lấy 30 nhà quản lí từ tập dữ liệu để ước lượng về mức lương trung bình \n",
        "\n",
        "2. Resampling là việc lặp lại việc lấy mẫu giúp nâng cao hiệu quả sử dụng dữ liệu\n",
        "\n",
        ">>Ví dụ: Ta có tập dữ liệu của 2500 nhà quản lí. Ta tiến hành lấy 30 nhà quản lí từ tập dữ liệu để ước lượng về mức lương trung bình. Ta không chắc chắn là ước lượng đó đáng tin cậy nên ta tiếp tục lấy mẫu 30 nhà quản lí tiếp theo.\n",
        "\n",
        "3. Mô tả kĩ thuật permutation (hoán vị):\n",
        "* Tổng hợp các kết quả từ các nhóm khác nhau thành một tập duy nhất\n",
        "* Từ tập dữ liệu đó chọn ngẫu nhiên (không hoàn lại) một mẫu có cùng kích thước với nhóm A\n",
        "* Từ tập dữ liệu sau khi lấy A trên tiếp tục lấy ngẫu nhiên (không hoàn lại) một mẫu có cùng kích thước với nhóm B\n",
        "* Tương tự với các nhóm còn lại, bây giờ ta đã có những nhóm mới có cùng kích thước với các nhóm ban đầu nhưng đã được hoán vị\n",
        "* Tính những thống kê, ước lượng đá được tính toán cho dữ liệu ban đầu cho các hoán vị và ghi lại các kết quả.\n",
        "* Lập lại các bước đó nhiều lần để thu được phân phối hoán vị"
      ],
      "metadata": {
        "id": "_YYTBGjVTMFb"
      }
    },
    {
      "cell_type": "markdown",
      "source": [
        "Xây dựng đoạn code lập trình permutation test:"
      ],
      "metadata": {
        "id": "J2MATNodFpZZ"
      }
    },
    {
      "cell_type": "markdown",
      "source": [
        "Import các thư viện cần thiết:"
      ],
      "metadata": {
        "id": "03VlSaeWG3ba"
      }
    },
    {
      "cell_type": "code",
      "source": [
        "import pandas as pd\n",
        "import matplotlib.pyplot as plt\n",
        "import numpy as np\n",
        "import random"
      ],
      "metadata": {
        "id": "0dOrWd_yF5_2"
      },
      "execution_count": 18,
      "outputs": []
    },
    {
      "cell_type": "markdown",
      "source": [
        "Đọc dữ liệu từ file csv:"
      ],
      "metadata": {
        "id": "WRbjqHM9G9vi"
      }
    },
    {
      "cell_type": "code",
      "source": [
        "df = pd.read_csv(\"web_page_data.csv\")"
      ],
      "metadata": {
        "id": "4EK_dDcJHCAJ"
      },
      "execution_count": 4,
      "outputs": []
    },
    {
      "cell_type": "markdown",
      "source": [
        "Hiển thị một vài thông số của tập dữ liệu:"
      ],
      "metadata": {
        "id": "AQejiiCfHDsQ"
      }
    },
    {
      "cell_type": "code",
      "source": [
        "df.head()"
      ],
      "metadata": {
        "colab": {
          "base_uri": "https://localhost:8080/",
          "height": 206
        },
        "id": "9zusvLduHItE",
        "outputId": "5859b4a8-5615-4263-c286-6a1e0d47b7eb"
      },
      "execution_count": 5,
      "outputs": [
        {
          "output_type": "execute_result",
          "data": {
            "text/plain": [
              "     Page  Time\n",
              "0  Page A  0.21\n",
              "1  Page B  2.53\n",
              "2  Page A  0.35\n",
              "3  Page B  0.71\n",
              "4  Page A  0.67"
            ],
            "text/html": [
              "\n",
              "  <div id=\"df-b4139542-1d63-47e6-bd2f-69fc3da7adc2\">\n",
              "    <div class=\"colab-df-container\">\n",
              "      <div>\n",
              "<style scoped>\n",
              "    .dataframe tbody tr th:only-of-type {\n",
              "        vertical-align: middle;\n",
              "    }\n",
              "\n",
              "    .dataframe tbody tr th {\n",
              "        vertical-align: top;\n",
              "    }\n",
              "\n",
              "    .dataframe thead th {\n",
              "        text-align: right;\n",
              "    }\n",
              "</style>\n",
              "<table border=\"1\" class=\"dataframe\">\n",
              "  <thead>\n",
              "    <tr style=\"text-align: right;\">\n",
              "      <th></th>\n",
              "      <th>Page</th>\n",
              "      <th>Time</th>\n",
              "    </tr>\n",
              "  </thead>\n",
              "  <tbody>\n",
              "    <tr>\n",
              "      <th>0</th>\n",
              "      <td>Page A</td>\n",
              "      <td>0.21</td>\n",
              "    </tr>\n",
              "    <tr>\n",
              "      <th>1</th>\n",
              "      <td>Page B</td>\n",
              "      <td>2.53</td>\n",
              "    </tr>\n",
              "    <tr>\n",
              "      <th>2</th>\n",
              "      <td>Page A</td>\n",
              "      <td>0.35</td>\n",
              "    </tr>\n",
              "    <tr>\n",
              "      <th>3</th>\n",
              "      <td>Page B</td>\n",
              "      <td>0.71</td>\n",
              "    </tr>\n",
              "    <tr>\n",
              "      <th>4</th>\n",
              "      <td>Page A</td>\n",
              "      <td>0.67</td>\n",
              "    </tr>\n",
              "  </tbody>\n",
              "</table>\n",
              "</div>\n",
              "      <button class=\"colab-df-convert\" onclick=\"convertToInteractive('df-b4139542-1d63-47e6-bd2f-69fc3da7adc2')\"\n",
              "              title=\"Convert this dataframe to an interactive table.\"\n",
              "              style=\"display:none;\">\n",
              "        \n",
              "  <svg xmlns=\"http://www.w3.org/2000/svg\" height=\"24px\"viewBox=\"0 0 24 24\"\n",
              "       width=\"24px\">\n",
              "    <path d=\"M0 0h24v24H0V0z\" fill=\"none\"/>\n",
              "    <path d=\"M18.56 5.44l.94 2.06.94-2.06 2.06-.94-2.06-.94-.94-2.06-.94 2.06-2.06.94zm-11 1L8.5 8.5l.94-2.06 2.06-.94-2.06-.94L8.5 2.5l-.94 2.06-2.06.94zm10 10l.94 2.06.94-2.06 2.06-.94-2.06-.94-.94-2.06-.94 2.06-2.06.94z\"/><path d=\"M17.41 7.96l-1.37-1.37c-.4-.4-.92-.59-1.43-.59-.52 0-1.04.2-1.43.59L10.3 9.45l-7.72 7.72c-.78.78-.78 2.05 0 2.83L4 21.41c.39.39.9.59 1.41.59.51 0 1.02-.2 1.41-.59l7.78-7.78 2.81-2.81c.8-.78.8-2.07 0-2.86zM5.41 20L4 18.59l7.72-7.72 1.47 1.35L5.41 20z\"/>\n",
              "  </svg>\n",
              "      </button>\n",
              "      \n",
              "  <style>\n",
              "    .colab-df-container {\n",
              "      display:flex;\n",
              "      flex-wrap:wrap;\n",
              "      gap: 12px;\n",
              "    }\n",
              "\n",
              "    .colab-df-convert {\n",
              "      background-color: #E8F0FE;\n",
              "      border: none;\n",
              "      border-radius: 50%;\n",
              "      cursor: pointer;\n",
              "      display: none;\n",
              "      fill: #1967D2;\n",
              "      height: 32px;\n",
              "      padding: 0 0 0 0;\n",
              "      width: 32px;\n",
              "    }\n",
              "\n",
              "    .colab-df-convert:hover {\n",
              "      background-color: #E2EBFA;\n",
              "      box-shadow: 0px 1px 2px rgba(60, 64, 67, 0.3), 0px 1px 3px 1px rgba(60, 64, 67, 0.15);\n",
              "      fill: #174EA6;\n",
              "    }\n",
              "\n",
              "    [theme=dark] .colab-df-convert {\n",
              "      background-color: #3B4455;\n",
              "      fill: #D2E3FC;\n",
              "    }\n",
              "\n",
              "    [theme=dark] .colab-df-convert:hover {\n",
              "      background-color: #434B5C;\n",
              "      box-shadow: 0px 1px 3px 1px rgba(0, 0, 0, 0.15);\n",
              "      filter: drop-shadow(0px 1px 2px rgba(0, 0, 0, 0.3));\n",
              "      fill: #FFFFFF;\n",
              "    }\n",
              "  </style>\n",
              "\n",
              "      <script>\n",
              "        const buttonEl =\n",
              "          document.querySelector('#df-b4139542-1d63-47e6-bd2f-69fc3da7adc2 button.colab-df-convert');\n",
              "        buttonEl.style.display =\n",
              "          google.colab.kernel.accessAllowed ? 'block' : 'none';\n",
              "\n",
              "        async function convertToInteractive(key) {\n",
              "          const element = document.querySelector('#df-b4139542-1d63-47e6-bd2f-69fc3da7adc2');\n",
              "          const dataTable =\n",
              "            await google.colab.kernel.invokeFunction('convertToInteractive',\n",
              "                                                     [key], {});\n",
              "          if (!dataTable) return;\n",
              "\n",
              "          const docLinkHtml = 'Like what you see? Visit the ' +\n",
              "            '<a target=\"_blank\" href=https://colab.research.google.com/notebooks/data_table.ipynb>data table notebook</a>'\n",
              "            + ' to learn more about interactive tables.';\n",
              "          element.innerHTML = '';\n",
              "          dataTable['output_type'] = 'display_data';\n",
              "          await google.colab.output.renderOutput(dataTable, element);\n",
              "          const docLink = document.createElement('div');\n",
              "          docLink.innerHTML = docLinkHtml;\n",
              "          element.appendChild(docLink);\n",
              "        }\n",
              "      </script>\n",
              "    </div>\n",
              "  </div>\n",
              "  "
            ]
          },
          "metadata": {},
          "execution_count": 5
        }
      ]
    },
    {
      "cell_type": "code",
      "source": [
        "df.describe()"
      ],
      "metadata": {
        "colab": {
          "base_uri": "https://localhost:8080/",
          "height": 300
        },
        "id": "4qWGiIgVHKbs",
        "outputId": "67c761a0-b205-4759-9d55-4c2ff3bbc21f"
      },
      "execution_count": 6,
      "outputs": [
        {
          "output_type": "execute_result",
          "data": {
            "text/plain": [
              "            Time\n",
              "count  36.000000\n",
              "mean    1.411944\n",
              "std     0.942407\n",
              "min     0.210000\n",
              "25%     0.702500\n",
              "50%     1.180000\n",
              "75%     1.992500\n",
              "max     3.570000"
            ],
            "text/html": [
              "\n",
              "  <div id=\"df-a2d3aed4-5c12-45d0-baa1-d181108d393b\">\n",
              "    <div class=\"colab-df-container\">\n",
              "      <div>\n",
              "<style scoped>\n",
              "    .dataframe tbody tr th:only-of-type {\n",
              "        vertical-align: middle;\n",
              "    }\n",
              "\n",
              "    .dataframe tbody tr th {\n",
              "        vertical-align: top;\n",
              "    }\n",
              "\n",
              "    .dataframe thead th {\n",
              "        text-align: right;\n",
              "    }\n",
              "</style>\n",
              "<table border=\"1\" class=\"dataframe\">\n",
              "  <thead>\n",
              "    <tr style=\"text-align: right;\">\n",
              "      <th></th>\n",
              "      <th>Time</th>\n",
              "    </tr>\n",
              "  </thead>\n",
              "  <tbody>\n",
              "    <tr>\n",
              "      <th>count</th>\n",
              "      <td>36.000000</td>\n",
              "    </tr>\n",
              "    <tr>\n",
              "      <th>mean</th>\n",
              "      <td>1.411944</td>\n",
              "    </tr>\n",
              "    <tr>\n",
              "      <th>std</th>\n",
              "      <td>0.942407</td>\n",
              "    </tr>\n",
              "    <tr>\n",
              "      <th>min</th>\n",
              "      <td>0.210000</td>\n",
              "    </tr>\n",
              "    <tr>\n",
              "      <th>25%</th>\n",
              "      <td>0.702500</td>\n",
              "    </tr>\n",
              "    <tr>\n",
              "      <th>50%</th>\n",
              "      <td>1.180000</td>\n",
              "    </tr>\n",
              "    <tr>\n",
              "      <th>75%</th>\n",
              "      <td>1.992500</td>\n",
              "    </tr>\n",
              "    <tr>\n",
              "      <th>max</th>\n",
              "      <td>3.570000</td>\n",
              "    </tr>\n",
              "  </tbody>\n",
              "</table>\n",
              "</div>\n",
              "      <button class=\"colab-df-convert\" onclick=\"convertToInteractive('df-a2d3aed4-5c12-45d0-baa1-d181108d393b')\"\n",
              "              title=\"Convert this dataframe to an interactive table.\"\n",
              "              style=\"display:none;\">\n",
              "        \n",
              "  <svg xmlns=\"http://www.w3.org/2000/svg\" height=\"24px\"viewBox=\"0 0 24 24\"\n",
              "       width=\"24px\">\n",
              "    <path d=\"M0 0h24v24H0V0z\" fill=\"none\"/>\n",
              "    <path d=\"M18.56 5.44l.94 2.06.94-2.06 2.06-.94-2.06-.94-.94-2.06-.94 2.06-2.06.94zm-11 1L8.5 8.5l.94-2.06 2.06-.94-2.06-.94L8.5 2.5l-.94 2.06-2.06.94zm10 10l.94 2.06.94-2.06 2.06-.94-2.06-.94-.94-2.06-.94 2.06-2.06.94z\"/><path d=\"M17.41 7.96l-1.37-1.37c-.4-.4-.92-.59-1.43-.59-.52 0-1.04.2-1.43.59L10.3 9.45l-7.72 7.72c-.78.78-.78 2.05 0 2.83L4 21.41c.39.39.9.59 1.41.59.51 0 1.02-.2 1.41-.59l7.78-7.78 2.81-2.81c.8-.78.8-2.07 0-2.86zM5.41 20L4 18.59l7.72-7.72 1.47 1.35L5.41 20z\"/>\n",
              "  </svg>\n",
              "      </button>\n",
              "      \n",
              "  <style>\n",
              "    .colab-df-container {\n",
              "      display:flex;\n",
              "      flex-wrap:wrap;\n",
              "      gap: 12px;\n",
              "    }\n",
              "\n",
              "    .colab-df-convert {\n",
              "      background-color: #E8F0FE;\n",
              "      border: none;\n",
              "      border-radius: 50%;\n",
              "      cursor: pointer;\n",
              "      display: none;\n",
              "      fill: #1967D2;\n",
              "      height: 32px;\n",
              "      padding: 0 0 0 0;\n",
              "      width: 32px;\n",
              "    }\n",
              "\n",
              "    .colab-df-convert:hover {\n",
              "      background-color: #E2EBFA;\n",
              "      box-shadow: 0px 1px 2px rgba(60, 64, 67, 0.3), 0px 1px 3px 1px rgba(60, 64, 67, 0.15);\n",
              "      fill: #174EA6;\n",
              "    }\n",
              "\n",
              "    [theme=dark] .colab-df-convert {\n",
              "      background-color: #3B4455;\n",
              "      fill: #D2E3FC;\n",
              "    }\n",
              "\n",
              "    [theme=dark] .colab-df-convert:hover {\n",
              "      background-color: #434B5C;\n",
              "      box-shadow: 0px 1px 3px 1px rgba(0, 0, 0, 0.15);\n",
              "      filter: drop-shadow(0px 1px 2px rgba(0, 0, 0, 0.3));\n",
              "      fill: #FFFFFF;\n",
              "    }\n",
              "  </style>\n",
              "\n",
              "      <script>\n",
              "        const buttonEl =\n",
              "          document.querySelector('#df-a2d3aed4-5c12-45d0-baa1-d181108d393b button.colab-df-convert');\n",
              "        buttonEl.style.display =\n",
              "          google.colab.kernel.accessAllowed ? 'block' : 'none';\n",
              "\n",
              "        async function convertToInteractive(key) {\n",
              "          const element = document.querySelector('#df-a2d3aed4-5c12-45d0-baa1-d181108d393b');\n",
              "          const dataTable =\n",
              "            await google.colab.kernel.invokeFunction('convertToInteractive',\n",
              "                                                     [key], {});\n",
              "          if (!dataTable) return;\n",
              "\n",
              "          const docLinkHtml = 'Like what you see? Visit the ' +\n",
              "            '<a target=\"_blank\" href=https://colab.research.google.com/notebooks/data_table.ipynb>data table notebook</a>'\n",
              "            + ' to learn more about interactive tables.';\n",
              "          element.innerHTML = '';\n",
              "          dataTable['output_type'] = 'display_data';\n",
              "          await google.colab.output.renderOutput(dataTable, element);\n",
              "          const docLink = document.createElement('div');\n",
              "          docLink.innerHTML = docLinkHtml;\n",
              "          element.appendChild(docLink);\n",
              "        }\n",
              "      </script>\n",
              "    </div>\n",
              "  </div>\n",
              "  "
            ]
          },
          "metadata": {},
          "execution_count": 6
        }
      ]
    },
    {
      "cell_type": "code",
      "source": [
        "ax = df.boxplot(by='Page', column='Time')\n",
        "ax.set_xlabel('')\n",
        "ax.set_ylabel('Time (in seconds)')\n",
        "plt.suptitle('')"
      ],
      "metadata": {
        "colab": {
          "base_uri": "https://localhost:8080/",
          "height": 334
        },
        "id": "LHprmJXGHQSj",
        "outputId": "0354073f-3f9e-44fe-8503-b23e8ca944fe"
      },
      "execution_count": 8,
      "outputs": [
        {
          "output_type": "stream",
          "name": "stderr",
          "text": [
            "/usr/local/lib/python3.7/dist-packages/matplotlib/cbook/__init__.py:1376: VisibleDeprecationWarning: Creating an ndarray from ragged nested sequences (which is a list-or-tuple of lists-or-tuples-or ndarrays with different lengths or shapes) is deprecated. If you meant to do this, you must specify 'dtype=object' when creating the ndarray.\n",
            "  X = np.atleast_1d(X.T if isinstance(X, np.ndarray) else np.asarray(X))\n"
          ]
        },
        {
          "output_type": "display_data",
          "data": {
            "text/plain": [
              "<Figure size 432x288 with 1 Axes>"
            ],
            "image/png": "[encoded data removed]"
          },
          "metadata": {
            "needs_background": "light"
          }
        }
      ]
    },
    {
      "cell_type": "markdown",
      "source": [
        "Ta tính trung bình thời gian vào page A:"
      ],
      "metadata": {
        "id": "HLVQ9atpHwps"
      }
    },
    {
      "cell_type": "code",
      "source": [
        "mean_a = df[df.Page == 'Page A'].Time.mean()\n",
        "mean_a"
      ],
      "metadata": {
        "colab": {
          "base_uri": "https://localhost:8080/"
        },
        "id": "hw7Woi4XH3Ph",
        "outputId": "9ab36369-138c-46ab-e05a-cdbcda1006d2"
      },
      "execution_count": 10,
      "outputs": [
        {
          "output_type": "execute_result",
          "data": {
            "text/plain": [
              "1.263333333333333"
            ]
          },
          "metadata": {},
          "execution_count": 10
        }
      ]
    },
    {
      "cell_type": "markdown",
      "source": [
        "Ta tính trung bình thời gian vào page B:"
      ],
      "metadata": {
        "id": "PeIFwo8vH9uD"
      }
    },
    {
      "cell_type": "code",
      "source": [
        "mean_b = df[df.Page == 'Page B'].Time.mean()\n",
        "mean_b"
      ],
      "metadata": {
        "colab": {
          "base_uri": "https://localhost:8080/"
        },
        "id": "QbAS9zJ9H_HD",
        "outputId": "0c4951c8-f726-4a88-bef2-9a2cf87990ad"
      },
      "execution_count": 11,
      "outputs": [
        {
          "output_type": "execute_result",
          "data": {
            "text/plain": [
              "1.62"
            ]
          },
          "metadata": {},
          "execution_count": 11
        }
      ]
    },
    {
      "cell_type": "markdown",
      "source": [
        "Hiệu thời gian b so với a:"
      ],
      "metadata": {
        "id": "uBEzLhlFICr7"
      }
    },
    {
      "cell_type": "code",
      "source": [
        "mean_b - mean_a"
      ],
      "metadata": {
        "colab": {
          "base_uri": "https://localhost:8080/"
        },
        "id": "KqAFg-26IGjJ",
        "outputId": "a6ca4680-43e9-4f90-f00c-87e9409154b0"
      },
      "execution_count": 12,
      "outputs": [
        {
          "output_type": "execute_result",
          "data": {
            "text/plain": [
              "0.35666666666666713"
            ]
          },
          "metadata": {},
          "execution_count": 12
        }
      ]
    },
    {
      "cell_type": "markdown",
      "source": [
        "Ta tiến hành xây dựng hàm thực hiện permutation test như sau:"
      ],
      "metadata": {
        "id": "E5AkGWkxIL6V"
      }
    },
    {
      "cell_type": "code",
      "source": [
        "def perm_fun(x, nA, nB):\n",
        " n = nA + nB\n",
        " idx_B = set(random.sample(range(n), nB))\n",
        " idx_A = set(range(n)) - idx_B\n",
        " return x.loc[idx_B].mean() - x.loc[idx_A].mean()"
      ],
      "metadata": {
        "id": "FTs9mEsLIQyB"
      },
      "execution_count": 14,
      "outputs": []
    },
    {
      "cell_type": "code",
      "source": [
        "perm_diffs = [perm_fun(df.Time, 21, 15) for _ in range(1000)]\n",
        "fig, ax = plt.subplots(figsize=(5, 5))\n",
        "ax.hist(perm_diffs, bins=11, rwidth=0.9)\n",
        "ax.axvline(x = mean_b - mean_a, color='black', lw=2)\n",
        "ax.text(50, 190, 'Observed\\ndifference', bbox={'facecolor':'white'})\n",
        "ax.set_xlabel('Session time differences (in seconds)')\n",
        "ax.set_ylabel('Frequency')"
      ],
      "metadata": {
        "colab": {
          "base_uri": "https://localhost:8080/",
          "height": 371
        },
        "id": "owBzZvxXIpUV",
        "outputId": "3331e7e9-db38-4291-e6af-fb23a61cc00c"
      },
      "execution_count": 22,
      "outputs": [
        {
          "output_type": "execute_result",
          "data": {
            "text/plain": [
              "Text(0, 0.5, 'Frequency')"
            ]
          },
          "metadata": {},
          "execution_count": 22
        },
        {
          "output_type": "display_data",
          "data": {
            "text/plain": [
              "<Figure size 360x360 with 1 Axes>"
            ],
            "image/png": "[encoded data removed]"
          },
          "metadata": {
            "needs_background": "light"
          }
        }
      ]
    }
  ]
}