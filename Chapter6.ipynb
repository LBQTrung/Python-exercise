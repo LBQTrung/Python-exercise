{
  "nbformat": 4,
  "nbformat_minor": 0,
  "metadata": {
    "colab": {
      "name": "Chapter6.ipynb",
      "provenance": [],
      "collapsed_sections": [],
      "include_colab_link": true
    },
    "kernelspec": {
      "name": "python3",
      "display_name": "Python 3"
    },
    "language_info": {
      "name": "python"
    }
  },
  "cells": [
    {
      "cell_type": "markdown",
      "metadata": {
        "id": "view-in-github",
        "colab_type": "text"
      },
      "source": [
        "<a href=\"https://colab.research.google.com/github/LBQTrung/Python-exercise/blob/main/Chapter6.ipynb\" target=\"_parent\"><img src=\"https://colab.research.google.com/assets/colab-badge.svg\" alt=\"Open In Colab\"/></a>"
      ]
    },
    {
      "cell_type": "code",
      "execution_count": null,
      "metadata": {
        "id": "eAnSWnn7F8w8"
      },
      "outputs": [],
      "source": [
        "import numpy as np\n",
        "import pandas as pd\n",
        "import matplotlib.pyplot as plt\n",
        "import scipy.stats as stats\n",
        "import math\n",
        "import random\n",
        "from collections import Counter"
      ]
    },
    {
      "cell_type": "markdown",
      "source": [
        "**6.1. Hàm khối lượng xác suất và hàm phân phối tích luỹ**"
      ],
      "metadata": {
        "id": "L5Q3Hb6xukXU"
      }
    },
    {
      "cell_type": "code",
      "source": [
        "p = np.array([0.25, 0.5, 0.25])\n",
        "x = np.array([0, 1, 4])\n",
        "# Tinh CDF:\n",
        "F = np.cumsum(p)\n",
        "plt.stem(x,p,use_line_collection=True);\n",
        "plt.show()\n",
        "plt.step(x,F); plt.show()"
      ],
      "metadata": {
        "id": "K1g7JRkFJ49Y",
        "colab": {
          "base_uri": "https://localhost:8080/",
          "height": 513
        },
        "outputId": "bfdd57bd-5ada-4f63-9ac4-5b41929a6524"
      },
      "execution_count": null,
      "outputs": [
        {
          "output_type": "display_data",
          "data": {
            "text/plain": [
              "<Figure size 432x288 with 1 Axes>"
            ],
            "image/png": "[encoded data removed]"
          },
          "metadata": {
            "needs_background": "light"
          }
        },
        {
          "output_type": "display_data",
          "data": {
            "text/plain": [
              "<Figure size 432x288 with 1 Axes>"
            ],
            "image/png": "[encoded data removed]"
          },
          "metadata": {
            "needs_background": "light"
          }
        }
      ]
    },
    {
      "cell_type": "markdown",
      "source": [
        "**Minh hoạ về giá trị kỳ vọng**"
      ],
      "metadata": {
        "id": "YX_wCXtU33nd"
      }
    },
    {
      "cell_type": "code",
      "source": [
        "# Python code to compute the mean of a dataset\n",
        "import numpy as np\n",
        "X = np.random.rand(10000)\n",
        "mX = np.mean(X)\n",
        "# Python code to compute the expectation\n",
        "import numpy as np\n",
        "p = np.array([0.25, 0.5, 0.25])\n",
        "x = np.array([0, 1, 2])\n",
        "EX = np.sum(p*x)\n",
        "print(EX)"
      ],
      "metadata": {
        "colab": {
          "base_uri": "https://localhost:8080/"
        },
        "id": "-K1jHiJx36Bt",
        "outputId": "e373b2e7-ac0c-44ce-aef2-d46f1f0744f7"
      },
      "execution_count": null,
      "outputs": [
        {
          "output_type": "stream",
          "name": "stdout",
          "text": [
            "1.0\n"
          ]
        }
      ]
    },
    {
      "cell_type": "markdown",
      "source": [
        "**Tính xấp xỉ tổng vô hạn**"
      ],
      "metadata": {
        "id": "NHURGSeJ4LV1"
      }
    },
    {
      "cell_type": "code",
      "source": [
        "import numpy as np\n",
        "k = np.arange(100)\n",
        "p = np.power(0.5,k)\n",
        "EX = np.sum(p*k)\n",
        "print(EX)"
      ],
      "metadata": {
        "colab": {
          "base_uri": "https://localhost:8080/"
        },
        "id": "LcKdI2024N31",
        "outputId": "c73c7adc-2c1d-4fd4-b889-e4259c870ebb"
      },
      "execution_count": null,
      "outputs": [
        {
          "output_type": "stream",
          "name": "stdout",
          "text": [
            "2.0\n"
          ]
        }
      ]
    },
    {
      "cell_type": "markdown",
      "source": [
        "**Minh hoạ về phương sai**"
      ],
      "metadata": {
        "id": "UMCx6K2l4Rgk"
      }
    },
    {
      "cell_type": "code",
      "source": [
        "# Python code to compute the variance\n",
        "import numpy as np\n",
        "X = np.random.rand(10000)\n",
        "vX = np.var(X)\n",
        "print('vX: ',vX)\n",
        "sX = np.std(X)\n",
        "print('sX: ', sX)"
      ],
      "metadata": {
        "colab": {
          "base_uri": "https://localhost:8080/"
        },
        "id": "BLpNcD_r4S6V",
        "outputId": "ccf402aa-9c34-443b-c601-55ed4ca67915"
      },
      "execution_count": null,
      "outputs": [
        {
          "output_type": "stream",
          "name": "stdout",
          "text": [
            "vX:  0.08274358562746414\n",
            "sX:  0.2876518479472436\n"
          ]
        }
      ]
    },
    {
      "cell_type": "markdown",
      "source": [
        "**6.2. Một số phân phối xác suất quan trọng trong thống kê**"
      ],
      "metadata": {
        "id": "tAjzLYu0GRFF"
      }
    },
    {
      "cell_type": "markdown",
      "source": [
        "**Biến ngẫu nhiên Bernoulli**"
      ],
      "metadata": {
        "id": "LNI7hAos4fmd"
      }
    },
    {
      "cell_type": "code",
      "source": [
        "# Python code to generate 1000 Bernoulli random variables\n",
        "import numpy as np\n",
        "import matplotlib.pyplot as plt\n",
        "p = 0.5\n",
        "n = 1\n",
        "X = np.random.binomial(n,p,size=1000)\n",
        "plt.hist(X,bins='auto')\n",
        "plt.show()"
      ],
      "metadata": {
        "colab": {
          "base_uri": "https://localhost:8080/",
          "height": 265
        },
        "id": "5VcuaaVv4iJW",
        "outputId": "43abc5ab-6996-4bf5-d914-e2fba7bbb277"
      },
      "execution_count": null,
      "outputs": [
        {
          "output_type": "display_data",
          "data": {
            "text/plain": [
              "<Figure size 432x288 with 1 Axes>"
            ],
            "image/png": "[encoded data removed]"
          },
          "metadata": {
            "needs_background": "light"
          }
        }
      ]
    },
    {
      "cell_type": "markdown",
      "source": [
        "Trong Python có thể gọi phương thức stats.bernoulli.rvs() của thư viện scipy, để\n",
        "tạo dãy Bernoulli ngẫu nhiên."
      ],
      "metadata": {
        "id": "gM3RWSUa4nDd"
      }
    },
    {
      "cell_type": "code",
      "source": [
        "# Python code to call scipy.stats library\n",
        "p = 0.5\n",
        "X = stats.bernoulli.rvs(p,size=1000)\n",
        "plt.hist(X,bins='auto')\n",
        "plt.show()"
      ],
      "metadata": {
        "colab": {
          "base_uri": "https://localhost:8080/",
          "height": 265
        },
        "id": "_Cu11qYj4q6u",
        "outputId": "2dfb1fd5-78c3-4510-bcf9-a4cdd7ba83c1"
      },
      "execution_count": null,
      "outputs": [
        {
          "output_type": "display_data",
          "data": {
            "text/plain": [
              "<Figure size 432x288 with 1 Axes>"
            ],
            "image/png": "[encoded data removed]"
          },
          "metadata": {
            "needs_background": "light"
          }
        }
      ]
    },
    {
      "cell_type": "markdown",
      "source": [
        "**Khởi tạo Bernouli Object:**"
      ],
      "metadata": {
        "id": "MyTw5HNs49S4"
      }
    },
    {
      "cell_type": "code",
      "source": [
        "p = 0.5\n",
        "rv = stats.bernoulli(p)\n",
        "mean, var = rv.stats(moments='mv')\n",
        "print(mean, var)"
      ],
      "metadata": {
        "colab": {
          "base_uri": "https://localhost:8080/"
        },
        "id": "Ntd_wYST5C5G",
        "outputId": "3ed8c5b8-9fd6-4fd0-f39f-eb94acbf15de"
      },
      "execution_count": null,
      "outputs": [
        {
          "output_type": "stream",
          "name": "stdout",
          "text": [
            "0.5 0.25\n"
          ]
        }
      ]
    },
    {
      "cell_type": "markdown",
      "source": [
        "Tính hàm khối xác suất PMF của nó là\n",
        "rv.pmf():"
      ],
      "metadata": {
        "id": "r3v3GoKH5K4d"
      }
    },
    {
      "cell_type": "markdown",
      "source": [
        "**Đồ thị PMF của biến ngẫu nhiên có phân phối Bernoulli**"
      ],
      "metadata": {
        "id": "SVi7PJrY5XBX"
      }
    },
    {
      "cell_type": "code",
      "source": [
        "# Python code to plot the PMF of a Bernoulli\n",
        "import numpy as np\n",
        "import matplotlib.pyplot as plt\n",
        "import scipy.stats as stats\n",
        "p = 0.3\n",
        "rv = stats.bernoulli(p)\n",
        "x = np.linspace(0, 1, 2)\n",
        "f = rv.pmf(x)\n",
        "plt.plot(x, f, 'bo', ms=10)\n",
        "plt.vlines(x, 0, f, colors='b', lw=5, alpha=0.5)"
      ],
      "metadata": {
        "colab": {
          "base_uri": "https://localhost:8080/",
          "height": 282
        },
        "id": "GIRETxnl5OVW",
        "outputId": "a9c9e82d-ee14-42c0-d311-25a450212b68"
      },
      "execution_count": null,
      "outputs": [
        {
          "output_type": "execute_result",
          "data": {
            "text/plain": [
              "<matplotlib.collections.LineCollection at 0x7f3dbe017e50>"
            ]
          },
          "metadata": {},
          "execution_count": 18
        },
        {
          "output_type": "display_data",
          "data": {
            "text/plain": [
              "<Figure size 432x288 with 1 Axes>"
            ],
            "image/png": "[encoded data removed]"
          },
          "metadata": {
            "needs_background": "light"
          }
        }
      ]
    },
    {
      "cell_type": "code",
      "source": [
        ""
      ],
      "metadata": {
        "id": "Nbwnwh1K5AYe"
      },
      "execution_count": null,
      "outputs": []
    },
    {
      "cell_type": "markdown",
      "source": [
        "**6.3. Biến ngẫu nhiên nhị thức**"
      ],
      "metadata": {
        "id": "hW6YNrHwuzJU"
      }
    },
    {
      "cell_type": "markdown",
      "source": [
        "Trong Python, việc tạo biến ngẫu nhiên nhị thức như trong hình dưới đâycó thể\n",
        "được thực hiện bằng cách gọi binornd và np.random.binomial."
      ],
      "metadata": {
        "id": "b06KPPPx5ar9"
      }
    },
    {
      "cell_type": "markdown",
      "source": [
        "**Biểu đồ histogram của biến ngẫu nhiên có phân phối nhị thức**"
      ],
      "metadata": {
        "id": "jtkiHLTs7SMf"
      }
    },
    {
      "cell_type": "code",
      "source": [
        "# Python code to generate 5000 Binomial random variables\n",
        "import numpy as np\n",
        "import matplotlib.pyplot as plt\n",
        "p = 0.5\n",
        "n = 10\n",
        "X = np.random.binomial(n,p,size=5000)\n",
        "plt.hist(X,bins='auto')"
      ],
      "metadata": {
        "colab": {
          "base_uri": "https://localhost:8080/",
          "height": 525
        },
        "id": "rXcpNUzr7KiI",
        "outputId": "afb374c0-c0e0-40eb-ded3-9d6db525118a"
      },
      "execution_count": null,
      "outputs": [
        {
          "output_type": "execute_result",
          "data": {
            "text/plain": [
              "(array([   9.,    0.,    0.,    0.,   42.,    0.,    0.,    0.,  206.,\n",
              "           0.,    0.,    0.,  562.,    0.,    0.,    0.,    0., 1027.,\n",
              "           0.,    0.,    0., 1244.,    0.,    0.,    0., 1011.,    0.,\n",
              "           0.,    0.,    0.,  609.,    0.,    0.,    0.,  228.,    0.,\n",
              "           0.,    0.,   59.,    0.,    0.,    0.,    3.]),\n",
              " array([ 0.        ,  0.23255814,  0.46511628,  0.69767442,  0.93023256,\n",
              "         1.1627907 ,  1.39534884,  1.62790698,  1.86046512,  2.09302326,\n",
              "         2.3255814 ,  2.55813953,  2.79069767,  3.02325581,  3.25581395,\n",
              "         3.48837209,  3.72093023,  3.95348837,  4.18604651,  4.41860465,\n",
              "         4.65116279,  4.88372093,  5.11627907,  5.34883721,  5.58139535,\n",
              "         5.81395349,  6.04651163,  6.27906977,  6.51162791,  6.74418605,\n",
              "         6.97674419,  7.20930233,  7.44186047,  7.6744186 ,  7.90697674,\n",
              "         8.13953488,  8.37209302,  8.60465116,  8.8372093 ,  9.06976744,\n",
              "         9.30232558,  9.53488372,  9.76744186, 10.        ]),\n",
              " <a list of 43 Patch objects>)"
            ]
          },
          "metadata": {},
          "execution_count": 20
        },
        {
          "output_type": "display_data",
          "data": {
            "text/plain": [
              "<Figure size 432x288 with 1 Axes>"
            ],
            "image/png": "[encoded data removed]"
          },
          "metadata": {
            "needs_background": "light"
          }
        }
      ]
    },
    {
      "cell_type": "markdown",
      "source": [
        "**Đồ thị PMF của biến nhị phân có phân phối nhị thức**"
      ],
      "metadata": {
        "id": "yclculDA7WVu"
      }
    },
    {
      "cell_type": "code",
      "source": [
        "# Python code to generate a binomial PMF\n",
        "import numpy as np\n",
        "import matplotlib.pyplot as plt\n",
        "import scipy.stats as stats\n",
        "p = 0.5\n",
        "n = 10\n",
        "rv = stats.binom(n,p)\n",
        "x = np.arange(11)\n",
        "f = rv.pmf(x)\n",
        "plt.plot(x, f, 'bo', ms=10)\n",
        "plt.vlines(x, 0, f, colors='b', lw=5, alpha=0.5)"
      ],
      "metadata": {
        "colab": {
          "base_uri": "https://localhost:8080/",
          "height": 282
        },
        "id": "YlRpnxHf7XJH",
        "outputId": "88eab2e0-ac8d-43b6-c193-165578eb51ea"
      },
      "execution_count": null,
      "outputs": [
        {
          "output_type": "execute_result",
          "data": {
            "text/plain": [
              "<matplotlib.collections.LineCollection at 0x7f3dbdeaa990>"
            ]
          },
          "metadata": {},
          "execution_count": 22
        },
        {
          "output_type": "display_data",
          "data": {
            "text/plain": [
              "<Figure size 432x288 with 1 Axes>"
            ],
            "image/png": "[encoded data removed]"
          },
          "metadata": {
            "needs_background": "light"
          }
        }
      ]
    },
    {
      "cell_type": "markdown",
      "source": [
        "**Đồ thị của hàm PMF và CDF của biến nhị thức với tham số n, p**"
      ],
      "metadata": {
        "id": "tSxit_r47hQe"
      }
    },
    {
      "cell_type": "code",
      "source": [
        "p = 0.5\n",
        "n = 10\n",
        "rv = stats.binom(n,p)\n",
        "M, V = rv.stats(moments='mv') # lần lượt tính mean và variance\n",
        "print(M, V)"
      ],
      "metadata": {
        "colab": {
          "base_uri": "https://localhost:8080/"
        },
        "id": "Ohtcj57f7ifn",
        "outputId": "880c5b00-3560-4eca-9d03-29e17def5af7"
      },
      "execution_count": null,
      "outputs": [
        {
          "output_type": "stream",
          "name": "stdout",
          "text": [
            "5.0 2.5\n"
          ]
        }
      ]
    },
    {
      "cell_type": "markdown",
      "source": [
        "**Để tính toán các giá trị của hàm cdf. Trong Python, lệnh tương ứng là rv = stats.binom\n",
        "(n, p) tiếp theo là rv.cdf.**"
      ],
      "metadata": {
        "id": "hfr8Worn7sn3"
      }
    },
    {
      "cell_type": "markdown",
      "source": [
        "**Đồ thị của hàm PMF và CDF của biến nhị thức với tham số n, p**"
      ],
      "metadata": {
        "id": "Ruqf3rID8Jig"
      }
    },
    {
      "cell_type": "code",
      "source": [
        "# # Python code to plot CDF of a binomial random variable\n",
        "import numpy as np\n",
        "import matplotlib.pyplot as plt\n",
        "import scipy.stats as stats\n",
        "p = 0.5\n",
        "n = 10\n",
        "rv = stats.binom(n,p)\n",
        "x = np.arange(11)\n",
        "F = rv.cdf(x)\n",
        "plt.plot(x, F, 'bo', ms=10)\n",
        "plt.vlines(x, 0, F, colors='b', lw=5, alpha=0.5)"
      ],
      "metadata": {
        "colab": {
          "base_uri": "https://localhost:8080/",
          "height": 282
        },
        "id": "vUKW9Af-7yH3",
        "outputId": "9ec1621e-7e13-40eb-8c38-678695fbc7fe"
      },
      "execution_count": null,
      "outputs": [
        {
          "output_type": "execute_result",
          "data": {
            "text/plain": [
              "<matplotlib.collections.LineCollection at 0x7f3dbdd6d150>"
            ]
          },
          "metadata": {},
          "execution_count": 27
        },
        {
          "output_type": "display_data",
          "data": {
            "text/plain": [
              "<Figure size 432x288 with 1 Axes>"
            ],
            "image/png": "[encoded data removed]"
          },
          "metadata": {
            "needs_background": "light"
          }
        }
      ]
    },
    {
      "cell_type": "markdown",
      "source": [
        "**6.4. Biễn ngẫu nhiên hình học**"
      ],
      "metadata": {
        "id": "vBQFlW4Zu5Fi"
      }
    },
    {
      "cell_type": "markdown",
      "source": [
        "**Đồ thị của hàm PMF và CDF của biến nhị thức với tham số n, p**"
      ],
      "metadata": {
        "id": "fbu7uJ6w8MWH"
      }
    },
    {
      "cell_type": "code",
      "source": [
        "# Python code to generate 1000 geometric random variables\n",
        "import numpy as np\n",
        "import matplotlib.pyplot as plt\n",
        "p = 0.5\n",
        "X = np.random.geometric(p,size=1000)\n",
        "plt.hist(X,bins='auto')"
      ],
      "metadata": {
        "colab": {
          "base_uri": "https://localhost:8080/",
          "height": 456
        },
        "id": "Fu3fp1DC8Ppv",
        "outputId": "7f08de15-87d9-4e03-94f3-c86891fd56db"
      },
      "execution_count": null,
      "outputs": [
        {
          "output_type": "execute_result",
          "data": {
            "text/plain": [
              "(array([511.,   0.,   0.,   0.,   0., 242.,   0.,   0.,   0.,   0., 128.,\n",
              "          0.,   0.,   0.,   0.,  66.,   0.,   0.,   0.,   0.,  27.,   0.,\n",
              "          0.,   0.,   0.,  17.,   0.,   0.,   0.,   0.,   6.,   0.,   0.,\n",
              "          0.,   0.,   2.,   0.,   0.,   0.,   0.,   0.,   0.,   0.,   0.,\n",
              "          0.,   0.,   0.,   0.,   0.,   1.]),\n",
              " array([ 1. ,  1.2,  1.4,  1.6,  1.8,  2. ,  2.2,  2.4,  2.6,  2.8,  3. ,\n",
              "         3.2,  3.4,  3.6,  3.8,  4. ,  4.2,  4.4,  4.6,  4.8,  5. ,  5.2,\n",
              "         5.4,  5.6,  5.8,  6. ,  6.2,  6.4,  6.6,  6.8,  7. ,  7.2,  7.4,\n",
              "         7.6,  7.8,  8. ,  8.2,  8.4,  8.6,  8.8,  9. ,  9.2,  9.4,  9.6,\n",
              "         9.8, 10. , 10.2, 10.4, 10.6, 10.8, 11. ]),\n",
              " <a list of 50 Patch objects>)"
            ]
          },
          "metadata": {},
          "execution_count": 28
        },
        {
          "output_type": "display_data",
          "data": {
            "text/plain": [
              "<Figure size 432x288 with 1 Axes>"
            ],
            "image/png": "[encoded data removed]"
          },
          "metadata": {
            "needs_background": "light"
          }
        }
      ]
    },
    {
      "cell_type": "markdown",
      "source": [
        "Để tính toán hàm PMF, trong Python, chúng ta gọi rv = stats.geom của thư viện scipy\n",
        "theo sau là rv.pmf."
      ],
      "metadata": {
        "id": "ZrRYmZJT8WiJ"
      }
    },
    {
      "cell_type": "markdown",
      "source": [
        "**Biểu đồ histogram và đồ thị hàm PMF của biến ngẫu nhiên hình học\n",
        "(geometric) với p = 0,5**"
      ],
      "metadata": {
        "id": "7CjxCU7Z8jqa"
      }
    },
    {
      "cell_type": "code",
      "source": [
        "# Python code to generate geometric PMF\n",
        "import numpy as np\n",
        "import matplotlib.pyplot as plt\n",
        "import scipy.stats as stats\n",
        "x = np.arange(1,11)\n",
        "p = 0.5\n",
        "rv = stats.geom(p)\n",
        "f = rv.pmf(x)\n",
        "plt.plot(x, f, 'bo', ms=8, label='geom pmf')\n",
        "plt.vlines(x, 0, f, colors='b', lw=5, alpha=0.5)\n",
        "plt.vlines(x, 0, f, colors='b', lw=5, alpha=0.9)"
      ],
      "metadata": {
        "colab": {
          "base_uri": "https://localhost:8080/",
          "height": 282
        },
        "id": "X15V8Fp48Y-J",
        "outputId": "229efba3-6ca3-4e42-d53f-67fd4a455f61"
      },
      "execution_count": null,
      "outputs": [
        {
          "output_type": "execute_result",
          "data": {
            "text/plain": [
              "<matplotlib.collections.LineCollection at 0x7f3dbdb87c10>"
            ]
          },
          "metadata": {},
          "execution_count": 30
        },
        {
          "output_type": "display_data",
          "data": {
            "text/plain": [
              "<Figure size 432x288 with 1 Axes>"
            ],
            "image/png": "[encoded data removed]"
          },
          "metadata": {
            "needs_background": "light"
          }
        }
      ]
    },
    {
      "cell_type": "code",
      "source": [
        ""
      ],
      "metadata": {
        "id": "uvnUsEU19daB"
      },
      "execution_count": null,
      "outputs": []
    },
    {
      "cell_type": "markdown",
      "source": [
        "**6.5. Biến ngẫu nhiên Poisson**"
      ],
      "metadata": {
        "id": "iUjKzMD0u9qc"
      }
    },
    {
      "cell_type": "markdown",
      "source": [
        ""
      ],
      "metadata": {
        "id": "zgwVWnAs-J6N"
      }
    },
    {
      "cell_type": "code",
      "source": [
        "# Python code to generate 5000 Poisson random variables\n",
        "# and it’s hitogram\n",
        "import numpy as np\n",
        "import matplotlib.pyplot as plt\n",
        "lambd = 1\n",
        "X = np.random.poisson(lambd,size=5000)\n",
        "plt.hist(X,bins='auto')"
      ],
      "metadata": {
        "colab": {
          "base_uri": "https://localhost:8080/",
          "height": 473
        },
        "id": "Yb-f98v1-Qs4",
        "outputId": "432773d8-c8a6-4ea2-8fc6-1f293c454e67"
      },
      "execution_count": null,
      "outputs": [
        {
          "output_type": "execute_result",
          "data": {
            "text/plain": [
              "(array([1.775e+03, 0.000e+00, 0.000e+00, 0.000e+00, 1.886e+03, 0.000e+00,\n",
              "        0.000e+00, 0.000e+00, 9.490e+02, 0.000e+00, 0.000e+00, 0.000e+00,\n",
              "        0.000e+00, 3.060e+02, 0.000e+00, 0.000e+00, 0.000e+00, 7.300e+01,\n",
              "        0.000e+00, 0.000e+00, 0.000e+00, 1.000e+01, 0.000e+00, 0.000e+00,\n",
              "        0.000e+00, 1.000e+00]),\n",
              " array([0.        , 0.23076923, 0.46153846, 0.69230769, 0.92307692,\n",
              "        1.15384615, 1.38461538, 1.61538462, 1.84615385, 2.07692308,\n",
              "        2.30769231, 2.53846154, 2.76923077, 3.        , 3.23076923,\n",
              "        3.46153846, 3.69230769, 3.92307692, 4.15384615, 4.38461538,\n",
              "        4.61538462, 4.84615385, 5.07692308, 5.30769231, 5.53846154,\n",
              "        5.76923077, 6.        ]),\n",
              " <a list of 26 Patch objects>)"
            ]
          },
          "metadata": {},
          "execution_count": 35
        },
        {
          "output_type": "display_data",
          "data": {
            "text/plain": [
              "<Figure size 432x288 with 1 Axes>"
            ],
            "image/png": "[encoded data removed]"
          },
          "metadata": {
            "needs_background": "light"
          }
        }
      ]
    },
    {
      "cell_type": "markdown",
      "source": [
        "Đối với PMF, trong Python, chúng ta có thể gọi rv.pmf với rv = stats.poisson, trong\n",
        "thư viện scipy."
      ],
      "metadata": {
        "id": "KMYLAaSj-WU5"
      }
    },
    {
      "cell_type": "markdown",
      "source": [
        "Biểu đồ histogram và đồ thị hàm PMF của biến ngẫu nhiên có phân\n",
        "phối Poisson"
      ],
      "metadata": {
        "id": "ZhPvPcB9-fkf"
      }
    },
    {
      "cell_type": "code",
      "source": [
        "# Python code to plot the Poisson PMF\n",
        "import numpy as np\n",
        "import matplotlib.pyplot as plt\n",
        "import scipy.stats as stats\n",
        "x = np.arange(0,11)\n",
        "rv = stats.poisson(lambd)\n",
        "f = rv.pmf(x)\n",
        "plt.plot(x, f, 'bo', ms=8, label='geom pmf')\n",
        "plt.vlines(x, 0, f, colors='b', lw=5, alpha=0.5)"
      ],
      "metadata": {
        "colab": {
          "base_uri": "https://localhost:8080/",
          "height": 282
        },
        "id": "tsiESnTI-XdY",
        "outputId": "93a5018b-b293-4721-c11a-339d9972d39c"
      },
      "execution_count": null,
      "outputs": [
        {
          "output_type": "execute_result",
          "data": {
            "text/plain": [
              "<matplotlib.collections.LineCollection at 0x7f3dbd8d2790>"
            ]
          },
          "metadata": {},
          "execution_count": 37
        },
        {
          "output_type": "display_data",
          "data": {
            "text/plain": [
              "<Figure size 432x288 with 1 Axes>"
            ],
            "image/png": "[encoded data removed]"
          },
          "metadata": {
            "needs_background": "light"
          }
        }
      ]
    },
    {
      "cell_type": "markdown",
      "source": [
        "Để tính giá trị trung bình và phương sai của một biến ngẫu nhiên Poisson, chúng\n",
        "ta có thể gọi rv.stats (moment = ‘mv’) với thư viện scipy."
      ],
      "metadata": {
        "id": "b8Kwcm3V-kKS"
      }
    },
    {
      "cell_type": "code",
      "source": [
        "# Python code to compute Poisson statistics\n",
        "import scipy.stats as stats\n",
        "lambd = 1\n",
        "rv = stats.poisson(lambd)\n",
        "M, V = rv.stats(moments='mv')"
      ],
      "metadata": {
        "id": "8FEIkgDi-mJZ"
      },
      "execution_count": null,
      "outputs": []
    },
    {
      "cell_type": "code",
      "source": [
        "# Python code to approximate binomial using Poisson\n",
        "import numpy as np\n",
        "import matplotlib.pyplot as plt\n",
        "import scipy.stats as stats\n",
        "n = 1000;\n",
        "p = 0.05\n",
        "rv1 = stats.binom(n,p)\n",
        "X = rv1.rvs(size=10000)\n",
        "bins=np.arange(0,100)\n",
        "plt.figure(1);\n",
        "plt.hist(X,bins);\n",
        "rv2 = stats.poisson(n*p)\n",
        "f = rv2.pmf(bins)\n",
        "# f = rv.pmf(X)\n",
        "plt.figure(2)\n",
        "plt.plot(f)"
      ],
      "metadata": {
        "colab": {
          "base_uri": "https://localhost:8080/",
          "height": 530
        },
        "id": "-wSbmu_1-sm0",
        "outputId": "13f0d20f-6498-4c8e-e36e-164c1bea7462"
      },
      "execution_count": null,
      "outputs": [
        {
          "output_type": "execute_result",
          "data": {
            "text/plain": [
              "[<matplotlib.lines.Line2D at 0x7f3dbb89e410>]"
            ]
          },
          "metadata": {},
          "execution_count": 43
        },
        {
          "output_type": "display_data",
          "data": {
            "text/plain": [
              "<Figure size 432x288 with 1 Axes>"
            ],
            "image/png": "[encoded data removed]"
          },
          "metadata": {
            "needs_background": "light"
          }
        },
        {
          "output_type": "display_data",
          "data": {
            "text/plain": [
              "<Figure size 432x288 with 1 Axes>"
            ],
            "image/png": "[encoded data removed]"
          },
          "metadata": {
            "needs_background": "light"
          }
        }
      ]
    },
    {
      "cell_type": "markdown",
      "source": [
        "**6.6. Hàm mật độ xác suất**"
      ],
      "metadata": {
        "id": "o0WR70gKvClb"
      }
    },
    {
      "cell_type": "markdown",
      "source": [
        "Đối với biến ngẫu nhiên liên tục, ta có khái niệm quan trọng hàm mật độ xác\n",
        "suất (probability denisty function – hàm PDF)."
      ],
      "metadata": {
        "id": "6bg77PK8_fJJ"
      }
    },
    {
      "cell_type": "markdown",
      "source": [
        "Đối với biến ngẫu nhiên liên tục, ta có khái niệm quan trọng hàm mật độ xác\n",
        "suất (probability denisty function – hàm PDF)."
      ],
      "metadata": {
        "id": "765LRNMd_kmC"
      }
    },
    {
      "cell_type": "markdown",
      "source": [
        "Hàm mật độ xác suất (PDF) là đạo hàm của hàm phân phối tích lũy (CDF. Hơn\n",
        "nữa, diện tích dưới đường cong của PDF giữa âm vô cùng và x bằng giá trị của x của\n",
        "CDF."
      ],
      "metadata": {
        "id": "0BCP2gCy_rpJ"
      }
    },
    {
      "cell_type": "markdown",
      "source": [
        "**Phân phối đều** là một dạng phân phối xác suất thống kê trong đó tất cả các kết\n",
        "quả đều có khả năng xảy ra như nhau, mỗi biến có cùng một xác suất để cho ra một\n",
        "kết quả."
      ],
      "metadata": {
        "id": "M6bpelOS_vh8"
      }
    },
    {
      "cell_type": "markdown",
      "source": [
        "**PDF và CDF của biến ngẫu nhiên phân phối đều**"
      ],
      "metadata": {
        "id": "95hxjO-M_1ux"
      }
    },
    {
      "cell_type": "code",
      "source": [
        "# Python code to generate the PDF and CDF of uniform\n",
        "# varibale\n",
        "import numpy as np\n",
        "import matplotlib.pyplot as plt\n",
        "import scipy.stats as stats\n",
        "x = np.linspace(-5,10,1500)\n",
        "f = stats.uniform.pdf(x,-3,4)\n",
        "F = stats.uniform.cdf(x,-3,4)\n",
        "plt.plot(x,f); plt.show()\n",
        "plt.plot(x,F); plt.show()"
      ],
      "metadata": {
        "colab": {
          "base_uri": "https://localhost:8080/",
          "height": 513
        },
        "id": "uXebSfXt_in3",
        "outputId": "8fbd04ef-7764-4e7b-e960-5b84fa38b821"
      },
      "execution_count": null,
      "outputs": [
        {
          "output_type": "display_data",
          "data": {
            "text/plain": [
              "<Figure size 432x288 with 1 Axes>"
            ],
            "image/png": "[encoded data removed]"
          },
          "metadata": {
            "needs_background": "light"
          }
        },
        {
          "output_type": "display_data",
          "data": {
            "text/plain": [
              "<Figure size 432x288 with 1 Axes>"
            ],
            "image/png": "[encoded data removed]"
          },
          "metadata": {
            "needs_background": "light"
          }
        }
      ]
    },
    {
      "cell_type": "code",
      "source": [
        "# Python code to compute empirical mean, var, median, mode\n",
        "# of uniform varibale\n",
        "a = 0; b = 1;\n",
        "X = stats.uniform.rvs(a,b,size=1000)\n",
        "M = np.mean(X)\n",
        "V = np.var(X)\n",
        "Med = np.median(X)\n",
        "Mod = stats.mode(X)\n",
        "# Python code to compute the probability P(0.2 < X < 0.3)\n",
        "# of uniform varibale\n",
        "a = 0; b = 1;\n",
        "rv = stats.uniform(a,b)\n",
        "F = rv.cdf(0.3)-rv.cdf(0.2)"
      ],
      "metadata": {
        "id": "uIHzvPBQ_7i5"
      },
      "execution_count": null,
      "outputs": []
    },
    {
      "cell_type": "markdown",
      "source": [
        "**6.8. Biến ngẫu nhiên có phân phối mũ**"
      ],
      "metadata": {
        "id": "lmrAVUqYGQ5v"
      }
    },
    {
      "cell_type": "code",
      "source": [
        "# Python code to generate the PDF and CDF of Exponential random variable \n",
        "x = np.linspace(-5,10,1500)\n",
        "f = stats.expon.pdf(x,2)\n",
        "F = stats.expon.cdf(x,2)\n",
        "plt.plot(x,f); \n",
        "plt.show()\n",
        "plt.plot(x,F); \n",
        "plt.show()"
      ],
      "metadata": {
        "colab": {
          "base_uri": "https://localhost:8080/",
          "height": 513
        },
        "id": "AlGjGk3aGaNV",
        "outputId": "ae0c9c58-0385-4efc-9986-43f25b0546dd"
      },
      "execution_count": null,
      "outputs": [
        {
          "output_type": "display_data",
          "data": {
            "text/plain": [
              "<Figure size 432x288 with 1 Axes>"
            ],
            "image/png": "[encoded data removed]"
          },
          "metadata": {
            "needs_background": "light"
          }
        },
        {
          "output_type": "display_data",
          "data": {
            "text/plain": [
              "<Figure size 432x288 with 1 Axes>"
            ],
            "image/png": "[encoded data removed]"
          },
          "metadata": {
            "needs_background": "light"
          }
        }
      ]
    },
    {
      "cell_type": "markdown",
      "source": [
        "Đồ thị của hàm PDF và CDF của biến ngẫu nhiên phân phối mũ"
      ],
      "metadata": {
        "id": "J_SjiCi4G5zO"
      }
    },
    {
      "cell_type": "code",
      "source": [
        "# Python code to plot the exponential PDF\n",
        "lambd1 = 1/2\n",
        "lambd2 = 1/5\n",
        "x = np.linspace(0,1,1000)\n",
        "f1 = stats.expon.pdf(x,scale=lambd1)\n",
        "f2 = stats.expon.pdf(x,scale=lambd2)\n",
        "plt.plot(x, f1)\n",
        "plt.plot(x, f2)"
      ],
      "metadata": {
        "colab": {
          "base_uri": "https://localhost:8080/",
          "height": 282
        },
        "id": "Y8jSao8tG6j1",
        "outputId": "7085995e-4d18-47a6-e8b9-0931231a49f3"
      },
      "execution_count": null,
      "outputs": [
        {
          "output_type": "execute_result",
          "data": {
            "text/plain": [
              "[<matplotlib.lines.Line2D at 0x7fd3fae49650>]"
            ]
          },
          "metadata": {},
          "execution_count": 9
        },
        {
          "output_type": "display_data",
          "data": {
            "text/plain": [
              "<Figure size 432x288 with 1 Axes>"
            ],
            "image/png": "[encoded data removed]"
          },
          "metadata": {
            "needs_background": "light"
          }
        }
      ]
    },
    {
      "cell_type": "code",
      "source": [
        "# Python code to plot the exponential CDF\n",
        "F = stats.expon.cdf(x,scale=lambd1)\n",
        "plt.plot(x, F)"
      ],
      "metadata": {
        "colab": {
          "base_uri": "https://localhost:8080/",
          "height": 282
        },
        "id": "cco-PKPRHCPH",
        "outputId": "be24ffb5-e15d-433f-d849-daebb693bb21"
      },
      "execution_count": null,
      "outputs": [
        {
          "output_type": "execute_result",
          "data": {
            "text/plain": [
              "[<matplotlib.lines.Line2D at 0x7fd3fae344d0>]"
            ]
          },
          "metadata": {},
          "execution_count": 10
        },
        {
          "output_type": "display_data",
          "data": {
            "text/plain": [
              "<Figure size 432x288 with 1 Axes>"
            ],
            "image/png": "[encoded data removed]"
          },
          "metadata": {
            "needs_background": "light"
          }
        }
      ]
    },
    {
      "cell_type": "markdown",
      "source": [
        "**6.9. Biến ngẫu nhiên Gaussian**"
      ],
      "metadata": {
        "id": "5MskTqFjHY5-"
      }
    },
    {
      "cell_type": "markdown",
      "source": [
        "**Phân phối chuẩn - Normal distribution**\n",
        "\n",
        "Phân phối chuẩn hay còn được gọi là phân phối Gausslà một trong những phân phối\n",
        "quan trọng nhất và được ứng dụng rất rộng rãi trong thực tế."
      ],
      "metadata": {
        "id": "XqdBbq7uHd43"
      }
    },
    {
      "cell_type": "code",
      "source": [
        "# Python code to generate standard Gaussian PDF and CDF\n",
        "x = np.linspace(-10,10,1000)\n",
        "f = stats.norm.pdf(x)\n",
        "F = stats.norm.cdf(x)\n",
        "plt.plot(x,f); plt.show()\n",
        "plt.plot(x,F); plt.show()"
      ],
      "metadata": {
        "colab": {
          "base_uri": "https://localhost:8080/",
          "height": 513
        },
        "id": "xp7q0l63HnVl",
        "outputId": "6ead6d49-8b60-4d1e-beed-4465b5b0952e"
      },
      "execution_count": null,
      "outputs": [
        {
          "output_type": "display_data",
          "data": {
            "text/plain": [
              "<Figure size 432x288 with 1 Axes>"
            ],
            "image/png": "[encoded data removed]"
          },
          "metadata": {
            "needs_background": "light"
          }
        },
        {
          "output_type": "display_data",
          "data": {
            "text/plain": [
              "<Figure size 432x288 with 1 Axes>"
            ],
            "image/png": "[encoded data removed]"
          },
          "metadata": {
            "needs_background": "light"
          }
        }
      ]
    },
    {
      "cell_type": "code",
      "source": [
        "# Python code to verify standardized Gaussian\n",
        "x = np.linspace(-5,5,1000)\n",
        "mu = 3; sigma = 2;\n",
        "f1 = stats.norm.pdf((x-mu)/sigma,0,1) # standardized\n",
        "f2 = stats.norm.cdf(x,mu,sigma) # raw"
      ],
      "metadata": {
        "id": "9hDrxI-NHvjX"
      },
      "execution_count": null,
      "outputs": []
    },
    {
      "cell_type": "code",
      "source": [
        "X = stats.gamma.rvs(3,5,size=10000)\n",
        "print(X)\n",
        "s = stats.skew(X)\n",
        "print(s)\n",
        "k = stats.kurtosis(X)\n",
        "print(k)"
      ],
      "metadata": {
        "colab": {
          "base_uri": "https://localhost:8080/"
        },
        "id": "_PGwvhaeJWWs",
        "outputId": "91c3f2d1-f4ae-4f1a-9555-03a27957a5d4"
      },
      "execution_count": null,
      "outputs": [
        {
          "output_type": "stream",
          "name": "stdout",
          "text": [
            "[7.63275305 7.18554034 6.0123539  ... 9.30674928 5.74240595 6.26521184]\n",
            "1.1199576373128668\n",
            "1.625346666040853\n"
          ]
        }
      ]
    },
    {
      "cell_type": "markdown",
      "source": [
        "**Định lý giới hạn trung tâm**"
      ],
      "metadata": {
        "id": "-tuh6V0kJwnc"
      }
    },
    {
      "cell_type": "markdown",
      "source": [
        "* Cho $X_1$,$X_2$,...,$X_n$,... là một dãy các biến ngẫu nhiên độc lập cùng tuân theo một\n",
        "quy luật phân phối xác suất với kỳ vọng toán μ và phương sai hữu hạn $σ^2$\n",
        ", thì quy luật\n",
        "phân phối xác suất của biến ngẫu nhiên"
      ],
      "metadata": {
        "id": "YjsKguDVJ0DE"
      }
    },
    {
      "cell_type": "markdown",
      "source": [
        "* Tầm quan trọng thực tiễn của định lý giới hạn trung tâm là định lý chỉ ra phân\n",
        "phối chuẩn có thể được sử dụng như là một xấp xỉ cho một số dạng phân phối khác. "
      ],
      "metadata": {
        "id": "uJvfbQP7KGwO"
      }
    },
    {
      "cell_type": "markdown",
      "source": [
        "Biến ngẫu nhiên nhị thức Binomial(n,p) và biến ngẫu nhiên Bernoulli(p) có thể\n",
        "được cài đặt bằng Python như sau:\n"
      ],
      "metadata": {
        "id": "DckSl5Y1KVTn"
      }
    },
    {
      "cell_type": "code",
      "source": [
        "import random\n",
        "def bernoulli_trial(p):\n",
        " return 1 if random.random() < p else 0\n",
        "def binomial(n, p):\n",
        " return sum(bernoulli_trial(p) for _ in range(n))"
      ],
      "metadata": {
        "id": "esoL9rbTKY2v"
      },
      "execution_count": null,
      "outputs": []
    },
    {
      "cell_type": "markdown",
      "source": [
        "Chúng ta có thể thấy kết quả trên một cách trực quan bằng đoạn mã Python hoàn\n",
        "chỉnh sau:"
      ],
      "metadata": {
        "id": "7k5SDWN0KhGv"
      }
    },
    {
      "cell_type": "code",
      "source": [
        "def normal_cdf(x, mu=0,sigma=1):\n",
        " return (1 + math.erf((x - mu) / math.sqrt(2) / sigma)) / 2\n",
        "def bernoulli_trial(p):\n",
        " return 1 if random.random() < p else 0\n",
        "def binomial(n, p):\n",
        " return sum(bernoulli_trial(p) for _ in range(n))\n",
        "def make_hist(p, n, num_points):\n",
        " data = [binomial(n, p) for _ in range(num_points)]\n",
        " # các biểu đồ cột là các nhị thức\n",
        " histogram = Counter(data)\n",
        " plt.bar([x - 0.4 for x in histogram.keys()],\n",
        " [v / num_points for v in\n",
        "histogram.values()],0.8,color='0.75')\n",
        " mu = p * n\n",
        " sigma = math.sqrt(n * p * (1 - p))\n",
        "# đường cong là xấp xỉ chuẩn\n",
        " xs = range(min(data), max(data) + 1)\n",
        " ys = [normal_cdf(i + 0.5, mu, sigma) - normal_cdf(i - 0.5,\n",
        "mu, sigma)for i in xs]\n",
        " plt.plot(xs,ys)\n",
        " plt.title(\"Phân phối nhị thức và Xấp xỉ chuẩn theo định lý giới hạn trung tâm\")\n",
        " plt.show()\n",
        "make_hist(0.75, 100, 10000)"
      ],
      "metadata": {
        "colab": {
          "base_uri": "https://localhost:8080/",
          "height": 282
        },
        "id": "gp64nkm-Ks9P",
        "outputId": "eb15eb98-ed68-467a-a4e5-c7db6145cbce"
      },
      "execution_count": null,
      "outputs": [
        {
          "output_type": "display_data",
          "data": {
            "text/plain": [
              "<Figure size 432x288 with 1 Axes>"
            ],
            "image/png": "[encoded data removed]"
          },
          "metadata": {
            "needs_background": "light"
          }
        }
      ]
    },
    {
      "cell_type": "markdown",
      "source": [
        "Hình trên cho thấy phân phối nhị thức xấp xỉ phân phối chuẩn theo định lí giới hạn trung tâm"
      ],
      "metadata": {
        "id": "3nIy2y_GK6mt"
      }
    },
    {
      "cell_type": "markdown",
      "source": [
        "**6.10. Sinh số ngẫu nhiên**"
      ],
      "metadata": {
        "id": "Qh6i4xtDLBgq"
      }
    },
    {
      "cell_type": "code",
      "source": [
        "# Python code to generate Gaussian from uniform\n",
        "mu = 3\n",
        "sigma = 2\n",
        "U = stats.uniform.rvs(0,1,size=10000)\n",
        "gU = sigma*stats.norm.ppf(U)+mu\n",
        "plt.hist(U); \n",
        "plt.show()\n",
        "plt.hist(gU); \n",
        "plt.show()"
      ],
      "metadata": {
        "colab": {
          "base_uri": "https://localhost:8080/",
          "height": 513
        },
        "id": "3Qj_AdXsLJ5m",
        "outputId": "a9f0ea57-52e6-45c7-e827-d13b08f7076a"
      },
      "execution_count": null,
      "outputs": [
        {
          "output_type": "display_data",
          "data": {
            "text/plain": [
              "<Figure size 432x288 with 1 Axes>"
            ],
            "image/png": "[encoded data removed]"
          },
          "metadata": {
            "needs_background": "light"
          }
        },
        {
          "output_type": "display_data",
          "data": {
            "text/plain": [
              "<Figure size 432x288 with 1 Axes>"
            ],
            "image/png": "[encoded data removed]"
          },
          "metadata": {
            "needs_background": "light"
          }
        }
      ]
    },
    {
      "cell_type": "code",
      "source": [
        "# Python code to generate exponential random variables\n",
        "lambd = 1;\n",
        "U = stats.uniform.rvs(0,1,size=10000)\n",
        "gU = -(1/lambd)*np.log(1-U)"
      ],
      "metadata": {
        "id": "1Y-iw7Z-LYeG"
      },
      "execution_count": null,
      "outputs": []
    },
    {
      "cell_type": "code",
      "source": [
        "# Python code to generate the desired random variables\n",
        "U = stats.uniform.rvs(0,1,size=10000)\n",
        "gU = np.zeros(10000)\n",
        "gU[np.logical_and(U >= 0.0, U <= 0.1)] = 1\n",
        "gU[np.logical_and(U > 0.1, U <= 0.6)] = 2\n",
        "gU[np.logical_and(U > 0.6, U <= 0.9)] = 3\n",
        "gU[np.logical_and(U > 0.9, U <= 1)] = 4"
      ],
      "metadata": {
        "id": "KXVaCtydLcUd"
      },
      "execution_count": null,
      "outputs": []
    },
    {
      "cell_type": "markdown",
      "source": [
        "**6.11. Phân phối t**"
      ],
      "metadata": {
        "id": "x_a1dEhuMXL5"
      }
    },
    {
      "cell_type": "markdown",
      "source": [
        "**6.11.1. Bậc tự do**"
      ],
      "metadata": {
        "id": "pL6tHuh_MZKD"
      }
    },
    {
      "cell_type": "markdown",
      "source": [
        "Bậc tự do (tiếng Anh: Degrees Of Freedom) là thuật ngữ sử dụng trong thống kê\n",
        "chỉ số lượng các giá trị có thể tự do thay đổi trong một mẫu dữ liệu."
      ],
      "metadata": {
        "id": "oYAzr-1iMava"
      }
    },
    {
      "cell_type": "markdown",
      "source": [
        "**6.11.2. Định nghĩa phân phối t**"
      ],
      "metadata": {
        "id": "7Swa5YIVMdib"
      }
    },
    {
      "cell_type": "markdown",
      "source": [
        "Phân phối t hay còn gọi là phân phối student là phân phối mẫu lí thuyết gần\n",
        "đúng với phân phối chuẩn. Phân phối t được sử dụng để thiết lập khoảng tin cậy khi\n",
        "dùng các mẫu nhỏ để ước lượng giá trị trung bình của tổng thể.\n"
      ],
      "metadata": {
        "id": "SX2csiHEMiZS"
      }
    },
    {
      "cell_type": "markdown",
      "source": [
        "Tạo một mảng gồm 10 giá trị tuân theo phân phối t với 6 bậc tự do:"
      ],
      "metadata": {
        "id": "xvAl1nByMrkS"
      }
    },
    {
      "cell_type": "code",
      "source": [
        "from scipy.stats import t\n",
        "#generate random values from t distribution with df=6 and sample\n",
        "size=10\n",
        "t.rvs(df=6, size=10)"
      ],
      "metadata": {
        "colab": {
          "base_uri": "https://localhost:8080/"
        },
        "id": "LQY68CXhMnv5",
        "outputId": "756d91a2-90ee-4740-ac5d-2cbef9074929"
      },
      "execution_count": null,
      "outputs": [
        {
          "output_type": "execute_result",
          "data": {
            "text/plain": [
              "array([ 0.58410259,  0.81050056, -2.81105926, -0.46877313, -0.12114671,\n",
              "        2.08534488, -0.50891947,  0.65719726, -0.39753396, -0.39079674])"
            ]
          },
          "metadata": {},
          "execution_count": 31
        }
      ]
    },
    {
      "cell_type": "markdown",
      "source": [
        "**6.12. Phân phối Chi - bình phương**"
      ],
      "metadata": {
        "id": "-gFo1IBsMyt6"
      }
    },
    {
      "cell_type": "markdown",
      "source": [
        "Nếu biến ngẫu nhiên X có phân phối chuẩn tắc (X $\\in$ N(0,1), khi đó X 2\n",
        "có phân\n",
        "phối Chi-square với 1 bậc tự do. Tổng của n biến ngẫu nhiên có phân phối chuẩn\n",
        "tắc, sẽ là một biến ngẫu nhiên có phân phối Chi-square với n bậc tự do."
      ],
      "metadata": {
        "id": "V8KIr8zSMzxv"
      }
    },
    {
      "cell_type": "markdown",
      "source": [
        "Để vẽ biểu đồ của phân phối Chi-Square trong Python, ta có thể sử dụng cú pháp\n",
        "sau:"
      ],
      "metadata": {
        "id": "sagewHOZNNdY"
      }
    },
    {
      "cell_type": "code",
      "source": [
        "from scipy.stats import chi2\n",
        "#x-axis ranges from 0 to 20 with .001 steps\n",
        "x = np.arange(0, 20, 0.001)\n",
        "#plot Chi-square distribution with 4 degrees of freedom\n",
        "plt.plot(x, chi2.pdf(x, df=4), color='red', linewidth=3)"
      ],
      "metadata": {
        "colab": {
          "base_uri": "https://localhost:8080/",
          "height": 282
        },
        "id": "cBjEI9a0NOCY",
        "outputId": "b8f38eb4-0cee-42ac-8975-8bf93989aabb"
      },
      "execution_count": null,
      "outputs": [
        {
          "output_type": "execute_result",
          "data": {
            "text/plain": [
              "[<matplotlib.lines.Line2D at 0x7fd3fa96ee10>]"
            ]
          },
          "metadata": {},
          "execution_count": 34
        },
        {
          "output_type": "display_data",
          "data": {
            "text/plain": [
              "<Figure size 432x288 with 1 Axes>"
            ],
            "image/png": "[encoded data removed]"
          },
          "metadata": {
            "needs_background": "light"
          }
        }
      ]
    },
    {
      "cell_type": "markdown",
      "source": [
        "Vẽ nhiều đường cong phân phối Chi-square với các bậc tự do khác nhau:"
      ],
      "metadata": {
        "id": "SW_L3SxPNdVY"
      }
    },
    {
      "cell_type": "code",
      "source": [
        "#x-axis ranges from 0 to 20 with .001 steps\n",
        "x = np.arange(0, 20, 0.001)\n",
        "#define multiple Chi-square distributions\n",
        "plt.plot(x, chi2.pdf(x, df=4), label='df: 4',\n",
        "color='gold')\n",
        "plt.plot(x, chi2.pdf(x, df=8), label='df: 8',\n",
        "color='red')\n",
        "plt.plot(x, chi2.pdf(x, df=12), label='df: 12',\n",
        "color='pink')\n",
        "#add legend to plot\n",
        "plt.legend(title='Parameters')\n",
        "#add axes labels and a title\n",
        "plt.ylabel('Density')\n",
        "plt.xlabel('x')\n",
        "plt.title('Chi-Square Distributions', fontsize=14)"
      ],
      "metadata": {
        "colab": {
          "base_uri": "https://localhost:8080/",
          "height": 314
        },
        "id": "Fy7Hs3isNfgR",
        "outputId": "9c8fb047-29bc-4c7f-b562-de13802c44c6"
      },
      "execution_count": null,
      "outputs": [
        {
          "output_type": "execute_result",
          "data": {
            "text/plain": [
              "Text(0.5, 1.0, 'Chi-Square Distributions')"
            ]
          },
          "metadata": {},
          "execution_count": 35
        },
        {
          "output_type": "display_data",
          "data": {
            "text/plain": [
              "<Figure size 432x288 with 1 Axes>"
            ],
            "image/png": "[encoded data removed]"
          },
          "metadata": {
            "needs_background": "light"
          }
        }
      ]
    },
    {
      "cell_type": "markdown",
      "source": [
        "**6.13. Phân phối F**"
      ],
      "metadata": {
        "id": "T1ThxpL7Njv-"
      }
    },
    {
      "cell_type": "markdown",
      "source": [
        "Phân phối F thường được sử dụng trong việc xác định các giá trị quan trọng\n",
        "trong phân tích thống kê ANOVA. "
      ],
      "metadata": {
        "id": "uqYWiyJFNkuv"
      }
    },
    {
      "cell_type": "markdown",
      "source": [
        "**6.14. Phân bố xác suất Weibull**"
      ],
      "metadata": {
        "id": "b-CxZRgFNsU4"
      }
    },
    {
      "cell_type": "markdown",
      "source": [
        "**Phân bố xác suất Weibull** (hay còn gọi là phân bố xác suất Rosin-Rammler) là\n",
        "một dạng thường dùng để mô tả thống kê sự xuất hiện của các đại lượng cực trị trong\n",
        "khí tượng, thuỷ văn và dự báo thời tiết như dòng chảy lũ, sóng, gió lớn nhất. Ngoài ra\n",
        "phân bố này cũng hay được dùng trong phân tích xác suất sống sót hoặc phá huỷ trong\n",
        "lý thuyết độ tin cậy, dùng trong lý thuyết cực trị; biểu diễn thời gian sản xuất và phân\n",
        "phối trong công nghiệp; sự phân tán tín hiệu radar và sự suy giảm tín hiệu trong liên\n",
        "lạc không dây."
      ],
      "metadata": {
        "id": "OnC4Va-UNuP2"
      }
    }
  ]
}