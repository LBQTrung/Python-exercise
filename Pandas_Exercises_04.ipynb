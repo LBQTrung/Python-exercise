{
  "nbformat": 4,
  "nbformat_minor": 0,
  "metadata": {
    "colab": {
      "name": "Pandas_Exercises_04.ipynb",
      "provenance": [],
      "mount_file_id": "1ON4cc3LtPH7IoHS_w3_DGXqccSq2x-1x",
      "authorship_tag": "ABX9TyN21X2GE1h5X9S+5VUKV7d1",
      "include_colab_link": true
    },
    "kernelspec": {
      "name": "python3",
      "display_name": "Python 3"
    },
    "language_info": {
      "name": "python"
    }
  },
  "cells": [
    {
      "cell_type": "markdown",
      "metadata": {
        "id": "view-in-github",
        "colab_type": "text"
      },
      "source": [
        "<a href=\"https://colab.research.google.com/github/LBQTrung/Python-exercise/blob/main/Pandas_Exercises_04.ipynb\" target=\"_parent\"><img src=\"https://colab.research.google.com/assets/colab-badge.svg\" alt=\"Open In Colab\"/></a>"
      ]
    },
    {
      "cell_type": "markdown",
      "source": [
        "**Câu 1: Xác định các thư viện cần dùng cho quá trình phân tích thống kê mô tả và đưa vào mã lệnh\n",
        "(sử dụng Google Colab)**"
      ],
      "metadata": {
        "id": "oJSPsmLFxa0a"
      }
    },
    {
      "cell_type": "code",
      "source": [
        "import numpy as np\n",
        "import pandas as pd\n",
        "import matplotlib.pyplot as plt\n",
        "import scipy.stats as st\n",
        "import seaborn as sns"
      ],
      "metadata": {
        "id": "WOhYlMBoxdPK"
      },
      "execution_count": 1,
      "outputs": []
    },
    {
      "cell_type": "markdown",
      "source": [
        "**Câu 2: Sử dụng tập dữ liệu Aircraft Wildlife Strikes, 1990-2015 để tiến hành phân tích thống kê\n",
        "mô tả.**"
      ],
      "metadata": {
        "id": "8uLLHaDgyGWj"
      }
    },
    {
      "cell_type": "code",
      "source": [
        "df = pd.read_csv(\"/content/drive/MyDrive/Phân tích dữ liệu/Python/Thống kê với Python/database.csv\", index_col = 0)"
      ],
      "metadata": {
        "colab": {
          "base_uri": "https://localhost:8080/"
        },
        "id": "g_KYY98TyHAq",
        "outputId": "33e8a9b1-4344-4fe0-b744-509d05aacfc6"
      },
      "execution_count": 5,
      "outputs": [
        {
          "output_type": "stream",
          "name": "stderr",
          "text": [
            "/usr/local/lib/python3.7/dist-packages/IPython/core/interactiveshell.py:2882: DtypeWarning: Columns (9,12,15,17) have mixed types.Specify dtype option on import or set low_memory=False.\n",
            "  exec(code_obj, self.user_global_ns, self.user_ns)\n"
          ]
        }
      ]
    },
    {
      "cell_type": "markdown",
      "source": [
        "Hiển thị 5 dòng đầu của dữ liệu:"
      ],
      "metadata": {
        "id": "bFmZqnsRzojr"
      }
    },
    {
      "cell_type": "code",
      "source": [
        "df.head()"
      ],
      "metadata": {
        "colab": {
          "base_uri": "https://localhost:8080/",
          "height": 418
        },
        "id": "1VGqmhOJzsvj",
        "outputId": "dcdece0e-84e2-4f4f-eca5-5861c5bfb6c7"
      },
      "execution_count": 6,
      "outputs": [
        {
          "output_type": "execute_result",
          "data": {
            "text/plain": [
              "           Incident Year  Incident Month  Incident Day Operator ID  \\\n",
              "Record ID                                                            \n",
              "127128              1990               1             1         DAL   \n",
              "129779              1990               1             1         HAL   \n",
              "129780              1990               1             2         UNK   \n",
              "2258                1990               1             3         MIL   \n",
              "2257                1990               1             3         MIL   \n",
              "\n",
              "                  Operator   Aircraft Aircraft Type Aircraft Make  \\\n",
              "Record ID                                                           \n",
              "127128     DELTA AIR LINES  B-757-200             A           148   \n",
              "129779        HAWAIIAN AIR       DC-9             A           583   \n",
              "129780             UNKNOWN    UNKNOWN           NaN           NaN   \n",
              "2258              MILITARY      A-10A             A           345   \n",
              "2257              MILITARY       F-16             A           561   \n",
              "\n",
              "          Aircraft Model  Aircraft Mass  ...  Fuselage Strike Fuselage Damage  \\\n",
              "Record ID                                ...                                    \n",
              "127128                26            4.0  ...                0               0   \n",
              "129779                90            4.0  ...                0               0   \n",
              "129780               NaN            NaN  ...                0               0   \n",
              "2258                 NaN            3.0  ...                0               0   \n",
              "2257                 NaN            NaN  ...                0               0   \n",
              "\n",
              "           Landing Gear Strike Landing Gear Damage Tail Strike  Tail Damage  \\\n",
              "Record ID                                                                     \n",
              "127128                       0                   0           1            1   \n",
              "129779                       0                   0           0            0   \n",
              "129780                       0                   0           0            0   \n",
              "2258                         0                   0           0            0   \n",
              "2257                         0                   0           0            0   \n",
              "\n",
              "          Lights Strike  Lights Damage Other Strike Other Damage  \n",
              "Record ID                                                         \n",
              "127128                0              0            0            0  \n",
              "129779                0              0            1            0  \n",
              "129780                0              0            0            0  \n",
              "2258                  0              0            0            0  \n",
              "2257                  0              0            0            0  \n",
              "\n",
              "[5 rows x 65 columns]"
            ],
            "text/html": [
              "\n",
              "  <div id=\"df-8fa40b0c-febc-42a4-992a-335db2ebdebb\">\n",
              "    <div class=\"colab-df-container\">\n",
              "      <div>\n",
              "<style scoped>\n",
              "    .dataframe tbody tr th:only-of-type {\n",
              "        vertical-align: middle;\n",
              "    }\n",
              "\n",
              "    .dataframe tbody tr th {\n",
              "        vertical-align: top;\n",
              "    }\n",
              "\n",
              "    .dataframe thead th {\n",
              "        text-align: right;\n",
              "    }\n",
              "</style>\n",
              "<table border=\"1\" class=\"dataframe\">\n",
              "  <thead>\n",
              "    <tr style=\"text-align: right;\">\n",
              "      <th></th>\n",
              "      <th>Incident Year</th>\n",
              "      <th>Incident Month</th>\n",
              "      <th>Incident Day</th>\n",
              "      <th>Operator ID</th>\n",
              "      <th>Operator</th>\n",
              "      <th>Aircraft</th>\n",
              "      <th>Aircraft Type</th>\n",
              "      <th>Aircraft Make</th>\n",
              "      <th>Aircraft Model</th>\n",
              "      <th>Aircraft Mass</th>\n",
              "      <th>...</th>\n",
              "      <th>Fuselage Strike</th>\n",
              "      <th>Fuselage Damage</th>\n",
              "      <th>Landing Gear Strike</th>\n",
              "      <th>Landing Gear Damage</th>\n",
              "      <th>Tail Strike</th>\n",
              "      <th>Tail Damage</th>\n",
              "      <th>Lights Strike</th>\n",
              "      <th>Lights Damage</th>\n",
              "      <th>Other Strike</th>\n",
              "      <th>Other Damage</th>\n",
              "    </tr>\n",
              "    <tr>\n",
              "      <th>Record ID</th>\n",
              "      <th></th>\n",
              "      <th></th>\n",
              "      <th></th>\n",
              "      <th></th>\n",
              "      <th></th>\n",
              "      <th></th>\n",
              "      <th></th>\n",
              "      <th></th>\n",
              "      <th></th>\n",
              "      <th></th>\n",
              "      <th></th>\n",
              "      <th></th>\n",
              "      <th></th>\n",
              "      <th></th>\n",
              "      <th></th>\n",
              "      <th></th>\n",
              "      <th></th>\n",
              "      <th></th>\n",
              "      <th></th>\n",
              "      <th></th>\n",
              "      <th></th>\n",
              "    </tr>\n",
              "  </thead>\n",
              "  <tbody>\n",
              "    <tr>\n",
              "      <th>127128</th>\n",
              "      <td>1990</td>\n",
              "      <td>1</td>\n",
              "      <td>1</td>\n",
              "      <td>DAL</td>\n",
              "      <td>DELTA AIR LINES</td>\n",
              "      <td>B-757-200</td>\n",
              "      <td>A</td>\n",
              "      <td>148</td>\n",
              "      <td>26</td>\n",
              "      <td>4.0</td>\n",
              "      <td>...</td>\n",
              "      <td>0</td>\n",
              "      <td>0</td>\n",
              "      <td>0</td>\n",
              "      <td>0</td>\n",
              "      <td>1</td>\n",
              "      <td>1</td>\n",
              "      <td>0</td>\n",
              "      <td>0</td>\n",
              "      <td>0</td>\n",
              "      <td>0</td>\n",
              "    </tr>\n",
              "    <tr>\n",
              "      <th>129779</th>\n",
              "      <td>1990</td>\n",
              "      <td>1</td>\n",
              "      <td>1</td>\n",
              "      <td>HAL</td>\n",
              "      <td>HAWAIIAN AIR</td>\n",
              "      <td>DC-9</td>\n",
              "      <td>A</td>\n",
              "      <td>583</td>\n",
              "      <td>90</td>\n",
              "      <td>4.0</td>\n",
              "      <td>...</td>\n",
              "      <td>0</td>\n",
              "      <td>0</td>\n",
              "      <td>0</td>\n",
              "      <td>0</td>\n",
              "      <td>0</td>\n",
              "      <td>0</td>\n",
              "      <td>0</td>\n",
              "      <td>0</td>\n",
              "      <td>1</td>\n",
              "      <td>0</td>\n",
              "    </tr>\n",
              "    <tr>\n",
              "      <th>129780</th>\n",
              "      <td>1990</td>\n",
              "      <td>1</td>\n",
              "      <td>2</td>\n",
              "      <td>UNK</td>\n",
              "      <td>UNKNOWN</td>\n",
              "      <td>UNKNOWN</td>\n",
              "      <td>NaN</td>\n",
              "      <td>NaN</td>\n",
              "      <td>NaN</td>\n",
              "      <td>NaN</td>\n",
              "      <td>...</td>\n",
              "      <td>0</td>\n",
              "      <td>0</td>\n",
              "      <td>0</td>\n",
              "      <td>0</td>\n",
              "      <td>0</td>\n",
              "      <td>0</td>\n",
              "      <td>0</td>\n",
              "      <td>0</td>\n",
              "      <td>0</td>\n",
              "      <td>0</td>\n",
              "    </tr>\n",
              "    <tr>\n",
              "      <th>2258</th>\n",
              "      <td>1990</td>\n",
              "      <td>1</td>\n",
              "      <td>3</td>\n",
              "      <td>MIL</td>\n",
              "      <td>MILITARY</td>\n",
              "      <td>A-10A</td>\n",
              "      <td>A</td>\n",
              "      <td>345</td>\n",
              "      <td>NaN</td>\n",
              "      <td>3.0</td>\n",
              "      <td>...</td>\n",
              "      <td>0</td>\n",
              "      <td>0</td>\n",
              "      <td>0</td>\n",
              "      <td>0</td>\n",
              "      <td>0</td>\n",
              "      <td>0</td>\n",
              "      <td>0</td>\n",
              "      <td>0</td>\n",
              "      <td>0</td>\n",
              "      <td>0</td>\n",
              "    </tr>\n",
              "    <tr>\n",
              "      <th>2257</th>\n",
              "      <td>1990</td>\n",
              "      <td>1</td>\n",
              "      <td>3</td>\n",
              "      <td>MIL</td>\n",
              "      <td>MILITARY</td>\n",
              "      <td>F-16</td>\n",
              "      <td>A</td>\n",
              "      <td>561</td>\n",
              "      <td>NaN</td>\n",
              "      <td>NaN</td>\n",
              "      <td>...</td>\n",
              "      <td>0</td>\n",
              "      <td>0</td>\n",
              "      <td>0</td>\n",
              "      <td>0</td>\n",
              "      <td>0</td>\n",
              "      <td>0</td>\n",
              "      <td>0</td>\n",
              "      <td>0</td>\n",
              "      <td>0</td>\n",
              "      <td>0</td>\n",
              "    </tr>\n",
              "  </tbody>\n",
              "</table>\n",
              "<p>5 rows × 65 columns</p>\n",
              "</div>\n",
              "      <button class=\"colab-df-convert\" onclick=\"convertToInteractive('df-8fa40b0c-febc-42a4-992a-335db2ebdebb')\"\n",
              "              title=\"Convert this dataframe to an interactive table.\"\n",
              "              style=\"display:none;\">\n",
              "        \n",
              "  <svg xmlns=\"http://www.w3.org/2000/svg\" height=\"24px\"viewBox=\"0 0 24 24\"\n",
              "       width=\"24px\">\n",
              "    <path d=\"M0 0h24v24H0V0z\" fill=\"none\"/>\n",
              "    <path d=\"M18.56 5.44l.94 2.06.94-2.06 2.06-.94-2.06-.94-.94-2.06-.94 2.06-2.06.94zm-11 1L8.5 8.5l.94-2.06 2.06-.94-2.06-.94L8.5 2.5l-.94 2.06-2.06.94zm10 10l.94 2.06.94-2.06 2.06-.94-2.06-.94-.94-2.06-.94 2.06-2.06.94z\"/><path d=\"M17.41 7.96l-1.37-1.37c-.4-.4-.92-.59-1.43-.59-.52 0-1.04.2-1.43.59L10.3 9.45l-7.72 7.72c-.78.78-.78 2.05 0 2.83L4 21.41c.39.39.9.59 1.41.59.51 0 1.02-.2 1.41-.59l7.78-7.78 2.81-2.81c.8-.78.8-2.07 0-2.86zM5.41 20L4 18.59l7.72-7.72 1.47 1.35L5.41 20z\"/>\n",
              "  </svg>\n",
              "      </button>\n",
              "      \n",
              "  <style>\n",
              "    .colab-df-container {\n",
              "      display:flex;\n",
              "      flex-wrap:wrap;\n",
              "      gap: 12px;\n",
              "    }\n",
              "\n",
              "    .colab-df-convert {\n",
              "      background-color: #E8F0FE;\n",
              "      border: none;\n",
              "      border-radius: 50%;\n",
              "      cursor: pointer;\n",
              "      display: none;\n",
              "      fill: #1967D2;\n",
              "      height: 32px;\n",
              "      padding: 0 0 0 0;\n",
              "      width: 32px;\n",
              "    }\n",
              "\n",
              "    .colab-df-convert:hover {\n",
              "      background-color: #E2EBFA;\n",
              "      box-shadow: 0px 1px 2px rgba(60, 64, 67, 0.3), 0px 1px 3px 1px rgba(60, 64, 67, 0.15);\n",
              "      fill: #174EA6;\n",
              "    }\n",
              "\n",
              "    [theme=dark] .colab-df-convert {\n",
              "      background-color: #3B4455;\n",
              "      fill: #D2E3FC;\n",
              "    }\n",
              "\n",
              "    [theme=dark] .colab-df-convert:hover {\n",
              "      background-color: #434B5C;\n",
              "      box-shadow: 0px 1px 3px 1px rgba(0, 0, 0, 0.15);\n",
              "      filter: drop-shadow(0px 1px 2px rgba(0, 0, 0, 0.3));\n",
              "      fill: #FFFFFF;\n",
              "    }\n",
              "  </style>\n",
              "\n",
              "      <script>\n",
              "        const buttonEl =\n",
              "          document.querySelector('#df-8fa40b0c-febc-42a4-992a-335db2ebdebb button.colab-df-convert');\n",
              "        buttonEl.style.display =\n",
              "          google.colab.kernel.accessAllowed ? 'block' : 'none';\n",
              "\n",
              "        async function convertToInteractive(key) {\n",
              "          const element = document.querySelector('#df-8fa40b0c-febc-42a4-992a-335db2ebdebb');\n",
              "          const dataTable =\n",
              "            await google.colab.kernel.invokeFunction('convertToInteractive',\n",
              "                                                     [key], {});\n",
              "          if (!dataTable) return;\n",
              "\n",
              "          const docLinkHtml = 'Like what you see? Visit the ' +\n",
              "            '<a target=\"_blank\" href=https://colab.research.google.com/notebooks/data_table.ipynb>data table notebook</a>'\n",
              "            + ' to learn more about interactive tables.';\n",
              "          element.innerHTML = '';\n",
              "          dataTable['output_type'] = 'display_data';\n",
              "          await google.colab.output.renderOutput(dataTable, element);\n",
              "          const docLink = document.createElement('div');\n",
              "          docLink.innerHTML = docLinkHtml;\n",
              "          element.appendChild(docLink);\n",
              "        }\n",
              "      </script>\n",
              "    </div>\n",
              "  </div>\n",
              "  "
            ]
          },
          "metadata": {},
          "execution_count": 6
        }
      ]
    },
    {
      "cell_type": "markdown",
      "source": [
        "HIển thị một vài thông tin của dữ liệu:"
      ],
      "metadata": {
        "id": "ktY_q3Ju_nwT"
      }
    },
    {
      "cell_type": "code",
      "source": [
        "df.info()"
      ],
      "metadata": {
        "colab": {
          "base_uri": "https://localhost:8080/"
        },
        "id": "eUNuQaW_nTVr",
        "outputId": "c78f614e-c60a-43c1-a444-737b676a51ed"
      },
      "execution_count": 4,
      "outputs": [
        {
          "output_type": "stream",
          "name": "stdout",
          "text": [
            "<class 'pandas.core.frame.DataFrame'>\n",
            "RangeIndex: 174104 entries, 0 to 174103\n",
            "Data columns (total 66 columns):\n",
            " #   Column                Non-Null Count   Dtype  \n",
            "---  ------                --------------   -----  \n",
            " 0   Record ID             174104 non-null  int64  \n",
            " 1   Incident Year         174104 non-null  int64  \n",
            " 2   Incident Month        174104 non-null  int64  \n",
            " 3   Incident Day          174104 non-null  int64  \n",
            " 4   Operator ID           174104 non-null  object \n",
            " 5   Operator              174104 non-null  object \n",
            " 6   Aircraft              174104 non-null  object \n",
            " 7   Aircraft Type         133074 non-null  object \n",
            " 8   Aircraft Make         131051 non-null  object \n",
            " 9   Aircraft Model        122439 non-null  object \n",
            " 10  Aircraft Mass         127320 non-null  float64\n",
            " 11  Engine Make           123434 non-null  float64\n",
            " 12  Engine Model          121988 non-null  object \n",
            " 13  Engines               127342 non-null  float64\n",
            " 14  Engine Type           127282 non-null  object \n",
            " 15  Engine1 Position      126193 non-null  object \n",
            " 16  Engine2 Position      118715 non-null  float64\n",
            " 17  Engine3 Position      11659 non-null   object \n",
            " 18  Engine4 Position      3092 non-null    float64\n",
            " 19  Airport ID            174104 non-null  object \n",
            " 20  Airport               173814 non-null  object \n",
            " 21  State                 152128 non-null  object \n",
            " 22  FAA Region            155202 non-null  object \n",
            " 23  Warning Issued        76418 non-null   object \n",
            " 24  Flight Phase          118802 non-null  object \n",
            " 25  Visibility            109933 non-null  object \n",
            " 26  Precipitation         88322 non-null   object \n",
            " 27  Height                103677 non-null  float64\n",
            " 28  Speed                 71258 non-null   float64\n",
            " 29  Distance              99713 non-null   float64\n",
            " 30  Species ID            174104 non-null  object \n",
            " 31  Species Name          174024 non-null  object \n",
            " 32  Species Quantity      169627 non-null  object \n",
            " 33  Flight Impact         99465 non-null   object \n",
            " 34  Fatalities            565 non-null     float64\n",
            " 35  Injuries              229 non-null     float64\n",
            " 36  Aircraft Damage       174104 non-null  int64  \n",
            " 37  Radome Strike         174104 non-null  int64  \n",
            " 38  Radome Damage         174104 non-null  int64  \n",
            " 39  Windshield Strike     174104 non-null  int64  \n",
            " 40  Windshield Damage     174104 non-null  int64  \n",
            " 41  Nose Strike           174104 non-null  int64  \n",
            " 42  Nose Damage           174104 non-null  int64  \n",
            " 43  Engine1 Strike        174104 non-null  int64  \n",
            " 44  Engine1 Damage        174104 non-null  int64  \n",
            " 45  Engine2 Strike        174104 non-null  int64  \n",
            " 46  Engine2 Damage        174104 non-null  int64  \n",
            " 47  Engine3 Strike        174104 non-null  int64  \n",
            " 48  Engine3 Damage        174104 non-null  int64  \n",
            " 49  Engine4 Strike        174104 non-null  int64  \n",
            " 50  Engine4 Damage        174104 non-null  int64  \n",
            " 51  Engine Ingested       174104 non-null  int64  \n",
            " 52  Propeller Strike      174104 non-null  int64  \n",
            " 53  Propeller Damage      174104 non-null  int64  \n",
            " 54  Wing or Rotor Strike  174104 non-null  int64  \n",
            " 55  Wing or Rotor Damage  174104 non-null  int64  \n",
            " 56  Fuselage Strike       174104 non-null  int64  \n",
            " 57  Fuselage Damage       174104 non-null  int64  \n",
            " 58  Landing Gear Strike   174104 non-null  int64  \n",
            " 59  Landing Gear Damage   174104 non-null  int64  \n",
            " 60  Tail Strike           174104 non-null  int64  \n",
            " 61  Tail Damage           174104 non-null  int64  \n",
            " 62  Lights Strike         174104 non-null  int64  \n",
            " 63  Lights Damage         174104 non-null  int64  \n",
            " 64  Other Strike          174104 non-null  int64  \n",
            " 65  Other Damage          174104 non-null  int64  \n",
            "dtypes: float64(10), int64(34), object(22)\n",
            "memory usage: 87.7+ MB\n"
          ]
        }
      ]
    },
    {
      "cell_type": "markdown",
      "source": [
        "Quan sát dữ liệu ta thấy dữ liệu có nhiều giá trị rỗng nên ta tiến hành xóa các dòng có giá trị rỗng:"
      ],
      "metadata": {
        "id": "o3pfFnqN7rN7"
      }
    },
    {
      "cell_type": "code",
      "source": [
        "df_2 = df.dropna()\n",
        "df_2.shape"
      ],
      "metadata": {
        "colab": {
          "base_uri": "https://localhost:8080/"
        },
        "id": "dR_Zg2dX7yrq",
        "outputId": "b0c4e7b7-689e-4212-9476-5aaffcdb4952"
      },
      "execution_count": 42,
      "outputs": [
        {
          "output_type": "execute_result",
          "data": {
            "text/plain": [
              "(0, 65)"
            ]
          },
          "metadata": {},
          "execution_count": 42
        }
      ]
    },
    {
      "cell_type": "markdown",
      "source": [
        "Sau khi xóa các dòng có giá trị rỗng thì tập dữ liệu không còn bất kì dòng nào. Do đó, ta vẫn giữ nguyên dữ liệu ban đầu để làm việc."
      ],
      "metadata": {
        "id": "TYqr_Xu18AfU"
      }
    },
    {
      "cell_type": "markdown",
      "source": [
        "**Câu 3: Đối với các cột dữ liệu định lượng, hãy áp dụng các phép tính hướng tâm, phép tính phương\n",
        "sai – độ lệch chuẩn, các phép tính phân vị, cực đại – cực tiểu để tính các thông số cơ bản của các\n",
        "cột dữ liệu định lượng này.**"
      ],
      "metadata": {
        "id": "4Nldp-AEzJg7"
      }
    },
    {
      "cell_type": "markdown",
      "source": [
        "Ta dùng hàm describe() để tính toán các thông số của dữ liệu có khả năng là định lượng một cách nhanh chóng: Vì dữ liệu có khả năng là định lượng có 39 cột nên ta dùng hàm describe cho  4 phần để quan sát được đầy đủ các cột định lượng (Trừ Record ID, Incident Year, Incident Month, Incident Day):"
      ],
      "metadata": {
        "id": "3FEuUr3XzLES"
      }
    },
    {
      "cell_type": "code",
      "source": [
        "numeric_data = list(df.describe().columns)[4:]"
      ],
      "metadata": {
        "id": "tSdTiUnpop02"
      },
      "execution_count": 13,
      "outputs": []
    },
    {
      "cell_type": "markdown",
      "source": [
        "9 cột đầu tiên trong dữ liệu có thể là biến định lượng:"
      ],
      "metadata": {
        "id": "FYcmL93dqoC4"
      }
    },
    {
      "cell_type": "code",
      "source": [
        "result = pd.DataFrame()\n",
        "for i in range(0,9):\n",
        "  result[numeric_data[i]] = df[numeric_data[i]].describe()\n",
        "result"
      ],
      "metadata": {
        "colab": {
          "base_uri": "https://localhost:8080/",
          "height": 300
        },
        "id": "nQIqUtVW0GPy",
        "outputId": "11020bea-6c2a-4ae3-a275-9e7fc6d4eceb"
      },
      "execution_count": 10,
      "outputs": [
        {
          "output_type": "execute_result",
          "data": {
            "text/plain": [
              "         Engine Make        Engines  Engine2 Position  Engine4 Position  \\\n",
              "count  123434.000000  127342.000000     118715.000000       3092.000000   \n",
              "mean       21.306958       2.057656          2.918570          2.058538   \n",
              "std        11.023161       0.469374          2.008204          1.441000   \n",
              "min         1.000000       1.000000          1.000000          1.000000   \n",
              "25%        10.000000       2.000000          1.000000          1.000000   \n",
              "50%        22.000000       2.000000          1.000000          1.000000   \n",
              "75%        34.000000       2.000000          5.000000          4.000000   \n",
              "max        92.000000       4.000000          7.000000          5.000000   \n",
              "\n",
              "              Height         Speed      Distance  Fatalities    Injuries  \n",
              "count  103677.000000  71258.000000  99713.000000  565.000000  229.000000  \n",
              "mean      831.032283    141.925622      0.703738    0.046018    1.746725  \n",
              "std      1803.650833     46.905651      3.464467    0.435164    6.571239  \n",
              "min         0.000000      0.000000      0.000000    0.000000    1.000000  \n",
              "25%         0.000000    120.000000      0.000000    0.000000    1.000000  \n",
              "50%        50.000000    138.000000      0.000000    0.000000    1.000000  \n",
              "75%       800.000000    160.000000      0.000000    0.000000    1.000000  \n",
              "max     31300.000000   2500.000000    150.000000    8.000000  100.000000  "
            ],
            "text/html": [
              "\n",
              "  <div id=\"df-34e86a3b-4205-4a94-864d-1d2a705abb4f\">\n",
              "    <div class=\"colab-df-container\">\n",
              "      <div>\n",
              "<style scoped>\n",
              "    .dataframe tbody tr th:only-of-type {\n",
              "        vertical-align: middle;\n",
              "    }\n",
              "\n",
              "    .dataframe tbody tr th {\n",
              "        vertical-align: top;\n",
              "    }\n",
              "\n",
              "    .dataframe thead th {\n",
              "        text-align: right;\n",
              "    }\n",
              "</style>\n",
              "<table border=\"1\" class=\"dataframe\">\n",
              "  <thead>\n",
              "    <tr style=\"text-align: right;\">\n",
              "      <th></th>\n",
              "      <th>Engine Make</th>\n",
              "      <th>Engines</th>\n",
              "      <th>Engine2 Position</th>\n",
              "      <th>Engine4 Position</th>\n",
              "      <th>Height</th>\n",
              "      <th>Speed</th>\n",
              "      <th>Distance</th>\n",
              "      <th>Fatalities</th>\n",
              "      <th>Injuries</th>\n",
              "    </tr>\n",
              "  </thead>\n",
              "  <tbody>\n",
              "    <tr>\n",
              "      <th>count</th>\n",
              "      <td>123434.000000</td>\n",
              "      <td>127342.000000</td>\n",
              "      <td>118715.000000</td>\n",
              "      <td>3092.000000</td>\n",
              "      <td>103677.000000</td>\n",
              "      <td>71258.000000</td>\n",
              "      <td>99713.000000</td>\n",
              "      <td>565.000000</td>\n",
              "      <td>229.000000</td>\n",
              "    </tr>\n",
              "    <tr>\n",
              "      <th>mean</th>\n",
              "      <td>21.306958</td>\n",
              "      <td>2.057656</td>\n",
              "      <td>2.918570</td>\n",
              "      <td>2.058538</td>\n",
              "      <td>831.032283</td>\n",
              "      <td>141.925622</td>\n",
              "      <td>0.703738</td>\n",
              "      <td>0.046018</td>\n",
              "      <td>1.746725</td>\n",
              "    </tr>\n",
              "    <tr>\n",
              "      <th>std</th>\n",
              "      <td>11.023161</td>\n",
              "      <td>0.469374</td>\n",
              "      <td>2.008204</td>\n",
              "      <td>1.441000</td>\n",
              "      <td>1803.650833</td>\n",
              "      <td>46.905651</td>\n",
              "      <td>3.464467</td>\n",
              "      <td>0.435164</td>\n",
              "      <td>6.571239</td>\n",
              "    </tr>\n",
              "    <tr>\n",
              "      <th>min</th>\n",
              "      <td>1.000000</td>\n",
              "      <td>1.000000</td>\n",
              "      <td>1.000000</td>\n",
              "      <td>1.000000</td>\n",
              "      <td>0.000000</td>\n",
              "      <td>0.000000</td>\n",
              "      <td>0.000000</td>\n",
              "      <td>0.000000</td>\n",
              "      <td>1.000000</td>\n",
              "    </tr>\n",
              "    <tr>\n",
              "      <th>25%</th>\n",
              "      <td>10.000000</td>\n",
              "      <td>2.000000</td>\n",
              "      <td>1.000000</td>\n",
              "      <td>1.000000</td>\n",
              "      <td>0.000000</td>\n",
              "      <td>120.000000</td>\n",
              "      <td>0.000000</td>\n",
              "      <td>0.000000</td>\n",
              "      <td>1.000000</td>\n",
              "    </tr>\n",
              "    <tr>\n",
              "      <th>50%</th>\n",
              "      <td>22.000000</td>\n",
              "      <td>2.000000</td>\n",
              "      <td>1.000000</td>\n",
              "      <td>1.000000</td>\n",
              "      <td>50.000000</td>\n",
              "      <td>138.000000</td>\n",
              "      <td>0.000000</td>\n",
              "      <td>0.000000</td>\n",
              "      <td>1.000000</td>\n",
              "    </tr>\n",
              "    <tr>\n",
              "      <th>75%</th>\n",
              "      <td>34.000000</td>\n",
              "      <td>2.000000</td>\n",
              "      <td>5.000000</td>\n",
              "      <td>4.000000</td>\n",
              "      <td>800.000000</td>\n",
              "      <td>160.000000</td>\n",
              "      <td>0.000000</td>\n",
              "      <td>0.000000</td>\n",
              "      <td>1.000000</td>\n",
              "    </tr>\n",
              "    <tr>\n",
              "      <th>max</th>\n",
              "      <td>92.000000</td>\n",
              "      <td>4.000000</td>\n",
              "      <td>7.000000</td>\n",
              "      <td>5.000000</td>\n",
              "      <td>31300.000000</td>\n",
              "      <td>2500.000000</td>\n",
              "      <td>150.000000</td>\n",
              "      <td>8.000000</td>\n",
              "      <td>100.000000</td>\n",
              "    </tr>\n",
              "  </tbody>\n",
              "</table>\n",
              "</div>\n",
              "      <button class=\"colab-df-convert\" onclick=\"convertToInteractive('df-34e86a3b-4205-4a94-864d-1d2a705abb4f')\"\n",
              "              title=\"Convert this dataframe to an interactive table.\"\n",
              "              style=\"display:none;\">\n",
              "        \n",
              "  <svg xmlns=\"http://www.w3.org/2000/svg\" height=\"24px\"viewBox=\"0 0 24 24\"\n",
              "       width=\"24px\">\n",
              "    <path d=\"M0 0h24v24H0V0z\" fill=\"none\"/>\n",
              "    <path d=\"M18.56 5.44l.94 2.06.94-2.06 2.06-.94-2.06-.94-.94-2.06-.94 2.06-2.06.94zm-11 1L8.5 8.5l.94-2.06 2.06-.94-2.06-.94L8.5 2.5l-.94 2.06-2.06.94zm10 10l.94 2.06.94-2.06 2.06-.94-2.06-.94-.94-2.06-.94 2.06-2.06.94z\"/><path d=\"M17.41 7.96l-1.37-1.37c-.4-.4-.92-.59-1.43-.59-.52 0-1.04.2-1.43.59L10.3 9.45l-7.72 7.72c-.78.78-.78 2.05 0 2.83L4 21.41c.39.39.9.59 1.41.59.51 0 1.02-.2 1.41-.59l7.78-7.78 2.81-2.81c.8-.78.8-2.07 0-2.86zM5.41 20L4 18.59l7.72-7.72 1.47 1.35L5.41 20z\"/>\n",
              "  </svg>\n",
              "      </button>\n",
              "      \n",
              "  <style>\n",
              "    .colab-df-container {\n",
              "      display:flex;\n",
              "      flex-wrap:wrap;\n",
              "      gap: 12px;\n",
              "    }\n",
              "\n",
              "    .colab-df-convert {\n",
              "      background-color: #E8F0FE;\n",
              "      border: none;\n",
              "      border-radius: 50%;\n",
              "      cursor: pointer;\n",
              "      display: none;\n",
              "      fill: #1967D2;\n",
              "      height: 32px;\n",
              "      padding: 0 0 0 0;\n",
              "      width: 32px;\n",
              "    }\n",
              "\n",
              "    .colab-df-convert:hover {\n",
              "      background-color: #E2EBFA;\n",
              "      box-shadow: 0px 1px 2px rgba(60, 64, 67, 0.3), 0px 1px 3px 1px rgba(60, 64, 67, 0.15);\n",
              "      fill: #174EA6;\n",
              "    }\n",
              "\n",
              "    [theme=dark] .colab-df-convert {\n",
              "      background-color: #3B4455;\n",
              "      fill: #D2E3FC;\n",
              "    }\n",
              "\n",
              "    [theme=dark] .colab-df-convert:hover {\n",
              "      background-color: #434B5C;\n",
              "      box-shadow: 0px 1px 3px 1px rgba(0, 0, 0, 0.15);\n",
              "      filter: drop-shadow(0px 1px 2px rgba(0, 0, 0, 0.3));\n",
              "      fill: #FFFFFF;\n",
              "    }\n",
              "  </style>\n",
              "\n",
              "      <script>\n",
              "        const buttonEl =\n",
              "          document.querySelector('#df-34e86a3b-4205-4a94-864d-1d2a705abb4f button.colab-df-convert');\n",
              "        buttonEl.style.display =\n",
              "          google.colab.kernel.accessAllowed ? 'block' : 'none';\n",
              "\n",
              "        async function convertToInteractive(key) {\n",
              "          const element = document.querySelector('#df-34e86a3b-4205-4a94-864d-1d2a705abb4f');\n",
              "          const dataTable =\n",
              "            await google.colab.kernel.invokeFunction('convertToInteractive',\n",
              "                                                     [key], {});\n",
              "          if (!dataTable) return;\n",
              "\n",
              "          const docLinkHtml = 'Like what you see? Visit the ' +\n",
              "            '<a target=\"_blank\" href=https://colab.research.google.com/notebooks/data_table.ipynb>data table notebook</a>'\n",
              "            + ' to learn more about interactive tables.';\n",
              "          element.innerHTML = '';\n",
              "          dataTable['output_type'] = 'display_data';\n",
              "          await google.colab.output.renderOutput(dataTable, element);\n",
              "          const docLink = document.createElement('div');\n",
              "          docLink.innerHTML = docLinkHtml;\n",
              "          element.appendChild(docLink);\n",
              "        }\n",
              "      </script>\n",
              "    </div>\n",
              "  </div>\n",
              "  "
            ]
          },
          "metadata": {},
          "execution_count": 10
        }
      ]
    },
    {
      "cell_type": "markdown",
      "source": [
        "10 cột thứ 2 trong dữ liệu có khả năng định lượng:"
      ],
      "metadata": {
        "id": "6XytCRMWqsHK"
      }
    },
    {
      "cell_type": "code",
      "source": [
        "result = pd.DataFrame()\n",
        "for i in range(10,20):\n",
        "  result[numeric_data[i]] = df[numeric_data[i]].describe()\n",
        "result"
      ],
      "metadata": {
        "colab": {
          "base_uri": "https://localhost:8080/",
          "height": 300
        },
        "id": "nUysWB0Yqxjq",
        "outputId": "f18e29e2-4b57-44b5-cc83-be31b09887f8"
      },
      "execution_count": null,
      "outputs": [
        {
          "output_type": "execute_result",
          "data": {
            "text/plain": [
              "       Aircraft Damage  Radome Strike  Radome Damage  Windshield Strike  \\\n",
              "count    174104.000000  174104.000000  174104.000000      174104.000000   \n",
              "mean          0.085977       0.107757       0.009150           0.138934   \n",
              "std           0.280331       0.310075       0.095216           0.345879   \n",
              "min           0.000000       0.000000       0.000000           0.000000   \n",
              "25%           0.000000       0.000000       0.000000           0.000000   \n",
              "50%           0.000000       0.000000       0.000000           0.000000   \n",
              "75%           0.000000       0.000000       0.000000           0.000000   \n",
              "max           1.000000       1.000000       1.000000           1.000000   \n",
              "\n",
              "       Windshield Damage    Nose Strike    Nose Damage  Engine1 Strike  \\\n",
              "count      174104.000000  174104.000000  174104.000000   174104.000000   \n",
              "mean            0.005956       0.122369       0.006577        0.055605   \n",
              "std             0.076947       0.327713       0.080829        0.229157   \n",
              "min             0.000000       0.000000       0.000000        0.000000   \n",
              "25%             0.000000       0.000000       0.000000        0.000000   \n",
              "50%             0.000000       0.000000       0.000000        0.000000   \n",
              "75%             0.000000       0.000000       0.000000        0.000000   \n",
              "max             1.000000       1.000000       1.000000        1.000000   \n",
              "\n",
              "       Engine1 Damage  Engine2 Strike  \n",
              "count   174104.000000   174104.000000  \n",
              "mean         0.014445        0.045168  \n",
              "std          0.119318        0.207674  \n",
              "min          0.000000        0.000000  \n",
              "25%          0.000000        0.000000  \n",
              "50%          0.000000        0.000000  \n",
              "75%          0.000000        0.000000  \n",
              "max          1.000000        1.000000  "
            ],
            "text/html": [
              "\n",
              "  <div id=\"df-51b52546-bcbf-48b5-8566-d31c9d06c52e\">\n",
              "    <div class=\"colab-df-container\">\n",
              "      <div>\n",
              "<style scoped>\n",
              "    .dataframe tbody tr th:only-of-type {\n",
              "        vertical-align: middle;\n",
              "    }\n",
              "\n",
              "    .dataframe tbody tr th {\n",
              "        vertical-align: top;\n",
              "    }\n",
              "\n",
              "    .dataframe thead th {\n",
              "        text-align: right;\n",
              "    }\n",
              "</style>\n",
              "<table border=\"1\" class=\"dataframe\">\n",
              "  <thead>\n",
              "    <tr style=\"text-align: right;\">\n",
              "      <th></th>\n",
              "      <th>Aircraft Damage</th>\n",
              "      <th>Radome Strike</th>\n",
              "      <th>Radome Damage</th>\n",
              "      <th>Windshield Strike</th>\n",
              "      <th>Windshield Damage</th>\n",
              "      <th>Nose Strike</th>\n",
              "      <th>Nose Damage</th>\n",
              "      <th>Engine1 Strike</th>\n",
              "      <th>Engine1 Damage</th>\n",
              "      <th>Engine2 Strike</th>\n",
              "    </tr>\n",
              "  </thead>\n",
              "  <tbody>\n",
              "    <tr>\n",
              "      <th>count</th>\n",
              "      <td>174104.000000</td>\n",
              "      <td>174104.000000</td>\n",
              "      <td>174104.000000</td>\n",
              "      <td>174104.000000</td>\n",
              "      <td>174104.000000</td>\n",
              "      <td>174104.000000</td>\n",
              "      <td>174104.000000</td>\n",
              "      <td>174104.000000</td>\n",
              "      <td>174104.000000</td>\n",
              "      <td>174104.000000</td>\n",
              "    </tr>\n",
              "    <tr>\n",
              "      <th>mean</th>\n",
              "      <td>0.085977</td>\n",
              "      <td>0.107757</td>\n",
              "      <td>0.009150</td>\n",
              "      <td>0.138934</td>\n",
              "      <td>0.005956</td>\n",
              "      <td>0.122369</td>\n",
              "      <td>0.006577</td>\n",
              "      <td>0.055605</td>\n",
              "      <td>0.014445</td>\n",
              "      <td>0.045168</td>\n",
              "    </tr>\n",
              "    <tr>\n",
              "      <th>std</th>\n",
              "      <td>0.280331</td>\n",
              "      <td>0.310075</td>\n",
              "      <td>0.095216</td>\n",
              "      <td>0.345879</td>\n",
              "      <td>0.076947</td>\n",
              "      <td>0.327713</td>\n",
              "      <td>0.080829</td>\n",
              "      <td>0.229157</td>\n",
              "      <td>0.119318</td>\n",
              "      <td>0.207674</td>\n",
              "    </tr>\n",
              "    <tr>\n",
              "      <th>min</th>\n",
              "      <td>0.000000</td>\n",
              "      <td>0.000000</td>\n",
              "      <td>0.000000</td>\n",
              "      <td>0.000000</td>\n",
              "      <td>0.000000</td>\n",
              "      <td>0.000000</td>\n",
              "      <td>0.000000</td>\n",
              "      <td>0.000000</td>\n",
              "      <td>0.000000</td>\n",
              "      <td>0.000000</td>\n",
              "    </tr>\n",
              "    <tr>\n",
              "      <th>25%</th>\n",
              "      <td>0.000000</td>\n",
              "      <td>0.000000</td>\n",
              "      <td>0.000000</td>\n",
              "      <td>0.000000</td>\n",
              "      <td>0.000000</td>\n",
              "      <td>0.000000</td>\n",
              "      <td>0.000000</td>\n",
              "      <td>0.000000</td>\n",
              "      <td>0.000000</td>\n",
              "      <td>0.000000</td>\n",
              "    </tr>\n",
              "    <tr>\n",
              "      <th>50%</th>\n",
              "      <td>0.000000</td>\n",
              "      <td>0.000000</td>\n",
              "      <td>0.000000</td>\n",
              "      <td>0.000000</td>\n",
              "      <td>0.000000</td>\n",
              "      <td>0.000000</td>\n",
              "      <td>0.000000</td>\n",
              "      <td>0.000000</td>\n",
              "      <td>0.000000</td>\n",
              "      <td>0.000000</td>\n",
              "    </tr>\n",
              "    <tr>\n",
              "      <th>75%</th>\n",
              "      <td>0.000000</td>\n",
              "      <td>0.000000</td>\n",
              "      <td>0.000000</td>\n",
              "      <td>0.000000</td>\n",
              "      <td>0.000000</td>\n",
              "      <td>0.000000</td>\n",
              "      <td>0.000000</td>\n",
              "      <td>0.000000</td>\n",
              "      <td>0.000000</td>\n",
              "      <td>0.000000</td>\n",
              "    </tr>\n",
              "    <tr>\n",
              "      <th>max</th>\n",
              "      <td>1.000000</td>\n",
              "      <td>1.000000</td>\n",
              "      <td>1.000000</td>\n",
              "      <td>1.000000</td>\n",
              "      <td>1.000000</td>\n",
              "      <td>1.000000</td>\n",
              "      <td>1.000000</td>\n",
              "      <td>1.000000</td>\n",
              "      <td>1.000000</td>\n",
              "      <td>1.000000</td>\n",
              "    </tr>\n",
              "  </tbody>\n",
              "</table>\n",
              "</div>\n",
              "      <button class=\"colab-df-convert\" onclick=\"convertToInteractive('df-51b52546-bcbf-48b5-8566-d31c9d06c52e')\"\n",
              "              title=\"Convert this dataframe to an interactive table.\"\n",
              "              style=\"display:none;\">\n",
              "        \n",
              "  <svg xmlns=\"http://www.w3.org/2000/svg\" height=\"24px\"viewBox=\"0 0 24 24\"\n",
              "       width=\"24px\">\n",
              "    <path d=\"M0 0h24v24H0V0z\" fill=\"none\"/>\n",
              "    <path d=\"M18.56 5.44l.94 2.06.94-2.06 2.06-.94-2.06-.94-.94-2.06-.94 2.06-2.06.94zm-11 1L8.5 8.5l.94-2.06 2.06-.94-2.06-.94L8.5 2.5l-.94 2.06-2.06.94zm10 10l.94 2.06.94-2.06 2.06-.94-2.06-.94-.94-2.06-.94 2.06-2.06.94z\"/><path d=\"M17.41 7.96l-1.37-1.37c-.4-.4-.92-.59-1.43-.59-.52 0-1.04.2-1.43.59L10.3 9.45l-7.72 7.72c-.78.78-.78 2.05 0 2.83L4 21.41c.39.39.9.59 1.41.59.51 0 1.02-.2 1.41-.59l7.78-7.78 2.81-2.81c.8-.78.8-2.07 0-2.86zM5.41 20L4 18.59l7.72-7.72 1.47 1.35L5.41 20z\"/>\n",
              "  </svg>\n",
              "      </button>\n",
              "      \n",
              "  <style>\n",
              "    .colab-df-container {\n",
              "      display:flex;\n",
              "      flex-wrap:wrap;\n",
              "      gap: 12px;\n",
              "    }\n",
              "\n",
              "    .colab-df-convert {\n",
              "      background-color: #E8F0FE;\n",
              "      border: none;\n",
              "      border-radius: 50%;\n",
              "      cursor: pointer;\n",
              "      display: none;\n",
              "      fill: #1967D2;\n",
              "      height: 32px;\n",
              "      padding: 0 0 0 0;\n",
              "      width: 32px;\n",
              "    }\n",
              "\n",
              "    .colab-df-convert:hover {\n",
              "      background-color: #E2EBFA;\n",
              "      box-shadow: 0px 1px 2px rgba(60, 64, 67, 0.3), 0px 1px 3px 1px rgba(60, 64, 67, 0.15);\n",
              "      fill: #174EA6;\n",
              "    }\n",
              "\n",
              "    [theme=dark] .colab-df-convert {\n",
              "      background-color: #3B4455;\n",
              "      fill: #D2E3FC;\n",
              "    }\n",
              "\n",
              "    [theme=dark] .colab-df-convert:hover {\n",
              "      background-color: #434B5C;\n",
              "      box-shadow: 0px 1px 3px 1px rgba(0, 0, 0, 0.15);\n",
              "      filter: drop-shadow(0px 1px 2px rgba(0, 0, 0, 0.3));\n",
              "      fill: #FFFFFF;\n",
              "    }\n",
              "  </style>\n",
              "\n",
              "      <script>\n",
              "        const buttonEl =\n",
              "          document.querySelector('#df-51b52546-bcbf-48b5-8566-d31c9d06c52e button.colab-df-convert');\n",
              "        buttonEl.style.display =\n",
              "          google.colab.kernel.accessAllowed ? 'block' : 'none';\n",
              "\n",
              "        async function convertToInteractive(key) {\n",
              "          const element = document.querySelector('#df-51b52546-bcbf-48b5-8566-d31c9d06c52e');\n",
              "          const dataTable =\n",
              "            await google.colab.kernel.invokeFunction('convertToInteractive',\n",
              "                                                     [key], {});\n",
              "          if (!dataTable) return;\n",
              "\n",
              "          const docLinkHtml = 'Like what you see? Visit the ' +\n",
              "            '<a target=\"_blank\" href=https://colab.research.google.com/notebooks/data_table.ipynb>data table notebook</a>'\n",
              "            + ' to learn more about interactive tables.';\n",
              "          element.innerHTML = '';\n",
              "          dataTable['output_type'] = 'display_data';\n",
              "          await google.colab.output.renderOutput(dataTable, element);\n",
              "          const docLink = document.createElement('div');\n",
              "          docLink.innerHTML = docLinkHtml;\n",
              "          element.appendChild(docLink);\n",
              "        }\n",
              "      </script>\n",
              "    </div>\n",
              "  </div>\n",
              "  "
            ]
          },
          "metadata": {},
          "execution_count": 7
        }
      ]
    },
    {
      "cell_type": "markdown",
      "source": [
        "10 cột thứ 3 trong dữ liệu có thể là dữ liệu định lượng:"
      ],
      "metadata": {
        "id": "zXOWjWRyrHYH"
      }
    },
    {
      "cell_type": "code",
      "source": [
        "result = pd.DataFrame()\n",
        "for i in range(20,30):\n",
        "  result[numeric_data[i]] = df[numeric_data[i]].describe()\n",
        "result"
      ],
      "metadata": {
        "colab": {
          "base_uri": "https://localhost:8080/",
          "height": 344
        },
        "id": "zFZOVS1BrKqM",
        "outputId": "0794421a-fc3c-4bbe-f9d2-a0945c58984e"
      },
      "execution_count": null,
      "outputs": [
        {
          "output_type": "execute_result",
          "data": {
            "text/plain": [
              "       Engine2 Damage  Engine3 Strike  Engine3 Damage  Engine4 Strike  \\\n",
              "count   174104.000000   174104.000000   174104.000000   174104.000000   \n",
              "mean         0.011619        0.003182        0.000971        0.001918   \n",
              "std          0.107166        0.056320        0.031141        0.043758   \n",
              "min          0.000000        0.000000        0.000000        0.000000   \n",
              "25%          0.000000        0.000000        0.000000        0.000000   \n",
              "50%          0.000000        0.000000        0.000000        0.000000   \n",
              "75%          0.000000        0.000000        0.000000        0.000000   \n",
              "max          1.000000        1.000000        1.000000        1.000000   \n",
              "\n",
              "       Engine4 Damage  Engine Ingested  Propeller Strike  Propeller Damage  \\\n",
              "count   174104.000000    174104.000000     174104.000000     174104.000000   \n",
              "mean         0.000425         0.055180          0.020086          0.003326   \n",
              "std          0.020612         0.228331          0.140294          0.057572   \n",
              "min          0.000000         0.000000          0.000000          0.000000   \n",
              "25%          0.000000         0.000000          0.000000          0.000000   \n",
              "50%          0.000000         0.000000          0.000000          0.000000   \n",
              "75%          0.000000         0.000000          0.000000          0.000000   \n",
              "max          1.000000         1.000000          1.000000          1.000000   \n",
              "\n",
              "       Wing or Rotor Strike  Wing or Rotor Damage  \n",
              "count         174104.000000         174104.000000  \n",
              "mean               0.119159              0.024009  \n",
              "std                0.323976              0.153076  \n",
              "min                0.000000              0.000000  \n",
              "25%                0.000000              0.000000  \n",
              "50%                0.000000              0.000000  \n",
              "75%                0.000000              0.000000  \n",
              "max                1.000000              1.000000  "
            ],
            "text/html": [
              "\n",
              "  <div id=\"df-518df49b-2274-49a9-90ee-4b2f331d4cba\">\n",
              "    <div class=\"colab-df-container\">\n",
              "      <div>\n",
              "<style scoped>\n",
              "    .dataframe tbody tr th:only-of-type {\n",
              "        vertical-align: middle;\n",
              "    }\n",
              "\n",
              "    .dataframe tbody tr th {\n",
              "        vertical-align: top;\n",
              "    }\n",
              "\n",
              "    .dataframe thead th {\n",
              "        text-align: right;\n",
              "    }\n",
              "</style>\n",
              "<table border=\"1\" class=\"dataframe\">\n",
              "  <thead>\n",
              "    <tr style=\"text-align: right;\">\n",
              "      <th></th>\n",
              "      <th>Engine2 Damage</th>\n",
              "      <th>Engine3 Strike</th>\n",
              "      <th>Engine3 Damage</th>\n",
              "      <th>Engine4 Strike</th>\n",
              "      <th>Engine4 Damage</th>\n",
              "      <th>Engine Ingested</th>\n",
              "      <th>Propeller Strike</th>\n",
              "      <th>Propeller Damage</th>\n",
              "      <th>Wing or Rotor Strike</th>\n",
              "      <th>Wing or Rotor Damage</th>\n",
              "    </tr>\n",
              "  </thead>\n",
              "  <tbody>\n",
              "    <tr>\n",
              "      <th>count</th>\n",
              "      <td>174104.000000</td>\n",
              "      <td>174104.000000</td>\n",
              "      <td>174104.000000</td>\n",
              "      <td>174104.000000</td>\n",
              "      <td>174104.000000</td>\n",
              "      <td>174104.000000</td>\n",
              "      <td>174104.000000</td>\n",
              "      <td>174104.000000</td>\n",
              "      <td>174104.000000</td>\n",
              "      <td>174104.000000</td>\n",
              "    </tr>\n",
              "    <tr>\n",
              "      <th>mean</th>\n",
              "      <td>0.011619</td>\n",
              "      <td>0.003182</td>\n",
              "      <td>0.000971</td>\n",
              "      <td>0.001918</td>\n",
              "      <td>0.000425</td>\n",
              "      <td>0.055180</td>\n",
              "      <td>0.020086</td>\n",
              "      <td>0.003326</td>\n",
              "      <td>0.119159</td>\n",
              "      <td>0.024009</td>\n",
              "    </tr>\n",
              "    <tr>\n",
              "      <th>std</th>\n",
              "      <td>0.107166</td>\n",
              "      <td>0.056320</td>\n",
              "      <td>0.031141</td>\n",
              "      <td>0.043758</td>\n",
              "      <td>0.020612</td>\n",
              "      <td>0.228331</td>\n",
              "      <td>0.140294</td>\n",
              "      <td>0.057572</td>\n",
              "      <td>0.323976</td>\n",
              "      <td>0.153076</td>\n",
              "    </tr>\n",
              "    <tr>\n",
              "      <th>min</th>\n",
              "      <td>0.000000</td>\n",
              "      <td>0.000000</td>\n",
              "      <td>0.000000</td>\n",
              "      <td>0.000000</td>\n",
              "      <td>0.000000</td>\n",
              "      <td>0.000000</td>\n",
              "      <td>0.000000</td>\n",
              "      <td>0.000000</td>\n",
              "      <td>0.000000</td>\n",
              "      <td>0.000000</td>\n",
              "    </tr>\n",
              "    <tr>\n",
              "      <th>25%</th>\n",
              "      <td>0.000000</td>\n",
              "      <td>0.000000</td>\n",
              "      <td>0.000000</td>\n",
              "      <td>0.000000</td>\n",
              "      <td>0.000000</td>\n",
              "      <td>0.000000</td>\n",
              "      <td>0.000000</td>\n",
              "      <td>0.000000</td>\n",
              "      <td>0.000000</td>\n",
              "      <td>0.000000</td>\n",
              "    </tr>\n",
              "    <tr>\n",
              "      <th>50%</th>\n",
              "      <td>0.000000</td>\n",
              "      <td>0.000000</td>\n",
              "      <td>0.000000</td>\n",
              "      <td>0.000000</td>\n",
              "      <td>0.000000</td>\n",
              "      <td>0.000000</td>\n",
              "      <td>0.000000</td>\n",
              "      <td>0.000000</td>\n",
              "      <td>0.000000</td>\n",
              "      <td>0.000000</td>\n",
              "    </tr>\n",
              "    <tr>\n",
              "      <th>75%</th>\n",
              "      <td>0.000000</td>\n",
              "      <td>0.000000</td>\n",
              "      <td>0.000000</td>\n",
              "      <td>0.000000</td>\n",
              "      <td>0.000000</td>\n",
              "      <td>0.000000</td>\n",
              "      <td>0.000000</td>\n",
              "      <td>0.000000</td>\n",
              "      <td>0.000000</td>\n",
              "      <td>0.000000</td>\n",
              "    </tr>\n",
              "    <tr>\n",
              "      <th>max</th>\n",
              "      <td>1.000000</td>\n",
              "      <td>1.000000</td>\n",
              "      <td>1.000000</td>\n",
              "      <td>1.000000</td>\n",
              "      <td>1.000000</td>\n",
              "      <td>1.000000</td>\n",
              "      <td>1.000000</td>\n",
              "      <td>1.000000</td>\n",
              "      <td>1.000000</td>\n",
              "      <td>1.000000</td>\n",
              "    </tr>\n",
              "  </tbody>\n",
              "</table>\n",
              "</div>\n",
              "      <button class=\"colab-df-convert\" onclick=\"convertToInteractive('df-518df49b-2274-49a9-90ee-4b2f331d4cba')\"\n",
              "              title=\"Convert this dataframe to an interactive table.\"\n",
              "              style=\"display:none;\">\n",
              "        \n",
              "  <svg xmlns=\"http://www.w3.org/2000/svg\" height=\"24px\"viewBox=\"0 0 24 24\"\n",
              "       width=\"24px\">\n",
              "    <path d=\"M0 0h24v24H0V0z\" fill=\"none\"/>\n",
              "    <path d=\"M18.56 5.44l.94 2.06.94-2.06 2.06-.94-2.06-.94-.94-2.06-.94 2.06-2.06.94zm-11 1L8.5 8.5l.94-2.06 2.06-.94-2.06-.94L8.5 2.5l-.94 2.06-2.06.94zm10 10l.94 2.06.94-2.06 2.06-.94-2.06-.94-.94-2.06-.94 2.06-2.06.94z\"/><path d=\"M17.41 7.96l-1.37-1.37c-.4-.4-.92-.59-1.43-.59-.52 0-1.04.2-1.43.59L10.3 9.45l-7.72 7.72c-.78.78-.78 2.05 0 2.83L4 21.41c.39.39.9.59 1.41.59.51 0 1.02-.2 1.41-.59l7.78-7.78 2.81-2.81c.8-.78.8-2.07 0-2.86zM5.41 20L4 18.59l7.72-7.72 1.47 1.35L5.41 20z\"/>\n",
              "  </svg>\n",
              "      </button>\n",
              "      \n",
              "  <style>\n",
              "    .colab-df-container {\n",
              "      display:flex;\n",
              "      flex-wrap:wrap;\n",
              "      gap: 12px;\n",
              "    }\n",
              "\n",
              "    .colab-df-convert {\n",
              "      background-color: #E8F0FE;\n",
              "      border: none;\n",
              "      border-radius: 50%;\n",
              "      cursor: pointer;\n",
              "      display: none;\n",
              "      fill: #1967D2;\n",
              "      height: 32px;\n",
              "      padding: 0 0 0 0;\n",
              "      width: 32px;\n",
              "    }\n",
              "\n",
              "    .colab-df-convert:hover {\n",
              "      background-color: #E2EBFA;\n",
              "      box-shadow: 0px 1px 2px rgba(60, 64, 67, 0.3), 0px 1px 3px 1px rgba(60, 64, 67, 0.15);\n",
              "      fill: #174EA6;\n",
              "    }\n",
              "\n",
              "    [theme=dark] .colab-df-convert {\n",
              "      background-color: #3B4455;\n",
              "      fill: #D2E3FC;\n",
              "    }\n",
              "\n",
              "    [theme=dark] .colab-df-convert:hover {\n",
              "      background-color: #434B5C;\n",
              "      box-shadow: 0px 1px 3px 1px rgba(0, 0, 0, 0.15);\n",
              "      filter: drop-shadow(0px 1px 2px rgba(0, 0, 0, 0.3));\n",
              "      fill: #FFFFFF;\n",
              "    }\n",
              "  </style>\n",
              "\n",
              "      <script>\n",
              "        const buttonEl =\n",
              "          document.querySelector('#df-518df49b-2274-49a9-90ee-4b2f331d4cba button.colab-df-convert');\n",
              "        buttonEl.style.display =\n",
              "          google.colab.kernel.accessAllowed ? 'block' : 'none';\n",
              "\n",
              "        async function convertToInteractive(key) {\n",
              "          const element = document.querySelector('#df-518df49b-2274-49a9-90ee-4b2f331d4cba');\n",
              "          const dataTable =\n",
              "            await google.colab.kernel.invokeFunction('convertToInteractive',\n",
              "                                                     [key], {});\n",
              "          if (!dataTable) return;\n",
              "\n",
              "          const docLinkHtml = 'Like what you see? Visit the ' +\n",
              "            '<a target=\"_blank\" href=https://colab.research.google.com/notebooks/data_table.ipynb>data table notebook</a>'\n",
              "            + ' to learn more about interactive tables.';\n",
              "          element.innerHTML = '';\n",
              "          dataTable['output_type'] = 'display_data';\n",
              "          await google.colab.output.renderOutput(dataTable, element);\n",
              "          const docLink = document.createElement('div');\n",
              "          docLink.innerHTML = docLinkHtml;\n",
              "          element.appendChild(docLink);\n",
              "        }\n",
              "      </script>\n",
              "    </div>\n",
              "  </div>\n",
              "  "
            ]
          },
          "metadata": {},
          "execution_count": 8
        }
      ]
    },
    {
      "cell_type": "markdown",
      "source": [
        "10 cột cuối cùng trong dữ liệu có thể là dữ liệu định lượng:"
      ],
      "metadata": {
        "id": "joS-rqa0rQA1"
      }
    },
    {
      "cell_type": "code",
      "source": [
        "result = pd.DataFrame()\n",
        "for i in range(30,40):\n",
        "  result[numeric_data[i]] = df[numeric_data[i]].describe()\n",
        "result"
      ],
      "metadata": {
        "colab": {
          "base_uri": "https://localhost:8080/",
          "height": 300
        },
        "id": "f_KMPXlirsAb",
        "outputId": "d47a21ee-25d9-42fc-9ee4-abac67b3bc61"
      },
      "execution_count": null,
      "outputs": [
        {
          "output_type": "execute_result",
          "data": {
            "text/plain": [
              "       Fuselage Strike  Fuselage Damage  Landing Gear Strike  \\\n",
              "count    174104.000000    174104.000000        174104.000000   \n",
              "mean          0.102703         0.004733             0.046242   \n",
              "std           0.303571         0.068633             0.210010   \n",
              "min           0.000000         0.000000             0.000000   \n",
              "25%           0.000000         0.000000             0.000000   \n",
              "50%           0.000000         0.000000             0.000000   \n",
              "75%           0.000000         0.000000             0.000000   \n",
              "max           1.000000         1.000000             1.000000   \n",
              "\n",
              "       Landing Gear Damage    Tail Strike    Tail Damage  Lights Strike  \\\n",
              "count        174104.000000  174104.000000  174104.000000  174104.000000   \n",
              "mean              0.005813       0.011235       0.004176       0.005962   \n",
              "std               0.076019       0.105397       0.064485       0.076983   \n",
              "min               0.000000       0.000000       0.000000       0.000000   \n",
              "25%               0.000000       0.000000       0.000000       0.000000   \n",
              "50%               0.000000       0.000000       0.000000       0.000000   \n",
              "75%               0.000000       0.000000       0.000000       0.000000   \n",
              "max               1.000000       1.000000       1.000000       1.000000   \n",
              "\n",
              "       Lights Damage   Other Strike   Other Damage  \n",
              "count  174104.000000  174104.000000  174104.000000  \n",
              "mean        0.004216       0.090727       0.008989  \n",
              "std         0.064793       0.287222       0.094383  \n",
              "min         0.000000       0.000000       0.000000  \n",
              "25%         0.000000       0.000000       0.000000  \n",
              "50%         0.000000       0.000000       0.000000  \n",
              "75%         0.000000       0.000000       0.000000  \n",
              "max         1.000000       1.000000       1.000000  "
            ],
            "text/html": [
              "\n",
              "  <div id=\"df-3c2a2e57-8df0-474e-ba00-3e9bf4376190\">\n",
              "    <div class=\"colab-df-container\">\n",
              "      <div>\n",
              "<style scoped>\n",
              "    .dataframe tbody tr th:only-of-type {\n",
              "        vertical-align: middle;\n",
              "    }\n",
              "\n",
              "    .dataframe tbody tr th {\n",
              "        vertical-align: top;\n",
              "    }\n",
              "\n",
              "    .dataframe thead th {\n",
              "        text-align: right;\n",
              "    }\n",
              "</style>\n",
              "<table border=\"1\" class=\"dataframe\">\n",
              "  <thead>\n",
              "    <tr style=\"text-align: right;\">\n",
              "      <th></th>\n",
              "      <th>Fuselage Strike</th>\n",
              "      <th>Fuselage Damage</th>\n",
              "      <th>Landing Gear Strike</th>\n",
              "      <th>Landing Gear Damage</th>\n",
              "      <th>Tail Strike</th>\n",
              "      <th>Tail Damage</th>\n",
              "      <th>Lights Strike</th>\n",
              "      <th>Lights Damage</th>\n",
              "      <th>Other Strike</th>\n",
              "      <th>Other Damage</th>\n",
              "    </tr>\n",
              "  </thead>\n",
              "  <tbody>\n",
              "    <tr>\n",
              "      <th>count</th>\n",
              "      <td>174104.000000</td>\n",
              "      <td>174104.000000</td>\n",
              "      <td>174104.000000</td>\n",
              "      <td>174104.000000</td>\n",
              "      <td>174104.000000</td>\n",
              "      <td>174104.000000</td>\n",
              "      <td>174104.000000</td>\n",
              "      <td>174104.000000</td>\n",
              "      <td>174104.000000</td>\n",
              "      <td>174104.000000</td>\n",
              "    </tr>\n",
              "    <tr>\n",
              "      <th>mean</th>\n",
              "      <td>0.102703</td>\n",
              "      <td>0.004733</td>\n",
              "      <td>0.046242</td>\n",
              "      <td>0.005813</td>\n",
              "      <td>0.011235</td>\n",
              "      <td>0.004176</td>\n",
              "      <td>0.005962</td>\n",
              "      <td>0.004216</td>\n",
              "      <td>0.090727</td>\n",
              "      <td>0.008989</td>\n",
              "    </tr>\n",
              "    <tr>\n",
              "      <th>std</th>\n",
              "      <td>0.303571</td>\n",
              "      <td>0.068633</td>\n",
              "      <td>0.210010</td>\n",
              "      <td>0.076019</td>\n",
              "      <td>0.105397</td>\n",
              "      <td>0.064485</td>\n",
              "      <td>0.076983</td>\n",
              "      <td>0.064793</td>\n",
              "      <td>0.287222</td>\n",
              "      <td>0.094383</td>\n",
              "    </tr>\n",
              "    <tr>\n",
              "      <th>min</th>\n",
              "      <td>0.000000</td>\n",
              "      <td>0.000000</td>\n",
              "      <td>0.000000</td>\n",
              "      <td>0.000000</td>\n",
              "      <td>0.000000</td>\n",
              "      <td>0.000000</td>\n",
              "      <td>0.000000</td>\n",
              "      <td>0.000000</td>\n",
              "      <td>0.000000</td>\n",
              "      <td>0.000000</td>\n",
              "    </tr>\n",
              "    <tr>\n",
              "      <th>25%</th>\n",
              "      <td>0.000000</td>\n",
              "      <td>0.000000</td>\n",
              "      <td>0.000000</td>\n",
              "      <td>0.000000</td>\n",
              "      <td>0.000000</td>\n",
              "      <td>0.000000</td>\n",
              "      <td>0.000000</td>\n",
              "      <td>0.000000</td>\n",
              "      <td>0.000000</td>\n",
              "      <td>0.000000</td>\n",
              "    </tr>\n",
              "    <tr>\n",
              "      <th>50%</th>\n",
              "      <td>0.000000</td>\n",
              "      <td>0.000000</td>\n",
              "      <td>0.000000</td>\n",
              "      <td>0.000000</td>\n",
              "      <td>0.000000</td>\n",
              "      <td>0.000000</td>\n",
              "      <td>0.000000</td>\n",
              "      <td>0.000000</td>\n",
              "      <td>0.000000</td>\n",
              "      <td>0.000000</td>\n",
              "    </tr>\n",
              "    <tr>\n",
              "      <th>75%</th>\n",
              "      <td>0.000000</td>\n",
              "      <td>0.000000</td>\n",
              "      <td>0.000000</td>\n",
              "      <td>0.000000</td>\n",
              "      <td>0.000000</td>\n",
              "      <td>0.000000</td>\n",
              "      <td>0.000000</td>\n",
              "      <td>0.000000</td>\n",
              "      <td>0.000000</td>\n",
              "      <td>0.000000</td>\n",
              "    </tr>\n",
              "    <tr>\n",
              "      <th>max</th>\n",
              "      <td>1.000000</td>\n",
              "      <td>1.000000</td>\n",
              "      <td>1.000000</td>\n",
              "      <td>1.000000</td>\n",
              "      <td>1.000000</td>\n",
              "      <td>1.000000</td>\n",
              "      <td>1.000000</td>\n",
              "      <td>1.000000</td>\n",
              "      <td>1.000000</td>\n",
              "      <td>1.000000</td>\n",
              "    </tr>\n",
              "  </tbody>\n",
              "</table>\n",
              "</div>\n",
              "      <button class=\"colab-df-convert\" onclick=\"convertToInteractive('df-3c2a2e57-8df0-474e-ba00-3e9bf4376190')\"\n",
              "              title=\"Convert this dataframe to an interactive table.\"\n",
              "              style=\"display:none;\">\n",
              "        \n",
              "  <svg xmlns=\"http://www.w3.org/2000/svg\" height=\"24px\"viewBox=\"0 0 24 24\"\n",
              "       width=\"24px\">\n",
              "    <path d=\"M0 0h24v24H0V0z\" fill=\"none\"/>\n",
              "    <path d=\"M18.56 5.44l.94 2.06.94-2.06 2.06-.94-2.06-.94-.94-2.06-.94 2.06-2.06.94zm-11 1L8.5 8.5l.94-2.06 2.06-.94-2.06-.94L8.5 2.5l-.94 2.06-2.06.94zm10 10l.94 2.06.94-2.06 2.06-.94-2.06-.94-.94-2.06-.94 2.06-2.06.94z\"/><path d=\"M17.41 7.96l-1.37-1.37c-.4-.4-.92-.59-1.43-.59-.52 0-1.04.2-1.43.59L10.3 9.45l-7.72 7.72c-.78.78-.78 2.05 0 2.83L4 21.41c.39.39.9.59 1.41.59.51 0 1.02-.2 1.41-.59l7.78-7.78 2.81-2.81c.8-.78.8-2.07 0-2.86zM5.41 20L4 18.59l7.72-7.72 1.47 1.35L5.41 20z\"/>\n",
              "  </svg>\n",
              "      </button>\n",
              "      \n",
              "  <style>\n",
              "    .colab-df-container {\n",
              "      display:flex;\n",
              "      flex-wrap:wrap;\n",
              "      gap: 12px;\n",
              "    }\n",
              "\n",
              "    .colab-df-convert {\n",
              "      background-color: #E8F0FE;\n",
              "      border: none;\n",
              "      border-radius: 50%;\n",
              "      cursor: pointer;\n",
              "      display: none;\n",
              "      fill: #1967D2;\n",
              "      height: 32px;\n",
              "      padding: 0 0 0 0;\n",
              "      width: 32px;\n",
              "    }\n",
              "\n",
              "    .colab-df-convert:hover {\n",
              "      background-color: #E2EBFA;\n",
              "      box-shadow: 0px 1px 2px rgba(60, 64, 67, 0.3), 0px 1px 3px 1px rgba(60, 64, 67, 0.15);\n",
              "      fill: #174EA6;\n",
              "    }\n",
              "\n",
              "    [theme=dark] .colab-df-convert {\n",
              "      background-color: #3B4455;\n",
              "      fill: #D2E3FC;\n",
              "    }\n",
              "\n",
              "    [theme=dark] .colab-df-convert:hover {\n",
              "      background-color: #434B5C;\n",
              "      box-shadow: 0px 1px 3px 1px rgba(0, 0, 0, 0.15);\n",
              "      filter: drop-shadow(0px 1px 2px rgba(0, 0, 0, 0.3));\n",
              "      fill: #FFFFFF;\n",
              "    }\n",
              "  </style>\n",
              "\n",
              "      <script>\n",
              "        const buttonEl =\n",
              "          document.querySelector('#df-3c2a2e57-8df0-474e-ba00-3e9bf4376190 button.colab-df-convert');\n",
              "        buttonEl.style.display =\n",
              "          google.colab.kernel.accessAllowed ? 'block' : 'none';\n",
              "\n",
              "        async function convertToInteractive(key) {\n",
              "          const element = document.querySelector('#df-3c2a2e57-8df0-474e-ba00-3e9bf4376190');\n",
              "          const dataTable =\n",
              "            await google.colab.kernel.invokeFunction('convertToInteractive',\n",
              "                                                     [key], {});\n",
              "          if (!dataTable) return;\n",
              "\n",
              "          const docLinkHtml = 'Like what you see? Visit the ' +\n",
              "            '<a target=\"_blank\" href=https://colab.research.google.com/notebooks/data_table.ipynb>data table notebook</a>'\n",
              "            + ' to learn more about interactive tables.';\n",
              "          element.innerHTML = '';\n",
              "          dataTable['output_type'] = 'display_data';\n",
              "          await google.colab.output.renderOutput(dataTable, element);\n",
              "          const docLink = document.createElement('div');\n",
              "          docLink.innerHTML = docLinkHtml;\n",
              "          element.appendChild(docLink);\n",
              "        }\n",
              "      </script>\n",
              "    </div>\n",
              "  </div>\n",
              "  "
            ]
          },
          "metadata": {},
          "execution_count": 9
        }
      ]
    },
    {
      "cell_type": "markdown",
      "source": [
        "Kết luận: Sau khi quan sát dữ liệu từ các bảng describe() ta nhận thấy chỉ có 5 biến định lượng như sau:\n",
        "* Height\t\n",
        "* Speed\t\n",
        "* Distance\t\n",
        "* Fatalities\t\n",
        "* Injuries"
      ],
      "metadata": {
        "id": "3n2dfpjTs4kh"
      }
    },
    {
      "cell_type": "markdown",
      "source": [
        "Ta tiến hành tính toán lại để có được quan sát dễ dàng nhất:"
      ],
      "metadata": {
        "id": "ShPBGXJI0RaV"
      }
    },
    {
      "cell_type": "code",
      "source": [
        "result = pd.DataFrame()\n",
        "for i in [\"Height\", \"Speed\", \"Distance\", \"Fatalities\", \"Injuries\"]:\n",
        "  result[i] = df[i].describe()\n",
        "result"
      ],
      "metadata": {
        "colab": {
          "base_uri": "https://localhost:8080/",
          "height": 300
        },
        "id": "NzTKbuLq0U4l",
        "outputId": "b5386f1f-4968-437a-e43c-f599fd18e688"
      },
      "execution_count": 17,
      "outputs": [
        {
          "output_type": "execute_result",
          "data": {
            "text/plain": [
              "              Height         Speed      Distance  Fatalities    Injuries\n",
              "count  103677.000000  71258.000000  99713.000000  565.000000  229.000000\n",
              "mean      831.032283    141.925622      0.703738    0.046018    1.746725\n",
              "std      1803.650833     46.905651      3.464467    0.435164    6.571239\n",
              "min         0.000000      0.000000      0.000000    0.000000    1.000000\n",
              "25%         0.000000    120.000000      0.000000    0.000000    1.000000\n",
              "50%        50.000000    138.000000      0.000000    0.000000    1.000000\n",
              "75%       800.000000    160.000000      0.000000    0.000000    1.000000\n",
              "max     31300.000000   2500.000000    150.000000    8.000000  100.000000"
            ],
            "text/html": [
              "\n",
              "  <div id=\"df-f7e2d2d3-7655-4800-8b37-19e5a6e3555d\">\n",
              "    <div class=\"colab-df-container\">\n",
              "      <div>\n",
              "<style scoped>\n",
              "    .dataframe tbody tr th:only-of-type {\n",
              "        vertical-align: middle;\n",
              "    }\n",
              "\n",
              "    .dataframe tbody tr th {\n",
              "        vertical-align: top;\n",
              "    }\n",
              "\n",
              "    .dataframe thead th {\n",
              "        text-align: right;\n",
              "    }\n",
              "</style>\n",
              "<table border=\"1\" class=\"dataframe\">\n",
              "  <thead>\n",
              "    <tr style=\"text-align: right;\">\n",
              "      <th></th>\n",
              "      <th>Height</th>\n",
              "      <th>Speed</th>\n",
              "      <th>Distance</th>\n",
              "      <th>Fatalities</th>\n",
              "      <th>Injuries</th>\n",
              "    </tr>\n",
              "  </thead>\n",
              "  <tbody>\n",
              "    <tr>\n",
              "      <th>count</th>\n",
              "      <td>103677.000000</td>\n",
              "      <td>71258.000000</td>\n",
              "      <td>99713.000000</td>\n",
              "      <td>565.000000</td>\n",
              "      <td>229.000000</td>\n",
              "    </tr>\n",
              "    <tr>\n",
              "      <th>mean</th>\n",
              "      <td>831.032283</td>\n",
              "      <td>141.925622</td>\n",
              "      <td>0.703738</td>\n",
              "      <td>0.046018</td>\n",
              "      <td>1.746725</td>\n",
              "    </tr>\n",
              "    <tr>\n",
              "      <th>std</th>\n",
              "      <td>1803.650833</td>\n",
              "      <td>46.905651</td>\n",
              "      <td>3.464467</td>\n",
              "      <td>0.435164</td>\n",
              "      <td>6.571239</td>\n",
              "    </tr>\n",
              "    <tr>\n",
              "      <th>min</th>\n",
              "      <td>0.000000</td>\n",
              "      <td>0.000000</td>\n",
              "      <td>0.000000</td>\n",
              "      <td>0.000000</td>\n",
              "      <td>1.000000</td>\n",
              "    </tr>\n",
              "    <tr>\n",
              "      <th>25%</th>\n",
              "      <td>0.000000</td>\n",
              "      <td>120.000000</td>\n",
              "      <td>0.000000</td>\n",
              "      <td>0.000000</td>\n",
              "      <td>1.000000</td>\n",
              "    </tr>\n",
              "    <tr>\n",
              "      <th>50%</th>\n",
              "      <td>50.000000</td>\n",
              "      <td>138.000000</td>\n",
              "      <td>0.000000</td>\n",
              "      <td>0.000000</td>\n",
              "      <td>1.000000</td>\n",
              "    </tr>\n",
              "    <tr>\n",
              "      <th>75%</th>\n",
              "      <td>800.000000</td>\n",
              "      <td>160.000000</td>\n",
              "      <td>0.000000</td>\n",
              "      <td>0.000000</td>\n",
              "      <td>1.000000</td>\n",
              "    </tr>\n",
              "    <tr>\n",
              "      <th>max</th>\n",
              "      <td>31300.000000</td>\n",
              "      <td>2500.000000</td>\n",
              "      <td>150.000000</td>\n",
              "      <td>8.000000</td>\n",
              "      <td>100.000000</td>\n",
              "    </tr>\n",
              "  </tbody>\n",
              "</table>\n",
              "</div>\n",
              "      <button class=\"colab-df-convert\" onclick=\"convertToInteractive('df-f7e2d2d3-7655-4800-8b37-19e5a6e3555d')\"\n",
              "              title=\"Convert this dataframe to an interactive table.\"\n",
              "              style=\"display:none;\">\n",
              "        \n",
              "  <svg xmlns=\"http://www.w3.org/2000/svg\" height=\"24px\"viewBox=\"0 0 24 24\"\n",
              "       width=\"24px\">\n",
              "    <path d=\"M0 0h24v24H0V0z\" fill=\"none\"/>\n",
              "    <path d=\"M18.56 5.44l.94 2.06.94-2.06 2.06-.94-2.06-.94-.94-2.06-.94 2.06-2.06.94zm-11 1L8.5 8.5l.94-2.06 2.06-.94-2.06-.94L8.5 2.5l-.94 2.06-2.06.94zm10 10l.94 2.06.94-2.06 2.06-.94-2.06-.94-.94-2.06-.94 2.06-2.06.94z\"/><path d=\"M17.41 7.96l-1.37-1.37c-.4-.4-.92-.59-1.43-.59-.52 0-1.04.2-1.43.59L10.3 9.45l-7.72 7.72c-.78.78-.78 2.05 0 2.83L4 21.41c.39.39.9.59 1.41.59.51 0 1.02-.2 1.41-.59l7.78-7.78 2.81-2.81c.8-.78.8-2.07 0-2.86zM5.41 20L4 18.59l7.72-7.72 1.47 1.35L5.41 20z\"/>\n",
              "  </svg>\n",
              "      </button>\n",
              "      \n",
              "  <style>\n",
              "    .colab-df-container {\n",
              "      display:flex;\n",
              "      flex-wrap:wrap;\n",
              "      gap: 12px;\n",
              "    }\n",
              "\n",
              "    .colab-df-convert {\n",
              "      background-color: #E8F0FE;\n",
              "      border: none;\n",
              "      border-radius: 50%;\n",
              "      cursor: pointer;\n",
              "      display: none;\n",
              "      fill: #1967D2;\n",
              "      height: 32px;\n",
              "      padding: 0 0 0 0;\n",
              "      width: 32px;\n",
              "    }\n",
              "\n",
              "    .colab-df-convert:hover {\n",
              "      background-color: #E2EBFA;\n",
              "      box-shadow: 0px 1px 2px rgba(60, 64, 67, 0.3), 0px 1px 3px 1px rgba(60, 64, 67, 0.15);\n",
              "      fill: #174EA6;\n",
              "    }\n",
              "\n",
              "    [theme=dark] .colab-df-convert {\n",
              "      background-color: #3B4455;\n",
              "      fill: #D2E3FC;\n",
              "    }\n",
              "\n",
              "    [theme=dark] .colab-df-convert:hover {\n",
              "      background-color: #434B5C;\n",
              "      box-shadow: 0px 1px 3px 1px rgba(0, 0, 0, 0.15);\n",
              "      filter: drop-shadow(0px 1px 2px rgba(0, 0, 0, 0.3));\n",
              "      fill: #FFFFFF;\n",
              "    }\n",
              "  </style>\n",
              "\n",
              "      <script>\n",
              "        const buttonEl =\n",
              "          document.querySelector('#df-f7e2d2d3-7655-4800-8b37-19e5a6e3555d button.colab-df-convert');\n",
              "        buttonEl.style.display =\n",
              "          google.colab.kernel.accessAllowed ? 'block' : 'none';\n",
              "\n",
              "        async function convertToInteractive(key) {\n",
              "          const element = document.querySelector('#df-f7e2d2d3-7655-4800-8b37-19e5a6e3555d');\n",
              "          const dataTable =\n",
              "            await google.colab.kernel.invokeFunction('convertToInteractive',\n",
              "                                                     [key], {});\n",
              "          if (!dataTable) return;\n",
              "\n",
              "          const docLinkHtml = 'Like what you see? Visit the ' +\n",
              "            '<a target=\"_blank\" href=https://colab.research.google.com/notebooks/data_table.ipynb>data table notebook</a>'\n",
              "            + ' to learn more about interactive tables.';\n",
              "          element.innerHTML = '';\n",
              "          dataTable['output_type'] = 'display_data';\n",
              "          await google.colab.output.renderOutput(dataTable, element);\n",
              "          const docLink = document.createElement('div');\n",
              "          docLink.innerHTML = docLinkHtml;\n",
              "          element.appendChild(docLink);\n",
              "        }\n",
              "      </script>\n",
              "    </div>\n",
              "  </div>\n",
              "  "
            ]
          },
          "metadata": {},
          "execution_count": 17
        }
      ]
    },
    {
      "cell_type": "markdown",
      "source": [
        "Câu 4: Hãy vẽ biểu đồ boxplot cho từng cột dữ liệu định lượng và xác định xem có xuất hiện các\n",
        "ngoại lệ không?nếu có thì ở cột nào?"
      ],
      "metadata": {
        "id": "VaNkXLHe0Spy"
      }
    },
    {
      "cell_type": "markdown",
      "source": [
        "Vẽ boxplot cho Height:\n"
      ],
      "metadata": {
        "id": "b1sTxIGj9cIr"
      }
    },
    {
      "cell_type": "code",
      "source": [
        "height = df[\"Height\"].dropna()\n",
        "plt.boxplot(height);"
      ],
      "metadata": {
        "colab": {
          "base_uri": "https://localhost:8080/",
          "height": 265
        },
        "id": "4uLgNn4v0zHZ",
        "outputId": "ea124e33-50d9-48e1-e365-bdaf92fcf9af"
      },
      "execution_count": 29,
      "outputs": [
        {
          "output_type": "display_data",
          "data": {
            "text/plain": [
              "<Figure size 432x288 with 1 Axes>"
            ],
            "image/png": "[encoded data removed]"
          },
          "metadata": {
            "needs_background": "light"
          }
        }
      ]
    },
    {
      "cell_type": "markdown",
      "source": [
        "Quan sát biểu đồ, dữ liệu cột Height có 2 giá trị bất thường tuy nhiên khoảng cách không quá lớn do đó vẫn chấp nhận được."
      ],
      "metadata": {
        "id": "o8RvvXuM8kY1"
      }
    },
    {
      "cell_type": "markdown",
      "source": [
        "Vẽ boxplot cho speed:"
      ],
      "metadata": {
        "id": "xY-LE1vd43ss"
      }
    },
    {
      "cell_type": "code",
      "source": [
        "speed = df[\"Speed\"].dropna()\n",
        "plt.boxplot(speed);"
      ],
      "metadata": {
        "colab": {
          "base_uri": "https://localhost:8080/",
          "height": 265
        },
        "id": "5znyijMU46Ga",
        "outputId": "61b97443-9140-4d03-b938-5595570272f4"
      },
      "execution_count": 31,
      "outputs": [
        {
          "output_type": "display_data",
          "data": {
            "text/plain": [
              "<Figure size 432x288 with 1 Axes>"
            ],
            "image/png": "[encoded data removed]"
          },
          "metadata": {
            "needs_background": "light"
          }
        }
      ]
    },
    {
      "cell_type": "markdown",
      "source": [
        "Quan sát biểu đồ, dữ liệu Speed có 1 giá trị ngoại lệ"
      ],
      "metadata": {
        "id": "TP1eN-Lj86hq"
      }
    },
    {
      "cell_type": "markdown",
      "source": [
        "Vẽ boxplot cho Distance:"
      ],
      "metadata": {
        "id": "cGKnmopv5Icf"
      }
    },
    {
      "cell_type": "code",
      "source": [
        "distance = df[\"Distance\"].dropna()\n",
        "plt.boxplot(distance);"
      ],
      "metadata": {
        "colab": {
          "base_uri": "https://localhost:8080/",
          "height": 265
        },
        "id": "uxqEeSYM5K3H",
        "outputId": "357932d8-93f7-4c2d-e4a1-7f906f097613"
      },
      "execution_count": 33,
      "outputs": [
        {
          "output_type": "display_data",
          "data": {
            "text/plain": [
              "<Figure size 432x288 with 1 Axes>"
            ],
            "image/png": "[encoded data removed]"
          },
          "metadata": {
            "needs_background": "light"
          }
        }
      ]
    },
    {
      "cell_type": "markdown",
      "source": [
        "Vẽ boxplot cho Fatalities:"
      ],
      "metadata": {
        "id": "70iP5fUw5c4q"
      }
    },
    {
      "cell_type": "code",
      "source": [
        "fatalities = df[\"Fatalities\"].dropna()\n",
        "plt.boxplot(fatalities);"
      ],
      "metadata": {
        "colab": {
          "base_uri": "https://localhost:8080/",
          "height": 265
        },
        "id": "7xqtv3Po5eUg",
        "outputId": "3e5224d8-6b2e-4a5a-e47f-8e1f8b671b4d"
      },
      "execution_count": 35,
      "outputs": [
        {
          "output_type": "display_data",
          "data": {
            "text/plain": [
              "<Figure size 432x288 with 1 Axes>"
            ],
            "image/png": "[encoded data removed]"
          },
          "metadata": {
            "needs_background": "light"
          }
        }
      ]
    },
    {
      "cell_type": "markdown",
      "source": [
        "Vẽ boxplot cho Injuries:"
      ],
      "metadata": {
        "id": "ZPVcSU0F6yfo"
      }
    },
    {
      "cell_type": "code",
      "source": [
        "injuries = df[\"Injuries\"].dropna()\n",
        "plt.boxplot(injuries);"
      ],
      "metadata": {
        "colab": {
          "base_uri": "https://localhost:8080/",
          "height": 265
        },
        "id": "nFmebraQ62CD",
        "outputId": "c36dff70-bca6-4d0f-c3fa-826457a69842"
      },
      "execution_count": 41,
      "outputs": [
        {
          "output_type": "display_data",
          "data": {
            "text/plain": [
              "<Figure size 432x288 with 1 Axes>"
            ],
            "image/png": "[encoded data removed]"
          },
          "metadata": {
            "needs_background": "light"
          }
        }
      ]
    },
    {
      "cell_type": "markdown",
      "source": [
        "**Kết luận:** Cả 5 biến định lượng đều có giá trị ngoại lệ."
      ],
      "metadata": {
        "id": "77hN6iibBQJH"
      }
    },
    {
      "cell_type": "markdown",
      "source": [
        "Câu 5: Người ta thường sử dụng chỉ số z (hay z-score) để xác định giá trị ngoại lệ (outlier). Bạn\n",
        "hãy loại bỏ các hàng có chứa giá trị ngoại lệ ra khỏi dataframe."
      ],
      "metadata": {
        "id": "gpnBm_zkuh7j"
      }
    },
    {
      "cell_type": "markdown",
      "source": [
        "Ta tiến hành thay giá trị NaN của các biến định lượng bằng giá trị trung bình để việc loại bỏ các giá trị ngoại lai một cách dễ dàng:"
      ],
      "metadata": {
        "id": "kAspIj97IenV"
      }
    },
    {
      "cell_type": "code",
      "source": [
        "for i in [\"Height\", \"Speed\", \"Distance\", \"Fatalities\", \"Injuries\"]:\n",
        "  mean = df[i].mean()\n",
        "  df[i] = df[i].fillna(mean)"
      ],
      "metadata": {
        "id": "H88Dtu0jIpLF"
      },
      "execution_count": 72,
      "outputs": []
    },
    {
      "cell_type": "code",
      "source": [
        "df[[\"Height\", \"Speed\", \"Distance\", \"Fatalities\", \"Injuries\"]]"
      ],
      "metadata": {
        "colab": {
          "base_uri": "https://localhost:8080/",
          "height": 455
        },
        "id": "Q5x2Gn_RJfaA",
        "outputId": "9560cc84-b8bd-416c-8147-914755cc19e6"
      },
      "execution_count": 73,
      "outputs": [
        {
          "output_type": "execute_result",
          "data": {
            "text/plain": [
              "                Height       Speed   Distance  Fatalities  Injuries\n",
              "Record ID                                                          \n",
              "127128      831.032283  141.925622   0.703738    0.046018  1.746725\n",
              "129779        0.000000  141.925622   0.000000    0.046018  1.746725\n",
              "129780      831.032283  141.925622   0.000000    0.046018  1.746725\n",
              "2258        200.000000  138.000000   0.703738    0.046018  1.746725\n",
              "2257        100.000000  200.000000   0.703738    0.046018  1.746725\n",
              "...                ...         ...        ...         ...       ...\n",
              "366091      831.032283  141.925622   0.703738    0.046018  1.746725\n",
              "365902     5000.000000  250.000000  25.000000    0.046018  1.746725\n",
              "365903     3000.000000  200.000000   5.000000    0.046018  1.746725\n",
              "366046     6000.000000  141.925622   0.703738    0.046018  1.746725\n",
              "365823      831.032283  141.925622   0.000000    0.046018  1.746725\n",
              "\n",
              "[174104 rows x 5 columns]"
            ],
            "text/html": [
              "\n",
              "  <div id=\"df-ae552442-abf4-4b99-8327-6b937d316b86\">\n",
              "    <div class=\"colab-df-container\">\n",
              "      <div>\n",
              "<style scoped>\n",
              "    .dataframe tbody tr th:only-of-type {\n",
              "        vertical-align: middle;\n",
              "    }\n",
              "\n",
              "    .dataframe tbody tr th {\n",
              "        vertical-align: top;\n",
              "    }\n",
              "\n",
              "    .dataframe thead th {\n",
              "        text-align: right;\n",
              "    }\n",
              "</style>\n",
              "<table border=\"1\" class=\"dataframe\">\n",
              "  <thead>\n",
              "    <tr style=\"text-align: right;\">\n",
              "      <th></th>\n",
              "      <th>Height</th>\n",
              "      <th>Speed</th>\n",
              "      <th>Distance</th>\n",
              "      <th>Fatalities</th>\n",
              "      <th>Injuries</th>\n",
              "    </tr>\n",
              "    <tr>\n",
              "      <th>Record ID</th>\n",
              "      <th></th>\n",
              "      <th></th>\n",
              "      <th></th>\n",
              "      <th></th>\n",
              "      <th></th>\n",
              "    </tr>\n",
              "  </thead>\n",
              "  <tbody>\n",
              "    <tr>\n",
              "      <th>127128</th>\n",
              "      <td>831.032283</td>\n",
              "      <td>141.925622</td>\n",
              "      <td>0.703738</td>\n",
              "      <td>0.046018</td>\n",
              "      <td>1.746725</td>\n",
              "    </tr>\n",
              "    <tr>\n",
              "      <th>129779</th>\n",
              "      <td>0.000000</td>\n",
              "      <td>141.925622</td>\n",
              "      <td>0.000000</td>\n",
              "      <td>0.046018</td>\n",
              "      <td>1.746725</td>\n",
              "    </tr>\n",
              "    <tr>\n",
              "      <th>129780</th>\n",
              "      <td>831.032283</td>\n",
              "      <td>141.925622</td>\n",
              "      <td>0.000000</td>\n",
              "      <td>0.046018</td>\n",
              "      <td>1.746725</td>\n",
              "    </tr>\n",
              "    <tr>\n",
              "      <th>2258</th>\n",
              "      <td>200.000000</td>\n",
              "      <td>138.000000</td>\n",
              "      <td>0.703738</td>\n",
              "      <td>0.046018</td>\n",
              "      <td>1.746725</td>\n",
              "    </tr>\n",
              "    <tr>\n",
              "      <th>2257</th>\n",
              "      <td>100.000000</td>\n",
              "      <td>200.000000</td>\n",
              "      <td>0.703738</td>\n",
              "      <td>0.046018</td>\n",
              "      <td>1.746725</td>\n",
              "    </tr>\n",
              "    <tr>\n",
              "      <th>...</th>\n",
              "      <td>...</td>\n",
              "      <td>...</td>\n",
              "      <td>...</td>\n",
              "      <td>...</td>\n",
              "      <td>...</td>\n",
              "    </tr>\n",
              "    <tr>\n",
              "      <th>366091</th>\n",
              "      <td>831.032283</td>\n",
              "      <td>141.925622</td>\n",
              "      <td>0.703738</td>\n",
              "      <td>0.046018</td>\n",
              "      <td>1.746725</td>\n",
              "    </tr>\n",
              "    <tr>\n",
              "      <th>365902</th>\n",
              "      <td>5000.000000</td>\n",
              "      <td>250.000000</td>\n",
              "      <td>25.000000</td>\n",
              "      <td>0.046018</td>\n",
              "      <td>1.746725</td>\n",
              "    </tr>\n",
              "    <tr>\n",
              "      <th>365903</th>\n",
              "      <td>3000.000000</td>\n",
              "      <td>200.000000</td>\n",
              "      <td>5.000000</td>\n",
              "      <td>0.046018</td>\n",
              "      <td>1.746725</td>\n",
              "    </tr>\n",
              "    <tr>\n",
              "      <th>366046</th>\n",
              "      <td>6000.000000</td>\n",
              "      <td>141.925622</td>\n",
              "      <td>0.703738</td>\n",
              "      <td>0.046018</td>\n",
              "      <td>1.746725</td>\n",
              "    </tr>\n",
              "    <tr>\n",
              "      <th>365823</th>\n",
              "      <td>831.032283</td>\n",
              "      <td>141.925622</td>\n",
              "      <td>0.000000</td>\n",
              "      <td>0.046018</td>\n",
              "      <td>1.746725</td>\n",
              "    </tr>\n",
              "  </tbody>\n",
              "</table>\n",
              "<p>174104 rows × 5 columns</p>\n",
              "</div>\n",
              "      <button class=\"colab-df-convert\" onclick=\"convertToInteractive('df-ae552442-abf4-4b99-8327-6b937d316b86')\"\n",
              "              title=\"Convert this dataframe to an interactive table.\"\n",
              "              style=\"display:none;\">\n",
              "        \n",
              "  <svg xmlns=\"http://www.w3.org/2000/svg\" height=\"24px\"viewBox=\"0 0 24 24\"\n",
              "       width=\"24px\">\n",
              "    <path d=\"M0 0h24v24H0V0z\" fill=\"none\"/>\n",
              "    <path d=\"M18.56 5.44l.94 2.06.94-2.06 2.06-.94-2.06-.94-.94-2.06-.94 2.06-2.06.94zm-11 1L8.5 8.5l.94-2.06 2.06-.94-2.06-.94L8.5 2.5l-.94 2.06-2.06.94zm10 10l.94 2.06.94-2.06 2.06-.94-2.06-.94-.94-2.06-.94 2.06-2.06.94z\"/><path d=\"M17.41 7.96l-1.37-1.37c-.4-.4-.92-.59-1.43-.59-.52 0-1.04.2-1.43.59L10.3 9.45l-7.72 7.72c-.78.78-.78 2.05 0 2.83L4 21.41c.39.39.9.59 1.41.59.51 0 1.02-.2 1.41-.59l7.78-7.78 2.81-2.81c.8-.78.8-2.07 0-2.86zM5.41 20L4 18.59l7.72-7.72 1.47 1.35L5.41 20z\"/>\n",
              "  </svg>\n",
              "      </button>\n",
              "      \n",
              "  <style>\n",
              "    .colab-df-container {\n",
              "      display:flex;\n",
              "      flex-wrap:wrap;\n",
              "      gap: 12px;\n",
              "    }\n",
              "\n",
              "    .colab-df-convert {\n",
              "      background-color: #E8F0FE;\n",
              "      border: none;\n",
              "      border-radius: 50%;\n",
              "      cursor: pointer;\n",
              "      display: none;\n",
              "      fill: #1967D2;\n",
              "      height: 32px;\n",
              "      padding: 0 0 0 0;\n",
              "      width: 32px;\n",
              "    }\n",
              "\n",
              "    .colab-df-convert:hover {\n",
              "      background-color: #E2EBFA;\n",
              "      box-shadow: 0px 1px 2px rgba(60, 64, 67, 0.3), 0px 1px 3px 1px rgba(60, 64, 67, 0.15);\n",
              "      fill: #174EA6;\n",
              "    }\n",
              "\n",
              "    [theme=dark] .colab-df-convert {\n",
              "      background-color: #3B4455;\n",
              "      fill: #D2E3FC;\n",
              "    }\n",
              "\n",
              "    [theme=dark] .colab-df-convert:hover {\n",
              "      background-color: #434B5C;\n",
              "      box-shadow: 0px 1px 3px 1px rgba(0, 0, 0, 0.15);\n",
              "      filter: drop-shadow(0px 1px 2px rgba(0, 0, 0, 0.3));\n",
              "      fill: #FFFFFF;\n",
              "    }\n",
              "  </style>\n",
              "\n",
              "      <script>\n",
              "        const buttonEl =\n",
              "          document.querySelector('#df-ae552442-abf4-4b99-8327-6b937d316b86 button.colab-df-convert');\n",
              "        buttonEl.style.display =\n",
              "          google.colab.kernel.accessAllowed ? 'block' : 'none';\n",
              "\n",
              "        async function convertToInteractive(key) {\n",
              "          const element = document.querySelector('#df-ae552442-abf4-4b99-8327-6b937d316b86');\n",
              "          const dataTable =\n",
              "            await google.colab.kernel.invokeFunction('convertToInteractive',\n",
              "                                                     [key], {});\n",
              "          if (!dataTable) return;\n",
              "\n",
              "          const docLinkHtml = 'Like what you see? Visit the ' +\n",
              "            '<a target=\"_blank\" href=https://colab.research.google.com/notebooks/data_table.ipynb>data table notebook</a>'\n",
              "            + ' to learn more about interactive tables.';\n",
              "          element.innerHTML = '';\n",
              "          dataTable['output_type'] = 'display_data';\n",
              "          await google.colab.output.renderOutput(dataTable, element);\n",
              "          const docLink = document.createElement('div');\n",
              "          docLink.innerHTML = docLinkHtml;\n",
              "          element.appendChild(docLink);\n",
              "        }\n",
              "      </script>\n",
              "    </div>\n",
              "  </div>\n",
              "  "
            ]
          },
          "metadata": {},
          "execution_count": 73
        }
      ]
    },
    {
      "cell_type": "markdown",
      "source": [
        "Ta tiến hành xóa bỏ các giá trị ngoại lai:"
      ],
      "metadata": {
        "id": "7akHSQbcKEDz"
      }
    },
    {
      "cell_type": "code",
      "source": [
        "df_2 = df[[\"Height\", \"Speed\", \"Distance\", \"Fatalities\", \"Injuries\"]]"
      ],
      "metadata": {
        "id": "twaJJm70KNvB"
      },
      "execution_count": 74,
      "outputs": []
    },
    {
      "cell_type": "code",
      "source": [
        "abs_z_scores = np.abs(st.zscore(df_2))\n",
        "df_2 = df_2[(abs_z_scores < 3).all(axis=1)]"
      ],
      "metadata": {
        "id": "Cu8UkkGaKG65"
      },
      "execution_count": 75,
      "outputs": []
    },
    {
      "cell_type": "markdown",
      "source": [
        "**Câu 6: Thực hiện lại câu 3 – 4 với tập dữ liệu sau khi đã loại bỏ ngoại lệ.**"
      ],
      "metadata": {
        "id": "XTktsUOtME0d"
      }
    },
    {
      "cell_type": "markdown",
      "source": [
        "Áp dụng các phép tính hướng tâm, phép tính phương\n",
        "sai – độ lệch chuẩn, các phép tính phân vị, cực đại – cực tiểu một cách nhanh chóng bằng hàm describe() sau khi đã xóa bỏ ngoại lệ:"
      ],
      "metadata": {
        "id": "8SpDF0NWMRz-"
      }
    },
    {
      "cell_type": "code",
      "source": [
        "df_2.describe()"
      ],
      "metadata": {
        "colab": {
          "base_uri": "https://localhost:8080/",
          "height": 300
        },
        "id": "VKFTeFGuMFat",
        "outputId": "de1e9c81-6e56-4b17-cdb6-51d30749d609"
      },
      "execution_count": 79,
      "outputs": [
        {
          "output_type": "execute_result",
          "data": {
            "text/plain": [
              "              Height          Speed       Distance     Fatalities  \\\n",
              "count  165324.000000  165324.000000  165324.000000  165324.000000   \n",
              "mean      622.578372     139.243468       0.409041       0.045864   \n",
              "std       708.816405      21.036409       0.748831       0.002657   \n",
              "min         0.000000      52.000000       0.000000       0.000000   \n",
              "25%         0.000000     140.000000       0.000000       0.046018   \n",
              "50%       831.032283     141.925622       0.000000       0.046018   \n",
              "75%       831.032283     141.925622       0.703738       0.046018   \n",
              "max      5000.000000     230.000000       8.500000       0.046018   \n",
              "\n",
              "            Injuries  \n",
              "count  165324.000000  \n",
              "mean        1.746789  \n",
              "std         0.004036  \n",
              "min         1.746725  \n",
              "25%         1.746725  \n",
              "50%         1.746725  \n",
              "75%         1.746725  \n",
              "max         2.000000  "
            ],
            "text/html": [
              "\n",
              "  <div id=\"df-9c587528-2ae2-4ae5-8346-cbb0cd0376a8\">\n",
              "    <div class=\"colab-df-container\">\n",
              "      <div>\n",
              "<style scoped>\n",
              "    .dataframe tbody tr th:only-of-type {\n",
              "        vertical-align: middle;\n",
              "    }\n",
              "\n",
              "    .dataframe tbody tr th {\n",
              "        vertical-align: top;\n",
              "    }\n",
              "\n",
              "    .dataframe thead th {\n",
              "        text-align: right;\n",
              "    }\n",
              "</style>\n",
              "<table border=\"1\" class=\"dataframe\">\n",
              "  <thead>\n",
              "    <tr style=\"text-align: right;\">\n",
              "      <th></th>\n",
              "      <th>Height</th>\n",
              "      <th>Speed</th>\n",
              "      <th>Distance</th>\n",
              "      <th>Fatalities</th>\n",
              "      <th>Injuries</th>\n",
              "    </tr>\n",
              "  </thead>\n",
              "  <tbody>\n",
              "    <tr>\n",
              "      <th>count</th>\n",
              "      <td>165324.000000</td>\n",
              "      <td>165324.000000</td>\n",
              "      <td>165324.000000</td>\n",
              "      <td>165324.000000</td>\n",
              "      <td>165324.000000</td>\n",
              "    </tr>\n",
              "    <tr>\n",
              "      <th>mean</th>\n",
              "      <td>622.578372</td>\n",
              "      <td>139.243468</td>\n",
              "      <td>0.409041</td>\n",
              "      <td>0.045864</td>\n",
              "      <td>1.746789</td>\n",
              "    </tr>\n",
              "    <tr>\n",
              "      <th>std</th>\n",
              "      <td>708.816405</td>\n",
              "      <td>21.036409</td>\n",
              "      <td>0.748831</td>\n",
              "      <td>0.002657</td>\n",
              "      <td>0.004036</td>\n",
              "    </tr>\n",
              "    <tr>\n",
              "      <th>min</th>\n",
              "      <td>0.000000</td>\n",
              "      <td>52.000000</td>\n",
              "      <td>0.000000</td>\n",
              "      <td>0.000000</td>\n",
              "      <td>1.746725</td>\n",
              "    </tr>\n",
              "    <tr>\n",
              "      <th>25%</th>\n",
              "      <td>0.000000</td>\n",
              "      <td>140.000000</td>\n",
              "      <td>0.000000</td>\n",
              "      <td>0.046018</td>\n",
              "      <td>1.746725</td>\n",
              "    </tr>\n",
              "    <tr>\n",
              "      <th>50%</th>\n",
              "      <td>831.032283</td>\n",
              "      <td>141.925622</td>\n",
              "      <td>0.000000</td>\n",
              "      <td>0.046018</td>\n",
              "      <td>1.746725</td>\n",
              "    </tr>\n",
              "    <tr>\n",
              "      <th>75%</th>\n",
              "      <td>831.032283</td>\n",
              "      <td>141.925622</td>\n",
              "      <td>0.703738</td>\n",
              "      <td>0.046018</td>\n",
              "      <td>1.746725</td>\n",
              "    </tr>\n",
              "    <tr>\n",
              "      <th>max</th>\n",
              "      <td>5000.000000</td>\n",
              "      <td>230.000000</td>\n",
              "      <td>8.500000</td>\n",
              "      <td>0.046018</td>\n",
              "      <td>2.000000</td>\n",
              "    </tr>\n",
              "  </tbody>\n",
              "</table>\n",
              "</div>\n",
              "      <button class=\"colab-df-convert\" onclick=\"convertToInteractive('df-9c587528-2ae2-4ae5-8346-cbb0cd0376a8')\"\n",
              "              title=\"Convert this dataframe to an interactive table.\"\n",
              "              style=\"display:none;\">\n",
              "        \n",
              "  <svg xmlns=\"http://www.w3.org/2000/svg\" height=\"24px\"viewBox=\"0 0 24 24\"\n",
              "       width=\"24px\">\n",
              "    <path d=\"M0 0h24v24H0V0z\" fill=\"none\"/>\n",
              "    <path d=\"M18.56 5.44l.94 2.06.94-2.06 2.06-.94-2.06-.94-.94-2.06-.94 2.06-2.06.94zm-11 1L8.5 8.5l.94-2.06 2.06-.94-2.06-.94L8.5 2.5l-.94 2.06-2.06.94zm10 10l.94 2.06.94-2.06 2.06-.94-2.06-.94-.94-2.06-.94 2.06-2.06.94z\"/><path d=\"M17.41 7.96l-1.37-1.37c-.4-.4-.92-.59-1.43-.59-.52 0-1.04.2-1.43.59L10.3 9.45l-7.72 7.72c-.78.78-.78 2.05 0 2.83L4 21.41c.39.39.9.59 1.41.59.51 0 1.02-.2 1.41-.59l7.78-7.78 2.81-2.81c.8-.78.8-2.07 0-2.86zM5.41 20L4 18.59l7.72-7.72 1.47 1.35L5.41 20z\"/>\n",
              "  </svg>\n",
              "      </button>\n",
              "      \n",
              "  <style>\n",
              "    .colab-df-container {\n",
              "      display:flex;\n",
              "      flex-wrap:wrap;\n",
              "      gap: 12px;\n",
              "    }\n",
              "\n",
              "    .colab-df-convert {\n",
              "      background-color: #E8F0FE;\n",
              "      border: none;\n",
              "      border-radius: 50%;\n",
              "      cursor: pointer;\n",
              "      display: none;\n",
              "      fill: #1967D2;\n",
              "      height: 32px;\n",
              "      padding: 0 0 0 0;\n",
              "      width: 32px;\n",
              "    }\n",
              "\n",
              "    .colab-df-convert:hover {\n",
              "      background-color: #E2EBFA;\n",
              "      box-shadow: 0px 1px 2px rgba(60, 64, 67, 0.3), 0px 1px 3px 1px rgba(60, 64, 67, 0.15);\n",
              "      fill: #174EA6;\n",
              "    }\n",
              "\n",
              "    [theme=dark] .colab-df-convert {\n",
              "      background-color: #3B4455;\n",
              "      fill: #D2E3FC;\n",
              "    }\n",
              "\n",
              "    [theme=dark] .colab-df-convert:hover {\n",
              "      background-color: #434B5C;\n",
              "      box-shadow: 0px 1px 3px 1px rgba(0, 0, 0, 0.15);\n",
              "      filter: drop-shadow(0px 1px 2px rgba(0, 0, 0, 0.3));\n",
              "      fill: #FFFFFF;\n",
              "    }\n",
              "  </style>\n",
              "\n",
              "      <script>\n",
              "        const buttonEl =\n",
              "          document.querySelector('#df-9c587528-2ae2-4ae5-8346-cbb0cd0376a8 button.colab-df-convert');\n",
              "        buttonEl.style.display =\n",
              "          google.colab.kernel.accessAllowed ? 'block' : 'none';\n",
              "\n",
              "        async function convertToInteractive(key) {\n",
              "          const element = document.querySelector('#df-9c587528-2ae2-4ae5-8346-cbb0cd0376a8');\n",
              "          const dataTable =\n",
              "            await google.colab.kernel.invokeFunction('convertToInteractive',\n",
              "                                                     [key], {});\n",
              "          if (!dataTable) return;\n",
              "\n",
              "          const docLinkHtml = 'Like what you see? Visit the ' +\n",
              "            '<a target=\"_blank\" href=https://colab.research.google.com/notebooks/data_table.ipynb>data table notebook</a>'\n",
              "            + ' to learn more about interactive tables.';\n",
              "          element.innerHTML = '';\n",
              "          dataTable['output_type'] = 'display_data';\n",
              "          await google.colab.output.renderOutput(dataTable, element);\n",
              "          const docLink = document.createElement('div');\n",
              "          docLink.innerHTML = docLinkHtml;\n",
              "          element.appendChild(docLink);\n",
              "        }\n",
              "      </script>\n",
              "    </div>\n",
              "  </div>\n",
              "  "
            ]
          },
          "metadata": {},
          "execution_count": 79
        }
      ]
    },
    {
      "cell_type": "markdown",
      "source": [
        "Vẽ biểu đồ boxplot cho Height:"
      ],
      "metadata": {
        "id": "btixNKgzMrc9"
      }
    },
    {
      "cell_type": "code",
      "source": [
        "plt.boxplot(df_2[\"Height\"]);"
      ],
      "metadata": {
        "colab": {
          "base_uri": "https://localhost:8080/",
          "height": 265
        },
        "id": "V3sizMX_Mvkg",
        "outputId": "694ae81c-294d-4e91-f9f6-2f31e67dbd90"
      },
      "execution_count": 81,
      "outputs": [
        {
          "output_type": "display_data",
          "data": {
            "text/plain": [
              "<Figure size 432x288 with 1 Axes>"
            ],
            "image/png": "[encoded data removed]"
          },
          "metadata": {
            "needs_background": "light"
          }
        }
      ]
    },
    {
      "cell_type": "markdown",
      "source": [
        "Vẽ biểu đồ boxplot cho Speed:"
      ],
      "metadata": {
        "id": "k0ri_St3M0x7"
      }
    },
    {
      "cell_type": "code",
      "source": [
        "plt.boxplot(df_2[\"Speed\"]);"
      ],
      "metadata": {
        "colab": {
          "base_uri": "https://localhost:8080/",
          "height": 265
        },
        "id": "hmwyYr_sM3t6",
        "outputId": "baee384c-4d9c-4ae1-a5e0-0f5b1c107f89"
      },
      "execution_count": 82,
      "outputs": [
        {
          "output_type": "display_data",
          "data": {
            "text/plain": [
              "<Figure size 432x288 with 1 Axes>"
            ],
            "image/png": "[encoded data removed]"
          },
          "metadata": {
            "needs_background": "light"
          }
        }
      ]
    },
    {
      "cell_type": "markdown",
      "source": [
        "Vẽ biểu đồ boxplot cho Distance:"
      ],
      "metadata": {
        "id": "nvTsmwxoM5ky"
      }
    },
    {
      "cell_type": "code",
      "source": [
        "plt.boxplot(df_2[\"Distance\"]);"
      ],
      "metadata": {
        "colab": {
          "base_uri": "https://localhost:8080/",
          "height": 265
        },
        "id": "zZ2R4pwWNBzR",
        "outputId": "0c5f5298-857b-4c8d-b9f8-3526fcaf28e1"
      },
      "execution_count": 83,
      "outputs": [
        {
          "output_type": "display_data",
          "data": {
            "text/plain": [
              "<Figure size 432x288 with 1 Axes>"
            ],
            "image/png": "[encoded data removed]"
          },
          "metadata": {
            "needs_background": "light"
          }
        }
      ]
    },
    {
      "cell_type": "markdown",
      "source": [
        "Vẽ biểu đồ boxplot cho Fatalities:"
      ],
      "metadata": {
        "id": "PbXh3QN1NPIT"
      }
    },
    {
      "cell_type": "code",
      "source": [
        "plt.boxplot(df_2[\"Fatalities\"]);"
      ],
      "metadata": {
        "colab": {
          "base_uri": "https://localhost:8080/",
          "height": 265
        },
        "id": "MPmdzbheNYyY",
        "outputId": "a7fb5b4e-e7c3-48b8-f255-d8673dab5475"
      },
      "execution_count": 84,
      "outputs": [
        {
          "output_type": "display_data",
          "data": {
            "text/plain": [
              "<Figure size 432x288 with 1 Axes>"
            ],
            "image/png": "[encoded data removed]"
          },
          "metadata": {
            "needs_background": "light"
          }
        }
      ]
    },
    {
      "cell_type": "markdown",
      "source": [
        "Vẽ biểu đồ boxplot cho Injuries:"
      ],
      "metadata": {
        "id": "6zlwyyvMNUkj"
      }
    },
    {
      "cell_type": "code",
      "source": [
        "plt.boxplot(df_2[\"Injuries\"]);"
      ],
      "metadata": {
        "colab": {
          "base_uri": "https://localhost:8080/",
          "height": 265
        },
        "id": "aqZeOq2QNhV7",
        "outputId": "b4f051ba-9df1-4779-95da-0aa741964313"
      },
      "execution_count": 85,
      "outputs": [
        {
          "output_type": "display_data",
          "data": {
            "text/plain": [
              "<Figure size 432x288 with 1 Axes>"
            ],
            "image/png": "[encoded data removed]"
          },
          "metadata": {
            "needs_background": "light"
          }
        }
      ]
    },
    {
      "cell_type": "markdown",
      "source": [
        "**Câu 7: Hãy tính độ tương quan (correlation) giữa các cột định lượng. (Hay xây dựng correlation\n",
        "matrix)**"
      ],
      "metadata": {
        "id": "tUIBgYx2rLNF"
      }
    },
    {
      "cell_type": "code",
      "source": [
        "corr = df_2.corr(method='pearson')\n",
        "corr"
      ],
      "metadata": {
        "colab": {
          "base_uri": "https://localhost:8080/",
          "height": 206
        },
        "id": "cBztoLvjOKfp",
        "outputId": "ead333af-291c-45c9-eb38-7bf3c2932f8d"
      },
      "execution_count": 88,
      "outputs": [
        {
          "output_type": "execute_result",
          "data": {
            "text/plain": [
              "              Height     Speed  Distance  Fatalities  Injuries\n",
              "Height      1.000000  0.470107  0.382980   -0.001060  0.001294\n",
              "Speed       0.470107  1.000000  0.214414   -0.007386 -0.016695\n",
              "Distance    0.382980  0.214414  1.000000   -0.003502  0.005935\n",
              "Fatalities -0.001060 -0.007386 -0.003502    1.000000  0.000923\n",
              "Injuries    0.001294 -0.016695  0.005935    0.000923  1.000000"
            ],
            "text/html": [
              "\n",
              "  <div id=\"df-c48c7a39-24e0-42e9-9cf0-b8263257c8a2\">\n",
              "    <div class=\"colab-df-container\">\n",
              "      <div>\n",
              "<style scoped>\n",
              "    .dataframe tbody tr th:only-of-type {\n",
              "        vertical-align: middle;\n",
              "    }\n",
              "\n",
              "    .dataframe tbody tr th {\n",
              "        vertical-align: top;\n",
              "    }\n",
              "\n",
              "    .dataframe thead th {\n",
              "        text-align: right;\n",
              "    }\n",
              "</style>\n",
              "<table border=\"1\" class=\"dataframe\">\n",
              "  <thead>\n",
              "    <tr style=\"text-align: right;\">\n",
              "      <th></th>\n",
              "      <th>Height</th>\n",
              "      <th>Speed</th>\n",
              "      <th>Distance</th>\n",
              "      <th>Fatalities</th>\n",
              "      <th>Injuries</th>\n",
              "    </tr>\n",
              "  </thead>\n",
              "  <tbody>\n",
              "    <tr>\n",
              "      <th>Height</th>\n",
              "      <td>1.000000</td>\n",
              "      <td>0.470107</td>\n",
              "      <td>0.382980</td>\n",
              "      <td>-0.001060</td>\n",
              "      <td>0.001294</td>\n",
              "    </tr>\n",
              "    <tr>\n",
              "      <th>Speed</th>\n",
              "      <td>0.470107</td>\n",
              "      <td>1.000000</td>\n",
              "      <td>0.214414</td>\n",
              "      <td>-0.007386</td>\n",
              "      <td>-0.016695</td>\n",
              "    </tr>\n",
              "    <tr>\n",
              "      <th>Distance</th>\n",
              "      <td>0.382980</td>\n",
              "      <td>0.214414</td>\n",
              "      <td>1.000000</td>\n",
              "      <td>-0.003502</td>\n",
              "      <td>0.005935</td>\n",
              "    </tr>\n",
              "    <tr>\n",
              "      <th>Fatalities</th>\n",
              "      <td>-0.001060</td>\n",
              "      <td>-0.007386</td>\n",
              "      <td>-0.003502</td>\n",
              "      <td>1.000000</td>\n",
              "      <td>0.000923</td>\n",
              "    </tr>\n",
              "    <tr>\n",
              "      <th>Injuries</th>\n",
              "      <td>0.001294</td>\n",
              "      <td>-0.016695</td>\n",
              "      <td>0.005935</td>\n",
              "      <td>0.000923</td>\n",
              "      <td>1.000000</td>\n",
              "    </tr>\n",
              "  </tbody>\n",
              "</table>\n",
              "</div>\n",
              "      <button class=\"colab-df-convert\" onclick=\"convertToInteractive('df-c48c7a39-24e0-42e9-9cf0-b8263257c8a2')\"\n",
              "              title=\"Convert this dataframe to an interactive table.\"\n",
              "              style=\"display:none;\">\n",
              "        \n",
              "  <svg xmlns=\"http://www.w3.org/2000/svg\" height=\"24px\"viewBox=\"0 0 24 24\"\n",
              "       width=\"24px\">\n",
              "    <path d=\"M0 0h24v24H0V0z\" fill=\"none\"/>\n",
              "    <path d=\"M18.56 5.44l.94 2.06.94-2.06 2.06-.94-2.06-.94-.94-2.06-.94 2.06-2.06.94zm-11 1L8.5 8.5l.94-2.06 2.06-.94-2.06-.94L8.5 2.5l-.94 2.06-2.06.94zm10 10l.94 2.06.94-2.06 2.06-.94-2.06-.94-.94-2.06-.94 2.06-2.06.94z\"/><path d=\"M17.41 7.96l-1.37-1.37c-.4-.4-.92-.59-1.43-.59-.52 0-1.04.2-1.43.59L10.3 9.45l-7.72 7.72c-.78.78-.78 2.05 0 2.83L4 21.41c.39.39.9.59 1.41.59.51 0 1.02-.2 1.41-.59l7.78-7.78 2.81-2.81c.8-.78.8-2.07 0-2.86zM5.41 20L4 18.59l7.72-7.72 1.47 1.35L5.41 20z\"/>\n",
              "  </svg>\n",
              "      </button>\n",
              "      \n",
              "  <style>\n",
              "    .colab-df-container {\n",
              "      display:flex;\n",
              "      flex-wrap:wrap;\n",
              "      gap: 12px;\n",
              "    }\n",
              "\n",
              "    .colab-df-convert {\n",
              "      background-color: #E8F0FE;\n",
              "      border: none;\n",
              "      border-radius: 50%;\n",
              "      cursor: pointer;\n",
              "      display: none;\n",
              "      fill: #1967D2;\n",
              "      height: 32px;\n",
              "      padding: 0 0 0 0;\n",
              "      width: 32px;\n",
              "    }\n",
              "\n",
              "    .colab-df-convert:hover {\n",
              "      background-color: #E2EBFA;\n",
              "      box-shadow: 0px 1px 2px rgba(60, 64, 67, 0.3), 0px 1px 3px 1px rgba(60, 64, 67, 0.15);\n",
              "      fill: #174EA6;\n",
              "    }\n",
              "\n",
              "    [theme=dark] .colab-df-convert {\n",
              "      background-color: #3B4455;\n",
              "      fill: #D2E3FC;\n",
              "    }\n",
              "\n",
              "    [theme=dark] .colab-df-convert:hover {\n",
              "      background-color: #434B5C;\n",
              "      box-shadow: 0px 1px 3px 1px rgba(0, 0, 0, 0.15);\n",
              "      filter: drop-shadow(0px 1px 2px rgba(0, 0, 0, 0.3));\n",
              "      fill: #FFFFFF;\n",
              "    }\n",
              "  </style>\n",
              "\n",
              "      <script>\n",
              "        const buttonEl =\n",
              "          document.querySelector('#df-c48c7a39-24e0-42e9-9cf0-b8263257c8a2 button.colab-df-convert');\n",
              "        buttonEl.style.display =\n",
              "          google.colab.kernel.accessAllowed ? 'block' : 'none';\n",
              "\n",
              "        async function convertToInteractive(key) {\n",
              "          const element = document.querySelector('#df-c48c7a39-24e0-42e9-9cf0-b8263257c8a2');\n",
              "          const dataTable =\n",
              "            await google.colab.kernel.invokeFunction('convertToInteractive',\n",
              "                                                     [key], {});\n",
              "          if (!dataTable) return;\n",
              "\n",
              "          const docLinkHtml = 'Like what you see? Visit the ' +\n",
              "            '<a target=\"_blank\" href=https://colab.research.google.com/notebooks/data_table.ipynb>data table notebook</a>'\n",
              "            + ' to learn more about interactive tables.';\n",
              "          element.innerHTML = '';\n",
              "          dataTable['output_type'] = 'display_data';\n",
              "          await google.colab.output.renderOutput(dataTable, element);\n",
              "          const docLink = document.createElement('div');\n",
              "          docLink.innerHTML = docLinkHtml;\n",
              "          element.appendChild(docLink);\n",
              "        }\n",
              "      </script>\n",
              "    </div>\n",
              "  </div>\n",
              "  "
            ]
          },
          "metadata": {},
          "execution_count": 88
        }
      ]
    },
    {
      "cell_type": "markdown",
      "source": [
        "Câu 8: Từ correlation matrix, Hãy vẽ:\n",
        "\n"
      ],
      "metadata": {
        "id": "WM54fgZHOdiX"
      }
    },
    {
      "cell_type": "markdown",
      "source": [
        "- Heat map (biểu đồ nhiệt)"
      ],
      "metadata": {
        "id": "I6REMp-SOhwv"
      }
    },
    {
      "cell_type": "code",
      "source": [
        "sns.heatmap(corr, vmin=-1, vmax=1, cmap=sns.diverging_palette(20, 220, as_cmap=True));"
      ],
      "metadata": {
        "colab": {
          "base_uri": "https://localhost:8080/",
          "height": 269
        },
        "id": "Xyq7kXooOf32",
        "outputId": "751cadc2-1c9d-4e3a-ba30-c88019064407"
      },
      "execution_count": 90,
      "outputs": [
        {
          "output_type": "display_data",
          "data": {
            "text/plain": [
              "<Figure size 432x288 with 2 Axes>"
            ],
            "image/png": "[encoded data removed]"
          },
          "metadata": {
            "needs_background": "light"
          }
        }
      ]
    },
    {
      "cell_type": "markdown",
      "source": [
        "- Pair plot (biểu đồ cặp)"
      ],
      "metadata": {
        "id": "d6oOjG8zOe_d"
      }
    },
    {
      "cell_type": "code",
      "source": [
        "sns.pairplot(df_2)"
      ],
      "metadata": {
        "colab": {
          "base_uri": "https://localhost:8080/",
          "height": 920
        },
        "id": "VvDI3wZkQ9On",
        "outputId": "73a987f3-de84-45d4-f9f2-e25a6919ae64"
      },
      "execution_count": 91,
      "outputs": [
        {
          "output_type": "execute_result",
          "data": {
            "text/plain": [
              "<seaborn.axisgrid.PairGrid at 0x7f0c9b564e90>"
            ]
          },
          "metadata": {},
          "execution_count": 91
        },
        {
          "output_type": "display_data",
          "data": {
            "text/plain": [
              "<Figure size 900x900 with 30 Axes>"
            ],
            "image/png": "[encoded data removed]"
          },
          "metadata": {
            "needs_background": "light"
          }
        }
      ]
    },
    {
      "cell_type": "markdown",
      "source": [
        "Khi làm việc với các dữ liệu định tính ta thường chỉ quan tâm đến một vài vấn đề. Do đó, chúng ta sẽ không vẽ hết tất cả các cột định tính.\n",
        "\n",
        "\n"
      ],
      "metadata": {
        "id": "IbPKcoJ9Rcfp"
      }
    },
    {
      "cell_type": "markdown",
      "source": [
        "Câu 9: Đối với các cột dữ liệu định tính, hãy:\n",
        "- Vẽ biểu đồ cột dạng đứng\n"
      ],
      "metadata": {
        "id": "hP1Iin4vrMM1"
      }
    },
    {
      "cell_type": "markdown",
      "source": [
        "Giả sử vấn đề ta quan tâm: Số vụ tai nạn tương ứng với từng năm"
      ],
      "metadata": {
        "id": "onRorEn0VGkD"
      }
    },
    {
      "cell_type": "code",
      "source": [
        "x = dict(df[\"Incident Year\"].value_counts()).keys()\n",
        "y = dict(df[\"Incident Year\"].value_counts()).values()\n",
        "plt.bar(x,y);"
      ],
      "metadata": {
        "colab": {
          "base_uri": "https://localhost:8080/",
          "height": 265
        },
        "id": "UyYscdPMT5pz",
        "outputId": "1f9aebf4-999e-4529-c046-5c99ff6fa4ab"
      },
      "execution_count": 115,
      "outputs": [
        {
          "output_type": "display_data",
          "data": {
            "text/plain": [
              "<Figure size 432x288 with 1 Axes>"
            ],
            "image/png": "[encoded data removed]"
          },
          "metadata": {
            "needs_background": "light"
          }
        }
      ]
    },
    {
      "cell_type": "markdown",
      "source": [
        "- Vẽ biểu đồ cột dạng ngang\n"
      ],
      "metadata": {
        "id": "6qzE9c0mrW0t"
      }
    },
    {
      "cell_type": "code",
      "source": [
        "x = dict(df[\"Incident Year\"].value_counts()).keys()\n",
        "y = dict(df[\"Incident Year\"].value_counts()).values()\n",
        "plt.barh(list(x),list(y));"
      ],
      "metadata": {
        "colab": {
          "base_uri": "https://localhost:8080/",
          "height": 265
        },
        "id": "d2lm82AVVTEH",
        "outputId": "2b4776e6-8237-4b61-de81-5387b89f1428"
      },
      "execution_count": 116,
      "outputs": [
        {
          "output_type": "display_data",
          "data": {
            "text/plain": [
              "<Figure size 432x288 with 1 Axes>"
            ],
            "image/png": "[encoded data removed]"
          },
          "metadata": {
            "needs_background": "light"
          }
        }
      ]
    },
    {
      "cell_type": "markdown",
      "source": [
        "- Vẽ biểu đồ đường tròn\n",
        "- Vẽ biểu đồ Pareto"
      ],
      "metadata": {
        "id": "im9_UJdPVSTg"
      }
    }
  ]
}