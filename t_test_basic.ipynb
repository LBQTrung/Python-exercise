{
  "nbformat": 4,
  "nbformat_minor": 0,
  "metadata": {
    "colab": {
      "name": "t-test-basic.ipynb",
      "provenance": [],
      "collapsed_sections": [],
      "authorship_tag": "ABX9TyMvQUlRewwXP0a7mEcU8PaC",
      "include_colab_link": true
    },
    "kernelspec": {
      "name": "python3",
      "display_name": "Python 3"
    },
    "language_info": {
      "name": "python"
    }
  },
  "cells": [
    {
      "cell_type": "markdown",
      "metadata": {
        "id": "view-in-github",
        "colab_type": "text"
      },
      "source": [
        "<a href=\"https://colab.research.google.com/github/LBQTrung/Python-exercise/blob/main/t_test_basic.ipynb\" target=\"_parent\"><img src=\"https://colab.research.google.com/assets/colab-badge.svg\" alt=\"Open In Colab\"/></a>"
      ]
    },
    {
      "cell_type": "markdown",
      "source": [
        "Hướng dẫn suy diễn thống kê bằng kiểm định t:"
      ],
      "metadata": {
        "id": "4cYA0QZMm7NA"
      }
    },
    {
      "cell_type": "markdown",
      "source": [
        "1. Các thư viện cần thiết:"
      ],
      "metadata": {
        "id": "25PxAHvHm_Nr"
      }
    },
    {
      "cell_type": "code",
      "source": [
        "import numpy as np\n",
        "from scipy import stats\n",
        "import pandas as pd\n",
        "import math\n",
        "from statsmodels.stats.weightstats import ttest_ind"
      ],
      "metadata": {
        "id": "XmBC3LnlnGLc"
      },
      "execution_count": 30,
      "outputs": []
    },
    {
      "cell_type": "markdown",
      "source": [
        "2. Thành phần của một bài kiểm định:\n",
        "- Vấn đề kiểm định\n",
        "- Cặp giả thuyết $H_0$ và $H_a$\n",
        "- Tiểu chuẩn kiểm định: $G = G(X_1, X_2, ..., X_n)$ Biết quy luật phân phối xác suất khi $H_0$ đúng như Student, chuẩn, Chi bình phương, Fisher\n",
        "- Mức ý nghĩa $\\alpha$: Xác suất mắc sai lầm loại $I$ ($H_0$ đúng nhưng chúng ta bác bỏ)\n",
        "- Miền bác bỏ $H_0$: $W_α$ = {miền giá trị cho thấy $H_0$ sai}\n",
        "\\begin{align}\n",
        "        α = P(G \\in W_a|H_0 \\text{ đúng} )\n",
        "    \\end{align}\n",
        "- Giá trị xác suất (p-value): Mức độ khẳng định của việc bác bỏ $H_0$ hoặc có thể hiểu là mức ý nghĩa nhỏ nhất để bác bỏ $H_0$"
      ],
      "metadata": {
        "id": "ErvqTBWYnU9A"
      }
    },
    {
      "cell_type": "markdown",
      "source": [
        "3. Quy trình kiểm định:\n",
        "\n",
        "Bước 1: Thực hiện các phép đo, hay thu thập dữ liệu quan sát\n",
        "\n",
        "Bước 2: Phát biểu giả thuyết  H0  và giả thuyết thay thế  Ha \n",
        "\n",
        "Bước 3: Xác định mức  α  (hay khoảng tin cậy)\n",
        "\n",
        "Bước 4: Lấy mẫu và tính toán các đại lượng thống kê của mẫu\n",
        "\n",
        "Bước 5: Thực hiện kiểm định t (t-test)\n",
        "\n",
        "Bước 6: Kết luận dựa vào kết quả kiểm định"
      ],
      "metadata": {
        "id": "DV0ZwCK_r-yX"
      }
    },
    {
      "cell_type": "markdown",
      "source": [
        "4. Xây dựng một kiểm định t 1 tham số:"
      ],
      "metadata": {
        "id": "PIHDoz29Tyt3"
      }
    },
    {
      "cell_type": "markdown",
      "source": [
        "* Kiểm định 2 đuôi:"
      ],
      "metadata": {
        "id": "Y15N0u8yqzhw"
      }
    },
    {
      "cell_type": "markdown",
      "source": [
        "Bài toán: Điều tra chi tiêu hàng năm của 40 công nhân khi công nghiệp A thấy trung bình mẫu là 34 triệu đồng và độ lệch chuẩn mẫu là 5.8 triệu đồng. Điều tra công nhân tại khu công nghiệp B thì chi tiêu trung bình là 35 triệu đồng. Với mức ý nghĩa 5%, có thể cho rằng chi tiêu trung bình của công nhân khu công nghiệp A và B là như nhau không? Giả thiết chi tiêu công nhân là biến ngẫu nhiên phân phối chuẩn."
      ],
      "metadata": {
        "id": "SV6n1809sEJD"
      }
    },
    {
      "cell_type": "markdown",
      "source": [
        "Xây dựng giả thuyết:\n",
        "\\begin{align}\n",
        "        H_0: μ  = 35\n",
        "    \\end{align}\n",
        "\n",
        "Giả thuyết thay thế:\n",
        "\\begin{align}\n",
        "        H_a: μ \\ne 35\n",
        "    \\end{align}\n",
        "\n",
        "α = 0.05\n",
        "\n",
        "Chỉ số t với bậc tự do 39 (40-1) > 30 tương ứng với α/2 = 0.025 xấp xỉ 1.96 (Phân phối chuẩn)\n",
        "\n",
        "Công thức:\n",
        "$$t = \\frac{(\\overline{\\rm X} - \\mu_0)}{(s / \\sqrt{n})}$$\n",
        "\n",
        "Với:\n",
        "- $\\overline{\\rm X}$: trung bình mẫu (34)\n",
        "- $\\mu_{0}$: trung bình của tổng thể cần so sánh (35)\n",
        "- s: độ lệch chuẩn hiệu chỉnh mẫu (5.8)\n",
        "- n: cỡ mẫu (40)\n",
        "\n",
        "Thay giá trị vào công thức ta có:\n",
        "\n",
        "$$t_{qs} = \\frac{(34 - 35)}{(5.8 / \\sqrt{40})} \\approx -1.09$$\n",
        "\n",
        "VÌ $|t_{qs}|$ < 1.96. Do đó không có bằng chứng để bác bỏ giả thuyết $H_0$  \n"
      ],
      "metadata": {
        "id": "Nvx-Tmk6y-Nm"
      }
    },
    {
      "cell_type": "markdown",
      "source": [
        "Lập trình bài toán trên với Python:"
      ],
      "metadata": {
        "id": "JMowbMTJQBzJ"
      }
    },
    {
      "cell_type": "code",
      "source": [
        "# Sinh mẫu ngẫu nhiên với cỡ mẫu 40, trung bình 34, độ lệch chuẩn 5.8\n",
        "sample = np.random.normal(loc = 34, scale = 5.8, size = 40)\n",
        "sample"
      ],
      "metadata": {
        "colab": {
          "base_uri": "https://localhost:8080/"
        },
        "id": "hskoMOJiTwRo",
        "outputId": "b8b8162c-2704-4b17-f73c-266808ccb4eb"
      },
      "execution_count": 2,
      "outputs": [
        {
          "output_type": "execute_result",
          "data": {
            "text/plain": [
              "array([35.79427357, 33.4883226 , 30.20012434, 29.9722804 , 30.68016202,\n",
              "       29.90892293, 51.08196894, 32.18543868, 39.50415996, 47.20835421,\n",
              "       24.7819182 , 25.60958053, 22.17279094, 33.52594941, 26.88161332,\n",
              "       26.9567555 , 33.75978777, 33.81505448, 40.98510497, 31.35937242,\n",
              "       35.24029823, 35.46754796, 28.88240236, 28.26656696, 39.21856263,\n",
              "       33.31347127, 26.07615774, 37.77061924, 31.46836992, 34.58143851,\n",
              "       27.71706176, 40.14491246, 33.8888977 , 41.02505586, 45.58858919,\n",
              "       36.58345855, 38.99711475, 39.20569856, 41.07383601, 38.15429982])"
            ]
          },
          "metadata": {},
          "execution_count": 2
        }
      ]
    },
    {
      "cell_type": "code",
      "source": [
        "# Xác định các thông số:\n",
        "mu0 = 35\n",
        "sig = 0.05"
      ],
      "metadata": {
        "id": "PrPGSvCRUy9P"
      },
      "execution_count": 3,
      "outputs": []
    },
    {
      "cell_type": "code",
      "source": [
        "# Kiểm định t:\n",
        "t_statistic, p_value = stats.ttest_1samp(sample, mu0)\n",
        "if(p_value <  sig):\n",
        "  print(\"Có bằng chứng để bác bỏ giả thuyết H0\")\n",
        "else:\n",
        "  print(\"Chưa có bằng chứng để bác bỏ giả thuyết H0\")"
      ],
      "metadata": {
        "colab": {
          "base_uri": "https://localhost:8080/"
        },
        "id": "vFc2R6_hVEqb",
        "outputId": "e1e521e2-6a2e-4e1a-9af9-58ddbd605070"
      },
      "execution_count": 7,
      "outputs": [
        {
          "output_type": "stream",
          "name": "stdout",
          "text": [
            "Chưa có bằng chứng để bác bỏ giả thuyết H0\n"
          ]
        }
      ]
    },
    {
      "cell_type": "markdown",
      "source": [
        "* Kiểm định 1 đuôi:"
      ],
      "metadata": {
        "id": "tAEjyuk2qXRZ"
      }
    },
    {
      "cell_type": "markdown",
      "source": [
        "Bài toán: Điều tra chi tiêu hàng năm của 40 công nhân khi công nghiệp A thấy trung bình mẫu là 34 triệu đồng và độ lệch chuẩn mẫu là 5.8 triệu đồng. Điều tra công nhân tại khu công nghiệp B thì chi tiêu trung bình là 35 triệu đồng. Với mức ý nghĩa 5%, có thể cho rằng chi tiêu trung bình của công nhân khu công nghiệp A thấp hơn khu công nghiệp B hay không? Giả thiết chi tiêu công nhân là biến ngẫu nhiên phân phối chuẩn."
      ],
      "metadata": {
        "id": "jpX2EjMbgAHK"
      }
    },
    {
      "cell_type": "markdown",
      "source": [
        "Xây dựng giả thuyết:\n",
        "\\begin{align}\n",
        "        H_0: μ  = 35\n",
        "    \\end{align}\n",
        "\n",
        "Giả thuyết thay thế:\n",
        "\\begin{align}\n",
        "        H_a: μ < 35\n",
        "    \\end{align}\n",
        "\n",
        "α = 0.05\n",
        "\n",
        "Chỉ số t với bậc tự do 39 (40-1) > 30 tương ứng với α = 0.05  xấp xỉ 1.645 (Phân phối chuẩn)\n",
        "\n",
        "Công thức:\n",
        "$$t = \\frac{(\\overline{\\rm X} - \\mu_0)}{(s / \\sqrt{n})}$$\n",
        "\n",
        "Với:\n",
        "- $\\overline{\\rm X}$: trung bình mẫu (34)\n",
        "- $\\mu_{0}$: trung bình của tổng thể cần so sánh (35)\n",
        "- s: độ lệch chuẩn hiệu chỉnh mẫu (5.8)\n",
        "- n: cỡ mẫu (40)\n",
        "\n",
        "Thay giá trị vào công thức ta có:\n",
        "\n",
        "$$t_{qs} = \\frac{(34 - 35)}{(5.8 / \\sqrt{40})} \\approx -1.09$$\n",
        "\n",
        "VÌ $t_{qs}$ > -1.645. Do đó không có bằng chứng để bác bỏ giả thuyết $H_0$  "
      ],
      "metadata": {
        "id": "pqseP7zogJJY"
      }
    },
    {
      "cell_type": "markdown",
      "source": [
        "Ta dùng Python để giải bài toán trên:"
      ],
      "metadata": {
        "id": "EeYpuow9ftOB"
      }
    },
    {
      "cell_type": "code",
      "source": [
        "# Viết hàm kiểm định t-test: \n",
        "def t_test(sample, hypoth_value, sig_level, test_type):\n",
        "    sample_mean = sample.mean()\n",
        "    sample_st_dev = sample.std()\n",
        "    sample_size = len(sample)\n",
        "    test_statistic = (sample_mean - hypoth_value) / \\\n",
        "                     (sample_st_dev/(math.sqrt(sample_size)))\n",
        "    if test_type == 'lower':\n",
        "        p_value = stats.t.cdf(test_statistic,df=sample_size-1)\n",
        "    if test_type == 'upper':\n",
        "        p_value = 1 - stats.t.cdf(test_statistic,df=sample_size-1)\n",
        "    if test_type == 'two':\n",
        "        p_value = 2 * (1 - stats.t.cdf(abs(test_statistic), \\\n",
        "                                    df=sample_size-1))\n",
        "    print(f'P Value = {p_value}')\n",
        "    if p_value < sig_level:\n",
        "        print(\"Có bằng chứng để bác bỏ giả thuyết H0\")\n",
        "    else:\n",
        "        print(\"Chưa có bằng chứng để bác bỏ giả thuyết H0\")"
      ],
      "metadata": {
        "id": "j62lAai2hxXJ"
      },
      "execution_count": 11,
      "outputs": []
    },
    {
      "cell_type": "code",
      "source": [
        "# Sinh mẫu ngẫu nhiên với cỡ mẫu 40, trung bình 34, độ lệch chuẩn 5.8\n",
        "sample = np.random.normal(loc = 34, scale = 5.8, size = 40)\n",
        "sample"
      ],
      "metadata": {
        "colab": {
          "base_uri": "https://localhost:8080/"
        },
        "id": "nifD7ElrjCwp",
        "outputId": "6fa95efe-d848-4e34-996d-1b987b2231af"
      },
      "execution_count": 14,
      "outputs": [
        {
          "output_type": "execute_result",
          "data": {
            "text/plain": [
              "array([43.92803093, 37.42682115, 35.45506946, 42.40735954, 40.01682907,\n",
              "       37.33940723, 46.05424417, 27.70256802, 29.8411684 , 19.79809488,\n",
              "       31.6838074 , 24.61962241, 36.35302821, 32.80488007, 28.40427333,\n",
              "       39.33901677, 39.59180175, 33.9202098 , 30.80957483, 30.89559315,\n",
              "       30.75915719, 28.07343406, 46.30465675, 34.30219738, 41.88880732,\n",
              "       25.40711481, 36.62101422, 48.75513367, 35.44847569, 31.86976881,\n",
              "       39.42198449, 32.4833202 , 33.07236509, 29.55486025, 28.67948502,\n",
              "       30.05090654, 39.53610959, 28.81420038, 28.20708556, 35.94015097])"
            ]
          },
          "metadata": {},
          "execution_count": 14
        }
      ]
    },
    {
      "cell_type": "code",
      "source": [
        "# Xác định các thông số:\n",
        "mu0 = 35\n",
        "sig = 0.05"
      ],
      "metadata": {
        "id": "_zhuLFikipqA"
      },
      "execution_count": 9,
      "outputs": []
    },
    {
      "cell_type": "code",
      "source": [
        "t_test(sample, mu0, sig, 'lower')"
      ],
      "metadata": {
        "colab": {
          "base_uri": "https://localhost:8080/"
        },
        "id": "D2UPROsBi-y6",
        "outputId": "d3800f5c-f5f0-4d06-c3bb-578a754211da"
      },
      "execution_count": 15,
      "outputs": [
        {
          "output_type": "stream",
          "name": "stdout",
          "text": [
            "P Value = 0.25619330951809965\n",
            "Chưa có bằng chứng để bác bỏ giả thuyết H0\n"
          ]
        }
      ]
    },
    {
      "cell_type": "markdown",
      "source": [
        "5. Xây dựng kiểm định t 2 tham số:\n"
      ],
      "metadata": {
        "id": "WenejXzejrxw"
      }
    },
    {
      "cell_type": "markdown",
      "source": [
        "* Trường hợp 2 đuôi:"
      ],
      "metadata": {
        "id": "B03vFOydw8jI"
      }
    },
    {
      "cell_type": "markdown",
      "source": [
        "Bài toán: Điều tra chi tiêu hàng năm của 40 công nhân khi công nghiệp A thấy trung bình mẫu là 34 triệu đồng và độ lệch chuẩn mẫu là 5.8 triệu đồng. Điều tra 40 công nhân ở khu công nghiệp C thì thấy chi tiêu trung bình là 36 triệu đồng và độ lệch chuẩn là 5 triệu đồng. Với mức ý nghĩa 5%, có thể cho rằng mức chi tiêu trung bình hàng năm của công nhân ở khu công nghiệp A có bằng khu C hay không?\n"
      ],
      "metadata": {
        "id": "AL2MeoeLo77x"
      }
    },
    {
      "cell_type": "markdown",
      "source": [
        "Xây dựng giả thuyết:\n",
        "\\begin{align}\n",
        "        H_0: μ_A = μ_C\n",
        "    \\end{align}\n",
        "\n",
        "Giả thuyết thay thế:\n",
        "\\begin{align}\n",
        "        H_a: μ_A \\ne μ_C\n",
        "    \\end{align}\n",
        "\n",
        "α = 0.05\n",
        "\n",
        "Chỉ số t với bậc tự do 39 (40-1) > 30 tương ứng với α/2 = 0.025 xấp xỉ 1.96 (Phân phối chuẩn)\n",
        "\n",
        "Công thức:\n",
        "$$t = \\frac{(\\overline{\\rm X}_1 - \\overline{\\rm X}_2)}{\\sqrt{\\frac{S_1^2}{n_1} + \\frac{S_2^2}{n_2}}}$$\n",
        "\n",
        "Với:\n",
        "- $\\overline{\\rm X}_1$: trung bình mẫu ban đầu (34)\n",
        "- $\\overline{\\rm X}_2$: trung bình của mẫu cần so sánh (37)\n",
        "- $S_1$: độ lệch chuẩn hiệu chỉnh mẫu ban đầu (5.8)\n",
        "- $S_2$: độ lệch chuẩn hiệu chỉnh mẫu cần so sánh (5)\n",
        "- $n_1$: cỡ mẫu của mẫu ban đầu (40)\n",
        "- $n_2$: cỡ mẫu của mẫu cần so sánh (40)\n",
        "\n",
        "Thay giá trị vào công thức ta có:\n",
        "\n",
        "$$t = \\frac{(34 - 37)}{\\sqrt{\\frac{5.8^2}{40} + \\frac{5^2}{40}}} \\approx -2.478$$\n",
        "\n",
        "\n",
        "VÌ $|t_{qs}|$ > -1.96. Do đó có bằng chứng để bác bỏ giả thuyết $H_0$ "
      ],
      "metadata": {
        "id": "J5sKSVhup6ih"
      }
    },
    {
      "cell_type": "markdown",
      "source": [
        "Ta dùng Python để giải bài toán trên như sau:"
      ],
      "metadata": {
        "id": "T3M0nPvKs7gP"
      }
    },
    {
      "cell_type": "code",
      "source": [
        "# Sinh các mẫu:\n",
        "sample_A = np.random.normal(loc = 34, scale = 5.8, size = 40)\n",
        "sample_B = np.random.normal(loc = 37, scale = 5, size = 40)"
      ],
      "metadata": {
        "id": "gmixj2oZuKEw"
      },
      "execution_count": 17,
      "outputs": []
    },
    {
      "cell_type": "code",
      "source": [
        "# Xác định mức ý nghĩa:\n",
        "sig = 0.05"
      ],
      "metadata": {
        "id": "AEjXdGoju2YH"
      },
      "execution_count": 20,
      "outputs": []
    },
    {
      "cell_type": "code",
      "source": [
        "# Tiến hành kiểm định t:\n",
        "t_statistic, p_value = stats.ttest_ind(sample_A, sample_B)\n",
        "if p_value < sig:\n",
        "    print(\"Có bằng chứng để bác bỏ giả thuyết H0\")\n",
        "else:\n",
        "    print(\"Chưa có bằng chứng để bác bỏ giả thuyết H0\")"
      ],
      "metadata": {
        "colab": {
          "base_uri": "https://localhost:8080/"
        },
        "id": "yBjWnpatvChn",
        "outputId": "a227279f-98d1-42ce-a7be-1716ed1acae8"
      },
      "execution_count": 21,
      "outputs": [
        {
          "output_type": "stream",
          "name": "stdout",
          "text": [
            "Có bằng chứng để bác bỏ giả thuyết H0\n"
          ]
        }
      ]
    },
    {
      "cell_type": "markdown",
      "source": [
        "* Trường hợp 1 đuôi:"
      ],
      "metadata": {
        "id": "6TaD4JUcw_6f"
      }
    },
    {
      "cell_type": "markdown",
      "source": [
        "Bài toán: Điều tra chi tiêu hàng năm của 40 công nhân khi công nghiệp A thấy trung bình mẫu là 34 triệu đồng và độ lệch chuẩn mẫu là 5.8 triệu đồng. Điều tra 40 công nhân ở khu công nghiệp C thì thấy chi tiêu trung bình là 36 triệu đồng và độ lệch chuẩn là 5 triệu đồng. Với mức ý nghĩa 5%, có thể cho rằng mức chi tiêu trung bình hàng năm của công nhân ở khu công nghiệp A thấp hơn khu C hay không?"
      ],
      "metadata": {
        "id": "AvWcTBpzxKuf"
      }
    },
    {
      "cell_type": "markdown",
      "source": [
        "Xây dựng giả thuyết:\n",
        "\\begin{align}\n",
        "        H_0: μ_A = μ_C\n",
        "    \\end{align}\n",
        "\n",
        "Giả thuyết thay thế:\n",
        "\\begin{align}\n",
        "        H_a: μ_A < μ_C\n",
        "    \\end{align}\n"
      ],
      "metadata": {
        "id": "f2g_XPOyyAX3"
      }
    },
    {
      "cell_type": "code",
      "source": [
        "# Sinh các mẫu:\n",
        "sample_A = np.random.normal(loc = 34, scale = 5.8, size = 40)\n",
        "sample_B = np.random.normal(loc = 37, scale = 5, size = 40)"
      ],
      "metadata": {
        "id": "ghgiFK-HyVUm"
      },
      "execution_count": 35,
      "outputs": []
    },
    {
      "cell_type": "code",
      "source": [
        "# Xác định mức ý nghĩa:\n",
        "sig = 0.05"
      ],
      "metadata": {
        "id": "CowUVp5CyXa-"
      },
      "execution_count": 25,
      "outputs": []
    },
    {
      "cell_type": "code",
      "source": [
        "# Tiến hành kiểm định t:\n",
        "t_statistic, p_value, df = ttest_ind(x1 = sample_A, x2 = sample_B, value = 34 - 36, alternative = \"smaller\")\n",
        "if p_value < sig:\n",
        "    print(\"Có bằng chứng để bác bỏ giả thuyết H0\")\n",
        "else:\n",
        "    print(\"Chưa có bằng chứng để bác bỏ giả thuyết H0\")"
      ],
      "metadata": {
        "colab": {
          "base_uri": "https://localhost:8080/"
        },
        "id": "oAd8GE4YyZX2",
        "outputId": "d5585305-2260-4e80-a2d5-c91cc6113dbc"
      },
      "execution_count": 36,
      "outputs": [
        {
          "output_type": "stream",
          "name": "stdout",
          "text": [
            "Có bằng chứng để bác bỏ giả thuyết H0\n"
          ]
        }
      ]
    }
  ]
}