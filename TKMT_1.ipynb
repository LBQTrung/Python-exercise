{
  "nbformat": 4,
  "nbformat_minor": 0,
  "metadata": {
    "colab": {
      "name": "TKMT_1.ipynb",
      "provenance": [],
      "collapsed_sections": [],
      "authorship_tag": "ABX9TyNF3524QaGfwfi+lnS3EiSd",
      "include_colab_link": true
    },
    "kernelspec": {
      "name": "python3",
      "display_name": "Python 3"
    },
    "language_info": {
      "name": "python"
    }
  },
  "cells": [
    {
      "cell_type": "markdown",
      "metadata": {
        "id": "view-in-github",
        "colab_type": "text"
      },
      "source": [
        "<a href=\"https://colab.research.google.com/github/LBQTrung/Python-exercise/blob/main/TKMT_1.ipynb\" target=\"_parent\"><img src=\"https://colab.research.google.com/assets/colab-badge.svg\" alt=\"Open In Colab\"/></a>"
      ]
    },
    {
      "cell_type": "markdown",
      "source": [
        "Sử dụng thư viện pandas để quản lý và phân tích dữ liệu"
      ],
      "metadata": {
        "id": "ZLu5aLulWtFz"
      }
    },
    {
      "cell_type": "code",
      "source": [
        "import pandas as pd"
      ],
      "metadata": {
        "id": "it7ZfQAoWt4l"
      },
      "execution_count": 64,
      "outputs": []
    },
    {
      "cell_type": "markdown",
      "source": [
        "Đọc tập dữ liệu state.csv"
      ],
      "metadata": {
        "id": "Xc8S8BkUWvNr"
      }
    },
    {
      "cell_type": "code",
      "source": [
        "df = pd.read_csv('state.csv')"
      ],
      "metadata": {
        "id": "YWOubtr4WwJs"
      },
      "execution_count": 65,
      "outputs": []
    },
    {
      "cell_type": "markdown",
      "source": [
        "Hiển thị các thông số cơ bản của tập dữ liệu"
      ],
      "metadata": {
        "id": "HZ7quvpHWxbU"
      }
    },
    {
      "cell_type": "code",
      "source": [
        "df.head()"
      ],
      "metadata": {
        "colab": {
          "base_uri": "https://localhost:8080/",
          "height": 206
        },
        "id": "e1UvXDAnWzY7",
        "outputId": "52c1c5c7-8801-4535-fb30-820dd10d4643"
      },
      "execution_count": 66,
      "outputs": [
        {
          "output_type": "execute_result",
          "data": {
            "text/plain": [
              "        State  Population  Murder.Rate Abbreviation\n",
              "0     Alabama     4779736          5.7           AL\n",
              "1      Alaska      710231          5.6           AK\n",
              "2     Arizona     6392017          4.7           AZ\n",
              "3    Arkansas     2915918          5.6           AR\n",
              "4  California    37253956          4.4           CA"
            ],
            "text/html": [
              "\n",
              "  <div id=\"df-15960bb6-10c7-46e8-bd0e-53fdece32943\">\n",
              "    <div class=\"colab-df-container\">\n",
              "      <div>\n",
              "<style scoped>\n",
              "    .dataframe tbody tr th:only-of-type {\n",
              "        vertical-align: middle;\n",
              "    }\n",
              "\n",
              "    .dataframe tbody tr th {\n",
              "        vertical-align: top;\n",
              "    }\n",
              "\n",
              "    .dataframe thead th {\n",
              "        text-align: right;\n",
              "    }\n",
              "</style>\n",
              "<table border=\"1\" class=\"dataframe\">\n",
              "  <thead>\n",
              "    <tr style=\"text-align: right;\">\n",
              "      <th></th>\n",
              "      <th>State</th>\n",
              "      <th>Population</th>\n",
              "      <th>Murder.Rate</th>\n",
              "      <th>Abbreviation</th>\n",
              "    </tr>\n",
              "  </thead>\n",
              "  <tbody>\n",
              "    <tr>\n",
              "      <th>0</th>\n",
              "      <td>Alabama</td>\n",
              "      <td>4779736</td>\n",
              "      <td>5.7</td>\n",
              "      <td>AL</td>\n",
              "    </tr>\n",
              "    <tr>\n",
              "      <th>1</th>\n",
              "      <td>Alaska</td>\n",
              "      <td>710231</td>\n",
              "      <td>5.6</td>\n",
              "      <td>AK</td>\n",
              "    </tr>\n",
              "    <tr>\n",
              "      <th>2</th>\n",
              "      <td>Arizona</td>\n",
              "      <td>6392017</td>\n",
              "      <td>4.7</td>\n",
              "      <td>AZ</td>\n",
              "    </tr>\n",
              "    <tr>\n",
              "      <th>3</th>\n",
              "      <td>Arkansas</td>\n",
              "      <td>2915918</td>\n",
              "      <td>5.6</td>\n",
              "      <td>AR</td>\n",
              "    </tr>\n",
              "    <tr>\n",
              "      <th>4</th>\n",
              "      <td>California</td>\n",
              "      <td>37253956</td>\n",
              "      <td>4.4</td>\n",
              "      <td>CA</td>\n",
              "    </tr>\n",
              "  </tbody>\n",
              "</table>\n",
              "</div>\n",
              "      <button class=\"colab-df-convert\" onclick=\"convertToInteractive('df-15960bb6-10c7-46e8-bd0e-53fdece32943')\"\n",
              "              title=\"Convert this dataframe to an interactive table.\"\n",
              "              style=\"display:none;\">\n",
              "        \n",
              "  <svg xmlns=\"http://www.w3.org/2000/svg\" height=\"24px\"viewBox=\"0 0 24 24\"\n",
              "       width=\"24px\">\n",
              "    <path d=\"M0 0h24v24H0V0z\" fill=\"none\"/>\n",
              "    <path d=\"M18.56 5.44l.94 2.06.94-2.06 2.06-.94-2.06-.94-.94-2.06-.94 2.06-2.06.94zm-11 1L8.5 8.5l.94-2.06 2.06-.94-2.06-.94L8.5 2.5l-.94 2.06-2.06.94zm10 10l.94 2.06.94-2.06 2.06-.94-2.06-.94-.94-2.06-.94 2.06-2.06.94z\"/><path d=\"M17.41 7.96l-1.37-1.37c-.4-.4-.92-.59-1.43-.59-.52 0-1.04.2-1.43.59L10.3 9.45l-7.72 7.72c-.78.78-.78 2.05 0 2.83L4 21.41c.39.39.9.59 1.41.59.51 0 1.02-.2 1.41-.59l7.78-7.78 2.81-2.81c.8-.78.8-2.07 0-2.86zM5.41 20L4 18.59l7.72-7.72 1.47 1.35L5.41 20z\"/>\n",
              "  </svg>\n",
              "      </button>\n",
              "      \n",
              "  <style>\n",
              "    .colab-df-container {\n",
              "      display:flex;\n",
              "      flex-wrap:wrap;\n",
              "      gap: 12px;\n",
              "    }\n",
              "\n",
              "    .colab-df-convert {\n",
              "      background-color: #E8F0FE;\n",
              "      border: none;\n",
              "      border-radius: 50%;\n",
              "      cursor: pointer;\n",
              "      display: none;\n",
              "      fill: #1967D2;\n",
              "      height: 32px;\n",
              "      padding: 0 0 0 0;\n",
              "      width: 32px;\n",
              "    }\n",
              "\n",
              "    .colab-df-convert:hover {\n",
              "      background-color: #E2EBFA;\n",
              "      box-shadow: 0px 1px 2px rgba(60, 64, 67, 0.3), 0px 1px 3px 1px rgba(60, 64, 67, 0.15);\n",
              "      fill: #174EA6;\n",
              "    }\n",
              "\n",
              "    [theme=dark] .colab-df-convert {\n",
              "      background-color: #3B4455;\n",
              "      fill: #D2E3FC;\n",
              "    }\n",
              "\n",
              "    [theme=dark] .colab-df-convert:hover {\n",
              "      background-color: #434B5C;\n",
              "      box-shadow: 0px 1px 3px 1px rgba(0, 0, 0, 0.15);\n",
              "      filter: drop-shadow(0px 1px 2px rgba(0, 0, 0, 0.3));\n",
              "      fill: #FFFFFF;\n",
              "    }\n",
              "  </style>\n",
              "\n",
              "      <script>\n",
              "        const buttonEl =\n",
              "          document.querySelector('#df-15960bb6-10c7-46e8-bd0e-53fdece32943 button.colab-df-convert');\n",
              "        buttonEl.style.display =\n",
              "          google.colab.kernel.accessAllowed ? 'block' : 'none';\n",
              "\n",
              "        async function convertToInteractive(key) {\n",
              "          const element = document.querySelector('#df-15960bb6-10c7-46e8-bd0e-53fdece32943');\n",
              "          const dataTable =\n",
              "            await google.colab.kernel.invokeFunction('convertToInteractive',\n",
              "                                                     [key], {});\n",
              "          if (!dataTable) return;\n",
              "\n",
              "          const docLinkHtml = 'Like what you see? Visit the ' +\n",
              "            '<a target=\"_blank\" href=https://colab.research.google.com/notebooks/data_table.ipynb>data table notebook</a>'\n",
              "            + ' to learn more about interactive tables.';\n",
              "          element.innerHTML = '';\n",
              "          dataTable['output_type'] = 'display_data';\n",
              "          await google.colab.output.renderOutput(dataTable, element);\n",
              "          const docLink = document.createElement('div');\n",
              "          docLink.innerHTML = docLinkHtml;\n",
              "          element.appendChild(docLink);\n",
              "        }\n",
              "      </script>\n",
              "    </div>\n",
              "  </div>\n",
              "  "
            ]
          },
          "metadata": {},
          "execution_count": 66
        }
      ]
    },
    {
      "cell_type": "code",
      "source": [
        "df.shape"
      ],
      "metadata": {
        "colab": {
          "base_uri": "https://localhost:8080/"
        },
        "id": "rQTrJLp9W1Y9",
        "outputId": "943f3e7b-c8e4-4f29-fd02-7a132174a5c3"
      },
      "execution_count": 67,
      "outputs": [
        {
          "output_type": "execute_result",
          "data": {
            "text/plain": [
              "(50, 4)"
            ]
          },
          "metadata": {},
          "execution_count": 67
        }
      ]
    },
    {
      "cell_type": "markdown",
      "source": [
        "Ghi chú: Nếu có cột dữ liệu ID/STT thì loại bỏ cột này vì không có ý nghĩa khi phân tích dữ liệu\n",
        "\n",
        "PHÂN TÍCH DỮ LIỆU ĐỊNH LƯỢNG\n",
        "\n",
        "Sao chép các cột dữ liệu định lượng sang 1 dataframe khác (Khi thành thạo có thể không cần thực hiện thao tác sao chép này)"
      ],
      "metadata": {
        "id": "K2oK7r7VW59n"
      }
    },
    {
      "cell_type": "code",
      "source": [
        "df_dl = pd.DataFrame(columns = ['Population', 'Murder.Rate'], data = df)\n",
        "df_dl.head()"
      ],
      "metadata": {
        "colab": {
          "base_uri": "https://localhost:8080/",
          "height": 206
        },
        "id": "MSEPRNRbW-Wc",
        "outputId": "f67b842d-1923-462c-b026-c574c6c7a512"
      },
      "execution_count": 68,
      "outputs": [
        {
          "output_type": "execute_result",
          "data": {
            "text/plain": [
              "   Population  Murder.Rate\n",
              "0     4779736          5.7\n",
              "1      710231          5.6\n",
              "2     6392017          4.7\n",
              "3     2915918          5.6\n",
              "4    37253956          4.4"
            ],
            "text/html": [
              "\n",
              "  <div id=\"df-bf61437d-406e-457d-97c7-a5c7a5403b4b\">\n",
              "    <div class=\"colab-df-container\">\n",
              "      <div>\n",
              "<style scoped>\n",
              "    .dataframe tbody tr th:only-of-type {\n",
              "        vertical-align: middle;\n",
              "    }\n",
              "\n",
              "    .dataframe tbody tr th {\n",
              "        vertical-align: top;\n",
              "    }\n",
              "\n",
              "    .dataframe thead th {\n",
              "        text-align: right;\n",
              "    }\n",
              "</style>\n",
              "<table border=\"1\" class=\"dataframe\">\n",
              "  <thead>\n",
              "    <tr style=\"text-align: right;\">\n",
              "      <th></th>\n",
              "      <th>Population</th>\n",
              "      <th>Murder.Rate</th>\n",
              "    </tr>\n",
              "  </thead>\n",
              "  <tbody>\n",
              "    <tr>\n",
              "      <th>0</th>\n",
              "      <td>4779736</td>\n",
              "      <td>5.7</td>\n",
              "    </tr>\n",
              "    <tr>\n",
              "      <th>1</th>\n",
              "      <td>710231</td>\n",
              "      <td>5.6</td>\n",
              "    </tr>\n",
              "    <tr>\n",
              "      <th>2</th>\n",
              "      <td>6392017</td>\n",
              "      <td>4.7</td>\n",
              "    </tr>\n",
              "    <tr>\n",
              "      <th>3</th>\n",
              "      <td>2915918</td>\n",
              "      <td>5.6</td>\n",
              "    </tr>\n",
              "    <tr>\n",
              "      <th>4</th>\n",
              "      <td>37253956</td>\n",
              "      <td>4.4</td>\n",
              "    </tr>\n",
              "  </tbody>\n",
              "</table>\n",
              "</div>\n",
              "      <button class=\"colab-df-convert\" onclick=\"convertToInteractive('df-bf61437d-406e-457d-97c7-a5c7a5403b4b')\"\n",
              "              title=\"Convert this dataframe to an interactive table.\"\n",
              "              style=\"display:none;\">\n",
              "        \n",
              "  <svg xmlns=\"http://www.w3.org/2000/svg\" height=\"24px\"viewBox=\"0 0 24 24\"\n",
              "       width=\"24px\">\n",
              "    <path d=\"M0 0h24v24H0V0z\" fill=\"none\"/>\n",
              "    <path d=\"M18.56 5.44l.94 2.06.94-2.06 2.06-.94-2.06-.94-.94-2.06-.94 2.06-2.06.94zm-11 1L8.5 8.5l.94-2.06 2.06-.94-2.06-.94L8.5 2.5l-.94 2.06-2.06.94zm10 10l.94 2.06.94-2.06 2.06-.94-2.06-.94-.94-2.06-.94 2.06-2.06.94z\"/><path d=\"M17.41 7.96l-1.37-1.37c-.4-.4-.92-.59-1.43-.59-.52 0-1.04.2-1.43.59L10.3 9.45l-7.72 7.72c-.78.78-.78 2.05 0 2.83L4 21.41c.39.39.9.59 1.41.59.51 0 1.02-.2 1.41-.59l7.78-7.78 2.81-2.81c.8-.78.8-2.07 0-2.86zM5.41 20L4 18.59l7.72-7.72 1.47 1.35L5.41 20z\"/>\n",
              "  </svg>\n",
              "      </button>\n",
              "      \n",
              "  <style>\n",
              "    .colab-df-container {\n",
              "      display:flex;\n",
              "      flex-wrap:wrap;\n",
              "      gap: 12px;\n",
              "    }\n",
              "\n",
              "    .colab-df-convert {\n",
              "      background-color: #E8F0FE;\n",
              "      border: none;\n",
              "      border-radius: 50%;\n",
              "      cursor: pointer;\n",
              "      display: none;\n",
              "      fill: #1967D2;\n",
              "      height: 32px;\n",
              "      padding: 0 0 0 0;\n",
              "      width: 32px;\n",
              "    }\n",
              "\n",
              "    .colab-df-convert:hover {\n",
              "      background-color: #E2EBFA;\n",
              "      box-shadow: 0px 1px 2px rgba(60, 64, 67, 0.3), 0px 1px 3px 1px rgba(60, 64, 67, 0.15);\n",
              "      fill: #174EA6;\n",
              "    }\n",
              "\n",
              "    [theme=dark] .colab-df-convert {\n",
              "      background-color: #3B4455;\n",
              "      fill: #D2E3FC;\n",
              "    }\n",
              "\n",
              "    [theme=dark] .colab-df-convert:hover {\n",
              "      background-color: #434B5C;\n",
              "      box-shadow: 0px 1px 3px 1px rgba(0, 0, 0, 0.15);\n",
              "      filter: drop-shadow(0px 1px 2px rgba(0, 0, 0, 0.3));\n",
              "      fill: #FFFFFF;\n",
              "    }\n",
              "  </style>\n",
              "\n",
              "      <script>\n",
              "        const buttonEl =\n",
              "          document.querySelector('#df-bf61437d-406e-457d-97c7-a5c7a5403b4b button.colab-df-convert');\n",
              "        buttonEl.style.display =\n",
              "          google.colab.kernel.accessAllowed ? 'block' : 'none';\n",
              "\n",
              "        async function convertToInteractive(key) {\n",
              "          const element = document.querySelector('#df-bf61437d-406e-457d-97c7-a5c7a5403b4b');\n",
              "          const dataTable =\n",
              "            await google.colab.kernel.invokeFunction('convertToInteractive',\n",
              "                                                     [key], {});\n",
              "          if (!dataTable) return;\n",
              "\n",
              "          const docLinkHtml = 'Like what you see? Visit the ' +\n",
              "            '<a target=\"_blank\" href=https://colab.research.google.com/notebooks/data_table.ipynb>data table notebook</a>'\n",
              "            + ' to learn more about interactive tables.';\n",
              "          element.innerHTML = '';\n",
              "          dataTable['output_type'] = 'display_data';\n",
              "          await google.colab.output.renderOutput(dataTable, element);\n",
              "          const docLink = document.createElement('div');\n",
              "          docLink.innerHTML = docLinkHtml;\n",
              "          element.appendChild(docLink);\n",
              "        }\n",
              "      </script>\n",
              "    </div>\n",
              "  </div>\n",
              "  "
            ]
          },
          "metadata": {},
          "execution_count": 68
        }
      ]
    },
    {
      "cell_type": "code",
      "source": [
        "df_dl.shape"
      ],
      "metadata": {
        "colab": {
          "base_uri": "https://localhost:8080/"
        },
        "id": "q-wgL5psXAzN",
        "outputId": "17a5494b-eb18-4e79-9c50-3787cf85602b"
      },
      "execution_count": 69,
      "outputs": [
        {
          "output_type": "execute_result",
          "data": {
            "text/plain": [
              "(50, 2)"
            ]
          },
          "metadata": {},
          "execution_count": 69
        }
      ]
    },
    {
      "cell_type": "markdown",
      "source": [
        "Tính các thông số thống kê định lượng"
      ],
      "metadata": {
        "id": "buOv9N1XXPpE"
      }
    },
    {
      "cell_type": "code",
      "source": [
        "print('Giá trị trung bình: ', df_dl['Population'].mean(), \"; \", df_dl['Murder.Rate'].mean())"
      ],
      "metadata": {
        "colab": {
          "base_uri": "https://localhost:8080/"
        },
        "id": "gQzMxw26XLlc",
        "outputId": "5213b260-3a12-4591-d558-706aeb9413f6"
      },
      "execution_count": 70,
      "outputs": [
        {
          "output_type": "stream",
          "name": "stdout",
          "text": [
            "Giá trị trung bình:  6162876.3 ;  4.066\n"
          ]
        }
      ]
    },
    {
      "cell_type": "code",
      "source": [
        "print('Giá trị lớn nhất: ', df_dl['Population'].max(), \"; \", df_dl['Murder.Rate'].max())"
      ],
      "metadata": {
        "colab": {
          "base_uri": "https://localhost:8080/"
        },
        "id": "QXdMVV6YXRGt",
        "outputId": "a95d3750-ee03-40bd-e21d-97cc40672ab6"
      },
      "execution_count": 71,
      "outputs": [
        {
          "output_type": "stream",
          "name": "stdout",
          "text": [
            "Giá trị lớn nhất:  37253956 ;  10.3\n"
          ]
        }
      ]
    },
    {
      "cell_type": "code",
      "source": [
        "print('Giá trị nhỏ nhất: ', df_dl['Population'].min(), \"; \", df_dl['Murder.Rate'].min())"
      ],
      "metadata": {
        "colab": {
          "base_uri": "https://localhost:8080/"
        },
        "id": "c1NW9bnTXSS0",
        "outputId": "0a9f3b46-231c-4d3c-c7c2-aaf177c3eaab"
      },
      "execution_count": 72,
      "outputs": [
        {
          "output_type": "stream",
          "name": "stdout",
          "text": [
            "Giá trị nhỏ nhất:  563626 ;  0.9\n"
          ]
        }
      ]
    },
    {
      "cell_type": "code",
      "source": [
        "print('Độ lệch chuẩn: ', df_dl['Population'].std(), \"; \", df_dl['Murder.Rate'].std())"
      ],
      "metadata": {
        "colab": {
          "base_uri": "https://localhost:8080/"
        },
        "id": "a776lwFHXT-Z",
        "outputId": "60891522-9985-49da-9c83-7683333a8de1"
      },
      "execution_count": 73,
      "outputs": [
        {
          "output_type": "stream",
          "name": "stdout",
          "text": [
            "Độ lệch chuẩn:  6848235.347401142 ;  1.915736124302923\n"
          ]
        }
      ]
    },
    {
      "cell_type": "code",
      "source": [
        "print('Phương sai: ', df_dl['Population'].var(), \"; \", df_dl['Murder.Rate'].var())"
      ],
      "metadata": {
        "colab": {
          "base_uri": "https://localhost:8080/"
        },
        "id": "h-xV4KQ-XVov",
        "outputId": "f7b2376b-1a35-44c2-9f13-9449d0cc6b15"
      },
      "execution_count": 74,
      "outputs": [
        {
          "output_type": "stream",
          "name": "stdout",
          "text": [
            "Phương sai:  46898327373394.445 ;  3.670044897959184\n"
          ]
        }
      ]
    },
    {
      "cell_type": "code",
      "source": [
        "print('Q1 của  Population', df_dl['Population'].quantile(0.25), \"; của Murder.Rate\", df_dl['Murder.Rate'].quantile(0.25))"
      ],
      "metadata": {
        "colab": {
          "base_uri": "https://localhost:8080/"
        },
        "id": "okVhBCHQXX02",
        "outputId": "4fccd995-01c4-412e-ca54-4845dce632c2"
      },
      "execution_count": 75,
      "outputs": [
        {
          "output_type": "stream",
          "name": "stdout",
          "text": [
            "Q1 của  Population 1833004.25 ; của Murder.Rate 2.425\n"
          ]
        }
      ]
    },
    {
      "cell_type": "code",
      "source": [
        "print('Q2 của  Population', df_dl['Population'].quantile(0.50), \"; của Murder.Rate\", df_dl['Murder.Rate'].quantile(0.50))"
      ],
      "metadata": {
        "colab": {
          "base_uri": "https://localhost:8080/"
        },
        "id": "DIkeqg8IXZVW",
        "outputId": "20d98915-bf98-4e1a-87cd-3abab29c77ca"
      },
      "execution_count": 76,
      "outputs": [
        {
          "output_type": "stream",
          "name": "stdout",
          "text": [
            "Q2 của  Population 4436369.5 ; của Murder.Rate 4.0\n"
          ]
        }
      ]
    },
    {
      "cell_type": "code",
      "source": [
        "print('Q3 của  Population', df_dl['Population'].quantile(0.75), \"; của Murder.Rate\", df_dl['Murder.Rate'].quantile(0.75))"
      ],
      "metadata": {
        "colab": {
          "base_uri": "https://localhost:8080/"
        },
        "id": "OYLbU892Xaj7",
        "outputId": "05ddabaa-5952-4c92-a456-8eb5acb32d85"
      },
      "execution_count": 77,
      "outputs": [
        {
          "output_type": "stream",
          "name": "stdout",
          "text": [
            "Q3 của  Population 6680312.25 ; của Murder.Rate 5.55\n"
          ]
        }
      ]
    },
    {
      "cell_type": "code",
      "source": [
        "print('IQR ',df_dl['Population'].quantile(0.75) - df_dl['Population'].quantile(0.25), \"; \", df_dl['Murder.Rate'].quantile(0.75) - df_dl['Murder.Rate'].quantile(0.25) )"
      ],
      "metadata": {
        "colab": {
          "base_uri": "https://localhost:8080/"
        },
        "id": "4rnKIz0jXb0y",
        "outputId": "6588a8ef-d0b4-4bea-9fed-13a4e10cdfc8"
      },
      "execution_count": 78,
      "outputs": [
        {
          "output_type": "stream",
          "name": "stdout",
          "text": [
            "IQR  4847308.0 ;  3.125\n"
          ]
        }
      ]
    },
    {
      "cell_type": "markdown",
      "source": [
        "Có thể thay các phép tính riêng biệt trên bằng cách sử dụng hàm describe"
      ],
      "metadata": {
        "id": "uyIpulK8Xtjy"
      }
    },
    {
      "cell_type": "code",
      "source": [
        "df_dl.describe()"
      ],
      "metadata": {
        "colab": {
          "base_uri": "https://localhost:8080/",
          "height": 300
        },
        "id": "nCHIsfyNXvj0",
        "outputId": "54834ff9-3e29-4bb5-9c64-ff1ce7f99da0"
      },
      "execution_count": 79,
      "outputs": [
        {
          "output_type": "execute_result",
          "data": {
            "text/plain": [
              "         Population  Murder.Rate\n",
              "count  5.000000e+01    50.000000\n",
              "mean   6.162876e+06     4.066000\n",
              "std    6.848235e+06     1.915736\n",
              "min    5.636260e+05     0.900000\n",
              "25%    1.833004e+06     2.425000\n",
              "50%    4.436370e+06     4.000000\n",
              "75%    6.680312e+06     5.550000\n",
              "max    3.725396e+07    10.300000"
            ],
            "text/html": [
              "\n",
              "  <div id=\"df-d7d211a4-cfa9-4c8f-b196-289034ec6db2\">\n",
              "    <div class=\"colab-df-container\">\n",
              "      <div>\n",
              "<style scoped>\n",
              "    .dataframe tbody tr th:only-of-type {\n",
              "        vertical-align: middle;\n",
              "    }\n",
              "\n",
              "    .dataframe tbody tr th {\n",
              "        vertical-align: top;\n",
              "    }\n",
              "\n",
              "    .dataframe thead th {\n",
              "        text-align: right;\n",
              "    }\n",
              "</style>\n",
              "<table border=\"1\" class=\"dataframe\">\n",
              "  <thead>\n",
              "    <tr style=\"text-align: right;\">\n",
              "      <th></th>\n",
              "      <th>Population</th>\n",
              "      <th>Murder.Rate</th>\n",
              "    </tr>\n",
              "  </thead>\n",
              "  <tbody>\n",
              "    <tr>\n",
              "      <th>count</th>\n",
              "      <td>5.000000e+01</td>\n",
              "      <td>50.000000</td>\n",
              "    </tr>\n",
              "    <tr>\n",
              "      <th>mean</th>\n",
              "      <td>6.162876e+06</td>\n",
              "      <td>4.066000</td>\n",
              "    </tr>\n",
              "    <tr>\n",
              "      <th>std</th>\n",
              "      <td>6.848235e+06</td>\n",
              "      <td>1.915736</td>\n",
              "    </tr>\n",
              "    <tr>\n",
              "      <th>min</th>\n",
              "      <td>5.636260e+05</td>\n",
              "      <td>0.900000</td>\n",
              "    </tr>\n",
              "    <tr>\n",
              "      <th>25%</th>\n",
              "      <td>1.833004e+06</td>\n",
              "      <td>2.425000</td>\n",
              "    </tr>\n",
              "    <tr>\n",
              "      <th>50%</th>\n",
              "      <td>4.436370e+06</td>\n",
              "      <td>4.000000</td>\n",
              "    </tr>\n",
              "    <tr>\n",
              "      <th>75%</th>\n",
              "      <td>6.680312e+06</td>\n",
              "      <td>5.550000</td>\n",
              "    </tr>\n",
              "    <tr>\n",
              "      <th>max</th>\n",
              "      <td>3.725396e+07</td>\n",
              "      <td>10.300000</td>\n",
              "    </tr>\n",
              "  </tbody>\n",
              "</table>\n",
              "</div>\n",
              "      <button class=\"colab-df-convert\" onclick=\"convertToInteractive('df-d7d211a4-cfa9-4c8f-b196-289034ec6db2')\"\n",
              "              title=\"Convert this dataframe to an interactive table.\"\n",
              "              style=\"display:none;\">\n",
              "        \n",
              "  <svg xmlns=\"http://www.w3.org/2000/svg\" height=\"24px\"viewBox=\"0 0 24 24\"\n",
              "       width=\"24px\">\n",
              "    <path d=\"M0 0h24v24H0V0z\" fill=\"none\"/>\n",
              "    <path d=\"M18.56 5.44l.94 2.06.94-2.06 2.06-.94-2.06-.94-.94-2.06-.94 2.06-2.06.94zm-11 1L8.5 8.5l.94-2.06 2.06-.94-2.06-.94L8.5 2.5l-.94 2.06-2.06.94zm10 10l.94 2.06.94-2.06 2.06-.94-2.06-.94-.94-2.06-.94 2.06-2.06.94z\"/><path d=\"M17.41 7.96l-1.37-1.37c-.4-.4-.92-.59-1.43-.59-.52 0-1.04.2-1.43.59L10.3 9.45l-7.72 7.72c-.78.78-.78 2.05 0 2.83L4 21.41c.39.39.9.59 1.41.59.51 0 1.02-.2 1.41-.59l7.78-7.78 2.81-2.81c.8-.78.8-2.07 0-2.86zM5.41 20L4 18.59l7.72-7.72 1.47 1.35L5.41 20z\"/>\n",
              "  </svg>\n",
              "      </button>\n",
              "      \n",
              "  <style>\n",
              "    .colab-df-container {\n",
              "      display:flex;\n",
              "      flex-wrap:wrap;\n",
              "      gap: 12px;\n",
              "    }\n",
              "\n",
              "    .colab-df-convert {\n",
              "      background-color: #E8F0FE;\n",
              "      border: none;\n",
              "      border-radius: 50%;\n",
              "      cursor: pointer;\n",
              "      display: none;\n",
              "      fill: #1967D2;\n",
              "      height: 32px;\n",
              "      padding: 0 0 0 0;\n",
              "      width: 32px;\n",
              "    }\n",
              "\n",
              "    .colab-df-convert:hover {\n",
              "      background-color: #E2EBFA;\n",
              "      box-shadow: 0px 1px 2px rgba(60, 64, 67, 0.3), 0px 1px 3px 1px rgba(60, 64, 67, 0.15);\n",
              "      fill: #174EA6;\n",
              "    }\n",
              "\n",
              "    [theme=dark] .colab-df-convert {\n",
              "      background-color: #3B4455;\n",
              "      fill: #D2E3FC;\n",
              "    }\n",
              "\n",
              "    [theme=dark] .colab-df-convert:hover {\n",
              "      background-color: #434B5C;\n",
              "      box-shadow: 0px 1px 3px 1px rgba(0, 0, 0, 0.15);\n",
              "      filter: drop-shadow(0px 1px 2px rgba(0, 0, 0, 0.3));\n",
              "      fill: #FFFFFF;\n",
              "    }\n",
              "  </style>\n",
              "\n",
              "      <script>\n",
              "        const buttonEl =\n",
              "          document.querySelector('#df-d7d211a4-cfa9-4c8f-b196-289034ec6db2 button.colab-df-convert');\n",
              "        buttonEl.style.display =\n",
              "          google.colab.kernel.accessAllowed ? 'block' : 'none';\n",
              "\n",
              "        async function convertToInteractive(key) {\n",
              "          const element = document.querySelector('#df-d7d211a4-cfa9-4c8f-b196-289034ec6db2');\n",
              "          const dataTable =\n",
              "            await google.colab.kernel.invokeFunction('convertToInteractive',\n",
              "                                                     [key], {});\n",
              "          if (!dataTable) return;\n",
              "\n",
              "          const docLinkHtml = 'Like what you see? Visit the ' +\n",
              "            '<a target=\"_blank\" href=https://colab.research.google.com/notebooks/data_table.ipynb>data table notebook</a>'\n",
              "            + ' to learn more about interactive tables.';\n",
              "          element.innerHTML = '';\n",
              "          dataTable['output_type'] = 'display_data';\n",
              "          await google.colab.output.renderOutput(dataTable, element);\n",
              "          const docLink = document.createElement('div');\n",
              "          docLink.innerHTML = docLinkHtml;\n",
              "          element.appendChild(docLink);\n",
              "        }\n",
              "      </script>\n",
              "    </div>\n",
              "  </div>\n",
              "  "
            ]
          },
          "metadata": {},
          "execution_count": 79
        }
      ]
    },
    {
      "cell_type": "markdown",
      "source": [
        "Mô tả trực quan hóa dữ liệu định lượng"
      ],
      "metadata": {
        "id": "4X63_DIfXy_m"
      }
    },
    {
      "cell_type": "code",
      "source": [
        "import matplotlib.pyplot as plt"
      ],
      "metadata": {
        "id": "elzq0CasX0g0"
      },
      "execution_count": 80,
      "outputs": []
    },
    {
      "cell_type": "code",
      "source": [
        "boxplot = df_dl.boxplot(column=['Population', 'Murder.Rate'])"
      ],
      "metadata": {
        "colab": {
          "base_uri": "https://localhost:8080/",
          "height": 276
        },
        "id": "MbD0wItgX1Aa",
        "outputId": "d6b237b5-17df-4742-d7b7-919d426cf8ef"
      },
      "execution_count": 81,
      "outputs": [
        {
          "output_type": "display_data",
          "data": {
            "text/plain": [
              "<Figure size 432x288 with 1 Axes>"
            ],
            "image/png": "[encoded data removed]"
          },
          "metadata": {
            "needs_background": "light"
          }
        }
      ]
    },
    {
      "cell_type": "code",
      "source": [
        "df_dl.boxplot(column=['Murder.Rate'])"
      ],
      "metadata": {
        "colab": {
          "base_uri": "https://localhost:8080/",
          "height": 284
        },
        "id": "UjMUguUmYFUE",
        "outputId": "d5cb0cf7-0ebe-4a37-8b05-95645575f6e1"
      },
      "execution_count": 82,
      "outputs": [
        {
          "output_type": "execute_result",
          "data": {
            "text/plain": [
              "<matplotlib.axes._subplots.AxesSubplot at 0x7f2ee14eaa10>"
            ]
          },
          "metadata": {},
          "execution_count": 82
        },
        {
          "output_type": "display_data",
          "data": {
            "text/plain": [
              "<Figure size 432x288 with 1 Axes>"
            ],
            "image/png": "[encoded data removed]"
          },
          "metadata": {
            "needs_background": "light"
          }
        }
      ]
    },
    {
      "cell_type": "markdown",
      "source": [
        "Xem xét mối quan hệ giữa 2 biến định lượng có thể sử dụng công cụ trực quan scatterplot"
      ],
      "metadata": {
        "id": "lveSC7kVYI_D"
      }
    },
    {
      "cell_type": "code",
      "source": [
        "sc = df_dl.plot.scatter(x ='Murder.Rate', y = 'Population', c = 'DarkBlue')"
      ],
      "metadata": {
        "colab": {
          "base_uri": "https://localhost:8080/",
          "height": 290
        },
        "id": "rSxa4ImvYG23",
        "outputId": "7d285473-d601-4daa-cb6e-bf8d043cf988"
      },
      "execution_count": 83,
      "outputs": [
        {
          "output_type": "display_data",
          "data": {
            "text/plain": [
              "<Figure size 432x288 with 1 Axes>"
            ],
            "image/png": "[encoded data removed]"
          },
          "metadata": {
            "needs_background": "light"
          }
        }
      ]
    },
    {
      "cell_type": "markdown",
      "source": [
        "Mối quan hệ giữa 2 cột dữ liệu định lượng còn được biểu hiện qua hệ số tương quan (correlation). Trong pandas có thể tính hệ số này như sau:"
      ],
      "metadata": {
        "id": "uqkvRZj8YNBi"
      }
    },
    {
      "cell_type": "code",
      "source": [
        "df_dl.corr(method='pearson')"
      ],
      "metadata": {
        "colab": {
          "base_uri": "https://localhost:8080/",
          "height": 112
        },
        "id": "E2HVBTDBYPOK",
        "outputId": "919308e8-97c6-4b7e-ff54-c421d4e411d9"
      },
      "execution_count": 84,
      "outputs": [
        {
          "output_type": "execute_result",
          "data": {
            "text/plain": [
              "             Population  Murder.Rate\n",
              "Population     1.000000     0.182069\n",
              "Murder.Rate    0.182069     1.000000"
            ],
            "text/html": [
              "\n",
              "  <div id=\"df-7d1f6203-5071-4000-a5ec-68aadd726c31\">\n",
              "    <div class=\"colab-df-container\">\n",
              "      <div>\n",
              "<style scoped>\n",
              "    .dataframe tbody tr th:only-of-type {\n",
              "        vertical-align: middle;\n",
              "    }\n",
              "\n",
              "    .dataframe tbody tr th {\n",
              "        vertical-align: top;\n",
              "    }\n",
              "\n",
              "    .dataframe thead th {\n",
              "        text-align: right;\n",
              "    }\n",
              "</style>\n",
              "<table border=\"1\" class=\"dataframe\">\n",
              "  <thead>\n",
              "    <tr style=\"text-align: right;\">\n",
              "      <th></th>\n",
              "      <th>Population</th>\n",
              "      <th>Murder.Rate</th>\n",
              "    </tr>\n",
              "  </thead>\n",
              "  <tbody>\n",
              "    <tr>\n",
              "      <th>Population</th>\n",
              "      <td>1.000000</td>\n",
              "      <td>0.182069</td>\n",
              "    </tr>\n",
              "    <tr>\n",
              "      <th>Murder.Rate</th>\n",
              "      <td>0.182069</td>\n",
              "      <td>1.000000</td>\n",
              "    </tr>\n",
              "  </tbody>\n",
              "</table>\n",
              "</div>\n",
              "      <button class=\"colab-df-convert\" onclick=\"convertToInteractive('df-7d1f6203-5071-4000-a5ec-68aadd726c31')\"\n",
              "              title=\"Convert this dataframe to an interactive table.\"\n",
              "              style=\"display:none;\">\n",
              "        \n",
              "  <svg xmlns=\"http://www.w3.org/2000/svg\" height=\"24px\"viewBox=\"0 0 24 24\"\n",
              "       width=\"24px\">\n",
              "    <path d=\"M0 0h24v24H0V0z\" fill=\"none\"/>\n",
              "    <path d=\"M18.56 5.44l.94 2.06.94-2.06 2.06-.94-2.06-.94-.94-2.06-.94 2.06-2.06.94zm-11 1L8.5 8.5l.94-2.06 2.06-.94-2.06-.94L8.5 2.5l-.94 2.06-2.06.94zm10 10l.94 2.06.94-2.06 2.06-.94-2.06-.94-.94-2.06-.94 2.06-2.06.94z\"/><path d=\"M17.41 7.96l-1.37-1.37c-.4-.4-.92-.59-1.43-.59-.52 0-1.04.2-1.43.59L10.3 9.45l-7.72 7.72c-.78.78-.78 2.05 0 2.83L4 21.41c.39.39.9.59 1.41.59.51 0 1.02-.2 1.41-.59l7.78-7.78 2.81-2.81c.8-.78.8-2.07 0-2.86zM5.41 20L4 18.59l7.72-7.72 1.47 1.35L5.41 20z\"/>\n",
              "  </svg>\n",
              "      </button>\n",
              "      \n",
              "  <style>\n",
              "    .colab-df-container {\n",
              "      display:flex;\n",
              "      flex-wrap:wrap;\n",
              "      gap: 12px;\n",
              "    }\n",
              "\n",
              "    .colab-df-convert {\n",
              "      background-color: #E8F0FE;\n",
              "      border: none;\n",
              "      border-radius: 50%;\n",
              "      cursor: pointer;\n",
              "      display: none;\n",
              "      fill: #1967D2;\n",
              "      height: 32px;\n",
              "      padding: 0 0 0 0;\n",
              "      width: 32px;\n",
              "    }\n",
              "\n",
              "    .colab-df-convert:hover {\n",
              "      background-color: #E2EBFA;\n",
              "      box-shadow: 0px 1px 2px rgba(60, 64, 67, 0.3), 0px 1px 3px 1px rgba(60, 64, 67, 0.15);\n",
              "      fill: #174EA6;\n",
              "    }\n",
              "\n",
              "    [theme=dark] .colab-df-convert {\n",
              "      background-color: #3B4455;\n",
              "      fill: #D2E3FC;\n",
              "    }\n",
              "\n",
              "    [theme=dark] .colab-df-convert:hover {\n",
              "      background-color: #434B5C;\n",
              "      box-shadow: 0px 1px 3px 1px rgba(0, 0, 0, 0.15);\n",
              "      filter: drop-shadow(0px 1px 2px rgba(0, 0, 0, 0.3));\n",
              "      fill: #FFFFFF;\n",
              "    }\n",
              "  </style>\n",
              "\n",
              "      <script>\n",
              "        const buttonEl =\n",
              "          document.querySelector('#df-7d1f6203-5071-4000-a5ec-68aadd726c31 button.colab-df-convert');\n",
              "        buttonEl.style.display =\n",
              "          google.colab.kernel.accessAllowed ? 'block' : 'none';\n",
              "\n",
              "        async function convertToInteractive(key) {\n",
              "          const element = document.querySelector('#df-7d1f6203-5071-4000-a5ec-68aadd726c31');\n",
              "          const dataTable =\n",
              "            await google.colab.kernel.invokeFunction('convertToInteractive',\n",
              "                                                     [key], {});\n",
              "          if (!dataTable) return;\n",
              "\n",
              "          const docLinkHtml = 'Like what you see? Visit the ' +\n",
              "            '<a target=\"_blank\" href=https://colab.research.google.com/notebooks/data_table.ipynb>data table notebook</a>'\n",
              "            + ' to learn more about interactive tables.';\n",
              "          element.innerHTML = '';\n",
              "          dataTable['output_type'] = 'display_data';\n",
              "          await google.colab.output.renderOutput(dataTable, element);\n",
              "          const docLink = document.createElement('div');\n",
              "          docLink.innerHTML = docLinkHtml;\n",
              "          element.appendChild(docLink);\n",
              "        }\n",
              "      </script>\n",
              "    </div>\n",
              "  </div>\n",
              "  "
            ]
          },
          "metadata": {},
          "execution_count": 84
        }
      ]
    },
    {
      "cell_type": "markdown",
      "source": [
        "BÀI TẬP: Bạn hãy tìm hiểu về hệ số tương quan (correlation), cách đọc và giải thích ý nghĩa hệ số tương quan."
      ],
      "metadata": {
        "id": "ZO7Ub8PSYR9y"
      }
    },
    {
      "cell_type": "markdown",
      "source": [
        "Câu trả lời:"
      ],
      "metadata": {
        "id": "5vQgjiqPYTxj"
      }
    },
    {
      "cell_type": "markdown",
      "source": [
        "##Corrlation (Tương quan): Mối liên hệ giữa hai biến."
      ],
      "metadata": {
        "id": "5NXbPFLyYWJD"
      }
    },
    {
      "cell_type": "markdown",
      "source": [
        "Các đại lượng để đo lường mối quan liên hệ giữa hai biến:"
      ],
      "metadata": {
        "id": "zPyDcucpiUCe"
      }
    },
    {
      "cell_type": "markdown",
      "source": [
        "**1 Hiệp phương sai (covariance):**"
      ],
      "metadata": {
        "id": "Qlsr0LisidN-"
      }
    },
    {
      "cell_type": "markdown",
      "source": [
        "* Công thức tính hiệp phương sai mẫu:\n"
      ],
      "metadata": {
        "id": "S6mU19GLjXGv"
      }
    },
    {
      "cell_type": "markdown",
      "source": [
        "\\begin{align}\n",
        "        s_{xy} = \\frac{\\sum_{i=1}^n (x_i-\\overline{x})(y_i - \\overline{y})}{n-1}\n",
        "    \\end{align}"
      ],
      "metadata": {
        "id": "rRiPwYSBSR0b"
      }
    },
    {
      "cell_type": "markdown",
      "source": [
        "Với: \n",
        "\n",
        "($x_1$, $y_1$), ($x_2$, $y_2$), ..., ($x_n$, $y_n$) là các quan sát của một mẫu với kích thước n.\n",
        "\n",
        "$\\overline{x}$ là trung bình của $x_1$, $x_2$, ..., $x_n$\n",
        "\n",
        "$\\overline{y}$ là trung bình của $y_1$, $y_2$, ..., $y_n$"
      ],
      "metadata": {
        "id": "B1utTnnVSU7M"
      }
    },
    {
      "cell_type": "markdown",
      "source": [
        "* Ý nghĩa của hiệp phương sai:"
      ],
      "metadata": {
        "id": "834hjJ1esmsA"
      }
    },
    {
      "cell_type": "markdown",
      "source": [
        "Ta tiến hành vẽ hai đường thằng x = $\\overline{x}$ và y = $\\overline{y}$ trong biểu đồ scatter, hai đường thẳng trên chia mặt phẳng tọa độ thành bốn góc phần tư:"
      ],
      "metadata": {
        "id": "OeSZ3ZSBsX87"
      }
    },
    {
      "cell_type": "code",
      "source": [
        "sc = df_dl.plot.scatter(x ='Murder.Rate', y = 'Population', c = 'DarkBlue')\n",
        "plt.plot([df_dl['Murder.Rate'].mean() for i in range(2)],\n",
        "         [0, 40 * (10 ** 6)]);\n",
        "plt.plot([0, 12],\n",
        "         [df_dl['Population'].mean() for i in range(2)]);"
      ],
      "metadata": {
        "colab": {
          "base_uri": "https://localhost:8080/",
          "height": 290
        },
        "id": "YHEMkJOjsZP5",
        "outputId": "384b8c5a-f5b5-4d12-e539-067d85a1ceee"
      },
      "execution_count": 85,
      "outputs": [
        {
          "output_type": "display_data",
          "data": {
            "text/plain": [
              "<Figure size 432x288 with 1 Axes>"
            ],
            "image/png": "[encoded data removed]"
          },
          "metadata": {
            "needs_background": "light"
          }
        }
      ]
    },
    {
      "cell_type": "markdown",
      "source": [
        "\n",
        "> Khi hiệp phương sai dương thì các điểm của đồ thị scatter đa số sẽ nằm trên góc phần tư thứ nhất và thứ ba và âm thì nằm trên góc phần tư thứ hai và thứ tư. Hay ta có thể nói nếu như hiệp phương sai dương thì hai biến sẽ có mối quan hệ thuận (x tăng thì y tăng) và âm thì có mối quan hệ nghịch (x tăng thì y giảm)\n",
        "\n",
        "> Giá trị của hiệp phương sai càng lớn thì mối quan hệ tuyến tính càng mạnh. Tuy nhiên đơn vị là một vấn đề lớn bởi với một đơn vị ta lại có một kết quả hiệp phương sai khác nhau. Do đó ta cần một đại lượng khác để đo lường mối quan hệ mà không bị ảnh hưởng bởi đơn vị đo, đó là **Correlation coefficient (Hệ số tương quan)**\n",
        "\n"
      ],
      "metadata": {
        "id": "_75K1tb2stxN"
      }
    },
    {
      "cell_type": "markdown",
      "source": [
        "* Ví dụ: Ta xét  mối quan hệ giữa Murder.Rate và Population:"
      ],
      "metadata": {
        "id": "YH9gDOYOQJoy"
      }
    },
    {
      "cell_type": "markdown",
      "source": [
        "Ta viết hàm để tính hiệp phương sai:"
      ],
      "metadata": {
        "id": "qiPoVRCjQPkI"
      }
    },
    {
      "cell_type": "code",
      "source": [
        "def covariance(x, y):\n",
        "    # Tính trung bình của x, y\n",
        "    mean_x = x.mean()\n",
        "    mean_y = y.mean()\n",
        "    # Tập hợp các hiệu của phần từ x,y trừ đi trung bình của nó\n",
        "    sub_x = [i - mean_x for i in x]\n",
        "    sub_y = [i - mean_y for i in y]\n",
        "    numerator = sum([sub_x[i]*sub_y[i] for i in range(len(sub_x))])\n",
        "    denominator = len(x)-1\n",
        "    cov = numerator/denominator\n",
        "    return cov"
      ],
      "metadata": {
        "id": "KPUqTSW-QQPb"
      },
      "execution_count": 86,
      "outputs": []
    },
    {
      "cell_type": "markdown",
      "source": [
        "Hiệp phương sai giữa Murder.Rate và Population:"
      ],
      "metadata": {
        "id": "PTZDrpQcQTpZ"
      }
    },
    {
      "cell_type": "code",
      "source": [
        "covariance(df_dl['Murder.Rate'], df_dl['Population'])"
      ],
      "metadata": {
        "colab": {
          "base_uri": "https://localhost:8080/"
        },
        "id": "xO27_r7gQX6h",
        "outputId": "ebed1acd-6188-44b7-b1b7-2bfe1dac491d"
      },
      "execution_count": 87,
      "outputs": [
        {
          "output_type": "execute_result",
          "data": {
            "text/plain": [
              "2388642.6940816334"
            ]
          },
          "metadata": {},
          "execution_count": 87
        }
      ]
    },
    {
      "cell_type": "markdown",
      "source": [
        "Hoặc ta có thể dùng hàm cov() của pandas như sau:"
      ],
      "metadata": {
        "id": "QUpiSNCUly3n"
      }
    },
    {
      "cell_type": "code",
      "source": [
        "df_dl.cov()"
      ],
      "metadata": {
        "colab": {
          "base_uri": "https://localhost:8080/",
          "height": 112
        },
        "id": "P1VUnO89l20j",
        "outputId": "34476ce0-722d-4378-e5e8-f9172b699ade"
      },
      "execution_count": 88,
      "outputs": [
        {
          "output_type": "execute_result",
          "data": {
            "text/plain": [
              "               Population   Murder.Rate\n",
              "Population   4.689833e+13  2.388643e+06\n",
              "Murder.Rate  2.388643e+06  3.670045e+00"
            ],
            "text/html": [
              "\n",
              "  <div id=\"df-216b8908-1970-4daf-a256-ac7ad3f4e015\">\n",
              "    <div class=\"colab-df-container\">\n",
              "      <div>\n",
              "<style scoped>\n",
              "    .dataframe tbody tr th:only-of-type {\n",
              "        vertical-align: middle;\n",
              "    }\n",
              "\n",
              "    .dataframe tbody tr th {\n",
              "        vertical-align: top;\n",
              "    }\n",
              "\n",
              "    .dataframe thead th {\n",
              "        text-align: right;\n",
              "    }\n",
              "</style>\n",
              "<table border=\"1\" class=\"dataframe\">\n",
              "  <thead>\n",
              "    <tr style=\"text-align: right;\">\n",
              "      <th></th>\n",
              "      <th>Population</th>\n",
              "      <th>Murder.Rate</th>\n",
              "    </tr>\n",
              "  </thead>\n",
              "  <tbody>\n",
              "    <tr>\n",
              "      <th>Population</th>\n",
              "      <td>4.689833e+13</td>\n",
              "      <td>2.388643e+06</td>\n",
              "    </tr>\n",
              "    <tr>\n",
              "      <th>Murder.Rate</th>\n",
              "      <td>2.388643e+06</td>\n",
              "      <td>3.670045e+00</td>\n",
              "    </tr>\n",
              "  </tbody>\n",
              "</table>\n",
              "</div>\n",
              "      <button class=\"colab-df-convert\" onclick=\"convertToInteractive('df-216b8908-1970-4daf-a256-ac7ad3f4e015')\"\n",
              "              title=\"Convert this dataframe to an interactive table.\"\n",
              "              style=\"display:none;\">\n",
              "        \n",
              "  <svg xmlns=\"http://www.w3.org/2000/svg\" height=\"24px\"viewBox=\"0 0 24 24\"\n",
              "       width=\"24px\">\n",
              "    <path d=\"M0 0h24v24H0V0z\" fill=\"none\"/>\n",
              "    <path d=\"M18.56 5.44l.94 2.06.94-2.06 2.06-.94-2.06-.94-.94-2.06-.94 2.06-2.06.94zm-11 1L8.5 8.5l.94-2.06 2.06-.94-2.06-.94L8.5 2.5l-.94 2.06-2.06.94zm10 10l.94 2.06.94-2.06 2.06-.94-2.06-.94-.94-2.06-.94 2.06-2.06.94z\"/><path d=\"M17.41 7.96l-1.37-1.37c-.4-.4-.92-.59-1.43-.59-.52 0-1.04.2-1.43.59L10.3 9.45l-7.72 7.72c-.78.78-.78 2.05 0 2.83L4 21.41c.39.39.9.59 1.41.59.51 0 1.02-.2 1.41-.59l7.78-7.78 2.81-2.81c.8-.78.8-2.07 0-2.86zM5.41 20L4 18.59l7.72-7.72 1.47 1.35L5.41 20z\"/>\n",
              "  </svg>\n",
              "      </button>\n",
              "      \n",
              "  <style>\n",
              "    .colab-df-container {\n",
              "      display:flex;\n",
              "      flex-wrap:wrap;\n",
              "      gap: 12px;\n",
              "    }\n",
              "\n",
              "    .colab-df-convert {\n",
              "      background-color: #E8F0FE;\n",
              "      border: none;\n",
              "      border-radius: 50%;\n",
              "      cursor: pointer;\n",
              "      display: none;\n",
              "      fill: #1967D2;\n",
              "      height: 32px;\n",
              "      padding: 0 0 0 0;\n",
              "      width: 32px;\n",
              "    }\n",
              "\n",
              "    .colab-df-convert:hover {\n",
              "      background-color: #E2EBFA;\n",
              "      box-shadow: 0px 1px 2px rgba(60, 64, 67, 0.3), 0px 1px 3px 1px rgba(60, 64, 67, 0.15);\n",
              "      fill: #174EA6;\n",
              "    }\n",
              "\n",
              "    [theme=dark] .colab-df-convert {\n",
              "      background-color: #3B4455;\n",
              "      fill: #D2E3FC;\n",
              "    }\n",
              "\n",
              "    [theme=dark] .colab-df-convert:hover {\n",
              "      background-color: #434B5C;\n",
              "      box-shadow: 0px 1px 3px 1px rgba(0, 0, 0, 0.15);\n",
              "      filter: drop-shadow(0px 1px 2px rgba(0, 0, 0, 0.3));\n",
              "      fill: #FFFFFF;\n",
              "    }\n",
              "  </style>\n",
              "\n",
              "      <script>\n",
              "        const buttonEl =\n",
              "          document.querySelector('#df-216b8908-1970-4daf-a256-ac7ad3f4e015 button.colab-df-convert');\n",
              "        buttonEl.style.display =\n",
              "          google.colab.kernel.accessAllowed ? 'block' : 'none';\n",
              "\n",
              "        async function convertToInteractive(key) {\n",
              "          const element = document.querySelector('#df-216b8908-1970-4daf-a256-ac7ad3f4e015');\n",
              "          const dataTable =\n",
              "            await google.colab.kernel.invokeFunction('convertToInteractive',\n",
              "                                                     [key], {});\n",
              "          if (!dataTable) return;\n",
              "\n",
              "          const docLinkHtml = 'Like what you see? Visit the ' +\n",
              "            '<a target=\"_blank\" href=https://colab.research.google.com/notebooks/data_table.ipynb>data table notebook</a>'\n",
              "            + ' to learn more about interactive tables.';\n",
              "          element.innerHTML = '';\n",
              "          dataTable['output_type'] = 'display_data';\n",
              "          await google.colab.output.renderOutput(dataTable, element);\n",
              "          const docLink = document.createElement('div');\n",
              "          docLink.innerHTML = docLinkHtml;\n",
              "          element.appendChild(docLink);\n",
              "        }\n",
              "      </script>\n",
              "    </div>\n",
              "  </div>\n",
              "  "
            ]
          },
          "metadata": {},
          "execution_count": 88
        }
      ]
    },
    {
      "cell_type": "markdown",
      "source": [
        "Vì hiệp phương sai dương nên Murder.Rate và Population có mối quan hệ thuận. \n",
        "\n",
        "Giá trị của hiệp phương sai tương đối lớn tuy nhiên mối quan hệ tuyến tính lại không rõ ràng khi ta nhìn vào biểu đồ scatter (Vì Murder.Rate đơn vị là phần trăm và Population đơn vị là người)"
      ],
      "metadata": {
        "id": "cXfjdA6PRS_b"
      }
    },
    {
      "cell_type": "markdown",
      "source": [
        "**2 Correlation coefficient (Hệ số tương quan)**"
      ],
      "metadata": {
        "id": "kxkBbZPeuuVY"
      }
    },
    {
      "cell_type": "markdown",
      "source": [
        "* Công thức tính hệ số tương quan Pearson: dữ liệu mẫu:\n",
        "\n",
        "\n"
      ],
      "metadata": {
        "id": "IUcO9TJju0qZ"
      }
    },
    {
      "cell_type": "markdown",
      "source": [
        "\\begin{align}\n",
        "        r_{xy} = \\frac{s_{xy}}{s_x s_y}\n",
        "    \\end{align}\n"
      ],
      "metadata": {
        "id": "iIQNrHnyaaSe"
      }
    },
    {
      "cell_type": "markdown",
      "source": [
        "Với:\n",
        "\n",
        "> $s_{xy}$ là hiệp phương sai của x,y\n",
        "\n",
        "> $s_x$ là phương sai của x\n",
        "\n",
        "> $s_y$ là phương sai của y"
      ],
      "metadata": {
        "id": "ayYO_VvAabvb"
      }
    },
    {
      "cell_type": "markdown",
      "source": [
        "* Ý nghĩa: \n",
        "\n",
        "> Hệ số tương quan nằm trong khoảng từ -1 đến +1. Càng tiến gần đến -1 hoặc +1 thì mối quan hệ tuyến tính càng mạnh\n",
        "\n",
        "> Hệ số tương quan dương thì hai biến có mối quan hệ thuận (x tăng thì y tăng)\n",
        "\n",
        "> Hệ số tương quan âm thì hai biến có mối quan hệ nghịch (x tăng thì y giảm)"
      ],
      "metadata": {
        "id": "xoSe0hgCwACj"
      }
    },
    {
      "cell_type": "markdown",
      "source": [
        "* Ví dụ: Ta tiếp tục xét mối quan hệ giữa Murder.Rate và Population:"
      ],
      "metadata": {
        "id": "stW_9qN_V-Ib"
      }
    },
    {
      "cell_type": "markdown",
      "source": [
        "Hệ số tương quan Pearson giữa Murder.Rate và Population:"
      ],
      "metadata": {
        "id": "D52IF-dMWp96"
      }
    },
    {
      "cell_type": "code",
      "source": [
        "df_dl.corr(method='pearson')"
      ],
      "metadata": {
        "colab": {
          "base_uri": "https://localhost:8080/",
          "height": 112
        },
        "id": "c8cIM20OXSRo",
        "outputId": "a12056a1-7285-45b2-e838-c95e1b0e80a0"
      },
      "execution_count": 89,
      "outputs": [
        {
          "output_type": "execute_result",
          "data": {
            "text/plain": [
              "             Population  Murder.Rate\n",
              "Population     1.000000     0.182069\n",
              "Murder.Rate    0.182069     1.000000"
            ],
            "text/html": [
              "\n",
              "  <div id=\"df-84f008d2-6cd5-40d3-923b-d3ca4a8f2592\">\n",
              "    <div class=\"colab-df-container\">\n",
              "      <div>\n",
              "<style scoped>\n",
              "    .dataframe tbody tr th:only-of-type {\n",
              "        vertical-align: middle;\n",
              "    }\n",
              "\n",
              "    .dataframe tbody tr th {\n",
              "        vertical-align: top;\n",
              "    }\n",
              "\n",
              "    .dataframe thead th {\n",
              "        text-align: right;\n",
              "    }\n",
              "</style>\n",
              "<table border=\"1\" class=\"dataframe\">\n",
              "  <thead>\n",
              "    <tr style=\"text-align: right;\">\n",
              "      <th></th>\n",
              "      <th>Population</th>\n",
              "      <th>Murder.Rate</th>\n",
              "    </tr>\n",
              "  </thead>\n",
              "  <tbody>\n",
              "    <tr>\n",
              "      <th>Population</th>\n",
              "      <td>1.000000</td>\n",
              "      <td>0.182069</td>\n",
              "    </tr>\n",
              "    <tr>\n",
              "      <th>Murder.Rate</th>\n",
              "      <td>0.182069</td>\n",
              "      <td>1.000000</td>\n",
              "    </tr>\n",
              "  </tbody>\n",
              "</table>\n",
              "</div>\n",
              "      <button class=\"colab-df-convert\" onclick=\"convertToInteractive('df-84f008d2-6cd5-40d3-923b-d3ca4a8f2592')\"\n",
              "              title=\"Convert this dataframe to an interactive table.\"\n",
              "              style=\"display:none;\">\n",
              "        \n",
              "  <svg xmlns=\"http://www.w3.org/2000/svg\" height=\"24px\"viewBox=\"0 0 24 24\"\n",
              "       width=\"24px\">\n",
              "    <path d=\"M0 0h24v24H0V0z\" fill=\"none\"/>\n",
              "    <path d=\"M18.56 5.44l.94 2.06.94-2.06 2.06-.94-2.06-.94-.94-2.06-.94 2.06-2.06.94zm-11 1L8.5 8.5l.94-2.06 2.06-.94-2.06-.94L8.5 2.5l-.94 2.06-2.06.94zm10 10l.94 2.06.94-2.06 2.06-.94-2.06-.94-.94-2.06-.94 2.06-2.06.94z\"/><path d=\"M17.41 7.96l-1.37-1.37c-.4-.4-.92-.59-1.43-.59-.52 0-1.04.2-1.43.59L10.3 9.45l-7.72 7.72c-.78.78-.78 2.05 0 2.83L4 21.41c.39.39.9.59 1.41.59.51 0 1.02-.2 1.41-.59l7.78-7.78 2.81-2.81c.8-.78.8-2.07 0-2.86zM5.41 20L4 18.59l7.72-7.72 1.47 1.35L5.41 20z\"/>\n",
              "  </svg>\n",
              "      </button>\n",
              "      \n",
              "  <style>\n",
              "    .colab-df-container {\n",
              "      display:flex;\n",
              "      flex-wrap:wrap;\n",
              "      gap: 12px;\n",
              "    }\n",
              "\n",
              "    .colab-df-convert {\n",
              "      background-color: #E8F0FE;\n",
              "      border: none;\n",
              "      border-radius: 50%;\n",
              "      cursor: pointer;\n",
              "      display: none;\n",
              "      fill: #1967D2;\n",
              "      height: 32px;\n",
              "      padding: 0 0 0 0;\n",
              "      width: 32px;\n",
              "    }\n",
              "\n",
              "    .colab-df-convert:hover {\n",
              "      background-color: #E2EBFA;\n",
              "      box-shadow: 0px 1px 2px rgba(60, 64, 67, 0.3), 0px 1px 3px 1px rgba(60, 64, 67, 0.15);\n",
              "      fill: #174EA6;\n",
              "    }\n",
              "\n",
              "    [theme=dark] .colab-df-convert {\n",
              "      background-color: #3B4455;\n",
              "      fill: #D2E3FC;\n",
              "    }\n",
              "\n",
              "    [theme=dark] .colab-df-convert:hover {\n",
              "      background-color: #434B5C;\n",
              "      box-shadow: 0px 1px 3px 1px rgba(0, 0, 0, 0.15);\n",
              "      filter: drop-shadow(0px 1px 2px rgba(0, 0, 0, 0.3));\n",
              "      fill: #FFFFFF;\n",
              "    }\n",
              "  </style>\n",
              "\n",
              "      <script>\n",
              "        const buttonEl =\n",
              "          document.querySelector('#df-84f008d2-6cd5-40d3-923b-d3ca4a8f2592 button.colab-df-convert');\n",
              "        buttonEl.style.display =\n",
              "          google.colab.kernel.accessAllowed ? 'block' : 'none';\n",
              "\n",
              "        async function convertToInteractive(key) {\n",
              "          const element = document.querySelector('#df-84f008d2-6cd5-40d3-923b-d3ca4a8f2592');\n",
              "          const dataTable =\n",
              "            await google.colab.kernel.invokeFunction('convertToInteractive',\n",
              "                                                     [key], {});\n",
              "          if (!dataTable) return;\n",
              "\n",
              "          const docLinkHtml = 'Like what you see? Visit the ' +\n",
              "            '<a target=\"_blank\" href=https://colab.research.google.com/notebooks/data_table.ipynb>data table notebook</a>'\n",
              "            + ' to learn more about interactive tables.';\n",
              "          element.innerHTML = '';\n",
              "          dataTable['output_type'] = 'display_data';\n",
              "          await google.colab.output.renderOutput(dataTable, element);\n",
              "          const docLink = document.createElement('div');\n",
              "          docLink.innerHTML = docLinkHtml;\n",
              "          element.appendChild(docLink);\n",
              "        }\n",
              "      </script>\n",
              "    </div>\n",
              "  </div>\n",
              "  "
            ]
          },
          "metadata": {},
          "execution_count": 89
        }
      ]
    },
    {
      "cell_type": "markdown",
      "source": [
        "Kết quả hiển thị ở trên được gọi là Correlation matrix (Ma trận tương quan) - một bảng thể hiện hệ số tương quan giữa các biến khi ta có nhiều hơn 2 biến trong bộ dữ liệu. Mỗi ô trong bảng thể hiện mối tương quan của hai biến.\n",
        "\n",
        "Thông qua bảng ở trên ta xác định được hệ số tương quan Pearson của Murder.Rate và Population là 0.182069 lớn hơn 0 nhưng tương đối gần 0. Nên ta có thể kết luận có chúng mối tương quan giữa hai biến này rất yếu (tham khảo ảnh bên dưới). Từ đây ta thấy được kết luận của hiệp phương sai trước đó không được thỏa đáng do đơn vị đo không đồng bộ."
      ],
      "metadata": {
        "id": "88VKy2E7XyZL"
      }
    },
    {
      "cell_type": "markdown",
      "source": [
        "![image.png](data:image/png;base64,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)"
      ],
      "metadata": {
        "id": "swku0AyWaEmf"
      }
    },
    {
      "cell_type": "markdown",
      "source": [
        "* Ví dụ 2: Ta xét hai biến mới mà có thể mối tương quan tuyến tính thuận của nó sẽ mạnh:"
      ],
      "metadata": {
        "id": "znTntgPrr5ca"
      }
    },
    {
      "cell_type": "markdown",
      "source": [
        "Thêm một cột Murder.Number vào df_dl:"
      ],
      "metadata": {
        "id": "7-KWJ4MNsKQ_"
      }
    },
    {
      "cell_type": "code",
      "source": [
        "df_dl[\"Murder.Number\"] = df_dl[\"Murder.Rate\"] * df_dl[\"Population\"] / 100"
      ],
      "metadata": {
        "id": "bA_BlK2CqxbT"
      },
      "execution_count": 90,
      "outputs": []
    },
    {
      "cell_type": "markdown",
      "source": [
        "Hiển thị một vài dòng đầu của tập dữ liệu:"
      ],
      "metadata": {
        "id": "4wwIw3DLsR6p"
      }
    },
    {
      "cell_type": "code",
      "source": [
        "df_dl.head()"
      ],
      "metadata": {
        "colab": {
          "base_uri": "https://localhost:8080/",
          "height": 206
        },
        "id": "_v9gf8NYrUAz",
        "outputId": "dd634a78-2ee1-4d6e-b3b3-ef32ecb186ce"
      },
      "execution_count": 91,
      "outputs": [
        {
          "output_type": "execute_result",
          "data": {
            "text/plain": [
              "   Population  Murder.Rate  Murder.Number\n",
              "0     4779736          5.7     272444.952\n",
              "1      710231          5.6      39772.936\n",
              "2     6392017          4.7     300424.799\n",
              "3     2915918          5.6     163291.408\n",
              "4    37253956          4.4    1639174.064"
            ],
            "text/html": [
              "\n",
              "  <div id=\"df-60d658f7-9bb0-4c3f-94e4-baf617b59577\">\n",
              "    <div class=\"colab-df-container\">\n",
              "      <div>\n",
              "<style scoped>\n",
              "    .dataframe tbody tr th:only-of-type {\n",
              "        vertical-align: middle;\n",
              "    }\n",
              "\n",
              "    .dataframe tbody tr th {\n",
              "        vertical-align: top;\n",
              "    }\n",
              "\n",
              "    .dataframe thead th {\n",
              "        text-align: right;\n",
              "    }\n",
              "</style>\n",
              "<table border=\"1\" class=\"dataframe\">\n",
              "  <thead>\n",
              "    <tr style=\"text-align: right;\">\n",
              "      <th></th>\n",
              "      <th>Population</th>\n",
              "      <th>Murder.Rate</th>\n",
              "      <th>Murder.Number</th>\n",
              "    </tr>\n",
              "  </thead>\n",
              "  <tbody>\n",
              "    <tr>\n",
              "      <th>0</th>\n",
              "      <td>4779736</td>\n",
              "      <td>5.7</td>\n",
              "      <td>272444.952</td>\n",
              "    </tr>\n",
              "    <tr>\n",
              "      <th>1</th>\n",
              "      <td>710231</td>\n",
              "      <td>5.6</td>\n",
              "      <td>39772.936</td>\n",
              "    </tr>\n",
              "    <tr>\n",
              "      <th>2</th>\n",
              "      <td>6392017</td>\n",
              "      <td>4.7</td>\n",
              "      <td>300424.799</td>\n",
              "    </tr>\n",
              "    <tr>\n",
              "      <th>3</th>\n",
              "      <td>2915918</td>\n",
              "      <td>5.6</td>\n",
              "      <td>163291.408</td>\n",
              "    </tr>\n",
              "    <tr>\n",
              "      <th>4</th>\n",
              "      <td>37253956</td>\n",
              "      <td>4.4</td>\n",
              "      <td>1639174.064</td>\n",
              "    </tr>\n",
              "  </tbody>\n",
              "</table>\n",
              "</div>\n",
              "      <button class=\"colab-df-convert\" onclick=\"convertToInteractive('df-60d658f7-9bb0-4c3f-94e4-baf617b59577')\"\n",
              "              title=\"Convert this dataframe to an interactive table.\"\n",
              "              style=\"display:none;\">\n",
              "        \n",
              "  <svg xmlns=\"http://www.w3.org/2000/svg\" height=\"24px\"viewBox=\"0 0 24 24\"\n",
              "       width=\"24px\">\n",
              "    <path d=\"M0 0h24v24H0V0z\" fill=\"none\"/>\n",
              "    <path d=\"M18.56 5.44l.94 2.06.94-2.06 2.06-.94-2.06-.94-.94-2.06-.94 2.06-2.06.94zm-11 1L8.5 8.5l.94-2.06 2.06-.94-2.06-.94L8.5 2.5l-.94 2.06-2.06.94zm10 10l.94 2.06.94-2.06 2.06-.94-2.06-.94-.94-2.06-.94 2.06-2.06.94z\"/><path d=\"M17.41 7.96l-1.37-1.37c-.4-.4-.92-.59-1.43-.59-.52 0-1.04.2-1.43.59L10.3 9.45l-7.72 7.72c-.78.78-.78 2.05 0 2.83L4 21.41c.39.39.9.59 1.41.59.51 0 1.02-.2 1.41-.59l7.78-7.78 2.81-2.81c.8-.78.8-2.07 0-2.86zM5.41 20L4 18.59l7.72-7.72 1.47 1.35L5.41 20z\"/>\n",
              "  </svg>\n",
              "      </button>\n",
              "      \n",
              "  <style>\n",
              "    .colab-df-container {\n",
              "      display:flex;\n",
              "      flex-wrap:wrap;\n",
              "      gap: 12px;\n",
              "    }\n",
              "\n",
              "    .colab-df-convert {\n",
              "      background-color: #E8F0FE;\n",
              "      border: none;\n",
              "      border-radius: 50%;\n",
              "      cursor: pointer;\n",
              "      display: none;\n",
              "      fill: #1967D2;\n",
              "      height: 32px;\n",
              "      padding: 0 0 0 0;\n",
              "      width: 32px;\n",
              "    }\n",
              "\n",
              "    .colab-df-convert:hover {\n",
              "      background-color: #E2EBFA;\n",
              "      box-shadow: 0px 1px 2px rgba(60, 64, 67, 0.3), 0px 1px 3px 1px rgba(60, 64, 67, 0.15);\n",
              "      fill: #174EA6;\n",
              "    }\n",
              "\n",
              "    [theme=dark] .colab-df-convert {\n",
              "      background-color: #3B4455;\n",
              "      fill: #D2E3FC;\n",
              "    }\n",
              "\n",
              "    [theme=dark] .colab-df-convert:hover {\n",
              "      background-color: #434B5C;\n",
              "      box-shadow: 0px 1px 3px 1px rgba(0, 0, 0, 0.15);\n",
              "      filter: drop-shadow(0px 1px 2px rgba(0, 0, 0, 0.3));\n",
              "      fill: #FFFFFF;\n",
              "    }\n",
              "  </style>\n",
              "\n",
              "      <script>\n",
              "        const buttonEl =\n",
              "          document.querySelector('#df-60d658f7-9bb0-4c3f-94e4-baf617b59577 button.colab-df-convert');\n",
              "        buttonEl.style.display =\n",
              "          google.colab.kernel.accessAllowed ? 'block' : 'none';\n",
              "\n",
              "        async function convertToInteractive(key) {\n",
              "          const element = document.querySelector('#df-60d658f7-9bb0-4c3f-94e4-baf617b59577');\n",
              "          const dataTable =\n",
              "            await google.colab.kernel.invokeFunction('convertToInteractive',\n",
              "                                                     [key], {});\n",
              "          if (!dataTable) return;\n",
              "\n",
              "          const docLinkHtml = 'Like what you see? Visit the ' +\n",
              "            '<a target=\"_blank\" href=https://colab.research.google.com/notebooks/data_table.ipynb>data table notebook</a>'\n",
              "            + ' to learn more about interactive tables.';\n",
              "          element.innerHTML = '';\n",
              "          dataTable['output_type'] = 'display_data';\n",
              "          await google.colab.output.renderOutput(dataTable, element);\n",
              "          const docLink = document.createElement('div');\n",
              "          docLink.innerHTML = docLinkHtml;\n",
              "          element.appendChild(docLink);\n",
              "        }\n",
              "      </script>\n",
              "    </div>\n",
              "  </div>\n",
              "  "
            ]
          },
          "metadata": {},
          "execution_count": 91
        }
      ]
    },
    {
      "cell_type": "markdown",
      "source": [
        "Tính hệ số tương quan Pearson giữa các biến số:"
      ],
      "metadata": {
        "id": "T2ecfhkssaY3"
      }
    },
    {
      "cell_type": "code",
      "source": [
        "df_dl.corr(method='pearson')"
      ],
      "metadata": {
        "colab": {
          "base_uri": "https://localhost:8080/",
          "height": 143
        },
        "id": "Wi3_16aRrevK",
        "outputId": "f6f23f11-7699-42df-fafe-97aee3fa2236"
      },
      "execution_count": 92,
      "outputs": [
        {
          "output_type": "execute_result",
          "data": {
            "text/plain": [
              "               Population  Murder.Rate  Murder.Number\n",
              "Population       1.000000     0.182069       0.957203\n",
              "Murder.Rate      0.182069     1.000000       0.401315\n",
              "Murder.Number    0.957203     0.401315       1.000000"
            ],
            "text/html": [
              "\n",
              "  <div id=\"df-a7703593-0386-495d-8f48-b119f0222b37\">\n",
              "    <div class=\"colab-df-container\">\n",
              "      <div>\n",
              "<style scoped>\n",
              "    .dataframe tbody tr th:only-of-type {\n",
              "        vertical-align: middle;\n",
              "    }\n",
              "\n",
              "    .dataframe tbody tr th {\n",
              "        vertical-align: top;\n",
              "    }\n",
              "\n",
              "    .dataframe thead th {\n",
              "        text-align: right;\n",
              "    }\n",
              "</style>\n",
              "<table border=\"1\" class=\"dataframe\">\n",
              "  <thead>\n",
              "    <tr style=\"text-align: right;\">\n",
              "      <th></th>\n",
              "      <th>Population</th>\n",
              "      <th>Murder.Rate</th>\n",
              "      <th>Murder.Number</th>\n",
              "    </tr>\n",
              "  </thead>\n",
              "  <tbody>\n",
              "    <tr>\n",
              "      <th>Population</th>\n",
              "      <td>1.000000</td>\n",
              "      <td>0.182069</td>\n",
              "      <td>0.957203</td>\n",
              "    </tr>\n",
              "    <tr>\n",
              "      <th>Murder.Rate</th>\n",
              "      <td>0.182069</td>\n",
              "      <td>1.000000</td>\n",
              "      <td>0.401315</td>\n",
              "    </tr>\n",
              "    <tr>\n",
              "      <th>Murder.Number</th>\n",
              "      <td>0.957203</td>\n",
              "      <td>0.401315</td>\n",
              "      <td>1.000000</td>\n",
              "    </tr>\n",
              "  </tbody>\n",
              "</table>\n",
              "</div>\n",
              "      <button class=\"colab-df-convert\" onclick=\"convertToInteractive('df-a7703593-0386-495d-8f48-b119f0222b37')\"\n",
              "              title=\"Convert this dataframe to an interactive table.\"\n",
              "              style=\"display:none;\">\n",
              "        \n",
              "  <svg xmlns=\"http://www.w3.org/2000/svg\" height=\"24px\"viewBox=\"0 0 24 24\"\n",
              "       width=\"24px\">\n",
              "    <path d=\"M0 0h24v24H0V0z\" fill=\"none\"/>\n",
              "    <path d=\"M18.56 5.44l.94 2.06.94-2.06 2.06-.94-2.06-.94-.94-2.06-.94 2.06-2.06.94zm-11 1L8.5 8.5l.94-2.06 2.06-.94-2.06-.94L8.5 2.5l-.94 2.06-2.06.94zm10 10l.94 2.06.94-2.06 2.06-.94-2.06-.94-.94-2.06-.94 2.06-2.06.94z\"/><path d=\"M17.41 7.96l-1.37-1.37c-.4-.4-.92-.59-1.43-.59-.52 0-1.04.2-1.43.59L10.3 9.45l-7.72 7.72c-.78.78-.78 2.05 0 2.83L4 21.41c.39.39.9.59 1.41.59.51 0 1.02-.2 1.41-.59l7.78-7.78 2.81-2.81c.8-.78.8-2.07 0-2.86zM5.41 20L4 18.59l7.72-7.72 1.47 1.35L5.41 20z\"/>\n",
              "  </svg>\n",
              "      </button>\n",
              "      \n",
              "  <style>\n",
              "    .colab-df-container {\n",
              "      display:flex;\n",
              "      flex-wrap:wrap;\n",
              "      gap: 12px;\n",
              "    }\n",
              "\n",
              "    .colab-df-convert {\n",
              "      background-color: #E8F0FE;\n",
              "      border: none;\n",
              "      border-radius: 50%;\n",
              "      cursor: pointer;\n",
              "      display: none;\n",
              "      fill: #1967D2;\n",
              "      height: 32px;\n",
              "      padding: 0 0 0 0;\n",
              "      width: 32px;\n",
              "    }\n",
              "\n",
              "    .colab-df-convert:hover {\n",
              "      background-color: #E2EBFA;\n",
              "      box-shadow: 0px 1px 2px rgba(60, 64, 67, 0.3), 0px 1px 3px 1px rgba(60, 64, 67, 0.15);\n",
              "      fill: #174EA6;\n",
              "    }\n",
              "\n",
              "    [theme=dark] .colab-df-convert {\n",
              "      background-color: #3B4455;\n",
              "      fill: #D2E3FC;\n",
              "    }\n",
              "\n",
              "    [theme=dark] .colab-df-convert:hover {\n",
              "      background-color: #434B5C;\n",
              "      box-shadow: 0px 1px 3px 1px rgba(0, 0, 0, 0.15);\n",
              "      filter: drop-shadow(0px 1px 2px rgba(0, 0, 0, 0.3));\n",
              "      fill: #FFFFFF;\n",
              "    }\n",
              "  </style>\n",
              "\n",
              "      <script>\n",
              "        const buttonEl =\n",
              "          document.querySelector('#df-a7703593-0386-495d-8f48-b119f0222b37 button.colab-df-convert');\n",
              "        buttonEl.style.display =\n",
              "          google.colab.kernel.accessAllowed ? 'block' : 'none';\n",
              "\n",
              "        async function convertToInteractive(key) {\n",
              "          const element = document.querySelector('#df-a7703593-0386-495d-8f48-b119f0222b37');\n",
              "          const dataTable =\n",
              "            await google.colab.kernel.invokeFunction('convertToInteractive',\n",
              "                                                     [key], {});\n",
              "          if (!dataTable) return;\n",
              "\n",
              "          const docLinkHtml = 'Like what you see? Visit the ' +\n",
              "            '<a target=\"_blank\" href=https://colab.research.google.com/notebooks/data_table.ipynb>data table notebook</a>'\n",
              "            + ' to learn more about interactive tables.';\n",
              "          element.innerHTML = '';\n",
              "          dataTable['output_type'] = 'display_data';\n",
              "          await google.colab.output.renderOutput(dataTable, element);\n",
              "          const docLink = document.createElement('div');\n",
              "          docLink.innerHTML = docLinkHtml;\n",
              "          element.appendChild(docLink);\n",
              "        }\n",
              "      </script>\n",
              "    </div>\n",
              "  </div>\n",
              "  "
            ]
          },
          "metadata": {},
          "execution_count": 92
        }
      ]
    },
    {
      "cell_type": "markdown",
      "source": [
        "Hệ số tương quan Pearson giữa Murder.Number và Population xấp xỉ 0.96 lớn hơn 0 và gần bằng 1. Nên mối quan hệ giữa chúng là mối quan hệ tuyến tính mạnh\n",
        "\n",
        "Bạn có thể quan sát hình vẽ bên dưới:"
      ],
      "metadata": {
        "id": "d3DRK8W_u9hM"
      }
    },
    {
      "cell_type": "code",
      "source": [
        "import numpy as np\n",
        "\n",
        "# Tìm phương trình hồi quy:\n",
        "coef = np.polyfit(df_dl[\"Murder.Number\"],df_dl[\"Population\"],1)\n",
        "poly1d_fn = np.poly1d(coef) \n",
        "# Vẽ biểu đồ:\n",
        "plt.plot(df_dl[\"Murder.Number\"],df_dl[\"Population\"], 'yo', \n",
        "         df_dl[\"Murder.Number\"], poly1d_fn(df_dl[\"Murder.Number\"]),);"
      ],
      "metadata": {
        "colab": {
          "base_uri": "https://localhost:8080/",
          "height": 289
        },
        "id": "X374HW-5szwB",
        "outputId": "6d8ed7f2-eca5-476a-c5a5-00cd998e6010"
      },
      "execution_count": 94,
      "outputs": [
        {
          "output_type": "display_data",
          "data": {
            "text/plain": [
              "<Figure size 432x288 with 1 Axes>"
            ],
            "image/png": "[encoded data removed]"
          },
          "metadata": {
            "needs_background": "light"
          }
        }
      ]
    }
  ]
}