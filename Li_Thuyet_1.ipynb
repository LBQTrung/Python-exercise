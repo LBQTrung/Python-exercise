{
  "nbformat": 4,
  "nbformat_minor": 0,
  "metadata": {
    "colab": {
      "name": "Li_Thuyet_1.ipynb",
      "provenance": [],
      "authorship_tag": "ABX9TyPBczjOmOw3DKzK/IvwK8UI",
      "include_colab_link": true
    },
    "kernelspec": {
      "name": "python3",
      "display_name": "Python 3"
    },
    "language_info": {
      "name": "python"
    }
  },
  "cells": [
    {
      "cell_type": "markdown",
      "metadata": {
        "id": "view-in-github",
        "colab_type": "text"
      },
      "source": [
        "<a href=\"https://colab.research.google.com/github/LBQTrung/Python-exercise/blob/main/Li_Thuyet_1.ipynb\" target=\"_parent\"><img src=\"https://colab.research.google.com/assets/colab-badge.svg\" alt=\"Open In Colab\"/></a>"
      ]
    },
    {
      "cell_type": "markdown",
      "source": [
        "\n",
        "#BÀI TẬP TỰ HỌC VỀ KIỂM ĐỊNH A/B\n",
        "\n",
        "Sinh viên sử dụng tài liệu tham khảo \"Practical Statistics...\", Chương 3 để hoàn thành các yêu cầu sau."
      ],
      "metadata": {
        "id": "BaqN8AaIuh8-"
      }
    },
    {
      "cell_type": "markdown",
      "source": [
        "**Câu 1**: Trả lời các câu hỏi lý thuyết sau:\n",
        "\n",
        "\n",
        "1.   Kiểm định A/B là gì?\n",
        "2.   Thuật ngữ treatment trong ngữ cảnh của thống kê có thể dịch sang tiếng Việt không? nếu có thì là gì?\n",
        "3.   Nêu định nghĩa về treatment\n",
        "4.   Control group là gì? vai trò trong thí nghiệm của kiểm định A/B?\n",
        "5.   Treament group là gì? vai trò trong thí nghiệm của kiểm định A/B?\n",
        "6.   Hãy liệt kê một số kiểm định A/B trong thực tế?"
      ],
      "metadata": {
        "id": "Sr5HNSxpuio9"
      }
    },
    {
      "cell_type": "markdown",
      "source": [
        "Trả lời câu hỏi:"
      ],
      "metadata": {
        "id": "cTRpVGkeulQ1"
      }
    },
    {
      "cell_type": "markdown",
      "source": [
        "1. Kiểm định A/B là một phương pháp thực nghiệm với giải pháp A và B nhằm xác định cái nào hiệu quả hơn.\n",
        "\n",
        "2. Thuật ngữ treatment trong ngữ cảnh thống kê có thể dịch sang tiếng việt là giải pháp\n",
        "\n",
        "3. Treatment là sự thay đổi ảnh hưởng đến đối tượng nghiên cứu\n",
        "\n",
        "4. Control group là một nhóm các đối tượng sau khi thực hiện các giải pháp (thường không thay đổi gì mới)\n",
        "\n",
        "5. Treatment group là một nhóm các đối tượng với các giải pháp đặc biệt, tuyệt đối khác so với Control Group. Control group đưa ra baseline để từ đó thông qua Treatment Group ta dễ dàng nhận thấy được có thay đổi đáng kể gì không.\n",
        "\n",
        "6. Một số ví dụ của kiểm định A/B trong thực tế:\n",
        "- Amazon: A/B test layout của website – Full width screen vs Fixed width screen:\n",
        "\n",
        "Giải pháp A, chiều rộng của cột nội dung chính trang web sẽ được trình bày theo chiều rộng của màn hình người dùng (full width).\n",
        "\n",
        "Giải pháp B, chiều rộng của cột nội dung chính được cố định (fixed width) ở mức tối đa là 1500 pixels.\n",
        "- Netflix: A/B test nội dung nút CTA (call to action) trên landing page:\n",
        "\n",
        "Giải pháp A: “Watch free for 30 days” (Trải nghiệm miễn phí trong 30 ngày) \n",
        "\n",
        "Giải pháp B: “Try it now” (Hãy trải nghiệm ngay)."
      ],
      "metadata": {
        "id": "5aPLcr59umh9"
      }
    },
    {
      "cell_type": "markdown",
      "source": [
        "**Câu 2**: Tại sao không có kiểm định A/B/C/D?\n",
        "\n",
        "\n"
      ],
      "metadata": {
        "id": "zvWGoLa1xZMn"
      }
    },
    {
      "cell_type": "markdown",
      "source": [
        "Trả lời câu hỏi:"
      ],
      "metadata": {
        "id": "RHNlVaJfxe11"
      }
    },
    {
      "cell_type": "markdown",
      "source": [
        "Thật ra ta vẫn có thể có kiểm định A/B/C khi bạn đưa ra 3 giải pháp và tìm giải pháp tối ưu nhất và tương tự với A/B/C/D. Tuy nhiên, kiểm định A/B phổ biến hơn vì chỉ có hai tùy chọn giải pháp, có nhiều giải pháp hơn khiến cho việc thiết kế thực nghiệm trở nên phức tạp"
      ],
      "metadata": {
        "id": "nTE8c27qxgM1"
      }
    },
    {
      "cell_type": "markdown",
      "source": [
        "**Câu 3**: Lý thuyết về kiểm định giả thuyết. Trả lời các câu hỏi sau:\n",
        "\n",
        "\n",
        "1.   Nêu định nghĩa về kiểm định giả thuyết\n",
        "2.   Giả thuyết null là gì? cho ví dụ\n",
        "3.   Giả thuyết thay thế là gì? cho ví dụ\n",
        "4.   Kiểm định 1 chiều (hay 1 đuôi) là gì? cho ví dụ\n",
        "5.   Kiểm định 2 chiều (hay 2 đuôi) là gì?cho ví dụ\n",
        "6.   Nêu điểm khác biệt giữa kiểm định 1 chiều so với kiểm định 2 chiều?"
      ],
      "metadata": {
        "id": "p3tyiO2qxgPE"
      }
    },
    {
      "cell_type": "markdown",
      "source": [
        "Trả lời câu hỏi:"
      ],
      "metadata": {
        "id": "KjV9-2O7xh1V"
      }
    },
    {
      "cell_type": "markdown",
      "source": [
        "1. Kiểm định giả thuyết là quả trình thiết lập và sử dụng tiêu chuẩn thống kê để đi đến quyết định.\n",
        "2. Giả thuyết null là giả thuyết không chắc chắn sẽ xảy ra(Kí hiệu: $H_o$. Ví dụ: \"Không có sự khác biệt giữa A và B\"\n",
        "3. Giả thuyết thay thế là giả thuyết đối lập với giả thuyết null(Kí hiệu $H_a$. Ví dụ: \"Có sự khác biệt giữa A và B\"\n",
        "\n",
        "Ví dụ: Một nhà sản xuất động cơ ô tô nghiên cứu và phát triên một hệ thống phun động cơ mới nhằm tăng số dặm trên 1 gallon:\n",
        "* Giả thuyết null: \"Hệ thống phun nhiên liệu mới không làm tăng sô dặm trên 1 gallon\"\n",
        "* Giả thuyết thay thế: \"Hệ thống phun nhiên liệu mới làm tăng số dặm trên 1 gallon\"\n",
        "\n",
        "4. Kiểm định 1 chiều (hay 1 đuôi) là kiểm tra khả năng xảy ra tác động theo 1 hướng. Ví dụ:\n",
        "\n",
        ">>Một nhà sản xuất động cơ ô tô nghiên cứu và phát triên một hệ thống phun động cơ mới nhằm tăng số dặm trên 1 gallon, ta sẽ đặt giả thuyết nghiên cứu là $μ$ > 24, ta có kiểm định 1 chiều như sau:\n",
        "* $H_o: μ \\leqslant 24$ \n",
        "* $H_a: μ > 24$\n",
        "\n",
        "5. Kiểm định 2 phía (hay 2 đuôi) là kiểm tra khả năng xảy ra tác động theo 2 hướng Ví dụ:\n",
        "\n",
        "Một lô hàng được gửi đến, người thành tra chất lượng quyết định có nhập đơn hàng hay không và đã xác định nếu $μ$ = 2 thì đạt tiêu chuẩn. Ta có kiểm định 2 chiều như sau:\n",
        "* $H_o: μ = 2$ \n",
        "* $H_a: μ \\ne 2$\n",
        "\n",
        "Ta cũng có thể chia thành 2 như sau:\n",
        "* $H_o: μ = 2$\n",
        "* $H_a: μ > 2$ \n",
        "\n",
        "Hoặc\n",
        "* $H_o: μ = 2$\n",
        "* $H_a: μ < 2$ \n",
        "\n",
        "\n",
        "6. Điểm khác biệt giữa kiểm định 1 chiều và 2 chiều:"
      ],
      "metadata": {
        "id": "n_bxB2ZucPBh"
      }
    },
    {
      "cell_type": "markdown",
      "source": [
        "**Câu 4**: Lý thuyết về lấy mẫu (sampling). \n",
        "\n",
        "\n",
        "1.   Sampling là gì? cho ví dụ\n",
        "2.   Resampling là gì? cho ví dụ?\n",
        "3.   Hãy mô tả kỹ thuật permutation (hoặc quy trình của permutation test)? Xây dựng đoạn code lập trình permutation test"
      ],
      "metadata": {
        "id": "p9rVghG6xjP9"
      }
    },
    {
      "cell_type": "markdown",
      "source": [
        "Trả lời câu hỏi:"
      ],
      "metadata": {
        "id": "SWCdMxyCxlI1"
      }
    },
    {
      "cell_type": "markdown",
      "source": [
        "1. Sampling là việc tạo ra một tập hợp các quan sát được thu thập từ một quần thể thống kê theo một quy tắc nhất định.\n",
        "\n",
        ">>Ví dụ: Ta có tập dữ liệu của 2500 nhà quản lí. Ta tiến hành lấy 30 nhà quản lí từ tập dữ liệu để ước lượng về mức lương trung bình \n",
        "\n",
        "2. Resampling là việc lặp lại việc lấy mẫu giúp nâng cao hiệu quả sử dụng dữ liệu\n",
        "\n",
        ">>Ví dụ: Ta có tập dữ liệu của 2500 nhà quản lí. Ta tiến hành lấy 30 nhà quản lí từ tập dữ liệu để ước lượng về mức lương trung bình. Ta không chắc chắn là ước lượng đó đáng tin cậy nên ta tiếp tục lấy mẫu 30 nhà quản lí tiếp theo.\n",
        "\n",
        "3. Mô tả kĩ thuật permutation (hoán vị):\n",
        "* Tổng hợp các kết quả từ các nhóm khác nhau thành một tập duy nhất\n",
        "* Từ tập dữ liệu đó chọn ngẫu nhiên (không hoàn lại) một mẫu có cùng kích thước với nhóm A\n",
        "* Từ tập dữ liệu sau khi lấy A trên tiếp tục lấy ngẫu nhiên (không hoàn lại) một mẫu có cùng kích thước với nhóm B\n",
        "* Tương tự với các nhóm còn lại, bây giờ ta đã có những nhóm mới có cùng kích thước với các nhóm ban đầu nhưng đã được hoán vị\n",
        "* Tính những thống kê, ước lượng đá được tính toán cho dữ liệu ban đầu cho các hoán vị và ghi lại các kết quả.\n",
        "* Lập lại các bước đó nhiều lần để thu được phân phối hoán vị"
      ],
      "metadata": {
        "id": "_YYTBGjVTMFb"
      }
    },
    {
      "cell_type": "markdown",
      "source": [
        "Xây dựng đoạn code lập trình permutation test:"
      ],
      "metadata": {
        "id": "J2MATNodFpZZ"
      }
    },
    {
      "cell_type": "markdown",
      "source": [
        "Import các thư viện cần thiết:"
      ],
      "metadata": {
        "id": "03VlSaeWG3ba"
      }
    },
    {
      "cell_type": "code",
      "source": [
        "import pandas as pd\n",
        "import matplotlib.pyplot as plt\n",
        "import numpy as np\n",
        "import random"
      ],
      "metadata": {
        "id": "0dOrWd_yF5_2"
      },
      "execution_count": 18,
      "outputs": []
    },
    {
      "cell_type": "markdown",
      "source": [
        "Đọc dữ liệu từ file csv:"
      ],
      "metadata": {
        "id": "WRbjqHM9G9vi"
      }
    },
    {
      "cell_type": "code",
      "source": [
        "df = pd.read_csv(\"web_page_data.csv\")"
      ],
      "metadata": {
        "id": "4EK_dDcJHCAJ"
      },
      "execution_count": 4,
      "outputs": []
    },
    {
      "cell_type": "markdown",
      "source": [
        "Hiển thị một vài thông số của tập dữ liệu:"
      ],
      "metadata": {
        "id": "AQejiiCfHDsQ"
      }
    },
    {
      "cell_type": "code",
      "source": [
        "df.head()"
      ],
      "metadata": {
        "colab": {
          "base_uri": "https://localhost:8080/",
          "height": 206
        },
        "id": "9zusvLduHItE",
        "outputId": "5859b4a8-5615-4263-c286-6a1e0d47b7eb"
      },
      "execution_count": 5,
      "outputs": [
        {
          "output_type": "execute_result",
          "data": {
            "text/plain": [
              "     Page  Time\n",
              "0  Page A  0.21\n",
              "1  Page B  2.53\n",
              "2  Page A  0.35\n",
              "3  Page B  0.71\n",
              "4  Page A  0.67"
            ],
            "text/html": [
              "\n",
              "  <div id=\"df-b4139542-1d63-47e6-bd2f-69fc3da7adc2\">\n",
              "    <div class=\"colab-df-container\">\n",
              "      <div>\n",
              "<style scoped>\n",
              "    .dataframe tbody tr th:only-of-type {\n",
              "        vertical-align: middle;\n",
              "    }\n",
              "\n",
              "    .dataframe tbody tr th {\n",
              "        vertical-align: top;\n",
              "    }\n",
              "\n",
              "    .dataframe thead th {\n",
              "        text-align: right;\n",
              "    }\n",
              "</style>\n",
              "<table border=\"1\" class=\"dataframe\">\n",
              "  <thead>\n",
              "    <tr style=\"text-align: right;\">\n",
              "      <th></th>\n",
              "      <th>Page</th>\n",
              "      <th>Time</th>\n",
              "    </tr>\n",
              "  </thead>\n",
              "  <tbody>\n",
              "    <tr>\n",
              "      <th>0</th>\n",
              "      <td>Page A</td>\n",
              "      <td>0.21</td>\n",
              "    </tr>\n",
              "    <tr>\n",
              "      <th>1</th>\n",
              "      <td>Page B</td>\n",
              "      <td>2.53</td>\n",
              "    </tr>\n",
              "    <tr>\n",
              "      <th>2</th>\n",
              "      <td>Page A</td>\n",
              "      <td>0.35</td>\n",
              "    </tr>\n",
              "    <tr>\n",
              "      <th>3</th>\n",
              "      <td>Page B</td>\n",
              "      <td>0.71</td>\n",
              "    </tr>\n",
              "    <tr>\n",
              "      <th>4</th>\n",
              "      <td>Page A</td>\n",
              "      <td>0.67</td>\n",
              "    </tr>\n",
              "  </tbody>\n",
              "</table>\n",
              "</div>\n",
              "      <button class=\"colab-df-convert\" onclick=\"convertToInteractive('df-b4139542-1d63-47e6-bd2f-69fc3da7adc2')\"\n",
              "              title=\"Convert this dataframe to an interactive table.\"\n",
              "              style=\"display:none;\">\n",
              "        \n",
              "  <svg xmlns=\"http://www.w3.org/2000/svg\" height=\"24px\"viewBox=\"0 0 24 24\"\n",
              "       width=\"24px\">\n",
              "    <path d=\"M0 0h24v24H0V0z\" fill=\"none\"/>\n",
              "    <path d=\"M18.56 5.44l.94 2.06.94-2.06 2.06-.94-2.06-.94-.94-2.06-.94 2.06-2.06.94zm-11 1L8.5 8.5l.94-2.06 2.06-.94-2.06-.94L8.5 2.5l-.94 2.06-2.06.94zm10 10l.94 2.06.94-2.06 2.06-.94-2.06-.94-.94-2.06-.94 2.06-2.06.94z\"/><path d=\"M17.41 7.96l-1.37-1.37c-.4-.4-.92-.59-1.43-.59-.52 0-1.04.2-1.43.59L10.3 9.45l-7.72 7.72c-.78.78-.78 2.05 0 2.83L4 21.41c.39.39.9.59 1.41.59.51 0 1.02-.2 1.41-.59l7.78-7.78 2.81-2.81c.8-.78.8-2.07 0-2.86zM5.41 20L4 18.59l7.72-7.72 1.47 1.35L5.41 20z\"/>\n",
              "  </svg>\n",
              "      </button>\n",
              "      \n",
              "  <style>\n",
              "    .colab-df-container {\n",
              "      display:flex;\n",
              "      flex-wrap:wrap;\n",
              "      gap: 12px;\n",
              "    }\n",
              "\n",
              "    .colab-df-convert {\n",
              "      background-color: #E8F0FE;\n",
              "      border: none;\n",
              "      border-radius: 50%;\n",
              "      cursor: pointer;\n",
              "      display: none;\n",
              "      fill: #1967D2;\n",
              "      height: 32px;\n",
              "      padding: 0 0 0 0;\n",
              "      width: 32px;\n",
              "    }\n",
              "\n",
              "    .colab-df-convert:hover {\n",
              "      background-color: #E2EBFA;\n",
              "      box-shadow: 0px 1px 2px rgba(60, 64, 67, 0.3), 0px 1px 3px 1px rgba(60, 64, 67, 0.15);\n",
              "      fill: #174EA6;\n",
              "    }\n",
              "\n",
              "    [theme=dark] .colab-df-convert {\n",
              "      background-color: #3B4455;\n",
              "      fill: #D2E3FC;\n",
              "    }\n",
              "\n",
              "    [theme=dark] .colab-df-convert:hover {\n",
              "      background-color: #434B5C;\n",
              "      box-shadow: 0px 1px 3px 1px rgba(0, 0, 0, 0.15);\n",
              "      filter: drop-shadow(0px 1px 2px rgba(0, 0, 0, 0.3));\n",
              "      fill: #FFFFFF;\n",
              "    }\n",
              "  </style>\n",
              "\n",
              "      <script>\n",
              "        const buttonEl =\n",
              "          document.querySelector('#df-b4139542-1d63-47e6-bd2f-69fc3da7adc2 button.colab-df-convert');\n",
              "        buttonEl.style.display =\n",
              "          google.colab.kernel.accessAllowed ? 'block' : 'none';\n",
              "\n",
              "        async function convertToInteractive(key) {\n",
              "          const element = document.querySelector('#df-b4139542-1d63-47e6-bd2f-69fc3da7adc2');\n",
              "          const dataTable =\n",
              "            await google.colab.kernel.invokeFunction('convertToInteractive',\n",
              "                                                     [key], {});\n",
              "          if (!dataTable) return;\n",
              "\n",
              "          const docLinkHtml = 'Like what you see? Visit the ' +\n",
              "            '<a target=\"_blank\" href=https://colab.research.google.com/notebooks/data_table.ipynb>data table notebook</a>'\n",
              "            + ' to learn more about interactive tables.';\n",
              "          element.innerHTML = '';\n",
              "          dataTable['output_type'] = 'display_data';\n",
              "          await google.colab.output.renderOutput(dataTable, element);\n",
              "          const docLink = document.createElement('div');\n",
              "          docLink.innerHTML = docLinkHtml;\n",
              "          element.appendChild(docLink);\n",
              "        }\n",
              "      </script>\n",
              "    </div>\n",
              "  </div>\n",
              "  "
            ]
          },
          "metadata": {},
          "execution_count": 5
        }
      ]
    },
    {
      "cell_type": "code",
      "source": [
        "df.describe()"
      ],
      "metadata": {
        "colab": {
          "base_uri": "https://localhost:8080/",
          "height": 300
        },
        "id": "4qWGiIgVHKbs",
        "outputId": "67c761a0-b205-4759-9d55-4c2ff3bbc21f"
      },
      "execution_count": 6,
      "outputs": [
        {
          "output_type": "execute_result",
          "data": {
            "text/plain": [
              "            Time\n",
              "count  36.000000\n",
              "mean    1.411944\n",
              "std     0.942407\n",
              "min     0.210000\n",
              "25%     0.702500\n",
              "50%     1.180000\n",
              "75%     1.992500\n",
              "max     3.570000"
            ],
            "text/html": [
              "\n",
              "  <div id=\"df-a2d3aed4-5c12-45d0-baa1-d181108d393b\">\n",
              "    <div class=\"colab-df-container\">\n",
              "      <div>\n",
              "<style scoped>\n",
              "    .dataframe tbody tr th:only-of-type {\n",
              "        vertical-align: middle;\n",
              "    }\n",
              "\n",
              "    .dataframe tbody tr th {\n",
              "        vertical-align: top;\n",
              "    }\n",
              "\n",
              "    .dataframe thead th {\n",
              "        text-align: right;\n",
              "    }\n",
              "</style>\n",
              "<table border=\"1\" class=\"dataframe\">\n",
              "  <thead>\n",
              "    <tr style=\"text-align: right;\">\n",
              "      <th></th>\n",
              "      <th>Time</th>\n",
              "    </tr>\n",
              "  </thead>\n",
              "  <tbody>\n",
              "    <tr>\n",
              "      <th>count</th>\n",
              "      <td>36.000000</td>\n",
              "    </tr>\n",
              "    <tr>\n",
              "      <th>mean</th>\n",
              "      <td>1.411944</td>\n",
              "    </tr>\n",
              "    <tr>\n",
              "      <th>std</th>\n",
              "      <td>0.942407</td>\n",
              "    </tr>\n",
              "    <tr>\n",
              "      <th>min</th>\n",
              "      <td>0.210000</td>\n",
              "    </tr>\n",
              "    <tr>\n",
              "      <th>25%</th>\n",
              "      <td>0.702500</td>\n",
              "    </tr>\n",
              "    <tr>\n",
              "      <th>50%</th>\n",
              "      <td>1.180000</td>\n",
              "    </tr>\n",
              "    <tr>\n",
              "      <th>75%</th>\n",
              "      <td>1.992500</td>\n",
              "    </tr>\n",
              "    <tr>\n",
              "      <th>max</th>\n",
              "      <td>3.570000</td>\n",
              "    </tr>\n",
              "  </tbody>\n",
              "</table>\n",
              "</div>\n",
              "      <button class=\"colab-df-convert\" onclick=\"convertToInteractive('df-a2d3aed4-5c12-45d0-baa1-d181108d393b')\"\n",
              "              title=\"Convert this dataframe to an interactive table.\"\n",
              "              style=\"display:none;\">\n",
              "        \n",
              "  <svg xmlns=\"http://www.w3.org/2000/svg\" height=\"24px\"viewBox=\"0 0 24 24\"\n",
              "       width=\"24px\">\n",
              "    <path d=\"M0 0h24v24H0V0z\" fill=\"none\"/>\n",
              "    <path d=\"M18.56 5.44l.94 2.06.94-2.06 2.06-.94-2.06-.94-.94-2.06-.94 2.06-2.06.94zm-11 1L8.5 8.5l.94-2.06 2.06-.94-2.06-.94L8.5 2.5l-.94 2.06-2.06.94zm10 10l.94 2.06.94-2.06 2.06-.94-2.06-.94-.94-2.06-.94 2.06-2.06.94z\"/><path d=\"M17.41 7.96l-1.37-1.37c-.4-.4-.92-.59-1.43-.59-.52 0-1.04.2-1.43.59L10.3 9.45l-7.72 7.72c-.78.78-.78 2.05 0 2.83L4 21.41c.39.39.9.59 1.41.59.51 0 1.02-.2 1.41-.59l7.78-7.78 2.81-2.81c.8-.78.8-2.07 0-2.86zM5.41 20L4 18.59l7.72-7.72 1.47 1.35L5.41 20z\"/>\n",
              "  </svg>\n",
              "      </button>\n",
              "      \n",
              "  <style>\n",
              "    .colab-df-container {\n",
              "      display:flex;\n",
              "      flex-wrap:wrap;\n",
              "      gap: 12px;\n",
              "    }\n",
              "\n",
              "    .colab-df-convert {\n",
              "      background-color: #E8F0FE;\n",
              "      border: none;\n",
              "      border-radius: 50%;\n",
              "      cursor: pointer;\n",
              "      display: none;\n",
              "      fill: #1967D2;\n",
              "      height: 32px;\n",
              "      padding: 0 0 0 0;\n",
              "      width: 32px;\n",
              "    }\n",
              "\n",
              "    .colab-df-convert:hover {\n",
              "      background-color: #E2EBFA;\n",
              "      box-shadow: 0px 1px 2px rgba(60, 64, 67, 0.3), 0px 1px 3px 1px rgba(60, 64, 67, 0.15);\n",
              "      fill: #174EA6;\n",
              "    }\n",
              "\n",
              "    [theme=dark] .colab-df-convert {\n",
              "      background-color: #3B4455;\n",
              "      fill: #D2E3FC;\n",
              "    }\n",
              "\n",
              "    [theme=dark] .colab-df-convert:hover {\n",
              "      background-color: #434B5C;\n",
              "      box-shadow: 0px 1px 3px 1px rgba(0, 0, 0, 0.15);\n",
              "      filter: drop-shadow(0px 1px 2px rgba(0, 0, 0, 0.3));\n",
              "      fill: #FFFFFF;\n",
              "    }\n",
              "  </style>\n",
              "\n",
              "      <script>\n",
              "        const buttonEl =\n",
              "          document.querySelector('#df-a2d3aed4-5c12-45d0-baa1-d181108d393b button.colab-df-convert');\n",
              "        buttonEl.style.display =\n",
              "          google.colab.kernel.accessAllowed ? 'block' : 'none';\n",
              "\n",
              "        async function convertToInteractive(key) {\n",
              "          const element = document.querySelector('#df-a2d3aed4-5c12-45d0-baa1-d181108d393b');\n",
              "          const dataTable =\n",
              "            await google.colab.kernel.invokeFunction('convertToInteractive',\n",
              "                                                     [key], {});\n",
              "          if (!dataTable) return;\n",
              "\n",
              "          const docLinkHtml = 'Like what you see? Visit the ' +\n",
              "            '<a target=\"_blank\" href=https://colab.research.google.com/notebooks/data_table.ipynb>data table notebook</a>'\n",
              "            + ' to learn more about interactive tables.';\n",
              "          element.innerHTML = '';\n",
              "          dataTable['output_type'] = 'display_data';\n",
              "          await google.colab.output.renderOutput(dataTable, element);\n",
              "          const docLink = document.createElement('div');\n",
              "          docLink.innerHTML = docLinkHtml;\n",
              "          element.appendChild(docLink);\n",
              "        }\n",
              "      </script>\n",
              "    </div>\n",
              "  </div>\n",
              "  "
            ]
          },
          "metadata": {},
          "execution_count": 6
        }
      ]
    },
    {
      "cell_type": "code",
      "source": [
        "ax = df.boxplot(by='Page', column='Time')\n",
        "ax.set_xlabel('')\n",
        "ax.set_ylabel('Time (in seconds)')\n",
        "plt.suptitle('')"
      ],
      "metadata": {
        "colab": {
          "base_uri": "https://localhost:8080/",
          "height": 334
        },
        "id": "LHprmJXGHQSj",
        "outputId": "0354073f-3f9e-44fe-8503-b23e8ca944fe"
      },
      "execution_count": 8,
      "outputs": [
        {
          "output_type": "stream",
          "name": "stderr",
          "text": [
            "/usr/local/lib/python3.7/dist-packages/matplotlib/cbook/__init__.py:1376: VisibleDeprecationWarning: Creating an ndarray from ragged nested sequences (which is a list-or-tuple of lists-or-tuples-or ndarrays with different lengths or shapes) is deprecated. If you meant to do this, you must specify 'dtype=object' when creating the ndarray.\n",
            "  X = np.atleast_1d(X.T if isinstance(X, np.ndarray) else np.asarray(X))\n"
          ]
        },
        {
          "output_type": "display_data",
          "data": {
            "text/plain": [
              "<Figure size 432x288 with 1 Axes>"
            ],
            "image/png": "[encoded data removed]"
          },
          "metadata": {
            "needs_background": "light"
          }
        }
      ]
    },
    {
      "cell_type": "markdown",
      "source": [
        "Ta tính trung bình thời gian vào page A:"
      ],
      "metadata": {
        "id": "HLVQ9atpHwps"
      }
    },
    {
      "cell_type": "code",
      "source": [
        "mean_a = df[df.Page == 'Page A'].Time.mean()\n",
        "mean_a"
      ],
      "metadata": {
        "colab": {
          "base_uri": "https://localhost:8080/"
        },
        "id": "hw7Woi4XH3Ph",
        "outputId": "9ab36369-138c-46ab-e05a-cdbcda1006d2"
      },
      "execution_count": 10,
      "outputs": [
        {
          "output_type": "execute_result",
          "data": {
            "text/plain": [
              "1.263333333333333"
            ]
          },
          "metadata": {},
          "execution_count": 10
        }
      ]
    },
    {
      "cell_type": "markdown",
      "source": [
        "Ta tính trung bình thời gian vào page B:"
      ],
      "metadata": {
        "id": "PeIFwo8vH9uD"
      }
    },
    {
      "cell_type": "code",
      "source": [
        "mean_b = df[df.Page == 'Page B'].Time.mean()\n",
        "mean_b"
      ],
      "metadata": {
        "colab": {
          "base_uri": "https://localhost:8080/"
        },
        "id": "QbAS9zJ9H_HD",
        "outputId": "0c4951c8-f726-4a88-bef2-9a2cf87990ad"
      },
      "execution_count": 11,
      "outputs": [
        {
          "output_type": "execute_result",
          "data": {
            "text/plain": [
              "1.62"
            ]
          },
          "metadata": {},
          "execution_count": 11
        }
      ]
    },
    {
      "cell_type": "markdown",
      "source": [
        "Hiệu thời gian b so với a:"
      ],
      "metadata": {
        "id": "uBEzLhlFICr7"
      }
    },
    {
      "cell_type": "code",
      "source": [
        "mean_b - mean_a"
      ],
      "metadata": {
        "colab": {
          "base_uri": "https://localhost:8080/"
        },
        "id": "KqAFg-26IGjJ",
        "outputId": "a6ca4680-43e9-4f90-f00c-87e9409154b0"
      },
      "execution_count": 12,
      "outputs": [
        {
          "output_type": "execute_result",
          "data": {
            "text/plain": [
              "0.35666666666666713"
            ]
          },
          "metadata": {},
          "execution_count": 12
        }
      ]
    },
    {
      "cell_type": "markdown",
      "source": [
        "Ta tiến hành xây dựng hàm thực hiện permutation test như sau:"
      ],
      "metadata": {
        "id": "E5AkGWkxIL6V"
      }
    },
    {
      "cell_type": "code",
      "source": [
        "def perm_fun(x, nA, nB):\n",
        " n = nA + nB\n",
        " idx_B = set(random.sample(range(n), nB))\n",
        " idx_A = set(range(n)) - idx_B\n",
        " return x.loc[idx_B].mean() - x.loc[idx_A].mean()"
      ],
      "metadata": {
        "id": "FTs9mEsLIQyB"
      },
      "execution_count": 14,
      "outputs": []
    },
    {
      "cell_type": "code",
      "source": [
        "perm_diffs = [perm_fun(df.Time, 21, 15) for _ in range(1000)]\n",
        "fig, ax = plt.subplots(figsize=(5, 5))\n",
        "ax.hist(perm_diffs, bins=11, rwidth=0.9)\n",
        "ax.axvline(x = mean_b - mean_a, color='black', lw=2)\n",
        "ax.text(50, 50, 'Observed\\ndifference', bbox={'facecolor':'white'})\n",
        "ax.set_xlabel('Session time differences (in seconds)')\n",
        "ax.set_ylabel('Frequency')"
      ],
      "metadata": {
        "colab": {
          "base_uri": "https://localhost:8080/",
          "height": 64
        },
        "id": "owBzZvxXIpUV",
        "outputId": "629a0445-d9d7-4e9c-a5ae-0a02c0057ab5"
      },
      "execution_count": 23,
      "outputs": [
        {
          "output_type": "execute_result",
          "data": {
            "text/plain": [
              "Text(0, 0.5, 'Frequency')"
            ]
          },
          "metadata": {},
          "execution_count": 23
        },
        {
          "output_type": "display_data",
          "data": {
            "text/plain": [
              "<Figure size 360x360 with 1 Axes>"
            ],
            "image/png": "[encoded data removed]"
          },
          "metadata": {
            "needs_background": "light"
          }
        }
      ]
    },
    {
      "cell_type": "markdown",
      "source": [
        "![image.png](data:image/png;base64,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)"
      ],
      "metadata": {
        "id": "aVeN7SFILWeC"
      }
    }
  ]
}