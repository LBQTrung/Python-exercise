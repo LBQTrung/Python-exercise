{
  "nbformat": 4,
  "nbformat_minor": 0,
  "metadata": {
    "colab": {
      "name": "Visualization_1.ipynb",
      "provenance": [],
      "authorship_tag": "ABX9TyNG0PMgaIkCTEN/Zs5tZ/4c",
      "include_colab_link": true
    },
    "kernelspec": {
      "name": "python3",
      "display_name": "Python 3"
    },
    "language_info": {
      "name": "python"
    }
  },
  "cells": [
    {
      "cell_type": "markdown",
      "metadata": {
        "id": "view-in-github",
        "colab_type": "text"
      },
      "source": [
        "<a href=\"https://colab.research.google.com/github/LBQTrung/Python-exercise/blob/main/Visualization_1.ipynb\" target=\"_parent\"><img src=\"https://colab.research.google.com/assets/colab-badge.svg\" alt=\"Open In Colab\"/></a>"
      ]
    },
    {
      "cell_type": "markdown",
      "source": [
        "Import các thư viện cần thiết:"
      ],
      "metadata": {
        "id": "muwtWmB6bcHg"
      }
    },
    {
      "cell_type": "code",
      "source": [
        "import pandas as pd\n",
        "import matplotlib.pyplot as plt"
      ],
      "metadata": {
        "id": "SzKrlxNUbgwO"
      },
      "execution_count": 1,
      "outputs": []
    },
    {
      "cell_type": "markdown",
      "source": [
        "Đọc file dữ liệu:"
      ],
      "metadata": {
        "id": "H_-4wC5sbmmm"
      }
    },
    {
      "cell_type": "code",
      "source": [
        "df = pd.read_csv(\"StudentsPerformance.csv\")"
      ],
      "metadata": {
        "id": "dG91Tbm9bn2n"
      },
      "execution_count": 2,
      "outputs": []
    },
    {
      "cell_type": "markdown",
      "source": [
        "Hiển thị một vài thông số cơ bản:"
      ],
      "metadata": {
        "id": "82smoNQrbuOs"
      }
    },
    {
      "cell_type": "code",
      "source": [
        "df.head()"
      ],
      "metadata": {
        "colab": {
          "base_uri": "https://localhost:8080/",
          "height": 391
        },
        "id": "6Toxy4sDbyKl",
        "outputId": "180da9d2-5d96-498a-c24b-6fa2259036cc"
      },
      "execution_count": 3,
      "outputs": [
        {
          "output_type": "execute_result",
          "data": {
            "text/plain": [
              "   gender race/ethnicity parental level of education         lunch  \\\n",
              "0  female        group B           bachelor's degree      standard   \n",
              "1  female        group C                some college      standard   \n",
              "2  female        group B             master's degree      standard   \n",
              "3    male        group A          associate's degree  free/reduced   \n",
              "4    male        group C                some college      standard   \n",
              "\n",
              "  test preparation course  math score  reading score  writing score  \n",
              "0                    none          72             72             74  \n",
              "1               completed          69             90             88  \n",
              "2                    none          90             95             93  \n",
              "3                    none          47             57             44  \n",
              "4                    none          76             78             75  "
            ],
            "text/html": [
              "\n",
              "  <div id=\"df-af197cbd-931a-4ee1-9f46-cecde733cea3\">\n",
              "    <div class=\"colab-df-container\">\n",
              "      <div>\n",
              "<style scoped>\n",
              "    .dataframe tbody tr th:only-of-type {\n",
              "        vertical-align: middle;\n",
              "    }\n",
              "\n",
              "    .dataframe tbody tr th {\n",
              "        vertical-align: top;\n",
              "    }\n",
              "\n",
              "    .dataframe thead th {\n",
              "        text-align: right;\n",
              "    }\n",
              "</style>\n",
              "<table border=\"1\" class=\"dataframe\">\n",
              "  <thead>\n",
              "    <tr style=\"text-align: right;\">\n",
              "      <th></th>\n",
              "      <th>gender</th>\n",
              "      <th>race/ethnicity</th>\n",
              "      <th>parental level of education</th>\n",
              "      <th>lunch</th>\n",
              "      <th>test preparation course</th>\n",
              "      <th>math score</th>\n",
              "      <th>reading score</th>\n",
              "      <th>writing score</th>\n",
              "    </tr>\n",
              "  </thead>\n",
              "  <tbody>\n",
              "    <tr>\n",
              "      <th>0</th>\n",
              "      <td>female</td>\n",
              "      <td>group B</td>\n",
              "      <td>bachelor's degree</td>\n",
              "      <td>standard</td>\n",
              "      <td>none</td>\n",
              "      <td>72</td>\n",
              "      <td>72</td>\n",
              "      <td>74</td>\n",
              "    </tr>\n",
              "    <tr>\n",
              "      <th>1</th>\n",
              "      <td>female</td>\n",
              "      <td>group C</td>\n",
              "      <td>some college</td>\n",
              "      <td>standard</td>\n",
              "      <td>completed</td>\n",
              "      <td>69</td>\n",
              "      <td>90</td>\n",
              "      <td>88</td>\n",
              "    </tr>\n",
              "    <tr>\n",
              "      <th>2</th>\n",
              "      <td>female</td>\n",
              "      <td>group B</td>\n",
              "      <td>master's degree</td>\n",
              "      <td>standard</td>\n",
              "      <td>none</td>\n",
              "      <td>90</td>\n",
              "      <td>95</td>\n",
              "      <td>93</td>\n",
              "    </tr>\n",
              "    <tr>\n",
              "      <th>3</th>\n",
              "      <td>male</td>\n",
              "      <td>group A</td>\n",
              "      <td>associate's degree</td>\n",
              "      <td>free/reduced</td>\n",
              "      <td>none</td>\n",
              "      <td>47</td>\n",
              "      <td>57</td>\n",
              "      <td>44</td>\n",
              "    </tr>\n",
              "    <tr>\n",
              "      <th>4</th>\n",
              "      <td>male</td>\n",
              "      <td>group C</td>\n",
              "      <td>some college</td>\n",
              "      <td>standard</td>\n",
              "      <td>none</td>\n",
              "      <td>76</td>\n",
              "      <td>78</td>\n",
              "      <td>75</td>\n",
              "    </tr>\n",
              "  </tbody>\n",
              "</table>\n",
              "</div>\n",
              "      <button class=\"colab-df-convert\" onclick=\"convertToInteractive('df-af197cbd-931a-4ee1-9f46-cecde733cea3')\"\n",
              "              title=\"Convert this dataframe to an interactive table.\"\n",
              "              style=\"display:none;\">\n",
              "        \n",
              "  <svg xmlns=\"http://www.w3.org/2000/svg\" height=\"24px\"viewBox=\"0 0 24 24\"\n",
              "       width=\"24px\">\n",
              "    <path d=\"M0 0h24v24H0V0z\" fill=\"none\"/>\n",
              "    <path d=\"M18.56 5.44l.94 2.06.94-2.06 2.06-.94-2.06-.94-.94-2.06-.94 2.06-2.06.94zm-11 1L8.5 8.5l.94-2.06 2.06-.94-2.06-.94L8.5 2.5l-.94 2.06-2.06.94zm10 10l.94 2.06.94-2.06 2.06-.94-2.06-.94-.94-2.06-.94 2.06-2.06.94z\"/><path d=\"M17.41 7.96l-1.37-1.37c-.4-.4-.92-.59-1.43-.59-.52 0-1.04.2-1.43.59L10.3 9.45l-7.72 7.72c-.78.78-.78 2.05 0 2.83L4 21.41c.39.39.9.59 1.41.59.51 0 1.02-.2 1.41-.59l7.78-7.78 2.81-2.81c.8-.78.8-2.07 0-2.86zM5.41 20L4 18.59l7.72-7.72 1.47 1.35L5.41 20z\"/>\n",
              "  </svg>\n",
              "      </button>\n",
              "      \n",
              "  <style>\n",
              "    .colab-df-container {\n",
              "      display:flex;\n",
              "      flex-wrap:wrap;\n",
              "      gap: 12px;\n",
              "    }\n",
              "\n",
              "    .colab-df-convert {\n",
              "      background-color: #E8F0FE;\n",
              "      border: none;\n",
              "      border-radius: 50%;\n",
              "      cursor: pointer;\n",
              "      display: none;\n",
              "      fill: #1967D2;\n",
              "      height: 32px;\n",
              "      padding: 0 0 0 0;\n",
              "      width: 32px;\n",
              "    }\n",
              "\n",
              "    .colab-df-convert:hover {\n",
              "      background-color: #E2EBFA;\n",
              "      box-shadow: 0px 1px 2px rgba(60, 64, 67, 0.3), 0px 1px 3px 1px rgba(60, 64, 67, 0.15);\n",
              "      fill: #174EA6;\n",
              "    }\n",
              "\n",
              "    [theme=dark] .colab-df-convert {\n",
              "      background-color: #3B4455;\n",
              "      fill: #D2E3FC;\n",
              "    }\n",
              "\n",
              "    [theme=dark] .colab-df-convert:hover {\n",
              "      background-color: #434B5C;\n",
              "      box-shadow: 0px 1px 3px 1px rgba(0, 0, 0, 0.15);\n",
              "      filter: drop-shadow(0px 1px 2px rgba(0, 0, 0, 0.3));\n",
              "      fill: #FFFFFF;\n",
              "    }\n",
              "  </style>\n",
              "\n",
              "      <script>\n",
              "        const buttonEl =\n",
              "          document.querySelector('#df-af197cbd-931a-4ee1-9f46-cecde733cea3 button.colab-df-convert');\n",
              "        buttonEl.style.display =\n",
              "          google.colab.kernel.accessAllowed ? 'block' : 'none';\n",
              "\n",
              "        async function convertToInteractive(key) {\n",
              "          const element = document.querySelector('#df-af197cbd-931a-4ee1-9f46-cecde733cea3');\n",
              "          const dataTable =\n",
              "            await google.colab.kernel.invokeFunction('convertToInteractive',\n",
              "                                                     [key], {});\n",
              "          if (!dataTable) return;\n",
              "\n",
              "          const docLinkHtml = 'Like what you see? Visit the ' +\n",
              "            '<a target=\"_blank\" href=https://colab.research.google.com/notebooks/data_table.ipynb>data table notebook</a>'\n",
              "            + ' to learn more about interactive tables.';\n",
              "          element.innerHTML = '';\n",
              "          dataTable['output_type'] = 'display_data';\n",
              "          await google.colab.output.renderOutput(dataTable, element);\n",
              "          const docLink = document.createElement('div');\n",
              "          docLink.innerHTML = docLinkHtml;\n",
              "          element.appendChild(docLink);\n",
              "        }\n",
              "      </script>\n",
              "    </div>\n",
              "  </div>\n",
              "  "
            ]
          },
          "metadata": {},
          "execution_count": 3
        }
      ]
    },
    {
      "cell_type": "code",
      "source": [
        "df.describe()"
      ],
      "metadata": {
        "colab": {
          "base_uri": "https://localhost:8080/",
          "height": 300
        },
        "id": "pz_qsvNgb3BG",
        "outputId": "c446935d-e579-4ee3-87cc-b8ab2094b849"
      },
      "execution_count": 4,
      "outputs": [
        {
          "output_type": "execute_result",
          "data": {
            "text/plain": [
              "       math score  reading score  writing score\n",
              "count  1000.00000    1000.000000    1000.000000\n",
              "mean     66.08900      69.169000      68.054000\n",
              "std      15.16308      14.600192      15.195657\n",
              "min       0.00000      17.000000      10.000000\n",
              "25%      57.00000      59.000000      57.750000\n",
              "50%      66.00000      70.000000      69.000000\n",
              "75%      77.00000      79.000000      79.000000\n",
              "max     100.00000     100.000000     100.000000"
            ],
            "text/html": [
              "\n",
              "  <div id=\"df-dba56f75-b057-425d-ae76-62bc23adb446\">\n",
              "    <div class=\"colab-df-container\">\n",
              "      <div>\n",
              "<style scoped>\n",
              "    .dataframe tbody tr th:only-of-type {\n",
              "        vertical-align: middle;\n",
              "    }\n",
              "\n",
              "    .dataframe tbody tr th {\n",
              "        vertical-align: top;\n",
              "    }\n",
              "\n",
              "    .dataframe thead th {\n",
              "        text-align: right;\n",
              "    }\n",
              "</style>\n",
              "<table border=\"1\" class=\"dataframe\">\n",
              "  <thead>\n",
              "    <tr style=\"text-align: right;\">\n",
              "      <th></th>\n",
              "      <th>math score</th>\n",
              "      <th>reading score</th>\n",
              "      <th>writing score</th>\n",
              "    </tr>\n",
              "  </thead>\n",
              "  <tbody>\n",
              "    <tr>\n",
              "      <th>count</th>\n",
              "      <td>1000.00000</td>\n",
              "      <td>1000.000000</td>\n",
              "      <td>1000.000000</td>\n",
              "    </tr>\n",
              "    <tr>\n",
              "      <th>mean</th>\n",
              "      <td>66.08900</td>\n",
              "      <td>69.169000</td>\n",
              "      <td>68.054000</td>\n",
              "    </tr>\n",
              "    <tr>\n",
              "      <th>std</th>\n",
              "      <td>15.16308</td>\n",
              "      <td>14.600192</td>\n",
              "      <td>15.195657</td>\n",
              "    </tr>\n",
              "    <tr>\n",
              "      <th>min</th>\n",
              "      <td>0.00000</td>\n",
              "      <td>17.000000</td>\n",
              "      <td>10.000000</td>\n",
              "    </tr>\n",
              "    <tr>\n",
              "      <th>25%</th>\n",
              "      <td>57.00000</td>\n",
              "      <td>59.000000</td>\n",
              "      <td>57.750000</td>\n",
              "    </tr>\n",
              "    <tr>\n",
              "      <th>50%</th>\n",
              "      <td>66.00000</td>\n",
              "      <td>70.000000</td>\n",
              "      <td>69.000000</td>\n",
              "    </tr>\n",
              "    <tr>\n",
              "      <th>75%</th>\n",
              "      <td>77.00000</td>\n",
              "      <td>79.000000</td>\n",
              "      <td>79.000000</td>\n",
              "    </tr>\n",
              "    <tr>\n",
              "      <th>max</th>\n",
              "      <td>100.00000</td>\n",
              "      <td>100.000000</td>\n",
              "      <td>100.000000</td>\n",
              "    </tr>\n",
              "  </tbody>\n",
              "</table>\n",
              "</div>\n",
              "      <button class=\"colab-df-convert\" onclick=\"convertToInteractive('df-dba56f75-b057-425d-ae76-62bc23adb446')\"\n",
              "              title=\"Convert this dataframe to an interactive table.\"\n",
              "              style=\"display:none;\">\n",
              "        \n",
              "  <svg xmlns=\"http://www.w3.org/2000/svg\" height=\"24px\"viewBox=\"0 0 24 24\"\n",
              "       width=\"24px\">\n",
              "    <path d=\"M0 0h24v24H0V0z\" fill=\"none\"/>\n",
              "    <path d=\"M18.56 5.44l.94 2.06.94-2.06 2.06-.94-2.06-.94-.94-2.06-.94 2.06-2.06.94zm-11 1L8.5 8.5l.94-2.06 2.06-.94-2.06-.94L8.5 2.5l-.94 2.06-2.06.94zm10 10l.94 2.06.94-2.06 2.06-.94-2.06-.94-.94-2.06-.94 2.06-2.06.94z\"/><path d=\"M17.41 7.96l-1.37-1.37c-.4-.4-.92-.59-1.43-.59-.52 0-1.04.2-1.43.59L10.3 9.45l-7.72 7.72c-.78.78-.78 2.05 0 2.83L4 21.41c.39.39.9.59 1.41.59.51 0 1.02-.2 1.41-.59l7.78-7.78 2.81-2.81c.8-.78.8-2.07 0-2.86zM5.41 20L4 18.59l7.72-7.72 1.47 1.35L5.41 20z\"/>\n",
              "  </svg>\n",
              "      </button>\n",
              "      \n",
              "  <style>\n",
              "    .colab-df-container {\n",
              "      display:flex;\n",
              "      flex-wrap:wrap;\n",
              "      gap: 12px;\n",
              "    }\n",
              "\n",
              "    .colab-df-convert {\n",
              "      background-color: #E8F0FE;\n",
              "      border: none;\n",
              "      border-radius: 50%;\n",
              "      cursor: pointer;\n",
              "      display: none;\n",
              "      fill: #1967D2;\n",
              "      height: 32px;\n",
              "      padding: 0 0 0 0;\n",
              "      width: 32px;\n",
              "    }\n",
              "\n",
              "    .colab-df-convert:hover {\n",
              "      background-color: #E2EBFA;\n",
              "      box-shadow: 0px 1px 2px rgba(60, 64, 67, 0.3), 0px 1px 3px 1px rgba(60, 64, 67, 0.15);\n",
              "      fill: #174EA6;\n",
              "    }\n",
              "\n",
              "    [theme=dark] .colab-df-convert {\n",
              "      background-color: #3B4455;\n",
              "      fill: #D2E3FC;\n",
              "    }\n",
              "\n",
              "    [theme=dark] .colab-df-convert:hover {\n",
              "      background-color: #434B5C;\n",
              "      box-shadow: 0px 1px 3px 1px rgba(0, 0, 0, 0.15);\n",
              "      filter: drop-shadow(0px 1px 2px rgba(0, 0, 0, 0.3));\n",
              "      fill: #FFFFFF;\n",
              "    }\n",
              "  </style>\n",
              "\n",
              "      <script>\n",
              "        const buttonEl =\n",
              "          document.querySelector('#df-dba56f75-b057-425d-ae76-62bc23adb446 button.colab-df-convert');\n",
              "        buttonEl.style.display =\n",
              "          google.colab.kernel.accessAllowed ? 'block' : 'none';\n",
              "\n",
              "        async function convertToInteractive(key) {\n",
              "          const element = document.querySelector('#df-dba56f75-b057-425d-ae76-62bc23adb446');\n",
              "          const dataTable =\n",
              "            await google.colab.kernel.invokeFunction('convertToInteractive',\n",
              "                                                     [key], {});\n",
              "          if (!dataTable) return;\n",
              "\n",
              "          const docLinkHtml = 'Like what you see? Visit the ' +\n",
              "            '<a target=\"_blank\" href=https://colab.research.google.com/notebooks/data_table.ipynb>data table notebook</a>'\n",
              "            + ' to learn more about interactive tables.';\n",
              "          element.innerHTML = '';\n",
              "          dataTable['output_type'] = 'display_data';\n",
              "          await google.colab.output.renderOutput(dataTable, element);\n",
              "          const docLink = document.createElement('div');\n",
              "          docLink.innerHTML = docLinkHtml;\n",
              "          element.appendChild(docLink);\n",
              "        }\n",
              "      </script>\n",
              "    </div>\n",
              "  </div>\n",
              "  "
            ]
          },
          "metadata": {},
          "execution_count": 4
        }
      ]
    },
    {
      "cell_type": "markdown",
      "source": [
        "Từ hàm describe() ta xác định được 3 biến định lượng là math score, reading score và writing score, ta tiến hành vẽ boxplot cho 3 biến này:"
      ],
      "metadata": {
        "id": "pYAOxY1xcNce"
      }
    },
    {
      "cell_type": "code",
      "source": [
        "df.boxplot(column = ['math score', 'reading score', 'writing score']);"
      ],
      "metadata": {
        "colab": {
          "base_uri": "https://localhost:8080/",
          "height": 265
        },
        "id": "cTsQZXl7cP5d",
        "outputId": "3c46cbe2-8387-4f40-cb6f-5bc6bf777ec7"
      },
      "execution_count": null,
      "outputs": [
        {
          "output_type": "display_data",
          "data": {
            "text/plain": [
              "<Figure size 432x288 with 1 Axes>"
            ],
            "image/png": "[encoded data removed]"
          },
          "metadata": {
            "needs_background": "light"
          }
        }
      ]
    },
    {
      "cell_type": "markdown",
      "source": [
        "Vẽ biểu đồ tròn cho gender:"
      ],
      "metadata": {
        "id": "DmG1_XXcma7x"
      }
    },
    {
      "cell_type": "code",
      "source": [
        "pie_data = df['gender'].value_counts()\n",
        "pie_data"
      ],
      "metadata": {
        "colab": {
          "base_uri": "https://localhost:8080/"
        },
        "id": "i_o7AYYwnQkC",
        "outputId": "67d72088-3177-4960-f496-4b6ba73f485e"
      },
      "execution_count": 16,
      "outputs": [
        {
          "output_type": "execute_result",
          "data": {
            "text/plain": [
              "female    518\n",
              "male      482\n",
              "Name: gender, dtype: int64"
            ]
          },
          "metadata": {},
          "execution_count": 16
        }
      ]
    },
    {
      "cell_type": "code",
      "source": [
        "plt.pie(pie_data,\n",
        "        labels = ['female', 'male'],\n",
        "        autopct='%1.1f%%',\n",
        "        colors = [\"#3498db\", \"#2ecc71\"],\n",
        "        startangle = 90) # default = 0\n",
        "plt.title('Gender');\n",
        "# plt.axis('equal');"
      ],
      "metadata": {
        "colab": {
          "base_uri": "https://localhost:8080/",
          "height": 264
        },
        "id": "idU62OhWme6X",
        "outputId": "cc5644c1-44e0-471b-ca49-7568b42fe185"
      },
      "execution_count": 30,
      "outputs": [
        {
          "output_type": "display_data",
          "data": {
            "text/plain": [
              "<Figure size 432x288 with 1 Axes>"
            ],
            "image/png": "[encoded data removed]"
          },
          "metadata": {}
        }
      ]
    },
    {
      "cell_type": "markdown",
      "source": [
        "![image.png](data:image/png;base64,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)"
      ],
      "metadata": {
        "id": "78PgKSoupbNP"
      }
    },
    {
      "cell_type": "markdown",
      "source": [
        "Vẽ biểu đồ histogram cho math score:"
      ],
      "metadata": {
        "id": "VE6uLy86cw5J"
      }
    },
    {
      "cell_type": "code",
      "source": [
        "plt.hist(df[\"math score\"], bins = [0, 10, 20, 30, 40, 50, 60, 70, 80, 90, 100]);\n",
        "plt.title(\"Math Score Histogram\");\n",
        "plt.ylabel(\"Math Score\");"
      ],
      "metadata": {
        "colab": {
          "base_uri": "https://localhost:8080/",
          "height": 281
        },
        "id": "vYvc2IBuc72O",
        "outputId": "c59ad578-7578-4b79-8757-f6eb831d98b3"
      },
      "execution_count": null,
      "outputs": [
        {
          "output_type": "display_data",
          "data": {
            "text/plain": [
              "<Figure size 432x288 with 1 Axes>"
            ],
            "image/png": "[encoded data removed]"
          },
          "metadata": {
            "needs_background": "light"
          }
        }
      ]
    },
    {
      "cell_type": "markdown",
      "source": [
        "Tạo bảng tần số với math score:"
      ],
      "metadata": {
        "id": "ll5GdqUVf8d9"
      }
    },
    {
      "cell_type": "code",
      "source": [
        "tab = pd.cut(df['math score'], [0,10,20,30,40,50,60,70,80,90,100 ]).value_counts()\n",
        "tab"
      ],
      "metadata": {
        "colab": {
          "base_uri": "https://localhost:8080/"
        },
        "id": "lCUL9PMBhQAT",
        "outputId": "e29f7ccf-a8b9-4102-970f-3d0a4a5a7237"
      },
      "execution_count": 31,
      "outputs": [
        {
          "output_type": "execute_result",
          "data": {
            "text/plain": [
              "(60, 70]     270\n",
              "(70, 80]     215\n",
              "(50, 60]     189\n",
              "(80, 90]     126\n",
              "(40, 50]     100\n",
              "(90, 100]     50\n",
              "(30, 40]      34\n",
              "(20, 30]      12\n",
              "(10, 20]       2\n",
              "(0, 10]        1\n",
              "Name: math score, dtype: int64"
            ]
          },
          "metadata": {},
          "execution_count": 31
        }
      ]
    },
    {
      "cell_type": "markdown",
      "source": [
        "Tạo bảng tần suất:"
      ],
      "metadata": {
        "id": "jnxJpNitsc_F"
      }
    },
    {
      "cell_type": "code",
      "source": [
        "tab / tab.sum()"
      ],
      "metadata": {
        "colab": {
          "base_uri": "https://localhost:8080/"
        },
        "id": "2h7aFG3FsFLq",
        "outputId": "890f0d6d-8a3c-4d78-db5b-5b1c3e14758c"
      },
      "execution_count": 32,
      "outputs": [
        {
          "output_type": "execute_result",
          "data": {
            "text/plain": [
              "(60, 70]     0.270270\n",
              "(70, 80]     0.215215\n",
              "(50, 60]     0.189189\n",
              "(80, 90]     0.126126\n",
              "(40, 50]     0.100100\n",
              "(90, 100]    0.050050\n",
              "(30, 40]     0.034034\n",
              "(20, 30]     0.012012\n",
              "(10, 20]     0.002002\n",
              "(0, 10]      0.001001\n",
              "Name: math score, dtype: float64"
            ]
          },
          "metadata": {},
          "execution_count": 32
        }
      ]
    },
    {
      "cell_type": "markdown",
      "source": [
        "Tạo một cross table với 2 biến race/ethnicity và gender:"
      ],
      "metadata": {
        "id": "3DHuYVyplKJA"
      }
    },
    {
      "cell_type": "code",
      "source": [
        "tab_2 = pd.crosstab(index=df['race/ethnicity'], columns=df['gender'])\n",
        "tab_2"
      ],
      "metadata": {
        "colab": {
          "base_uri": "https://localhost:8080/",
          "height": 238
        },
        "id": "IVaOihT3lTAw",
        "outputId": "01be3006-9a6e-45c0-84de-33228bba9ca8"
      },
      "execution_count": 33,
      "outputs": [
        {
          "output_type": "execute_result",
          "data": {
            "text/plain": [
              "gender          female  male\n",
              "race/ethnicity              \n",
              "group A             36    53\n",
              "group B            104    86\n",
              "group C            180   139\n",
              "group D            129   133\n",
              "group E             69    71"
            ],
            "text/html": [
              "\n",
              "  <div id=\"df-efa6a7f4-1170-4592-a70c-a016607814ae\">\n",
              "    <div class=\"colab-df-container\">\n",
              "      <div>\n",
              "<style scoped>\n",
              "    .dataframe tbody tr th:only-of-type {\n",
              "        vertical-align: middle;\n",
              "    }\n",
              "\n",
              "    .dataframe tbody tr th {\n",
              "        vertical-align: top;\n",
              "    }\n",
              "\n",
              "    .dataframe thead th {\n",
              "        text-align: right;\n",
              "    }\n",
              "</style>\n",
              "<table border=\"1\" class=\"dataframe\">\n",
              "  <thead>\n",
              "    <tr style=\"text-align: right;\">\n",
              "      <th>gender</th>\n",
              "      <th>female</th>\n",
              "      <th>male</th>\n",
              "    </tr>\n",
              "    <tr>\n",
              "      <th>race/ethnicity</th>\n",
              "      <th></th>\n",
              "      <th></th>\n",
              "    </tr>\n",
              "  </thead>\n",
              "  <tbody>\n",
              "    <tr>\n",
              "      <th>group A</th>\n",
              "      <td>36</td>\n",
              "      <td>53</td>\n",
              "    </tr>\n",
              "    <tr>\n",
              "      <th>group B</th>\n",
              "      <td>104</td>\n",
              "      <td>86</td>\n",
              "    </tr>\n",
              "    <tr>\n",
              "      <th>group C</th>\n",
              "      <td>180</td>\n",
              "      <td>139</td>\n",
              "    </tr>\n",
              "    <tr>\n",
              "      <th>group D</th>\n",
              "      <td>129</td>\n",
              "      <td>133</td>\n",
              "    </tr>\n",
              "    <tr>\n",
              "      <th>group E</th>\n",
              "      <td>69</td>\n",
              "      <td>71</td>\n",
              "    </tr>\n",
              "  </tbody>\n",
              "</table>\n",
              "</div>\n",
              "      <button class=\"colab-df-convert\" onclick=\"convertToInteractive('df-efa6a7f4-1170-4592-a70c-a016607814ae')\"\n",
              "              title=\"Convert this dataframe to an interactive table.\"\n",
              "              style=\"display:none;\">\n",
              "        \n",
              "  <svg xmlns=\"http://www.w3.org/2000/svg\" height=\"24px\"viewBox=\"0 0 24 24\"\n",
              "       width=\"24px\">\n",
              "    <path d=\"M0 0h24v24H0V0z\" fill=\"none\"/>\n",
              "    <path d=\"M18.56 5.44l.94 2.06.94-2.06 2.06-.94-2.06-.94-.94-2.06-.94 2.06-2.06.94zm-11 1L8.5 8.5l.94-2.06 2.06-.94-2.06-.94L8.5 2.5l-.94 2.06-2.06.94zm10 10l.94 2.06.94-2.06 2.06-.94-2.06-.94-.94-2.06-.94 2.06-2.06.94z\"/><path d=\"M17.41 7.96l-1.37-1.37c-.4-.4-.92-.59-1.43-.59-.52 0-1.04.2-1.43.59L10.3 9.45l-7.72 7.72c-.78.78-.78 2.05 0 2.83L4 21.41c.39.39.9.59 1.41.59.51 0 1.02-.2 1.41-.59l7.78-7.78 2.81-2.81c.8-.78.8-2.07 0-2.86zM5.41 20L4 18.59l7.72-7.72 1.47 1.35L5.41 20z\"/>\n",
              "  </svg>\n",
              "      </button>\n",
              "      \n",
              "  <style>\n",
              "    .colab-df-container {\n",
              "      display:flex;\n",
              "      flex-wrap:wrap;\n",
              "      gap: 12px;\n",
              "    }\n",
              "\n",
              "    .colab-df-convert {\n",
              "      background-color: #E8F0FE;\n",
              "      border: none;\n",
              "      border-radius: 50%;\n",
              "      cursor: pointer;\n",
              "      display: none;\n",
              "      fill: #1967D2;\n",
              "      height: 32px;\n",
              "      padding: 0 0 0 0;\n",
              "      width: 32px;\n",
              "    }\n",
              "\n",
              "    .colab-df-convert:hover {\n",
              "      background-color: #E2EBFA;\n",
              "      box-shadow: 0px 1px 2px rgba(60, 64, 67, 0.3), 0px 1px 3px 1px rgba(60, 64, 67, 0.15);\n",
              "      fill: #174EA6;\n",
              "    }\n",
              "\n",
              "    [theme=dark] .colab-df-convert {\n",
              "      background-color: #3B4455;\n",
              "      fill: #D2E3FC;\n",
              "    }\n",
              "\n",
              "    [theme=dark] .colab-df-convert:hover {\n",
              "      background-color: #434B5C;\n",
              "      box-shadow: 0px 1px 3px 1px rgba(0, 0, 0, 0.15);\n",
              "      filter: drop-shadow(0px 1px 2px rgba(0, 0, 0, 0.3));\n",
              "      fill: #FFFFFF;\n",
              "    }\n",
              "  </style>\n",
              "\n",
              "      <script>\n",
              "        const buttonEl =\n",
              "          document.querySelector('#df-efa6a7f4-1170-4592-a70c-a016607814ae button.colab-df-convert');\n",
              "        buttonEl.style.display =\n",
              "          google.colab.kernel.accessAllowed ? 'block' : 'none';\n",
              "\n",
              "        async function convertToInteractive(key) {\n",
              "          const element = document.querySelector('#df-efa6a7f4-1170-4592-a70c-a016607814ae');\n",
              "          const dataTable =\n",
              "            await google.colab.kernel.invokeFunction('convertToInteractive',\n",
              "                                                     [key], {});\n",
              "          if (!dataTable) return;\n",
              "\n",
              "          const docLinkHtml = 'Like what you see? Visit the ' +\n",
              "            '<a target=\"_blank\" href=https://colab.research.google.com/notebooks/data_table.ipynb>data table notebook</a>'\n",
              "            + ' to learn more about interactive tables.';\n",
              "          element.innerHTML = '';\n",
              "          dataTable['output_type'] = 'display_data';\n",
              "          await google.colab.output.renderOutput(dataTable, element);\n",
              "          const docLink = document.createElement('div');\n",
              "          docLink.innerHTML = docLinkHtml;\n",
              "          element.appendChild(docLink);\n",
              "        }\n",
              "      </script>\n",
              "    </div>\n",
              "  </div>\n",
              "  "
            ]
          },
          "metadata": {},
          "execution_count": 33
        }
      ]
    },
    {
      "cell_type": "markdown",
      "source": [
        "Tạo bảng tần suất:"
      ],
      "metadata": {
        "id": "vKRGEYMjsgkC"
      }
    },
    {
      "cell_type": "code",
      "source": [
        "tab_2/ tab_2.sum()"
      ],
      "metadata": {
        "colab": {
          "base_uri": "https://localhost:8080/",
          "height": 238
        },
        "id": "no2N4cnWsUKc",
        "outputId": "0cbb9a45-1638-4166-e00e-cb7195f013e7"
      },
      "execution_count": 36,
      "outputs": [
        {
          "output_type": "execute_result",
          "data": {
            "text/plain": [
              "gender            female      male\n",
              "race/ethnicity                    \n",
              "group A         0.069498  0.109959\n",
              "group B         0.200772  0.178423\n",
              "group C         0.347490  0.288382\n",
              "group D         0.249035  0.275934\n",
              "group E         0.133205  0.147303"
            ],
            "text/html": [
              "\n",
              "  <div id=\"df-78545628-9152-4df6-a1e9-021d369d0abc\">\n",
              "    <div class=\"colab-df-container\">\n",
              "      <div>\n",
              "<style scoped>\n",
              "    .dataframe tbody tr th:only-of-type {\n",
              "        vertical-align: middle;\n",
              "    }\n",
              "\n",
              "    .dataframe tbody tr th {\n",
              "        vertical-align: top;\n",
              "    }\n",
              "\n",
              "    .dataframe thead th {\n",
              "        text-align: right;\n",
              "    }\n",
              "</style>\n",
              "<table border=\"1\" class=\"dataframe\">\n",
              "  <thead>\n",
              "    <tr style=\"text-align: right;\">\n",
              "      <th>gender</th>\n",
              "      <th>female</th>\n",
              "      <th>male</th>\n",
              "    </tr>\n",
              "    <tr>\n",
              "      <th>race/ethnicity</th>\n",
              "      <th></th>\n",
              "      <th></th>\n",
              "    </tr>\n",
              "  </thead>\n",
              "  <tbody>\n",
              "    <tr>\n",
              "      <th>group A</th>\n",
              "      <td>0.069498</td>\n",
              "      <td>0.109959</td>\n",
              "    </tr>\n",
              "    <tr>\n",
              "      <th>group B</th>\n",
              "      <td>0.200772</td>\n",
              "      <td>0.178423</td>\n",
              "    </tr>\n",
              "    <tr>\n",
              "      <th>group C</th>\n",
              "      <td>0.347490</td>\n",
              "      <td>0.288382</td>\n",
              "    </tr>\n",
              "    <tr>\n",
              "      <th>group D</th>\n",
              "      <td>0.249035</td>\n",
              "      <td>0.275934</td>\n",
              "    </tr>\n",
              "    <tr>\n",
              "      <th>group E</th>\n",
              "      <td>0.133205</td>\n",
              "      <td>0.147303</td>\n",
              "    </tr>\n",
              "  </tbody>\n",
              "</table>\n",
              "</div>\n",
              "      <button class=\"colab-df-convert\" onclick=\"convertToInteractive('df-78545628-9152-4df6-a1e9-021d369d0abc')\"\n",
              "              title=\"Convert this dataframe to an interactive table.\"\n",
              "              style=\"display:none;\">\n",
              "        \n",
              "  <svg xmlns=\"http://www.w3.org/2000/svg\" height=\"24px\"viewBox=\"0 0 24 24\"\n",
              "       width=\"24px\">\n",
              "    <path d=\"M0 0h24v24H0V0z\" fill=\"none\"/>\n",
              "    <path d=\"M18.56 5.44l.94 2.06.94-2.06 2.06-.94-2.06-.94-.94-2.06-.94 2.06-2.06.94zm-11 1L8.5 8.5l.94-2.06 2.06-.94-2.06-.94L8.5 2.5l-.94 2.06-2.06.94zm10 10l.94 2.06.94-2.06 2.06-.94-2.06-.94-.94-2.06-.94 2.06-2.06.94z\"/><path d=\"M17.41 7.96l-1.37-1.37c-.4-.4-.92-.59-1.43-.59-.52 0-1.04.2-1.43.59L10.3 9.45l-7.72 7.72c-.78.78-.78 2.05 0 2.83L4 21.41c.39.39.9.59 1.41.59.51 0 1.02-.2 1.41-.59l7.78-7.78 2.81-2.81c.8-.78.8-2.07 0-2.86zM5.41 20L4 18.59l7.72-7.72 1.47 1.35L5.41 20z\"/>\n",
              "  </svg>\n",
              "      </button>\n",
              "      \n",
              "  <style>\n",
              "    .colab-df-container {\n",
              "      display:flex;\n",
              "      flex-wrap:wrap;\n",
              "      gap: 12px;\n",
              "    }\n",
              "\n",
              "    .colab-df-convert {\n",
              "      background-color: #E8F0FE;\n",
              "      border: none;\n",
              "      border-radius: 50%;\n",
              "      cursor: pointer;\n",
              "      display: none;\n",
              "      fill: #1967D2;\n",
              "      height: 32px;\n",
              "      padding: 0 0 0 0;\n",
              "      width: 32px;\n",
              "    }\n",
              "\n",
              "    .colab-df-convert:hover {\n",
              "      background-color: #E2EBFA;\n",
              "      box-shadow: 0px 1px 2px rgba(60, 64, 67, 0.3), 0px 1px 3px 1px rgba(60, 64, 67, 0.15);\n",
              "      fill: #174EA6;\n",
              "    }\n",
              "\n",
              "    [theme=dark] .colab-df-convert {\n",
              "      background-color: #3B4455;\n",
              "      fill: #D2E3FC;\n",
              "    }\n",
              "\n",
              "    [theme=dark] .colab-df-convert:hover {\n",
              "      background-color: #434B5C;\n",
              "      box-shadow: 0px 1px 3px 1px rgba(0, 0, 0, 0.15);\n",
              "      filter: drop-shadow(0px 1px 2px rgba(0, 0, 0, 0.3));\n",
              "      fill: #FFFFFF;\n",
              "    }\n",
              "  </style>\n",
              "\n",
              "      <script>\n",
              "        const buttonEl =\n",
              "          document.querySelector('#df-78545628-9152-4df6-a1e9-021d369d0abc button.colab-df-convert');\n",
              "        buttonEl.style.display =\n",
              "          google.colab.kernel.accessAllowed ? 'block' : 'none';\n",
              "\n",
              "        async function convertToInteractive(key) {\n",
              "          const element = document.querySelector('#df-78545628-9152-4df6-a1e9-021d369d0abc');\n",
              "          const dataTable =\n",
              "            await google.colab.kernel.invokeFunction('convertToInteractive',\n",
              "                                                     [key], {});\n",
              "          if (!dataTable) return;\n",
              "\n",
              "          const docLinkHtml = 'Like what you see? Visit the ' +\n",
              "            '<a target=\"_blank\" href=https://colab.research.google.com/notebooks/data_table.ipynb>data table notebook</a>'\n",
              "            + ' to learn more about interactive tables.';\n",
              "          element.innerHTML = '';\n",
              "          dataTable['output_type'] = 'display_data';\n",
              "          await google.colab.output.renderOutput(dataTable, element);\n",
              "          const docLink = document.createElement('div');\n",
              "          docLink.innerHTML = docLinkHtml;\n",
              "          element.appendChild(docLink);\n",
              "        }\n",
              "      </script>\n",
              "    </div>\n",
              "  </div>\n",
              "  "
            ]
          },
          "metadata": {},
          "execution_count": 36
        }
      ]
    }
  ]
}