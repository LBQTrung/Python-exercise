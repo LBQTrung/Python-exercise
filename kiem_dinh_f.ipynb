{
  "cells": [
    {
      "cell_type": "markdown",
      "metadata": {
        "id": "view-in-github",
        "colab_type": "text"
      },
      "source": [
        "<a href=\"https://colab.research.google.com/github/LBQTrung/Python-exercise/blob/main/kiem_dinh_f.ipynb\" target=\"_parent\"><img src=\"https://colab.research.google.com/assets/colab-badge.svg\" alt=\"Open In Colab\"/></a>"
      ]
    },
    {
      "cell_type": "markdown",
      "metadata": {
        "id": "HnweV7PefPEa"
      },
      "source": [
        "KIỂM ĐỊNH F\n",
        "\n",
        "Thay vì xây dựng giả thuyết với giá trị trung bình, người ta có thể xây dựng giả thuyết với phương sai (variance $\\sigma^{2}$). Trong trường hợp này, chúng ta sử dụng kiểm định F. Tóm tắt về kiểm định F như sau:\n",
        "\n",
        "Kiểm định một đuôi:\n",
        "\n",
        "$$H_{0}: \\sigma^{2} = \\sigma_{0}^{2} $$\n",
        "\n",
        "$$H_{a}: \\sigma^{2} < \\sigma_{0}^{2} (H_{a}: \\sigma^{2} > \\sigma_{0}^{2})$$ \n",
        "\n",
        "Giá trị thống kê kiểm định:\n",
        "\n",
        "$$ \\chi^{2} = \\frac{(n-1)s^{2}}{\\sigma_{0}^{2}}$$\n",
        "\n",
        "Vùng bác bỏ: $\\chi^{2} < \\chi_{(1 - \\alpha)}^{2}$  hoặc $\\chi^{2} > \\chi_{(1 - \\alpha)}^{2}$  khi $H_{a}: \\sigma^{2} > \\sigma_{0}^{2}$\n",
        "\n",
        "Ghi chú: \n",
        "\n",
        "- $\\chi^{2}$ - chi-square\n",
        "- (n - 1) mức tự do\n",
        "\n"
      ]
    },
    {
      "cell_type": "markdown",
      "metadata": {
        "id": "jxFccAD5fPEd"
      },
      "source": [
        "Kiểm định 2 đuôi:\n",
        "\n",
        "$$H_{0}: \\sigma^{2} = \\sigma_{0}^{2}$$\n",
        "$$H_{a}:\\sigma^{2} \\neq \\sigma_{0}^{2} $$\n",
        "\n",
        "Giá trị thống kê kiểm định:\n",
        "\n",
        "$$ \\chi^{2} = \\frac{(n-1)s^{2}}{\\sigma_{0}^{2}}$$\n",
        "\n",
        "Vùng bác bỏ: $\\chi^{2} < \\chi_{(1 - \\alpha/2)}^{2}$  hoặc $\\chi^{2} > \\chi_{(\\alpha/2)}^{2}$  \n",
        "Ghi chú: \n",
        "\n",
        "- $\\chi^{2}$ - chi-square\n",
        "- (n - 1) mức tự do"
      ]
    },
    {
      "cell_type": "markdown",
      "metadata": {
        "id": "opqDPr7gfPEe"
      },
      "source": [
        "THỰC HÀNH KIỂM ĐỊNH F\n",
        "\n",
        "Bước 1: Sinh ngẫu nhiên số liệu\n",
        "\n",
        "Bước 2: Xây dựng giả thuyết \n",
        "\n",
        "Bước 3: Kiểm định Bartlett "
      ]
    },
    {
      "cell_type": "code",
      "execution_count": 2,
      "metadata": {
        "id": "eYPdJLSEfPEe"
      },
      "outputs": [],
      "source": [
        "import numpy as np\n",
        "import pandas as pd\n",
        "import random\n",
        "import math\n",
        "from scipy import stats\n",
        "from statsmodels.stats.weightstats import ztest\n",
        "import warnings\n",
        "import matplotlib.pyplot as plt\n",
        "import seaborn as sns\n",
        "%matplotlib inline"
      ]
    },
    {
      "cell_type": "code",
      "execution_count": null,
      "metadata": {
        "id": "8skMGHmFfPEf"
      },
      "outputs": [],
      "source": [
        "#Sinh ngẫu nhiên 1000 mẫu tuân theo phân phối chuẩn có trung bình mẫu là 7.5 và độ lệch chuẩn là 0.25\n",
        "mean_1 = 7.5\n",
        "std_1 = 0.25\n",
        "N_1 = 1000\n",
        "samples_1 = np.random.normal(mean_1, std_1, N_1)"
      ]
    },
    {
      "cell_type": "code",
      "execution_count": null,
      "metadata": {
        "id": "SHIPko62fPEg",
        "outputId": "aa199693-1827-49c5-d104-b67eafe807a6"
      },
      "outputs": [
        {
          "name": "stdout",
          "output_type": "stream",
          "text": [
            "[7.80435077 7.39173474 7.88538046 7.36791265 7.47550623 7.47039075\n",
            " 7.42038182 7.785741   8.17327938 7.32138352]\n"
          ]
        }
      ],
      "source": [
        "#In ra 10 phần tử đầu tiên\n",
        "print(samples_1[:10])"
      ]
    },
    {
      "cell_type": "code",
      "execution_count": null,
      "metadata": {
        "id": "JLTeJxsffPEg"
      },
      "outputs": [],
      "source": [
        "#Sinh ngẫu nhiên 900 mẫu tuân theo phân phối chuẩn có trung bình mẫu là 7 và độ lệch chuẩn là 0.2\n",
        "mean_2= 7\n",
        "std_2 = 0.2\n",
        "N_2 = 900\n",
        "samples_2 = np.random.normal(mean_2, std_2, N_2)"
      ]
    },
    {
      "cell_type": "code",
      "execution_count": null,
      "metadata": {
        "id": "RaDWBuaBfPEh",
        "outputId": "27b6a5a6-4750-4891-9ec9-1d9014457b0b"
      },
      "outputs": [
        {
          "name": "stdout",
          "output_type": "stream",
          "text": [
            "[6.97392727 6.7680331  6.9765569  7.20116716 6.70116584 7.11348431\n",
            " 7.13056472 7.28356771 7.13143519 7.12268851]\n"
          ]
        }
      ],
      "source": [
        "#In ra 10 phần tử đầu tiên\n",
        "print(samples_2[:10])"
      ]
    },
    {
      "cell_type": "markdown",
      "metadata": {
        "id": "6sAzfp8WfPEh"
      },
      "source": [
        "Xây dựng giả thuyết:\n",
        "$$H_{0}: \\sigma_{1}^{2} = \\sigma_{2}^{2}$$\n",
        "$$H_{a}: \\sigma_{1}^{2} \\neq \\sigma_{2}^{2}$$"
      ]
    },
    {
      "cell_type": "code",
      "execution_count": null,
      "metadata": {
        "id": "COIuRDVrfPEi",
        "outputId": "dbe8ab59-584a-4aeb-c676-857d2d27f5db"
      },
      "outputs": [
        {
          "name": "stdout",
          "output_type": "stream",
          "text": [
            "Stat value:  50.71159890972865 ; p-value:  1.0698543599175272e-12\n"
          ]
        }
      ],
      "source": [
        "#Kiểm định Bartlett\n",
        "stat_value, p_value = stats.bartlett(samples_1, samples_2)\n",
        "print(\"Stat value: \", stat_value, \"; p-value: \", p_value)"
      ]
    },
    {
      "cell_type": "code",
      "execution_count": null,
      "metadata": {
        "id": "85M2NF2FfPEi",
        "outputId": "6280c7a8-5a52-41c0-8f5d-ad2a829952eb"
      },
      "outputs": [
        {
          "name": "stdout",
          "output_type": "stream",
          "text": [
            "Có bằng chứng để bác bỏ giả thuyết H0\n"
          ]
        }
      ],
      "source": [
        "alpha = 0.05\n",
        "if(p_value <  alpha):\n",
        "  print(\"Có bằng chứng để bác bỏ giả thuyết H0\")\n",
        "else:\n",
        "  print(\"Chưa có bằng chứng để bác bỏ giả thuyết H0\")"
      ]
    },
    {
      "cell_type": "markdown",
      "metadata": {
        "id": "pjNMIYyAfPEj"
      },
      "source": [
        "BÀI TẬP\n",
        "\n",
        "Bạn hãy thử viết code tiến hành kiểm định F 1 đuôi?\n"
      ]
    },
    {
      "cell_type": "markdown",
      "source": [
        "1. Kiểm định phương sai 1 tham số:"
      ],
      "metadata": {
        "id": "Xp9x2EAuuhlh"
      }
    },
    {
      "cell_type": "markdown",
      "source": [
        "Bài toán: Tại công ty xăng dầu X, quá trình nạp nhớt vào bình chỉ chấp nhận độ lệch chuẩn tối đa 10 mL. Để kiểm tra máy nạp M, người ta lấy ra 20 bình để kiểm tra. Kết quả cho thấy độ lệch chuẩn là 12 mL. Với độ tin cậy là 95%, độ biến động của máy M có đạt yêu cầu của công ty X không?"
      ],
      "metadata": {
        "id": "yk0bWiHBqEEW"
      }
    },
    {
      "cell_type": "markdown",
      "source": [
        "Theo các thông tin trên, tổng thể là toàn bộ các bình nhớt nạp bởi máy M, đại lượng khảo sát là phương sai $σ^2$ của dung tích nhớt trong các bình ấy và ta cần so sánh đại lượng này với $a^2$ = $10^2$ = 100. Mẫu có kích thước n = 20 và phương sai s$^2$ = $12^2$ = 144."
      ],
      "metadata": {
        "id": "AyiMHclUqQXv"
      }
    },
    {
      "cell_type": "markdown",
      "source": [
        "Xác định giả thuyết:\n",
        "$$H_0: \\sigma^2 = 100$$\n",
        "$$H_a: \\sigma^2 \\ne 100$$\n",
        "\n",
        "Vì đây là kiểm định phương sai **1 tham số** do đó ta dùng công thức sau:\n",
        "$$ \\chi^{2} = \\frac{(n-1)s^{2}}{\\sigma_{0}^{2}}$$\n",
        "\n",
        "Thay các số đã được tính ở trên ta được:\n",
        "$$ \\chi^{2}_{qs} = \\frac{19 \\times 144}{100} \\approx 27.36$$  \n",
        "\n",
        "Với n = 20, α = 0.05, giá trị tới hạn:\n",
        "$χ^{2(19)}_{0.05}$ = 30.144 (Tra bảng)\n",
        "\n",
        "Vùng bác bỏ trong trường hợp này:  { $χ^2: χ^2 > \\chi^{2(n-1)}_{α}$} \n",
        "\n",
        "Trong trường hợp $σ^2 < σ_0^2$ ta có miền bác bỏ $H_0$ là: { $χ^2: χ^2 < \\chi^{2(n-1)}_{1-α}$ }\n",
        "\n",
        "Vì $χ^2 < 30.144$ nên ta không thể bác bỏ $H_0$\n",
        "\n",
        "Kết luận: Máy nạp M đạt yêu cầu về độ biến động của công ty X"
      ],
      "metadata": {
        "id": "mBePw7vdq3kP"
      }
    },
    {
      "cell_type": "markdown",
      "source": [
        "Ta tiến hành giải bài toán trên bằng Python:"
      ],
      "metadata": {
        "id": "kqhfutqEv3hG"
      }
    },
    {
      "cell_type": "code",
      "source": [
        "# Tạo mẫu:\n",
        "sample = np.random.normal(loc = 100, scale = 12, size = 20)\n",
        "print(sample) "
      ],
      "metadata": {
        "colab": {
          "base_uri": "https://localhost:8080/"
        },
        "id": "G9Qd7clyv8lD",
        "outputId": "8525b659-2bfe-4b08-9d46-a3ab98a039d4"
      },
      "execution_count": null,
      "outputs": [
        {
          "output_type": "stream",
          "name": "stdout",
          "text": [
            "[ 99.06232625  93.19882866  92.2658878   96.7879273  118.71217368\n",
            "  81.81500656  93.93459782 125.15999472 104.26740373 102.47418332\n",
            " 114.85087047  87.92070267 109.98800567  87.3560981  106.67995797\n",
            " 115.00143961 103.66420755 123.88470546 110.32069938  85.19200911]\n"
          ]
        }
      ]
    },
    {
      "cell_type": "code",
      "source": [
        "# Xác định các thông số:\n",
        "va0 = 100\n",
        "sig = 0.05"
      ],
      "metadata": {
        "id": "rlCYlD-RwW4P"
      },
      "execution_count": null,
      "outputs": []
    },
    {
      "cell_type": "code",
      "source": [
        "# Xây dựng hàm kiểm định phương sai 1 tham số:\n",
        "def var_test1samp(sample , va0, type_test, sig):\n",
        "    n = len(sample)\n",
        "    Q = (n - 1) * np.var(sample) / va0 \n",
        "    if type_test == \"smaller\":\n",
        "        q = stats.chi2.ppf(sig, df = n - 1)\n",
        "        if Q <= q:  \n",
        "            print(\"Có bằng chứng để bác bỏ giả thuyết H0\")\n",
        "        else:\n",
        "            print(\"Chưa có bằng chứng để bác bỏ giả thuyết H0\")\n",
        "    elif type_test == \"larger\":\n",
        "        q = stats.chi2.ppf(1 - sig, df = n - 1)\n",
        "        if Q >= q:\n",
        "            print(\"Có bằng chứng để bác bỏ giả thuyết H0\")\n",
        "        else:\n",
        "            print(\"Chưa có bằng chứng để bác bỏ giả thuyết H0\")\n",
        "    else:\n",
        "        q1 = stats.chi2.ppf(sig / 2, df = n - 1)\n",
        "        q2 = stats.chi2.ppf(1 - (sig / 2), df = n - 1)\n",
        "        if Q <= q1 or Q >= q2:\n",
        "            print(\"Có bằng chứng để bác bỏ giả thuyết H0\")\n",
        "        else:\n",
        "            print(\"Chưa có bằng chứng để bác bỏ giả thuyết H0\")"
      ],
      "metadata": {
        "id": "7yZUGGZzwilf"
      },
      "execution_count": null,
      "outputs": []
    },
    {
      "cell_type": "code",
      "source": [
        "var_test1samp(sample, va0, \"larger\", sig)"
      ],
      "metadata": {
        "colab": {
          "base_uri": "https://localhost:8080/"
        },
        "id": "FPDuM_cny4vl",
        "outputId": "3360a45a-4a4a-407e-86a5-765b7b65a7d9"
      },
      "execution_count": null,
      "outputs": [
        {
          "output_type": "stream",
          "name": "stdout",
          "text": [
            "Chưa có bằng chứng để bác bỏ giả thuyết H0\n"
          ]
        }
      ]
    },
    {
      "cell_type": "markdown",
      "source": [
        "2. Kiểm định phương sai hai tham số:"
      ],
      "metadata": {
        "id": "omQzSWVhul56"
      }
    },
    {
      "cell_type": "markdown",
      "source": [
        "Bài toán: Cho bảng sau:"
      ],
      "metadata": {
        "id": "bZH8n2b21CPZ"
      }
    },
    {
      "cell_type": "markdown",
      "source": [
        "\\begin{array}{|c|c|} \\hline\n",
        " & X & Y  \\\\ \\hline\n",
        "Mean & 15.85 & 15.275  \\\\ \\hline\n",
        "Variance & 3.977 & 3.83  \\\\ \\hline\n",
        "Observation & 40 & 40  \\\\ \\hline\n",
        "\\end{array}"
      ],
      "metadata": {
        "id": "pwyVUxjg3wEZ"
      }
    },
    {
      "cell_type": "markdown",
      "source": [
        "X, Y lần lượt là tỷ lệ thu hồi vốn khi đầu tư vào ngành A, B (đơn vị: %/năm). Các biến phân phối chuẩn, α = 0.05. Từ thông tin, ta có thể kết luận mức độ rủi ro khi đầu tư vào ngành A cao hơn ngành B hay không?"
      ],
      "metadata": {
        "id": "g6fQwlu347RA"
      }
    },
    {
      "cell_type": "markdown",
      "source": [
        "Xây dựng giả thuyết:\n",
        "$$H_0: σ_1^2 = σ_2^2$$\n",
        "Giả thuyết thay thế:\n",
        "$$H_1: σ_1^2 > σ_2^2$$\n",
        "\n",
        "Công thức: \n",
        "$$F = \\frac{S_1^2}{S_2^2}$$\n",
        "\n",
        "Thay số vào công thức ta có:\n",
        "$$F_{qs} = \\frac{3.977}{3.83} ≈ 1.038$$\n",
        "\n",
        "Miền bác bỏ trong trường hợp này là: { $F: F >  f_{α}^{(n_1-1, n_2-1)}$}\n",
        "\n",
        "Với:\n",
        "* $n_1 = n_2 = 40$\n",
        "* α = 0.05\n",
        "\n",
        "Ta có: $f_{0.05}^{(39, 39)} = 1.704$ (Tra bảng)\n",
        "\n",
        "Vì $F_{qs}$ < 1.704 (Hay không thuộc miền bác bỏ $H_0$). Do đó, ta chưa có bằng chứng để bác bỏ $H_0$\n"
      ],
      "metadata": {
        "id": "vC3lryta5VIK"
      }
    },
    {
      "cell_type": "markdown",
      "source": [
        "Ta tiến hành với Python như sau:"
      ],
      "metadata": {
        "id": "ih9o9DEGupQR"
      }
    },
    {
      "cell_type": "code",
      "source": [
        "# Tạo mẫu thứ 1:\n",
        "sample_1 = np.random.normal(loc = 15.85, scale = math.sqrt(3.977),\n",
        "                            size = 40)\n",
        "print(sample_1)"
      ],
      "metadata": {
        "colab": {
          "base_uri": "https://localhost:8080/"
        },
        "id": "po9x6jwu9Q9k",
        "outputId": "58e7135e-d3cb-4a91-dcce-e84daa5c1016"
      },
      "execution_count": 4,
      "outputs": [
        {
          "output_type": "stream",
          "name": "stdout",
          "text": [
            "[17.61285924 18.34190048 15.56603108 17.81792956 16.6375381  16.03908897\n",
            " 15.22174356 15.59563985 18.67500235 16.22225331 16.80053047 16.1164361\n",
            " 16.09069708 16.52782196 15.25576449 15.77214421 12.93358684 15.96332304\n",
            " 13.73196104 14.58091801 15.11423207 19.46795404 14.93584021 13.90049865\n",
            " 14.94748562 16.04112752 13.95150401 14.99879169 18.31418537 15.91020024\n",
            " 15.13399192 16.45267913 16.075443   16.28404142 14.74726101 13.30180516\n",
            " 17.95414133 18.57694299 16.99126302 16.89578347]\n"
          ]
        }
      ]
    },
    {
      "cell_type": "code",
      "source": [
        "# Tạo mẫu thứ 2:\n",
        "sample_2 = np.random.normal(loc = 15.275, scale = math.sqrt(3.83),\n",
        "                            size = 40)\n",
        "print(sample_1)"
      ],
      "metadata": {
        "colab": {
          "base_uri": "https://localhost:8080/"
        },
        "id": "KnO6jIQh9ng-",
        "outputId": "d490351e-b49c-4133-f861-8c2e68c31c4a"
      },
      "execution_count": 5,
      "outputs": [
        {
          "output_type": "stream",
          "name": "stdout",
          "text": [
            "[17.61285924 18.34190048 15.56603108 17.81792956 16.6375381  16.03908897\n",
            " 15.22174356 15.59563985 18.67500235 16.22225331 16.80053047 16.1164361\n",
            " 16.09069708 16.52782196 15.25576449 15.77214421 12.93358684 15.96332304\n",
            " 13.73196104 14.58091801 15.11423207 19.46795404 14.93584021 13.90049865\n",
            " 14.94748562 16.04112752 13.95150401 14.99879169 18.31418537 15.91020024\n",
            " 15.13399192 16.45267913 16.075443   16.28404142 14.74726101 13.30180516\n",
            " 17.95414133 18.57694299 16.99126302 16.89578347]\n"
          ]
        }
      ]
    },
    {
      "cell_type": "code",
      "source": [
        "# Xác định thông số:\n",
        "sig = 0.05"
      ],
      "metadata": {
        "id": "FiOrVlB59zfe"
      },
      "execution_count": 6,
      "outputs": []
    },
    {
      "cell_type": "code",
      "source": [
        "# Ta viết hàm f_test:\n",
        "def f_test(sample_1, sample_2, type_test, sig):\n",
        "    df1 = len(sample_1) - 1\n",
        "    df2 = len(sample_2) - 1\n",
        "    f_stat = sample_1.var() / sample_2.var()\n",
        "    if type_test == \"smaller\":\n",
        "        p_value = stats.f.cdf(f_stat, df1, df2)\n",
        "    elif type_test == \"larger\":\n",
        "        p_value = 1.0 - stats.f.cdf(f_stat, df1, df2)\n",
        "    else:\n",
        "        p_value = 2.0*(1.0 - stats.f.cdf(f_stat, df1, df2))\n",
        "    if p_value < sig:\n",
        "      print(\"Có bằng chứng để bác bỏ giả thuyết H0\")\n",
        "    else:\n",
        "      print(\"Chưa có bằng chứng để bác bỏ giả thuyết H0\")"
      ],
      "metadata": {
        "id": "a-f-ueiS0bta"
      },
      "execution_count": 8,
      "outputs": []
    },
    {
      "cell_type": "code",
      "source": [
        "# Tiến hành f_test:\n",
        "f_test(sample_1, sample_2, \"larger\", sig)"
      ],
      "metadata": {
        "colab": {
          "base_uri": "https://localhost:8080/"
        },
        "id": "X4bjjLys9O9A",
        "outputId": "183aa0ca-7839-450a-df01-6e6b2599f7a8"
      },
      "execution_count": 9,
      "outputs": [
        {
          "output_type": "stream",
          "name": "stdout",
          "text": [
            "Chưa có bằng chứng để bác bỏ giả thuyết H0\n"
          ]
        }
      ]
    }
  ],
  "metadata": {
    "kernelspec": {
      "display_name": "Python 3",
      "language": "python",
      "name": "python3"
    },
    "language_info": {
      "codemirror_mode": {
        "name": "ipython",
        "version": 3
      },
      "file_extension": ".py",
      "mimetype": "text/x-python",
      "name": "python",
      "nbconvert_exporter": "python",
      "pygments_lexer": "ipython3",
      "version": "3.7.3"
    },
    "colab": {
      "name": "kiem-dinh-f.ipynb",
      "provenance": [],
      "collapsed_sections": [],
      "include_colab_link": true
    }
  },
  "nbformat": 4,
  "nbformat_minor": 0
}